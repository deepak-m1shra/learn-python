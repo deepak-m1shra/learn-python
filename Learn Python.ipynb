{
 "cells": [
  {
   "cell_type": "code",
   "execution_count": 2,
   "metadata": {},
   "outputs": [
    {
     "name": "stdout",
     "output_type": "stream",
     "text": [
      "Hello Reddy bhaiya\n"
     ]
    }
   ],
   "source": [
    "print(\"Hello Reddy bhaiya\")"
   ]
  },
  {
   "cell_type": "code",
   "execution_count": 2,
   "metadata": {},
   "outputs": [
    {
     "data": {
      "text/plain": [
       "18"
      ]
     },
     "execution_count": 2,
     "metadata": {},
     "output_type": "execute_result"
    }
   ],
   "source": [
    "9+9"
   ]
  },
  {
   "cell_type": "code",
   "execution_count": 3,
   "metadata": {},
   "outputs": [
    {
     "ename": "SyntaxError",
     "evalue": "invalid syntax (<ipython-input-3-d096a89a09cc>, line 1)",
     "output_type": "error",
     "traceback": [
      "\u001b[1;36m  File \u001b[1;32m\"<ipython-input-3-d096a89a09cc>\"\u001b[1;36m, line \u001b[1;32m1\u001b[0m\n\u001b[1;33m    var a = 18\u001b[0m\n\u001b[1;37m        ^\u001b[0m\n\u001b[1;31mSyntaxError\u001b[0m\u001b[1;31m:\u001b[0m invalid syntax\n"
     ]
    }
   ],
   "source": [
    "var a = 18"
   ]
  },
  {
   "cell_type": "code",
   "execution_count": 3,
   "metadata": {},
   "outputs": [],
   "source": [
    "a=18"
   ]
  },
  {
   "cell_type": "code",
   "execution_count": 4,
   "metadata": {},
   "outputs": [
    {
     "data": {
      "text/plain": [
       "18"
      ]
     },
     "execution_count": 4,
     "metadata": {},
     "output_type": "execute_result"
    }
   ],
   "source": [
    "a"
   ]
  },
  {
   "cell_type": "code",
   "execution_count": 6,
   "metadata": {},
   "outputs": [],
   "source": [
    "dict_map = {\"name\":\"Deepak\", \"empId\":\"10085\", \"mob_no\":\"889900775544\"}"
   ]
  },
  {
   "cell_type": "code",
   "execution_count": 7,
   "metadata": {},
   "outputs": [
    {
     "name": "stdout",
     "output_type": "stream",
     "text": [
      "{'name': 'Deepak', 'empId': '10085', 'mob_no': '889900775544'}\n"
     ]
    }
   ],
   "source": [
    "print(dict_map)"
   ]
  },
  {
   "cell_type": "code",
   "execution_count": 8,
   "metadata": {},
   "outputs": [
    {
     "name": "stdout",
     "output_type": "stream",
     "text": [
      "name\n",
      "empId\n",
      "mob_no\n"
     ]
    }
   ],
   "source": [
    "for x in dict_map:\n",
    "    print(x)"
   ]
  },
  {
   "cell_type": "code",
   "execution_count": 5,
   "metadata": {},
   "outputs": [
    {
     "name": "stdout",
     "output_type": "stream",
     "text": [
      "Deepak\n",
      "10085\n",
      "889900775544\n"
     ]
    }
   ],
   "source": [
    "for x in dict_map.values():\n",
    "    print(x)"
   ]
  },
  {
   "cell_type": "code",
   "execution_count": 6,
   "metadata": {},
   "outputs": [
    {
     "name": "stdout",
     "output_type": "stream",
     "text": [
      "name Deepak\n",
      "empId 10085\n",
      "mob_no 889900775544\n"
     ]
    }
   ],
   "source": [
    "for x, y in dict_map.items():\n",
    "    print(x,y)"
   ]
  },
  {
   "cell_type": "code",
   "execution_count": 7,
   "metadata": {},
   "outputs": [
    {
     "name": "stdout",
     "output_type": "stream",
     "text": [
      "Deepak\n",
      "10085\n",
      "889900775544\n"
     ]
    }
   ],
   "source": [
    "for x, y in dict_map.items():\n",
    "    print(y)"
   ]
  },
  {
   "cell_type": "code",
   "execution_count": 9,
   "metadata": {},
   "outputs": [],
   "source": [
    "# Find if an item is in the list\n",
    "x = {\"fname\":\"Deepak\", \"lname\":\"Mishra\"}"
   ]
  },
  {
   "cell_type": "code",
   "execution_count": 2,
   "metadata": {},
   "outputs": [
    {
     "name": "stdout",
     "output_type": "stream",
     "text": [
      "{'fname': 'Deepak', 'lname': 'Mishra'}\n"
     ]
    }
   ],
   "source": [
    "print(x)"
   ]
  },
  {
   "cell_type": "code",
   "execution_count": 10,
   "metadata": {},
   "outputs": [
    {
     "name": "stdout",
     "output_type": "stream",
     "text": [
      "Last Name not found\n",
      "Last Name found!\n"
     ]
    }
   ],
   "source": [
    "for a, b in x.items():\n",
    "    if \"Mishra\" in b:\n",
    "        print(\"Last Name found!\")\n",
    "    else:\n",
    "        print(\"Last Name not found\")"
   ]
  },
  {
   "cell_type": "code",
   "execution_count": 10,
   "metadata": {},
   "outputs": [],
   "source": [
    "del x"
   ]
  },
  {
   "cell_type": "code",
   "execution_count": 11,
   "metadata": {},
   "outputs": [
    {
     "ename": "NameError",
     "evalue": "name 'x' is not defined",
     "output_type": "error",
     "traceback": [
      "\u001b[1;31m---------------------------------------------------------------------------\u001b[0m",
      "\u001b[1;31mNameError\u001b[0m                                 Traceback (most recent call last)",
      "\u001b[1;32m<ipython-input-11-fc17d851ef81>\u001b[0m in \u001b[0;36m<module>\u001b[1;34m()\u001b[0m\n\u001b[1;32m----> 1\u001b[1;33m \u001b[0mprint\u001b[0m\u001b[1;33m(\u001b[0m\u001b[0mx\u001b[0m\u001b[1;33m)\u001b[0m\u001b[1;33m\u001b[0m\u001b[0m\n\u001b[0m",
      "\u001b[1;31mNameError\u001b[0m: name 'x' is not defined"
     ]
    }
   ],
   "source": [
    "print(x)"
   ]
  },
  {
   "cell_type": "code",
   "execution_count": 12,
   "metadata": {},
   "outputs": [
    {
     "ename": "NameError",
     "evalue": "name 'asb' is not defined",
     "output_type": "error",
     "traceback": [
      "\u001b[1;31m---------------------------------------------------------------------------\u001b[0m",
      "\u001b[1;31mNameError\u001b[0m                                 Traceback (most recent call last)",
      "\u001b[1;32m<ipython-input-12-81351f86d70f>\u001b[0m in \u001b[0;36m<module>\u001b[1;34m()\u001b[0m\n\u001b[1;32m----> 1\u001b[1;33m \u001b[0mx\u001b[0m \u001b[1;33m=\u001b[0m \u001b[0masb\u001b[0m\u001b[1;33m\u001b[0m\u001b[0m\n\u001b[0m",
      "\u001b[1;31mNameError\u001b[0m: name 'asb' is not defined"
     ]
    }
   ],
   "source": [
    "x = asb"
   ]
  },
  {
   "cell_type": "code",
   "execution_count": 13,
   "metadata": {},
   "outputs": [],
   "source": [
    "x = \"asdf\""
   ]
  },
  {
   "cell_type": "code",
   "execution_count": 14,
   "metadata": {},
   "outputs": [
    {
     "name": "stdout",
     "output_type": "stream",
     "text": [
      "asdf\n"
     ]
    }
   ],
   "source": [
    "print(x)"
   ]
  },
  {
   "cell_type": "code",
   "execution_count": 15,
   "metadata": {},
   "outputs": [
    {
     "ename": "AttributeError",
     "evalue": "'str' object has no attribute 'clear'",
     "output_type": "error",
     "traceback": [
      "\u001b[1;31m---------------------------------------------------------------------------\u001b[0m",
      "\u001b[1;31mAttributeError\u001b[0m                            Traceback (most recent call last)",
      "\u001b[1;32m<ipython-input-15-e12bd201b1dd>\u001b[0m in \u001b[0;36m<module>\u001b[1;34m()\u001b[0m\n\u001b[1;32m----> 1\u001b[1;33m \u001b[0mx\u001b[0m\u001b[1;33m.\u001b[0m\u001b[0mclear\u001b[0m\u001b[1;33m(\u001b[0m\u001b[1;33m)\u001b[0m\u001b[1;33m\u001b[0m\u001b[0m\n\u001b[0m",
      "\u001b[1;31mAttributeError\u001b[0m: 'str' object has no attribute 'clear'"
     ]
    }
   ],
   "source": [
    "x.clear()"
   ]
  },
  {
   "cell_type": "code",
   "execution_count": 16,
   "metadata": {},
   "outputs": [],
   "source": [
    "x = {\"fname\":\"D\", \"lname\":\"M\"}"
   ]
  },
  {
   "cell_type": "code",
   "execution_count": 17,
   "metadata": {},
   "outputs": [
    {
     "name": "stdout",
     "output_type": "stream",
     "text": [
      "{'fname': 'D', 'lname': 'M'}\n"
     ]
    }
   ],
   "source": [
    "print(x)"
   ]
  },
  {
   "cell_type": "code",
   "execution_count": 18,
   "metadata": {},
   "outputs": [
    {
     "ename": "SyntaxError",
     "evalue": "can't delete literal (<ipython-input-18-7023d747ae25>, line 1)",
     "output_type": "error",
     "traceback": [
      "\u001b[1;36m  File \u001b[1;32m\"<ipython-input-18-7023d747ae25>\"\u001b[1;36m, line \u001b[1;32m1\u001b[0m\n\u001b[1;33m    del \"fname\"\u001b[0m\n\u001b[1;37m       ^\u001b[0m\n\u001b[1;31mSyntaxError\u001b[0m\u001b[1;31m:\u001b[0m can't delete literal\n"
     ]
    }
   ],
   "source": [
    "del \"fname\""
   ]
  },
  {
   "cell_type": "code",
   "execution_count": 19,
   "metadata": {},
   "outputs": [],
   "source": [
    "del x[\"fname\"]"
   ]
  },
  {
   "cell_type": "code",
   "execution_count": 20,
   "metadata": {},
   "outputs": [
    {
     "name": "stdout",
     "output_type": "stream",
     "text": [
      "{'lname': 'M'}\n"
     ]
    }
   ],
   "source": [
    "print(x)"
   ]
  },
  {
   "cell_type": "code",
   "execution_count": 21,
   "metadata": {},
   "outputs": [],
   "source": [
    "x.clear()"
   ]
  },
  {
   "cell_type": "code",
   "execution_count": 22,
   "metadata": {},
   "outputs": [
    {
     "name": "stdout",
     "output_type": "stream",
     "text": [
      "{}\n"
     ]
    }
   ],
   "source": [
    "print(x)"
   ]
  },
  {
   "cell_type": "code",
   "execution_count": 23,
   "metadata": {},
   "outputs": [
    {
     "data": {
      "text/plain": [
       "{}"
      ]
     },
     "execution_count": 23,
     "metadata": {},
     "output_type": "execute_result"
    }
   ],
   "source": [
    "x.copy()"
   ]
  },
  {
   "cell_type": "code",
   "execution_count": 24,
   "metadata": {},
   "outputs": [],
   "source": [
    "x = {\"salary\":\"25lac\"}"
   ]
  },
  {
   "cell_type": "code",
   "execution_count": 25,
   "metadata": {},
   "outputs": [
    {
     "data": {
      "text/plain": [
       "{'salary': '25lac'}"
      ]
     },
     "execution_count": 25,
     "metadata": {},
     "output_type": "execute_result"
    }
   ],
   "source": [
    "x.copy()"
   ]
  },
  {
   "cell_type": "code",
   "execution_count": 26,
   "metadata": {},
   "outputs": [
    {
     "data": {
      "text/plain": [
       "dict_values(['25lac'])"
      ]
     },
     "execution_count": 26,
     "metadata": {},
     "output_type": "execute_result"
    }
   ],
   "source": [
    "x.values()"
   ]
  },
  {
   "cell_type": "code",
   "execution_count": 27,
   "metadata": {},
   "outputs": [
    {
     "data": {
      "text/plain": [
       "dict_items([('salary', '25lac')])"
      ]
     },
     "execution_count": 27,
     "metadata": {},
     "output_type": "execute_result"
    }
   ],
   "source": [
    "x.items()"
   ]
  },
  {
   "cell_type": "code",
   "execution_count": 28,
   "metadata": {},
   "outputs": [
    {
     "data": {
      "text/plain": [
       "dict_keys(['salary'])"
      ]
     },
     "execution_count": 28,
     "metadata": {},
     "output_type": "execute_result"
    }
   ],
   "source": [
    "x.keys()"
   ]
  },
  {
   "cell_type": "code",
   "execution_count": 29,
   "metadata": {},
   "outputs": [],
   "source": [
    "a = 10\n",
    "b=20"
   ]
  },
  {
   "cell_type": "code",
   "execution_count": 30,
   "metadata": {},
   "outputs": [
    {
     "name": "stdout",
     "output_type": "stream",
     "text": [
      "10 20\n"
     ]
    }
   ],
   "source": [
    "print(a,b)"
   ]
  },
  {
   "cell_type": "code",
   "execution_count": 33,
   "metadata": {},
   "outputs": [
    {
     "name": "stdout",
     "output_type": "stream",
     "text": [
      "a is less than b\n"
     ]
    }
   ],
   "source": [
    "if(a < b):\n",
    "    print(\"a is less than b\")"
   ]
  },
  {
   "cell_type": "code",
   "execution_count": 35,
   "metadata": {},
   "outputs": [
    {
     "name": "stdout",
     "output_type": "stream",
     "text": [
      "B\n"
     ]
    }
   ],
   "source": [
    "print(\"A\") if a>b else print(\"B\")"
   ]
  },
  {
   "cell_type": "code",
   "execution_count": 36,
   "metadata": {},
   "outputs": [
    {
     "name": "stdout",
     "output_type": "stream",
     "text": [
      "b\n",
      "a\n",
      "n\n",
      "a\n",
      "n\n",
      "a\n",
      "s\n"
     ]
    }
   ],
   "source": [
    "for x in \"bananas\":\n",
    "    print(x)"
   ]
  },
  {
   "cell_type": "code",
   "execution_count": 37,
   "metadata": {},
   "outputs": [
    {
     "ename": "TypeError",
     "evalue": "'int' object is not iterable",
     "output_type": "error",
     "traceback": [
      "\u001b[1;31m---------------------------------------------------------------------------\u001b[0m",
      "\u001b[1;31mTypeError\u001b[0m                                 Traceback (most recent call last)",
      "\u001b[1;32m<ipython-input-37-be1838176c0d>\u001b[0m in \u001b[0;36m<module>\u001b[1;34m()\u001b[0m\n\u001b[1;32m----> 1\u001b[1;33m \u001b[1;32mfor\u001b[0m \u001b[0mx\u001b[0m \u001b[1;32min\u001b[0m \u001b[1;36m12345\u001b[0m\u001b[1;33m:\u001b[0m\u001b[1;33m\u001b[0m\u001b[0m\n\u001b[0m\u001b[0;32m      2\u001b[0m     \u001b[0mprint\u001b[0m\u001b[1;33m(\u001b[0m\u001b[0mx\u001b[0m\u001b[1;33m)\u001b[0m\u001b[1;33m\u001b[0m\u001b[0m\n",
      "\u001b[1;31mTypeError\u001b[0m: 'int' object is not iterable"
     ]
    }
   ],
   "source": [
    "for x in 12345:\n",
    "    print(x)"
   ]
  },
  {
   "cell_type": "code",
   "execution_count": 38,
   "metadata": {},
   "outputs": [
    {
     "name": "stdout",
     "output_type": "stream",
     "text": [
      "1\n",
      "2\n",
      "3\n",
      "4\n",
      "5\n"
     ]
    }
   ],
   "source": [
    "for x in \"12345\":\n",
    "    print(x)"
   ]
  },
  {
   "cell_type": "code",
   "execution_count": 43,
   "metadata": {},
   "outputs": [
    {
     "name": "stdout",
     "output_type": "stream",
     "text": [
      "1\n",
      "2\n",
      "3\n",
      "4\n",
      "5\n"
     ]
    }
   ],
   "source": [
    "for x in \"12345\":\n",
    "    print(x[0])"
   ]
  },
  {
   "cell_type": "code",
   "execution_count": 47,
   "metadata": {},
   "outputs": [
    {
     "name": "stdout",
     "output_type": "stream",
     "text": [
      "5\n",
      "7\n",
      "9\n"
     ]
    }
   ],
   "source": [
    "for x in range(5,10,2):\n",
    "    print(x)"
   ]
  },
  {
   "cell_type": "code",
   "execution_count": 57,
   "metadata": {},
   "outputs": [
    {
     "name": "stdout",
     "output_type": "stream",
     "text": [
      "2\n",
      "4\n",
      "6\n",
      "8\n",
      "10\n",
      "12\n",
      "14\n",
      "16\n",
      "18\n",
      "20\n"
     ]
    }
   ],
   "source": [
    "for x in range(2, 22, 2):\n",
    "    print(x)"
   ]
  },
  {
   "cell_type": "code",
   "execution_count": 63,
   "metadata": {},
   "outputs": [],
   "source": [
    "def my_func():\n",
    "    print(\"This is from a function\")    "
   ]
  },
  {
   "cell_type": "code",
   "execution_count": 64,
   "metadata": {},
   "outputs": [
    {
     "name": "stdout",
     "output_type": "stream",
     "text": [
      "This is from a function\n"
     ]
    }
   ],
   "source": [
    "my_func()"
   ]
  },
  {
   "cell_type": "code",
   "execution_count": 65,
   "metadata": {},
   "outputs": [],
   "source": [
    "def my_country(country=\"India\"):\n",
    "    print(\"MY country is \" + country)"
   ]
  },
  {
   "cell_type": "code",
   "execution_count": 66,
   "metadata": {},
   "outputs": [
    {
     "name": "stdout",
     "output_type": "stream",
     "text": [
      "MY country is India\n"
     ]
    }
   ],
   "source": [
    "my_country()"
   ]
  },
  {
   "cell_type": "code",
   "execution_count": 67,
   "metadata": {},
   "outputs": [
    {
     "name": "stdout",
     "output_type": "stream",
     "text": [
      "MY country is US\n"
     ]
    }
   ],
   "source": [
    "my_country(\"US\")"
   ]
  },
  {
   "cell_type": "code",
   "execution_count": 79,
   "metadata": {},
   "outputs": [],
   "source": [
    "def multiply_by_3(val):\n",
    "    return val^2"
   ]
  },
  {
   "cell_type": "code",
   "execution_count": 80,
   "metadata": {},
   "outputs": [
    {
     "data": {
      "text/plain": [
       "1"
      ]
     },
     "execution_count": 80,
     "metadata": {},
     "output_type": "execute_result"
    }
   ],
   "source": [
    "multiply_by_3(3)"
   ]
  },
  {
   "cell_type": "code",
   "execution_count": 81,
   "metadata": {},
   "outputs": [],
   "source": [
    "# use of lambda functions"
   ]
  },
  {
   "cell_type": "code",
   "execution_count": 82,
   "metadata": {},
   "outputs": [],
   "source": [
    "x = lambda a: a + 10"
   ]
  },
  {
   "cell_type": "code",
   "execution_count": 83,
   "metadata": {},
   "outputs": [
    {
     "data": {
      "text/plain": [
       "15"
      ]
     },
     "execution_count": 83,
     "metadata": {},
     "output_type": "execute_result"
    }
   ],
   "source": [
    "x(5)"
   ]
  },
  {
   "cell_type": "code",
   "execution_count": 84,
   "metadata": {},
   "outputs": [
    {
     "data": {
      "text/plain": [
       "54"
      ]
     },
     "execution_count": 84,
     "metadata": {},
     "output_type": "execute_result"
    }
   ],
   "source": [
    "x(44)"
   ]
  },
  {
   "cell_type": "code",
   "execution_count": 86,
   "metadata": {},
   "outputs": [],
   "source": [
    "def my_lambda_func(n):\n",
    "    return lambda a: a * n"
   ]
  },
  {
   "cell_type": "code",
   "execution_count": 87,
   "metadata": {},
   "outputs": [],
   "source": [
    "doubler = my_lambda_func(2)"
   ]
  },
  {
   "cell_type": "code",
   "execution_count": 88,
   "metadata": {},
   "outputs": [],
   "source": [
    "var1 = doubler(2)"
   ]
  },
  {
   "cell_type": "code",
   "execution_count": 89,
   "metadata": {},
   "outputs": [
    {
     "name": "stdout",
     "output_type": "stream",
     "text": [
      "4\n"
     ]
    }
   ],
   "source": [
    "print(var1)"
   ]
  },
  {
   "cell_type": "code",
   "execution_count": 90,
   "metadata": {},
   "outputs": [],
   "source": [
    "tripler = my_lambda_func(3)"
   ]
  },
  {
   "cell_type": "code",
   "execution_count": 95,
   "metadata": {},
   "outputs": [],
   "source": [
    "tripler = my_lambda_func(9)"
   ]
  },
  {
   "cell_type": "code",
   "execution_count": 92,
   "metadata": {},
   "outputs": [
    {
     "name": "stdout",
     "output_type": "stream",
     "text": [
      "<function my_lambda_func.<locals>.<lambda> at 0x0000025129C00048>\n"
     ]
    }
   ],
   "source": [
    "print(var2)"
   ]
  },
  {
   "cell_type": "code",
   "execution_count": 93,
   "metadata": {},
   "outputs": [],
   "source": [
    "var3 = var2(9)"
   ]
  },
  {
   "cell_type": "code",
   "execution_count": 94,
   "metadata": {},
   "outputs": [
    {
     "name": "stdout",
     "output_type": "stream",
     "text": [
      "81\n"
     ]
    }
   ],
   "source": [
    "print(var3)"
   ]
  },
  {
   "cell_type": "code",
   "execution_count": 4,
   "metadata": {},
   "outputs": [],
   "source": [
    "cars = [\"Toyota\", \"Audi\", \"BMW\", \"Suzuki\", \"Tesla\"]"
   ]
  },
  {
   "cell_type": "code",
   "execution_count": 99,
   "metadata": {},
   "outputs": [
    {
     "name": "stdout",
     "output_type": "stream",
     "text": [
      "['Toyota', 'Audi', 'BMW', 'Suzuki', 'Tesla']\n"
     ]
    }
   ],
   "source": [
    "print(cars)"
   ]
  },
  {
   "cell_type": "code",
   "execution_count": 9,
   "metadata": {},
   "outputs": [
    {
     "data": {
      "text/plain": [
       "5"
      ]
     },
     "execution_count": 9,
     "metadata": {},
     "output_type": "execute_result"
    }
   ],
   "source": [
    "len(cars)"
   ]
  },
  {
   "cell_type": "code",
   "execution_count": 101,
   "metadata": {},
   "outputs": [
    {
     "data": {
      "text/plain": [
       "5"
      ]
     },
     "execution_count": 101,
     "metadata": {},
     "output_type": "execute_result"
    }
   ],
   "source": [
    "len(cars)"
   ]
  },
  {
   "cell_type": "code",
   "execution_count": 5,
   "metadata": {},
   "outputs": [
    {
     "name": "stdout",
     "output_type": "stream",
     "text": [
      "I have this car too Toyota\n",
      "I have this car too Audi\n",
      "I have this car too BMW\n",
      "I have this car too Suzuki\n",
      "I have this car too Tesla\n"
     ]
    }
   ],
   "source": [
    "for x in cars:\n",
    "    print(\"I have this car too \" + x)"
   ]
  },
  {
   "cell_type": "code",
   "execution_count": 103,
   "metadata": {},
   "outputs": [],
   "source": [
    "cars.append(\"Honda\")"
   ]
  },
  {
   "cell_type": "code",
   "execution_count": 104,
   "metadata": {},
   "outputs": [
    {
     "name": "stdout",
     "output_type": "stream",
     "text": [
      "['Toyota', 'Audi', 'BMW', 'Suzuki', 'Tesla', 'Honda']\n"
     ]
    }
   ],
   "source": [
    "print(cars)"
   ]
  },
  {
   "cell_type": "code",
   "execution_count": 105,
   "metadata": {},
   "outputs": [],
   "source": [
    "cars.append(\"Honda\")"
   ]
  },
  {
   "cell_type": "code",
   "execution_count": 106,
   "metadata": {},
   "outputs": [
    {
     "name": "stdout",
     "output_type": "stream",
     "text": [
      "['Toyota', 'Audi', 'BMW', 'Suzuki', 'Tesla', 'Honda', 'Honda']\n"
     ]
    }
   ],
   "source": [
    "print(cars)"
   ]
  },
  {
   "cell_type": "code",
   "execution_count": 107,
   "metadata": {},
   "outputs": [],
   "source": [
    "cars.remove(\"Honda\")"
   ]
  },
  {
   "cell_type": "code",
   "execution_count": 108,
   "metadata": {},
   "outputs": [
    {
     "name": "stdout",
     "output_type": "stream",
     "text": [
      "['Toyota', 'Audi', 'BMW', 'Suzuki', 'Tesla', 'Honda']\n"
     ]
    }
   ],
   "source": [
    "print(cars)"
   ]
  },
  {
   "cell_type": "code",
   "execution_count": 109,
   "metadata": {},
   "outputs": [
    {
     "ename": "TypeError",
     "evalue": "'str' object cannot be interpreted as an integer",
     "output_type": "error",
     "traceback": [
      "\u001b[1;31m---------------------------------------------------------------------------\u001b[0m",
      "\u001b[1;31mTypeError\u001b[0m                                 Traceback (most recent call last)",
      "\u001b[1;32m<ipython-input-109-60250602ca30>\u001b[0m in \u001b[0;36m<module>\u001b[1;34m()\u001b[0m\n\u001b[1;32m----> 1\u001b[1;33m \u001b[0mcars\u001b[0m\u001b[1;33m.\u001b[0m\u001b[0mpop\u001b[0m\u001b[1;33m(\u001b[0m\u001b[1;34m\"Toyota\"\u001b[0m\u001b[1;33m)\u001b[0m\u001b[1;33m\u001b[0m\u001b[0m\n\u001b[0m",
      "\u001b[1;31mTypeError\u001b[0m: 'str' object cannot be interpreted as an integer"
     ]
    }
   ],
   "source": [
    "cars.pop(\"Toyota\")"
   ]
  },
  {
   "cell_type": "code",
   "execution_count": 110,
   "metadata": {},
   "outputs": [
    {
     "data": {
      "text/plain": [
       "'Tesla'"
      ]
     },
     "execution_count": 110,
     "metadata": {},
     "output_type": "execute_result"
    }
   ],
   "source": [
    "cars.pop(4)"
   ]
  },
  {
   "cell_type": "code",
   "execution_count": 111,
   "metadata": {},
   "outputs": [
    {
     "data": {
      "text/plain": [
       "'Honda'"
      ]
     },
     "execution_count": 111,
     "metadata": {},
     "output_type": "execute_result"
    }
   ],
   "source": [
    "cars.pop(4)"
   ]
  },
  {
   "cell_type": "code",
   "execution_count": 112,
   "metadata": {},
   "outputs": [
    {
     "ename": "IndexError",
     "evalue": "pop index out of range",
     "output_type": "error",
     "traceback": [
      "\u001b[1;31m---------------------------------------------------------------------------\u001b[0m",
      "\u001b[1;31mIndexError\u001b[0m                                Traceback (most recent call last)",
      "\u001b[1;32m<ipython-input-112-d8927ed6cdef>\u001b[0m in \u001b[0;36m<module>\u001b[1;34m()\u001b[0m\n\u001b[1;32m----> 1\u001b[1;33m \u001b[0mcars\u001b[0m\u001b[1;33m.\u001b[0m\u001b[0mpop\u001b[0m\u001b[1;33m(\u001b[0m\u001b[1;36m4\u001b[0m\u001b[1;33m)\u001b[0m\u001b[1;33m\u001b[0m\u001b[0m\n\u001b[0m",
      "\u001b[1;31mIndexError\u001b[0m: pop index out of range"
     ]
    }
   ],
   "source": [
    "cars.pop(4)"
   ]
  },
  {
   "cell_type": "code",
   "execution_count": 113,
   "metadata": {},
   "outputs": [
    {
     "name": "stdout",
     "output_type": "stream",
     "text": [
      "['Toyota', 'Audi', 'BMW', 'Suzuki']\n"
     ]
    }
   ],
   "source": [
    "print(cars)"
   ]
  },
  {
   "cell_type": "code",
   "execution_count": 114,
   "metadata": {},
   "outputs": [
    {
     "name": "stdout",
     "output_type": "stream",
     "text": [
      "None\n"
     ]
    }
   ],
   "source": [
    "print(cars.sort())"
   ]
  },
  {
   "cell_type": "code",
   "execution_count": 115,
   "metadata": {},
   "outputs": [],
   "source": [
    "cars.sort()"
   ]
  },
  {
   "cell_type": "code",
   "execution_count": 116,
   "metadata": {},
   "outputs": [
    {
     "name": "stdout",
     "output_type": "stream",
     "text": [
      "['Audi', 'BMW', 'Suzuki', 'Toyota']\n"
     ]
    }
   ],
   "source": [
    "print(cars)"
   ]
  },
  {
   "cell_type": "code",
   "execution_count": 117,
   "metadata": {},
   "outputs": [
    {
     "name": "stdout",
     "output_type": "stream",
     "text": [
      "['Audi', 'BMW', 'Suzuki', 'Toyota']\n"
     ]
    }
   ],
   "source": [
    "print(cars)"
   ]
  },
  {
   "cell_type": "code",
   "execution_count": 118,
   "metadata": {},
   "outputs": [
    {
     "name": "stdout",
     "output_type": "stream",
     "text": [
      "None\n"
     ]
    }
   ],
   "source": [
    "print(cars.reverse())"
   ]
  },
  {
   "cell_type": "code",
   "execution_count": 119,
   "metadata": {},
   "outputs": [
    {
     "name": "stdout",
     "output_type": "stream",
     "text": [
      "['Toyota', 'Suzuki', 'BMW', 'Audi']\n"
     ]
    }
   ],
   "source": [
    "print(cars)"
   ]
  },
  {
   "cell_type": "code",
   "execution_count": 120,
   "metadata": {},
   "outputs": [],
   "source": [
    "class MyClass:\n",
    "    x = 10"
   ]
  },
  {
   "cell_type": "code",
   "execution_count": 121,
   "metadata": {},
   "outputs": [],
   "source": [
    "myClass = MyClass()"
   ]
  },
  {
   "cell_type": "code",
   "execution_count": 122,
   "metadata": {},
   "outputs": [
    {
     "name": "stdout",
     "output_type": "stream",
     "text": [
      "10\n"
     ]
    }
   ],
   "source": [
    "print(myClass.x)"
   ]
  },
  {
   "cell_type": "code",
   "execution_count": 123,
   "metadata": {},
   "outputs": [],
   "source": [
    "import platform"
   ]
  },
  {
   "cell_type": "code",
   "execution_count": 125,
   "metadata": {},
   "outputs": [
    {
     "name": "stdout",
     "output_type": "stream",
     "text": [
      "Windows\n"
     ]
    }
   ],
   "source": [
    "print(platform.system())"
   ]
  },
  {
   "cell_type": "code",
   "execution_count": 126,
   "metadata": {},
   "outputs": [
    {
     "name": "stdout",
     "output_type": "stream",
     "text": [
      "<module 'platform' from 'C:\\\\ProgramData\\\\Anaconda3\\\\lib\\\\platform.py'>\n"
     ]
    }
   ],
   "source": [
    "print(platform)"
   ]
  },
  {
   "cell_type": "code",
   "execution_count": 129,
   "metadata": {},
   "outputs": [
    {
     "name": "stdout",
     "output_type": "stream",
     "text": [
      "AMD64\n"
     ]
    }
   ],
   "source": [
    "print(platform.machine())"
   ]
  },
  {
   "cell_type": "code",
   "execution_count": 130,
   "metadata": {},
   "outputs": [
    {
     "ename": "TypeError",
     "evalue": "'x' is an invalid keyword argument for print()",
     "output_type": "error",
     "traceback": [
      "\u001b[1;31m---------------------------------------------------------------------------\u001b[0m",
      "\u001b[1;31mTypeError\u001b[0m                                 Traceback (most recent call last)",
      "\u001b[1;32m<ipython-input-130-e27eebbb8586>\u001b[0m in \u001b[0;36m<module>\u001b[1;34m()\u001b[0m\n\u001b[1;32m----> 1\u001b[1;33m \u001b[0mprint\u001b[0m\u001b[1;33m(\u001b[0m\u001b[0mx\u001b[0m\u001b[1;33m=\u001b[0m\u001b[0mdir\u001b[0m\u001b[1;33m(\u001b[0m\u001b[0mplatform\u001b[0m\u001b[1;33m)\u001b[0m\u001b[1;33m)\u001b[0m\u001b[1;33m\u001b[0m\u001b[0m\n\u001b[0m",
      "\u001b[1;31mTypeError\u001b[0m: 'x' is an invalid keyword argument for print()"
     ]
    }
   ],
   "source": [
    "print(x=dir(platform))"
   ]
  },
  {
   "cell_type": "code",
   "execution_count": 131,
   "metadata": {},
   "outputs": [],
   "source": [
    "x = dir(platform)"
   ]
  },
  {
   "cell_type": "code",
   "execution_count": 132,
   "metadata": {},
   "outputs": [
    {
     "name": "stdout",
     "output_type": "stream",
     "text": [
      "['DEV_NULL', '_UNIXCONFDIR', '_WIN32_CLIENT_RELEASES', '_WIN32_SERVER_RELEASES', '__builtins__', '__cached__', '__copyright__', '__doc__', '__file__', '__loader__', '__name__', '__package__', '__spec__', '__version__', '_default_architecture', '_dist_try_harder', '_follow_symlinks', '_ironpython26_sys_version_parser', '_ironpython_sys_version_parser', '_java_getprop', '_libc_search', '_linux_distribution', '_lsb_release_version', '_mac_ver_xml', '_node', '_norm_version', '_parse_release_file', '_platform', '_platform_cache', '_pypy_sys_version_parser', '_release_filename', '_release_version', '_supported_dists', '_sys_version', '_sys_version_cache', '_sys_version_parser', '_syscmd_file', '_syscmd_uname', '_syscmd_ver', '_uname_cache', '_ver_output', 'architecture', 'collections', 'dist', 'java_ver', 'libc_ver', 'linux_distribution', 'mac_ver', 'machine', 'node', 'os', 'platform', 'popen', 'processor', 'python_branch', 'python_build', 'python_compiler', 'python_implementation', 'python_revision', 'python_version', 'python_version_tuple', 're', 'release', 'subprocess', 'sys', 'system', 'system_alias', 'uname', 'uname_result', 'version', 'warnings', 'win32_ver']\n"
     ]
    }
   ],
   "source": [
    "print(x)"
   ]
  },
  {
   "cell_type": "code",
   "execution_count": 134,
   "metadata": {},
   "outputs": [
    {
     "name": "stdout",
     "output_type": "stream",
     "text": [
      "<module 'sys' (built-in)>\n"
     ]
    }
   ],
   "source": [
    "print(platform.sys)"
   ]
  },
  {
   "cell_type": "code",
   "execution_count": 135,
   "metadata": {},
   "outputs": [],
   "source": [
    "import datetime"
   ]
  },
  {
   "cell_type": "code",
   "execution_count": 154,
   "metadata": {},
   "outputs": [],
   "source": [
    "x = datetime.datetime.now()"
   ]
  },
  {
   "cell_type": "code",
   "execution_count": 139,
   "metadata": {},
   "outputs": [
    {
     "name": "stdout",
     "output_type": "stream",
     "text": [
      "2019-01-25 11:15:02.367796\n"
     ]
    }
   ],
   "source": [
    "print(x)"
   ]
  },
  {
   "cell_type": "code",
   "execution_count": 141,
   "metadata": {},
   "outputs": [
    {
     "name": "stdout",
     "output_type": "stream",
     "text": [
      "2019-01-25\n"
     ]
    }
   ],
   "source": [
    "print(x.date())"
   ]
  },
  {
   "cell_type": "code",
   "execution_count": 142,
   "metadata": {},
   "outputs": [
    {
     "name": "stdout",
     "output_type": "stream",
     "text": [
      "2019-01-25 11:16:04.175354\n"
     ]
    }
   ],
   "source": [
    "print(x.today())"
   ]
  },
  {
   "cell_type": "code",
   "execution_count": 143,
   "metadata": {},
   "outputs": [
    {
     "name": "stdout",
     "output_type": "stream",
     "text": [
      "Friday\n"
     ]
    }
   ],
   "source": [
    "print(x.strftime(\"%A\"))"
   ]
  },
  {
   "cell_type": "code",
   "execution_count": 147,
   "metadata": {},
   "outputs": [
    {
     "name": "stdout",
     "output_type": "stream",
     "text": [
      "025\n"
     ]
    }
   ],
   "source": [
    "print(x.strftime(\"%j\"))"
   ]
  },
  {
   "cell_type": "code",
   "execution_count": 149,
   "metadata": {},
   "outputs": [
    {
     "name": "stdout",
     "output_type": "stream",
     "text": [
      "01/25/19\n"
     ]
    }
   ],
   "source": [
    "print(x.strftime(\"%x\"))"
   ]
  },
  {
   "cell_type": "code",
   "execution_count": 155,
   "metadata": {},
   "outputs": [
    {
     "name": "stdout",
     "output_type": "stream",
     "text": [
      "11:25:29\n"
     ]
    }
   ],
   "source": [
    "print(x.strftime(\"%X\"))"
   ]
  },
  {
   "cell_type": "code",
   "execution_count": 8,
   "metadata": {},
   "outputs": [
    {
     "name": "stdout",
     "output_type": "stream",
     "text": [
      "{\n",
      "  \"name\": \"John\",\n",
      "  \"age\": 30,\n",
      "  \"married\": true,\n",
      "  \"divorced\": false,\n",
      "  \"children\": [\n",
      "    \"Ann\",\n",
      "    \"Billy\"\n",
      "  ],\n",
      "  \"pets\": null,\n",
      "  \"cars\": [\n",
      "    {\n",
      "      \"model\": \"BMW 230\",\n",
      "      \"mpg\": 27.5\n",
      "    },\n",
      "    {\n",
      "      \"model\": \"Ford Edge\",\n",
      "      \"mpg\": 24.1\n",
      "    }\n",
      "  ]\n",
      "}\n"
     ]
    }
   ],
   "source": [
    "import json\n",
    "\n",
    "x = {\n",
    "  \"name\": \"John\",\n",
    "  \"age\": 30,\n",
    "  \"married\": True,\n",
    "  \"divorced\": False,\n",
    "  \"children\": (\"Ann\",\"Billy\"),\n",
    "  \"pets\": None,\n",
    "  \"cars\": [\n",
    "    {\"model\": \"BMW 230\", \"mpg\": 27.5},\n",
    "    {\"model\": \"Ford Edge\", \"mpg\": 24.1}\n",
    "  ]\n",
    "}\n",
    "\n",
    "# use four indents to make it easier to read the result:\n",
    "print(json.dumps(x, indent=2))"
   ]
  },
  {
   "cell_type": "code",
   "execution_count": 14,
   "metadata": {},
   "outputs": [
    {
     "name": "stdout",
     "output_type": "stream",
     "text": [
      "x = %d <built-in method items of dict object at 0x000001F0EC6B4F78>\n"
     ]
    }
   ],
   "source": [
    "print(\"x = %d\", x.items)"
   ]
  },
  {
   "cell_type": "code",
   "execution_count": 15,
   "metadata": {},
   "outputs": [],
   "source": [
    "import re"
   ]
  },
  {
   "cell_type": "code",
   "execution_count": 16,
   "metadata": {},
   "outputs": [],
   "source": [
    "str1 = \"The rain in Spain\""
   ]
  },
  {
   "cell_type": "code",
   "execution_count": 17,
   "metadata": {},
   "outputs": [],
   "source": [
    "x = re.search(\"^The.*Spain$\", str1)"
   ]
  },
  {
   "cell_type": "code",
   "execution_count": 18,
   "metadata": {},
   "outputs": [
    {
     "name": "stdout",
     "output_type": "stream",
     "text": [
      "<re.Match object; span=(0, 17), match='The rain in Spain'>\n"
     ]
    }
   ],
   "source": [
    "print(x)"
   ]
  },
  {
   "cell_type": "code",
   "execution_count": 20,
   "metadata": {},
   "outputs": [
    {
     "name": "stdout",
     "output_type": "stream",
     "text": [
      "Match found\n"
     ]
    }
   ],
   "source": [
    "if x:\n",
    "    print(\"Match found\")\n",
    "else:\n",
    "    print('match not found')"
   ]
  },
  {
   "cell_type": "code",
   "execution_count": 1,
   "metadata": {},
   "outputs": [
    {
     "name": "stdout",
     "output_type": "stream",
     "text": [
      "\n",
      "The following command must be run outside of the IPython shell:\n",
      "\n",
      "    $ pip install something\n",
      "\n",
      "The Python package manager (pip) can only be used from outside of IPython.\n",
      "Please reissue the `pip` command in a separate terminal or command prompt.\n",
      "\n",
      "See the Python documentation for more information on how to install packages:\n",
      "\n",
      "    https://docs.python.org/3/installing/\n"
     ]
    }
   ],
   "source": [
    "pip install something"
   ]
  },
  {
   "cell_type": "code",
   "execution_count": 2,
   "metadata": {},
   "outputs": [],
   "source": [
    "f = open(\"python_writing\", \"x\")"
   ]
  },
  {
   "cell_type": "code",
   "execution_count": 3,
   "metadata": {},
   "outputs": [
    {
     "data": {
      "text/plain": [
       "24"
      ]
     },
     "execution_count": 3,
     "metadata": {},
     "output_type": "execute_result"
    }
   ],
   "source": [
    "f.write(\"This is some random text\")"
   ]
  },
  {
   "cell_type": "code",
   "execution_count": 4,
   "metadata": {},
   "outputs": [
    {
     "data": {
      "text/plain": [
       "<function TextIOWrapper.read(size=-1, /)>"
      ]
     },
     "execution_count": 4,
     "metadata": {},
     "output_type": "execute_result"
    }
   ],
   "source": [
    "f.read"
   ]
  },
  {
   "cell_type": "code",
   "execution_count": 5,
   "metadata": {},
   "outputs": [],
   "source": [
    "r = open(\"python_writing\")\n",
    "read = r.read"
   ]
  },
  {
   "cell_type": "code",
   "execution_count": 6,
   "metadata": {},
   "outputs": [
    {
     "name": "stdout",
     "output_type": "stream",
     "text": [
      "<built-in method read of _io.TextIOWrapper object at 0x000001B572FED480>\n"
     ]
    }
   ],
   "source": [
    "print(read)"
   ]
  },
  {
   "cell_type": "code",
   "execution_count": 7,
   "metadata": {},
   "outputs": [
    {
     "name": "stdout",
     "output_type": "stream",
     "text": [
      "<_io.TextIOWrapper name='python_writing' mode='r' encoding='cp1252'>\n"
     ]
    }
   ],
   "source": [
    "print(r)"
   ]
  },
  {
   "cell_type": "code",
   "execution_count": 8,
   "metadata": {},
   "outputs": [
    {
     "name": "stdout",
     "output_type": "stream",
     "text": [
      "\n"
     ]
    }
   ],
   "source": [
    "print(r.read())"
   ]
  },
  {
   "cell_type": "code",
   "execution_count": 9,
   "metadata": {},
   "outputs": [],
   "source": [
    "f.close()"
   ]
  },
  {
   "cell_type": "code",
   "execution_count": 10,
   "metadata": {},
   "outputs": [],
   "source": [
    "r.close()"
   ]
  },
  {
   "cell_type": "code",
   "execution_count": 11,
   "metadata": {},
   "outputs": [],
   "source": [
    "read = open(\"python_writing\")"
   ]
  },
  {
   "cell_type": "code",
   "execution_count": 12,
   "metadata": {},
   "outputs": [
    {
     "name": "stdout",
     "output_type": "stream",
     "text": [
      "<_io.TextIOWrapper name='python_writing' mode='r' encoding='cp1252'>\n"
     ]
    }
   ],
   "source": [
    "print(read)"
   ]
  },
  {
   "cell_type": "code",
   "execution_count": 22,
   "metadata": {},
   "outputs": [
    {
     "name": "stdout",
     "output_type": "stream",
     "text": [
      "\n"
     ]
    }
   ],
   "source": [
    "print(read.read())"
   ]
  },
  {
   "cell_type": "code",
   "execution_count": 53,
   "metadata": {},
   "outputs": [],
   "source": [
    "write = open(\"python_writing\", \"a\")"
   ]
  },
  {
   "cell_type": "code",
   "execution_count": 54,
   "metadata": {},
   "outputs": [
    {
     "data": {
      "text/plain": [
       "31"
      ]
     },
     "execution_count": 54,
     "metadata": {},
     "output_type": "execute_result"
    }
   ],
   "source": [
    "write.write(\"This is another line numbered 2\")"
   ]
  },
  {
   "cell_type": "code",
   "execution_count": 55,
   "metadata": {},
   "outputs": [
    {
     "data": {
      "text/plain": [
       "31"
      ]
     },
     "execution_count": 55,
     "metadata": {},
     "output_type": "execute_result"
    }
   ],
   "source": [
    "write.write(\"This is another line numbered 3\")"
   ]
  },
  {
   "cell_type": "code",
   "execution_count": 56,
   "metadata": {},
   "outputs": [
    {
     "ename": "ValueError",
     "evalue": "I/O operation on closed file.",
     "output_type": "error",
     "traceback": [
      "\u001b[1;31m---------------------------------------------------------------------------\u001b[0m",
      "\u001b[1;31mValueError\u001b[0m                                Traceback (most recent call last)",
      "\u001b[1;32m<ipython-input-56-e62f591782b4>\u001b[0m in \u001b[0;36m<module>\u001b[1;34m()\u001b[0m\n\u001b[1;32m----> 1\u001b[1;33m \u001b[0mprint\u001b[0m\u001b[1;33m(\u001b[0m\u001b[0mread\u001b[0m\u001b[1;33m.\u001b[0m\u001b[0mread\u001b[0m\u001b[1;33m(\u001b[0m\u001b[1;33m)\u001b[0m\u001b[1;33m)\u001b[0m\u001b[1;33m\u001b[0m\u001b[0m\n\u001b[0m",
      "\u001b[1;31mValueError\u001b[0m: I/O operation on closed file."
     ]
    }
   ],
   "source": [
    "print(read.read())"
   ]
  },
  {
   "cell_type": "code",
   "execution_count": 63,
   "metadata": {},
   "outputs": [],
   "source": [
    "read.close()"
   ]
  },
  {
   "cell_type": "code",
   "execution_count": 64,
   "metadata": {},
   "outputs": [],
   "source": [
    "read = open(\"python_writing\")"
   ]
  },
  {
   "cell_type": "code",
   "execution_count": 58,
   "metadata": {},
   "outputs": [
    {
     "name": "stdout",
     "output_type": "stream",
     "text": [
      "\n"
     ]
    }
   ],
   "source": [
    "print(read.read())"
   ]
  },
  {
   "cell_type": "code",
   "execution_count": 59,
   "metadata": {},
   "outputs": [
    {
     "name": "stdout",
     "output_type": "stream",
     "text": [
      "[]\n"
     ]
    }
   ],
   "source": [
    "print(read.readlines())"
   ]
  },
  {
   "cell_type": "code",
   "execution_count": 60,
   "metadata": {},
   "outputs": [],
   "source": [
    "write.close()"
   ]
  },
  {
   "cell_type": "code",
   "execution_count": 62,
   "metadata": {},
   "outputs": [
    {
     "name": "stdout",
     "output_type": "stream",
     "text": [
      "\n"
     ]
    }
   ],
   "source": [
    "print(read.read())"
   ]
  },
  {
   "cell_type": "code",
   "execution_count": 65,
   "metadata": {},
   "outputs": [
    {
     "name": "stdout",
     "output_type": "stream",
     "text": [
      "\n",
      "\n",
      "This is another line numbered 2This is another line numbered 3\n"
     ]
    }
   ],
   "source": [
    "for line in read:\n",
    "    print(\"\\n\")\n",
    "    print(line)"
   ]
  },
  {
   "cell_type": "code",
   "execution_count": 49,
   "metadata": {},
   "outputs": [],
   "source": [
    "import os"
   ]
  },
  {
   "cell_type": "code",
   "execution_count": 52,
   "metadata": {},
   "outputs": [],
   "source": [
    "os.remove(\"python_writing\")"
   ]
  },
  {
   "cell_type": "code",
   "execution_count": 51,
   "metadata": {},
   "outputs": [],
   "source": [
    "read.close()"
   ]
  },
  {
   "cell_type": "code",
   "execution_count": 1,
   "metadata": {},
   "outputs": [
    {
     "data": {
      "text/plain": [
       "2"
      ]
     },
     "execution_count": 1,
     "metadata": {},
     "output_type": "execute_result"
    }
   ],
   "source": [
    "def find_factorial(x):\n",
    "    if x == 1:\n",
    "        return 1\n",
    "    else:\n",
    "        return (x * find_factorial(x-1))\n",
    "\n",
    "find_factorial(2)\n",
    "    "
   ]
  },
  {
   "cell_type": "code",
   "execution_count": 2,
   "metadata": {},
   "outputs": [
    {
     "data": {
      "text/plain": [
       "3628800"
      ]
     },
     "execution_count": 2,
     "metadata": {},
     "output_type": "execute_result"
    }
   ],
   "source": [
    "find_factorial(10)"
   ]
  },
  {
   "cell_type": "code",
   "execution_count": 3,
   "metadata": {},
   "outputs": [],
   "source": [
    "square = lambda x: x**x"
   ]
  },
  {
   "cell_type": "code",
   "execution_count": 4,
   "metadata": {},
   "outputs": [
    {
     "data": {
      "text/plain": [
       "4"
      ]
     },
     "execution_count": 4,
     "metadata": {},
     "output_type": "execute_result"
    }
   ],
   "source": [
    "square(2)"
   ]
  },
  {
   "cell_type": "code",
   "execution_count": 5,
   "metadata": {},
   "outputs": [
    {
     "ename": "SyntaxError",
     "evalue": "invalid syntax (<ipython-input-5-f7b28855bf69>, line 1)",
     "output_type": "error",
     "traceback": [
      "\u001b[1;36m  File \u001b[1;32m\"<ipython-input-5-f7b28855bf69>\"\u001b[1;36m, line \u001b[1;32m1\u001b[0m\n\u001b[1;33m    numbers = for i in range(1,11)\u001b[0m\n\u001b[1;37m                ^\u001b[0m\n\u001b[1;31mSyntaxError\u001b[0m\u001b[1;31m:\u001b[0m invalid syntax\n"
     ]
    }
   ],
   "source": [
    "numbers = for i in range(1,11)"
   ]
  },
  {
   "cell_type": "code",
   "execution_count": 6,
   "metadata": {},
   "outputs": [
    {
     "ename": "SyntaxError",
     "evalue": "invalid syntax (<ipython-input-6-dfac5a7036c2>, line 1)",
     "output_type": "error",
     "traceback": [
      "\u001b[1;36m  File \u001b[1;32m\"<ipython-input-6-dfac5a7036c2>\"\u001b[1;36m, line \u001b[1;32m1\u001b[0m\n\u001b[1;33m    numbers = [for i in range(1,11)]\u001b[0m\n\u001b[1;37m                 ^\u001b[0m\n\u001b[1;31mSyntaxError\u001b[0m\u001b[1;31m:\u001b[0m invalid syntax\n"
     ]
    }
   ],
   "source": [
    "numbers = [for i in range(1,11)]"
   ]
  },
  {
   "cell_type": "code",
   "execution_count": 7,
   "metadata": {},
   "outputs": [
    {
     "name": "stdout",
     "output_type": "stream",
     "text": [
      "1\n",
      "2\n",
      "3\n",
      "4\n",
      "5\n",
      "6\n",
      "7\n",
      "8\n",
      "9\n",
      "10\n"
     ]
    }
   ],
   "source": [
    "for i in range(1, 11):\n",
    "    print(i)"
   ]
  },
  {
   "cell_type": "code",
   "execution_count": 8,
   "metadata": {},
   "outputs": [],
   "source": [
    "number = i in range(1, 11)"
   ]
  },
  {
   "cell_type": "code",
   "execution_count": 9,
   "metadata": {},
   "outputs": [
    {
     "name": "stdout",
     "output_type": "stream",
     "text": [
      "True\n"
     ]
    }
   ],
   "source": [
    "print(number)"
   ]
  },
  {
   "cell_type": "code",
   "execution_count": 10,
   "metadata": {},
   "outputs": [
    {
     "ename": "TypeError",
     "evalue": "'bool' object is not iterable",
     "output_type": "error",
     "traceback": [
      "\u001b[1;31m---------------------------------------------------------------------------\u001b[0m",
      "\u001b[1;31mTypeError\u001b[0m                                 Traceback (most recent call last)",
      "\u001b[1;32m<ipython-input-10-c494f4f81075>\u001b[0m in \u001b[0;36m<module>\u001b[1;34m()\u001b[0m\n\u001b[1;32m----> 1\u001b[1;33m \u001b[1;32mfor\u001b[0m \u001b[0mi\u001b[0m \u001b[1;32min\u001b[0m \u001b[0mnumber\u001b[0m\u001b[1;33m:\u001b[0m\u001b[1;33m\u001b[0m\u001b[0m\n\u001b[0m\u001b[0;32m      2\u001b[0m     \u001b[0mprint\u001b[0m\u001b[1;33m(\u001b[0m\u001b[0mi\u001b[0m\u001b[1;33m)\u001b[0m\u001b[1;33m\u001b[0m\u001b[0m\n",
      "\u001b[1;31mTypeError\u001b[0m: 'bool' object is not iterable"
     ]
    }
   ],
   "source": [
    "for i in number:\n",
    "    print(i)"
   ]
  },
  {
   "cell_type": "code",
   "execution_count": 11,
   "metadata": {},
   "outputs": [
    {
     "ename": "SyntaxError",
     "evalue": "invalid syntax (<ipython-input-11-91c6f6287707>, line 1)",
     "output_type": "error",
     "traceback": [
      "\u001b[1;36m  File \u001b[1;32m\"<ipython-input-11-91c6f6287707>\"\u001b[1;36m, line \u001b[1;32m1\u001b[0m\n\u001b[1;33m    number =  enumerate i in range(1, 11)\u001b[0m\n\u001b[1;37m                        ^\u001b[0m\n\u001b[1;31mSyntaxError\u001b[0m\u001b[1;31m:\u001b[0m invalid syntax\n"
     ]
    }
   ],
   "source": [
    "number =  enumerate i in range(1, 11)"
   ]
  },
  {
   "cell_type": "code",
   "execution_count": 12,
   "metadata": {},
   "outputs": [],
   "source": [
    "my_list = [1, 2, 3, 4, 5, 6, 7, 8, 11]"
   ]
  },
  {
   "cell_type": "code",
   "execution_count": 13,
   "metadata": {},
   "outputs": [
    {
     "name": "stdout",
     "output_type": "stream",
     "text": [
      "[1, 2, 3, 4, 5, 6, 7, 8, 11]\n"
     ]
    }
   ],
   "source": [
    "print(my_list)"
   ]
  },
  {
   "cell_type": "code",
   "execution_count": 14,
   "metadata": {},
   "outputs": [
    {
     "ename": "TypeError",
     "evalue": "filter expected 2 arguments, got 1",
     "output_type": "error",
     "traceback": [
      "\u001b[1;31m---------------------------------------------------------------------------\u001b[0m",
      "\u001b[1;31mTypeError\u001b[0m                                 Traceback (most recent call last)",
      "\u001b[1;32m<ipython-input-14-ced8843c13dd>\u001b[0m in \u001b[0;36m<module>\u001b[1;34m()\u001b[0m\n\u001b[1;32m----> 1\u001b[1;33m \u001b[0modd_list\u001b[0m \u001b[1;33m=\u001b[0m \u001b[0mlist\u001b[0m\u001b[1;33m(\u001b[0m\u001b[0mfilter\u001b[0m\u001b[1;33m(\u001b[0m\u001b[1;32mlambda\u001b[0m \u001b[0mx\u001b[0m\u001b[1;33m:\u001b[0m \u001b[1;33m(\u001b[0m\u001b[0mx\u001b[0m\u001b[1;33m%\u001b[0m\u001b[1;36m2\u001b[0m \u001b[1;33m!=\u001b[0m\u001b[1;36m0\u001b[0m\u001b[1;33m,\u001b[0m \u001b[0mmy_list\u001b[0m\u001b[1;33m)\u001b[0m\u001b[1;33m)\u001b[0m\u001b[1;33m)\u001b[0m\u001b[1;33m\u001b[0m\u001b[0m\n\u001b[0m",
      "\u001b[1;31mTypeError\u001b[0m: filter expected 2 arguments, got 1"
     ]
    }
   ],
   "source": [
    "odd_list = list(filter(lambda x: (x%2 !=0, my_list)))"
   ]
  },
  {
   "cell_type": "code",
   "execution_count": 15,
   "metadata": {},
   "outputs": [
    {
     "ename": "SyntaxError",
     "evalue": "invalid syntax (<ipython-input-15-39ad734aa427>, line 1)",
     "output_type": "error",
     "traceback": [
      "\u001b[1;36m  File \u001b[1;32m\"<ipython-input-15-39ad734aa427>\"\u001b[1;36m, line \u001b[1;32m1\u001b[0m\n\u001b[1;33m    odd_list = list(filter(lambda x: (x%2 !=0), my_list)))\u001b[0m\n\u001b[1;37m                                                         ^\u001b[0m\n\u001b[1;31mSyntaxError\u001b[0m\u001b[1;31m:\u001b[0m invalid syntax\n"
     ]
    }
   ],
   "source": [
    "odd_list = list(filter(lambda x: (x%2 !=0), my_list)))"
   ]
  },
  {
   "cell_type": "code",
   "execution_count": 16,
   "metadata": {},
   "outputs": [],
   "source": [
    "odd_list = list(filter(lambda x: (x%2 !=0), my_list))"
   ]
  },
  {
   "cell_type": "code",
   "execution_count": 17,
   "metadata": {},
   "outputs": [
    {
     "name": "stdout",
     "output_type": "stream",
     "text": [
      "[1, 3, 5, 7, 11]\n"
     ]
    }
   ],
   "source": [
    "print(odd_list)"
   ]
  },
  {
   "cell_type": "code",
   "execution_count": 18,
   "metadata": {},
   "outputs": [],
   "source": [
    "list2 = [1,2,3,4,5,6,7,8,9,10]"
   ]
  },
  {
   "cell_type": "code",
   "execution_count": 19,
   "metadata": {},
   "outputs": [],
   "source": [
    "even_nums = list(filter(lambda x: (x%2 == 0), list2))"
   ]
  },
  {
   "cell_type": "code",
   "execution_count": 20,
   "metadata": {},
   "outputs": [
    {
     "name": "stdout",
     "output_type": "stream",
     "text": [
      "[2, 4, 6, 8, 10]\n"
     ]
    }
   ],
   "source": [
    "print(even_nums)"
   ]
  },
  {
   "cell_type": "code",
   "execution_count": 21,
   "metadata": {},
   "outputs": [],
   "source": [
    "list3 = [1,2,3,4,5]"
   ]
  },
  {
   "cell_type": "code",
   "execution_count": 26,
   "metadata": {},
   "outputs": [],
   "source": [
    "list_square= list(map((lambda x: x**2), list3))"
   ]
  },
  {
   "cell_type": "code",
   "execution_count": 27,
   "metadata": {},
   "outputs": [
    {
     "name": "stdout",
     "output_type": "stream",
     "text": [
      "[1, 4, 9, 16, 25]\n"
     ]
    }
   ],
   "source": [
    "print(list_square)"
   ]
  },
  {
   "cell_type": "code",
   "execution_count": 28,
   "metadata": {},
   "outputs": [],
   "source": [
    "import requests"
   ]
  },
  {
   "cell_type": "code",
   "execution_count": 29,
   "metadata": {},
   "outputs": [],
   "source": [
    "r = requests.get(\"http://www.google.com\")"
   ]
  },
  {
   "cell_type": "code",
   "execution_count": 30,
   "metadata": {},
   "outputs": [
    {
     "name": "stdout",
     "output_type": "stream",
     "text": [
      "<Response [200]>\n"
     ]
    }
   ],
   "source": [
    "print(r)"
   ]
  },
  {
   "cell_type": "code",
   "execution_count": 31,
   "metadata": {},
   "outputs": [
    {
     "data": {
      "text/plain": [
       "200"
      ]
     },
     "execution_count": 31,
     "metadata": {},
     "output_type": "execute_result"
    }
   ],
   "source": [
    "r.status_code"
   ]
  },
  {
   "cell_type": "code",
   "execution_count": 163,
   "metadata": {},
   "outputs": [
    {
     "name": "stdout",
     "output_type": "stream",
     "text": [
      "nothing\n"
     ]
    }
   ],
   "source": [
    "print('nothing')"
   ]
  },
  {
   "cell_type": "code",
   "execution_count": 167,
   "metadata": {},
   "outputs": [],
   "source": [
    "import os"
   ]
  },
  {
   "cell_type": "code",
   "execution_count": 168,
   "metadata": {},
   "outputs": [
    {
     "ename": "TypeError",
     "evalue": "walk() missing 1 required positional argument: 'top'",
     "output_type": "error",
     "traceback": [
      "\u001b[1;31m---------------------------------------------------------------------------\u001b[0m",
      "\u001b[1;31mTypeError\u001b[0m                                 Traceback (most recent call last)",
      "\u001b[1;32m<ipython-input-168-7f906606989b>\u001b[0m in \u001b[0;36m<module>\u001b[1;34m()\u001b[0m\n\u001b[1;32m----> 1\u001b[1;33m \u001b[0mos\u001b[0m\u001b[1;33m.\u001b[0m\u001b[0mwalk\u001b[0m\u001b[1;33m(\u001b[0m\u001b[1;33m)\u001b[0m\u001b[1;33m\u001b[0m\u001b[0m\n\u001b[0m",
      "\u001b[1;31mTypeError\u001b[0m: walk() missing 1 required positional argument: 'top'"
     ]
    }
   ],
   "source": [
    "os.walk()"
   ]
  },
  {
   "cell_type": "code",
   "execution_count": 169,
   "metadata": {},
   "outputs": [
    {
     "data": {
      "text/plain": [
       "<generator object walk at 0x000002A27BD4D8B8>"
      ]
     },
     "execution_count": 169,
     "metadata": {},
     "output_type": "execute_result"
    }
   ],
   "source": [
    "os.walk(\"c:\")"
   ]
  },
  {
   "cell_type": "code",
   "execution_count": null,
   "metadata": {},
   "outputs": [],
   "source": [
    "for item in os.walk(\"c:\\Deepak\\git\"):\n",
    "    print(item)"
   ]
  },
  {
   "cell_type": "code",
   "execution_count": 37,
   "metadata": {},
   "outputs": [
    {
     "data": {
      "text/plain": [
       "1"
      ]
     },
     "execution_count": 37,
     "metadata": {},
     "output_type": "execute_result"
    }
   ],
   "source": [
    "os.system(\"ls -l\")"
   ]
  },
  {
   "cell_type": "code",
   "execution_count": 38,
   "metadata": {},
   "outputs": [
    {
     "name": "stdout",
     "output_type": "stream",
     "text": [
      "1\n"
     ]
    }
   ],
   "source": [
    "print(os.systemmmm(\"ls -l\"))"
   ]
  },
  {
   "cell_type": "code",
   "execution_count": 39,
   "metadata": {},
   "outputs": [],
   "source": [
    "path = \"c:/Windows\""
   ]
  },
  {
   "cell_type": "code",
   "execution_count": 40,
   "metadata": {},
   "outputs": [
    {
     "ename": "AttributeError",
     "evalue": "module 'os' has no attribute 'isdir'",
     "output_type": "error",
     "traceback": [
      "\u001b[1;31m---------------------------------------------------------------------------\u001b[0m",
      "\u001b[1;31mAttributeError\u001b[0m                            Traceback (most recent call last)",
      "\u001b[1;32m<ipython-input-40-4e3f4a55753a>\u001b[0m in \u001b[0;36m<module>\u001b[1;34m()\u001b[0m\n\u001b[1;32m----> 1\u001b[1;33m \u001b[0mos\u001b[0m\u001b[1;33m.\u001b[0m\u001b[0misdir\u001b[0m\u001b[1;33m(\u001b[0m\u001b[0mpath\u001b[0m\u001b[1;33m)\u001b[0m\u001b[1;33m\u001b[0m\u001b[0m\n\u001b[0m",
      "\u001b[1;31mAttributeError\u001b[0m: module 'os' has no attribute 'isdir'"
     ]
    }
   ],
   "source": [
    "os.isdir(path)"
   ]
  },
  {
   "cell_type": "code",
   "execution_count": null,
   "metadata": {},
   "outputs": [],
   "source": [
    "os.path.isdir(path)"
   ]
  },
  {
   "cell_type": "code",
   "execution_count": null,
   "metadata": {},
   "outputs": [],
   "source": [
    "os.makedir(\"test\")"
   ]
  },
  {
   "cell_type": "code",
   "execution_count": null,
   "metadata": {},
   "outputs": [],
   "source": [
    "import os"
   ]
  },
  {
   "cell_type": "code",
   "execution_count": null,
   "metadata": {},
   "outputs": [],
   "source": [
    "os.dir"
   ]
  },
  {
   "cell_type": "code",
   "execution_count": 41,
   "metadata": {},
   "outputs": [
    {
     "ename": "SyntaxError",
     "evalue": "can't assign to operator (<ipython-input-41-b75610f4b0bd>, line 1)",
     "output_type": "error",
     "traceback": [
      "\u001b[1;36m  File \u001b[1;32m\"<ipython-input-41-b75610f4b0bd>\"\u001b[1;36m, line \u001b[1;32m1\u001b[0m\n\u001b[1;33m    list_of_squares = [num for num*2 in range(1, 11)]\u001b[0m\n\u001b[1;37m                              ^\u001b[0m\n\u001b[1;31mSyntaxError\u001b[0m\u001b[1;31m:\u001b[0m can't assign to operator\n"
     ]
    }
   ],
   "source": [
    "list_of_squares = [num for num*2 in range(1, 11)]"
   ]
  },
  {
   "cell_type": "code",
   "execution_count": 42,
   "metadata": {},
   "outputs": [],
   "source": [
    "list_of_squares = [num**2 for num in range(1, 11)]"
   ]
  },
  {
   "cell_type": "code",
   "execution_count": 43,
   "metadata": {},
   "outputs": [
    {
     "name": "stdout",
     "output_type": "stream",
     "text": [
      "[1, 4, 9, 16, 25, 36, 49, 64, 81, 100]\n"
     ]
    }
   ],
   "source": [
    "print(list_of_squares)"
   ]
  },
  {
   "cell_type": "code",
   "execution_count": 44,
   "metadata": {},
   "outputs": [
    {
     "ename": "SyntaxError",
     "evalue": "invalid syntax (<ipython-input-44-536d1544ac39>, line 1)",
     "output_type": "error",
     "traceback": [
      "\u001b[1;36m  File \u001b[1;32m\"<ipython-input-44-536d1544ac39>\"\u001b[1;36m, line \u001b[1;32m1\u001b[0m\n\u001b[1;33m    letters = list(map(lambda x : x), 'string is this'))\u001b[0m\n\u001b[1;37m                                                       ^\u001b[0m\n\u001b[1;31mSyntaxError\u001b[0m\u001b[1;31m:\u001b[0m invalid syntax\n"
     ]
    }
   ],
   "source": [
    "letters = list(map(lambda x : x), 'string is this'))"
   ]
  },
  {
   "cell_type": "code",
   "execution_count": 45,
   "metadata": {},
   "outputs": [],
   "source": [
    "letters = list(map((lambda x : x), 'string is this'))"
   ]
  },
  {
   "cell_type": "code",
   "execution_count": 46,
   "metadata": {},
   "outputs": [
    {
     "name": "stdout",
     "output_type": "stream",
     "text": [
      "['s', 't', 'r', 'i', 'n', 'g', ' ', 'i', 's', ' ', 't', 'h', 'i', 's']\n"
     ]
    }
   ],
   "source": [
    "print(letters)"
   ]
  },
  {
   "cell_type": "code",
   "execution_count": 47,
   "metadata": {},
   "outputs": [
    {
     "ename": "TypeError",
     "evalue": "map() must have at least two arguments.",
     "output_type": "error",
     "traceback": [
      "\u001b[1;31m---------------------------------------------------------------------------\u001b[0m",
      "\u001b[1;31mTypeError\u001b[0m                                 Traceback (most recent call last)",
      "\u001b[1;32m<ipython-input-47-12d37554fba1>\u001b[0m in \u001b[0;36m<module>\u001b[1;34m()\u001b[0m\n\u001b[1;32m----> 1\u001b[1;33m \u001b[0msquares_lambda\u001b[0m \u001b[1;33m=\u001b[0m \u001b[0mlist\u001b[0m\u001b[1;33m(\u001b[0m\u001b[0mmap\u001b[0m\u001b[1;33m(\u001b[0m\u001b[1;32mlambda\u001b[0m \u001b[0mx\u001b[0m\u001b[1;33m:\u001b[0m \u001b[0mx\u001b[0m\u001b[1;33m**\u001b[0m\u001b[1;36m2\u001b[0m\u001b[1;33m)\u001b[0m\u001b[1;33m,\u001b[0m \u001b[0mrange\u001b[0m\u001b[1;33m(\u001b[0m\u001b[1;36m10\u001b[0m\u001b[1;33m)\u001b[0m\u001b[1;33m)\u001b[0m\u001b[1;33m\u001b[0m\u001b[0m\n\u001b[0m",
      "\u001b[1;31mTypeError\u001b[0m: map() must have at least two arguments."
     ]
    }
   ],
   "source": [
    "squares_lambda = list(map(lambda x: x**2), range(10))"
   ]
  },
  {
   "cell_type": "code",
   "execution_count": 48,
   "metadata": {},
   "outputs": [
    {
     "ename": "SyntaxError",
     "evalue": "invalid syntax (<ipython-input-48-eb4a3594b8e6>, line 1)",
     "output_type": "error",
     "traceback": [
      "\u001b[1;36m  File \u001b[1;32m\"<ipython-input-48-eb4a3594b8e6>\"\u001b[1;36m, line \u001b[1;32m1\u001b[0m\n\u001b[1;33m    squares_lambda = list(map(lambda x: x**2), range(10)))\u001b[0m\n\u001b[1;37m                                                         ^\u001b[0m\n\u001b[1;31mSyntaxError\u001b[0m\u001b[1;31m:\u001b[0m invalid syntax\n"
     ]
    }
   ],
   "source": [
    "squares_lambda = list(map(lambda x: x**2), range(10)))"
   ]
  },
  {
   "cell_type": "code",
   "execution_count": 49,
   "metadata": {},
   "outputs": [
    {
     "ename": "SyntaxError",
     "evalue": "unexpected EOF while parsing (<ipython-input-49-92429842c7d3>, line 1)",
     "output_type": "error",
     "traceback": [
      "\u001b[1;36m  File \u001b[1;32m\"<ipython-input-49-92429842c7d3>\"\u001b[1;36m, line \u001b[1;32m1\u001b[0m\n\u001b[1;33m    squares_lambda = list(map((lambda x: x**2), range(10))\u001b[0m\n\u001b[1;37m                                                          ^\u001b[0m\n\u001b[1;31mSyntaxError\u001b[0m\u001b[1;31m:\u001b[0m unexpected EOF while parsing\n"
     ]
    }
   ],
   "source": [
    "squares_lambda = list(map((lambda x: x**2), range(10))"
   ]
  },
  {
   "cell_type": "code",
   "execution_count": 50,
   "metadata": {},
   "outputs": [
    {
     "ename": "SyntaxError",
     "evalue": "invalid syntax (<ipython-input-50-18c9c617234d>, line 1)",
     "output_type": "error",
     "traceback": [
      "\u001b[1;36m  File \u001b[1;32m\"<ipython-input-50-18c9c617234d>\"\u001b[1;36m, line \u001b[1;32m1\u001b[0m\n\u001b[1;33m    squares_lambda = list(map((lambda x: x**2), range(10))))\u001b[0m\n\u001b[1;37m                                                           ^\u001b[0m\n\u001b[1;31mSyntaxError\u001b[0m\u001b[1;31m:\u001b[0m invalid syntax\n"
     ]
    }
   ],
   "source": [
    "squares_lambda = list(map((lambda x: x**2), range(10))))"
   ]
  },
  {
   "cell_type": "code",
   "execution_count": 57,
   "metadata": {},
   "outputs": [],
   "source": [
    "squares_lambda = list(map(lambda x: x**3, range(1,26,2)))"
   ]
  },
  {
   "cell_type": "code",
   "execution_count": 58,
   "metadata": {},
   "outputs": [
    {
     "name": "stdout",
     "output_type": "stream",
     "text": [
      "[1, 27, 125, 343, 729, 1331, 2197, 3375, 4913, 6859, 9261, 12167, 15625]\n"
     ]
    }
   ],
   "source": [
    "print(squares_lambda)"
   ]
  },
  {
   "cell_type": "code",
   "execution_count": 3,
   "metadata": {},
   "outputs": [
    {
     "data": {
      "text/plain": [
       "0.5"
      ]
     },
     "execution_count": 3,
     "metadata": {},
     "output_type": "execute_result"
    }
   ],
   "source": [
    "1/2"
   ]
  },
  {
   "cell_type": "code",
   "execution_count": 4,
   "metadata": {},
   "outputs": [
    {
     "data": {
      "text/plain": [
       "0"
      ]
     },
     "execution_count": 4,
     "metadata": {},
     "output_type": "execute_result"
    }
   ],
   "source": [
    "1//2"
   ]
  },
  {
   "cell_type": "code",
   "execution_count": 5,
   "metadata": {},
   "outputs": [
    {
     "data": {
      "text/plain": [
       "0.5"
      ]
     },
     "execution_count": 5,
     "metadata": {},
     "output_type": "execute_result"
    }
   ],
   "source": [
    "1.0/2"
   ]
  },
  {
   "cell_type": "code",
   "execution_count": 6,
   "metadata": {},
   "outputs": [
    {
     "data": {
      "text/plain": [
       "0.0"
      ]
     },
     "execution_count": 6,
     "metadata": {},
     "output_type": "execute_result"
    }
   ],
   "source": [
    "1.5//2"
   ]
  },
  {
   "cell_type": "code",
   "execution_count": 8,
   "metadata": {},
   "outputs": [
    {
     "data": {
      "text/plain": [
       "0.75"
      ]
     },
     "execution_count": 8,
     "metadata": {},
     "output_type": "execute_result"
    }
   ],
   "source": [
    "1.5/2"
   ]
  },
  {
   "cell_type": "code",
   "execution_count": 10,
   "metadata": {},
   "outputs": [
    {
     "data": {
      "text/plain": [
       "512"
      ]
     },
     "execution_count": 10,
     "metadata": {},
     "output_type": "execute_result"
    }
   ],
   "source": [
    "2**9"
   ]
  },
  {
   "cell_type": "code",
   "execution_count": 13,
   "metadata": {},
   "outputs": [],
   "source": [
    "a = 2\n",
    "b = 3"
   ]
  },
  {
   "cell_type": "code",
   "execution_count": 15,
   "metadata": {},
   "outputs": [
    {
     "data": {
      "text/plain": [
       "True"
      ]
     },
     "execution_count": 15,
     "metadata": {},
     "output_type": "execute_result"
    }
   ],
   "source": [
    "a!=b"
   ]
  },
  {
   "cell_type": "code",
   "execution_count": 20,
   "metadata": {},
   "outputs": [
    {
     "data": {
      "text/plain": [
       "False"
      ]
     },
     "execution_count": 20,
     "metadata": {},
     "output_type": "execute_result"
    }
   ],
   "source": [
    "a !=5 and b!=3"
   ]
  },
  {
   "cell_type": "code",
   "execution_count": 21,
   "metadata": {},
   "outputs": [
    {
     "data": {
      "text/plain": [
       "False"
      ]
     },
     "execution_count": 21,
     "metadata": {},
     "output_type": "execute_result"
    }
   ],
   "source": [
    "a == 5 and b==3"
   ]
  },
  {
   "cell_type": "code",
   "execution_count": 22,
   "metadata": {},
   "outputs": [
    {
     "data": {
      "text/plain": [
       "2"
      ]
     },
     "execution_count": 22,
     "metadata": {},
     "output_type": "execute_result"
    }
   ],
   "source": [
    "True + 1"
   ]
  },
  {
   "cell_type": "code",
   "execution_count": 23,
   "metadata": {},
   "outputs": [
    {
     "data": {
      "text/plain": [
       "1"
      ]
     },
     "execution_count": 23,
     "metadata": {},
     "output_type": "execute_result"
    }
   ],
   "source": [
    "False + True"
   ]
  },
  {
   "cell_type": "code",
   "execution_count": 24,
   "metadata": {},
   "outputs": [
    {
     "data": {
      "text/plain": [
       "0"
      ]
     },
     "execution_count": 24,
     "metadata": {},
     "output_type": "execute_result"
    }
   ],
   "source": [
    "True - True"
   ]
  },
  {
   "cell_type": "code",
   "execution_count": 25,
   "metadata": {},
   "outputs": [
    {
     "data": {
      "text/plain": [
       "True"
      ]
     },
     "execution_count": 25,
     "metadata": {},
     "output_type": "execute_result"
    }
   ],
   "source": [
    "True == True"
   ]
  },
  {
   "cell_type": "code",
   "execution_count": 26,
   "metadata": {},
   "outputs": [
    {
     "data": {
      "text/plain": [
       "1"
      ]
     },
     "execution_count": 26,
     "metadata": {},
     "output_type": "execute_result"
    }
   ],
   "source": [
    "int(1)"
   ]
  },
  {
   "cell_type": "code",
   "execution_count": 27,
   "metadata": {},
   "outputs": [
    {
     "data": {
      "text/plain": [
       "True"
      ]
     },
     "execution_count": 27,
     "metadata": {},
     "output_type": "execute_result"
    }
   ],
   "source": [
    "bool(4)"
   ]
  },
  {
   "cell_type": "code",
   "execution_count": 28,
   "metadata": {},
   "outputs": [
    {
     "data": {
      "text/plain": [
       "True"
      ]
     },
     "execution_count": 28,
     "metadata": {},
     "output_type": "execute_result"
    }
   ],
   "source": [
    "bool(1)"
   ]
  },
  {
   "cell_type": "code",
   "execution_count": 29,
   "metadata": {},
   "outputs": [
    {
     "data": {
      "text/plain": [
       "'1'"
      ]
     },
     "execution_count": 29,
     "metadata": {},
     "output_type": "execute_result"
    }
   ],
   "source": [
    "str(1)"
   ]
  },
  {
   "cell_type": "code",
   "execution_count": 30,
   "metadata": {},
   "outputs": [
    {
     "data": {
      "text/plain": [
       "1.0"
      ]
     },
     "execution_count": 30,
     "metadata": {},
     "output_type": "execute_result"
    }
   ],
   "source": [
    "float(1)"
   ]
  },
  {
   "cell_type": "code",
   "execution_count": 32,
   "metadata": {},
   "outputs": [
    {
     "data": {
      "text/plain": [
       "False"
      ]
     },
     "execution_count": 32,
     "metadata": {},
     "output_type": "execute_result"
    }
   ],
   "source": [
    "a is b"
   ]
  },
  {
   "cell_type": "code",
   "execution_count": 33,
   "metadata": {},
   "outputs": [
    {
     "data": {
      "text/plain": [
       "True"
      ]
     },
     "execution_count": 33,
     "metadata": {},
     "output_type": "execute_result"
    }
   ],
   "source": [
    "a is a"
   ]
  },
  {
   "cell_type": "code",
   "execution_count": 34,
   "metadata": {},
   "outputs": [],
   "source": [
    "a  = b"
   ]
  },
  {
   "cell_type": "code",
   "execution_count": 35,
   "metadata": {},
   "outputs": [
    {
     "data": {
      "text/plain": [
       "3"
      ]
     },
     "execution_count": 35,
     "metadata": {},
     "output_type": "execute_result"
    }
   ],
   "source": [
    "a"
   ]
  },
  {
   "cell_type": "code",
   "execution_count": 36,
   "metadata": {},
   "outputs": [
    {
     "data": {
      "text/plain": [
       "3"
      ]
     },
     "execution_count": 36,
     "metadata": {},
     "output_type": "execute_result"
    }
   ],
   "source": [
    "b"
   ]
  },
  {
   "cell_type": "code",
   "execution_count": 37,
   "metadata": {},
   "outputs": [
    {
     "data": {
      "text/plain": [
       "True"
      ]
     },
     "execution_count": 37,
     "metadata": {},
     "output_type": "execute_result"
    }
   ],
   "source": [
    "a is b"
   ]
  },
  {
   "cell_type": "code",
   "execution_count": 38,
   "metadata": {},
   "outputs": [],
   "source": [
    "b = a"
   ]
  },
  {
   "cell_type": "code",
   "execution_count": 39,
   "metadata": {},
   "outputs": [
    {
     "data": {
      "text/plain": [
       "True"
      ]
     },
     "execution_count": 39,
     "metadata": {},
     "output_type": "execute_result"
    }
   ],
   "source": [
    "a is b"
   ]
  },
  {
   "cell_type": "code",
   "execution_count": 40,
   "metadata": {},
   "outputs": [
    {
     "data": {
      "text/plain": [
       "True"
      ]
     },
     "execution_count": 40,
     "metadata": {},
     "output_type": "execute_result"
    }
   ],
   "source": [
    "b is a"
   ]
  },
  {
   "cell_type": "code",
   "execution_count": 41,
   "metadata": {},
   "outputs": [],
   "source": [
    "a = [1,2,3,4]"
   ]
  },
  {
   "cell_type": "code",
   "execution_count": 42,
   "metadata": {},
   "outputs": [],
   "source": [
    "b = [1,2,3,4]"
   ]
  },
  {
   "cell_type": "code",
   "execution_count": 43,
   "metadata": {},
   "outputs": [
    {
     "data": {
      "text/plain": [
       "False"
      ]
     },
     "execution_count": 43,
     "metadata": {},
     "output_type": "execute_result"
    }
   ],
   "source": [
    "a is b"
   ]
  },
  {
   "cell_type": "code",
   "execution_count": 44,
   "metadata": {},
   "outputs": [
    {
     "data": {
      "text/plain": [
       "True"
      ]
     },
     "execution_count": 44,
     "metadata": {},
     "output_type": "execute_result"
    }
   ],
   "source": [
    "a == b"
   ]
  },
  {
   "cell_type": "code",
   "execution_count": 45,
   "metadata": {},
   "outputs": [],
   "source": [
    "a = \"This is a string\""
   ]
  },
  {
   "cell_type": "code",
   "execution_count": 46,
   "metadata": {},
   "outputs": [],
   "source": [
    "b = \"This is a string\""
   ]
  },
  {
   "cell_type": "code",
   "execution_count": 47,
   "metadata": {},
   "outputs": [
    {
     "data": {
      "text/plain": [
       "False"
      ]
     },
     "execution_count": 47,
     "metadata": {},
     "output_type": "execute_result"
    }
   ],
   "source": [
    "a is b"
   ]
  },
  {
   "cell_type": "code",
   "execution_count": 48,
   "metadata": {},
   "outputs": [
    {
     "data": {
      "text/plain": [
       "True"
      ]
     },
     "execution_count": 48,
     "metadata": {},
     "output_type": "execute_result"
    }
   ],
   "source": [
    "a == b"
   ]
  },
  {
   "cell_type": "code",
   "execution_count": 49,
   "metadata": {},
   "outputs": [],
   "source": [
    "a = b"
   ]
  },
  {
   "cell_type": "code",
   "execution_count": 50,
   "metadata": {},
   "outputs": [
    {
     "data": {
      "text/plain": [
       "True"
      ]
     },
     "execution_count": 50,
     "metadata": {},
     "output_type": "execute_result"
    }
   ],
   "source": [
    "a is b"
   ]
  },
  {
   "cell_type": "code",
   "execution_count": 51,
   "metadata": {},
   "outputs": [
    {
     "data": {
      "text/plain": [
       "True"
      ]
     },
     "execution_count": 51,
     "metadata": {},
     "output_type": "execute_result"
    }
   ],
   "source": [
    "a == b"
   ]
  },
  {
   "cell_type": "code",
   "execution_count": 52,
   "metadata": {},
   "outputs": [],
   "source": [
    "a = \"asdf\" \"asdf\""
   ]
  },
  {
   "cell_type": "code",
   "execution_count": 53,
   "metadata": {},
   "outputs": [
    {
     "data": {
      "text/plain": [
       "'asdfasdf'"
      ]
     },
     "execution_count": 53,
     "metadata": {},
     "output_type": "execute_result"
    }
   ],
   "source": [
    "a"
   ]
  },
  {
   "cell_type": "code",
   "execution_count": 54,
   "metadata": {},
   "outputs": [
    {
     "data": {
      "text/plain": [
       "'a'"
      ]
     },
     "execution_count": 54,
     "metadata": {},
     "output_type": "execute_result"
    }
   ],
   "source": [
    "a[0]"
   ]
  },
  {
   "cell_type": "code",
   "execution_count": 55,
   "metadata": {},
   "outputs": [
    {
     "data": {
      "text/plain": [
       "'f'"
      ]
     },
     "execution_count": 55,
     "metadata": {},
     "output_type": "execute_result"
    }
   ],
   "source": [
    "a[-1]"
   ]
  },
  {
   "cell_type": "code",
   "execution_count": 57,
   "metadata": {},
   "outputs": [
    {
     "data": {
      "text/plain": [
       "'asdfasd'"
      ]
     },
     "execution_count": 57,
     "metadata": {},
     "output_type": "execute_result"
    }
   ],
   "source": [
    "a[0:-1]"
   ]
  },
  {
   "cell_type": "code",
   "execution_count": 58,
   "metadata": {},
   "outputs": [
    {
     "data": {
      "text/plain": [
       "''"
      ]
     },
     "execution_count": 58,
     "metadata": {},
     "output_type": "execute_result"
    }
   ],
   "source": [
    "a[-1:0]"
   ]
  },
  {
   "cell_type": "code",
   "execution_count": 62,
   "metadata": {},
   "outputs": [
    {
     "data": {
      "text/plain": [
       "''"
      ]
     },
     "execution_count": 62,
     "metadata": {},
     "output_type": "execute_result"
    }
   ],
   "source": [
    "a[:-1:-1]"
   ]
  },
  {
   "cell_type": "code",
   "execution_count": 67,
   "metadata": {},
   "outputs": [],
   "source": [
    "# string formatting\n",
    "formatted = \"first_name:{} last_name:{}\".format(\"Deepak\", \"Mishra\")"
   ]
  },
  {
   "cell_type": "code",
   "execution_count": 68,
   "metadata": {},
   "outputs": [
    {
     "data": {
      "text/plain": [
       "'first_name:Deepak last_name:Mishra'"
      ]
     },
     "execution_count": 68,
     "metadata": {},
     "output_type": "execute_result"
    }
   ],
   "source": [
    "formatted"
   ]
  },
  {
   "cell_type": "code",
   "execution_count": 69,
   "metadata": {},
   "outputs": [
    {
     "data": {
      "text/plain": [
       "34"
      ]
     },
     "execution_count": 69,
     "metadata": {},
     "output_type": "execute_result"
    }
   ],
   "source": [
    "len(formatted)"
   ]
  },
  {
   "cell_type": "code",
   "execution_count": 81,
   "metadata": {},
   "outputs": [],
   "source": [
    "a = \"z234sdfds\""
   ]
  },
  {
   "cell_type": "code",
   "execution_count": 76,
   "metadata": {},
   "outputs": [
    {
     "data": {
      "text/plain": [
       "'4234sdfds'"
      ]
     },
     "execution_count": 76,
     "metadata": {},
     "output_type": "execute_result"
    }
   ],
   "source": [
    "str(a)"
   ]
  },
  {
   "cell_type": "code",
   "execution_count": 84,
   "metadata": {},
   "outputs": [
    {
     "data": {
      "text/plain": [
       "'z234sdfds'"
      ]
     },
     "execution_count": 84,
     "metadata": {},
     "output_type": "execute_result"
    }
   ],
   "source": [
    "b =a.capitalize\n",
    "a"
   ]
  },
  {
   "cell_type": "code",
   "execution_count": 85,
   "metadata": {},
   "outputs": [
    {
     "data": {
      "text/plain": [
       "<function str.capitalize()>"
      ]
     },
     "execution_count": 85,
     "metadata": {},
     "output_type": "execute_result"
    }
   ],
   "source": [
    "b"
   ]
  },
  {
   "cell_type": "code",
   "execution_count": 86,
   "metadata": {},
   "outputs": [
    {
     "data": {
      "text/plain": [
       "'<built-in method capitalize of str object at 0x0000021ED0CD7A70>'"
      ]
     },
     "execution_count": 86,
     "metadata": {},
     "output_type": "execute_result"
    }
   ],
   "source": [
    "str(b)"
   ]
  },
  {
   "cell_type": "code",
   "execution_count": 87,
   "metadata": {},
   "outputs": [
    {
     "data": {
      "text/plain": [
       "False"
      ]
     },
     "execution_count": 87,
     "metadata": {},
     "output_type": "execute_result"
    }
   ],
   "source": [
    "str is b"
   ]
  },
  {
   "cell_type": "code",
   "execution_count": 89,
   "metadata": {},
   "outputs": [],
   "source": [
    "#using f-strings (formatted strings)"
   ]
  },
  {
   "cell_type": "code",
   "execution_count": 90,
   "metadata": {},
   "outputs": [],
   "source": [
    "name = \"Deepak\""
   ]
  },
  {
   "cell_type": "code",
   "execution_count": 91,
   "metadata": {},
   "outputs": [
    {
     "data": {
      "text/plain": [
       "'My name is Deepak'"
      ]
     },
     "execution_count": 91,
     "metadata": {},
     "output_type": "execute_result"
    }
   ],
   "source": [
    "f\"My name is {name}\""
   ]
  },
  {
   "cell_type": "code",
   "execution_count": 93,
   "metadata": {},
   "outputs": [
    {
     "data": {
      "text/plain": [
       "'length of my name is 6'"
      ]
     },
     "execution_count": 93,
     "metadata": {},
     "output_type": "execute_result"
    }
   ],
   "source": [
    "f\"length of my name is {len(name)}\""
   ]
  },
  {
   "cell_type": "code",
   "execution_count": 96,
   "metadata": {},
   "outputs": [
    {
     "data": {
      "text/plain": [
       "False"
      ]
     },
     "execution_count": 96,
     "metadata": {},
     "output_type": "execute_result"
    }
   ],
   "source": [
    "None is not None"
   ]
  },
  {
   "cell_type": "code",
   "execution_count": 97,
   "metadata": {},
   "outputs": [
    {
     "data": {
      "text/plain": [
       "True"
      ]
     },
     "execution_count": 97,
     "metadata": {},
     "output_type": "execute_result"
    }
   ],
   "source": [
    "None is None"
   ]
  },
  {
   "cell_type": "code",
   "execution_count": 98,
   "metadata": {},
   "outputs": [
    {
     "data": {
      "text/plain": [
       "False"
      ]
     },
     "execution_count": 98,
     "metadata": {},
     "output_type": "execute_result"
    }
   ],
   "source": [
    "bool(None)"
   ]
  },
  {
   "cell_type": "code",
   "execution_count": 99,
   "metadata": {},
   "outputs": [
    {
     "data": {
      "text/plain": [
       "True"
      ]
     },
     "execution_count": 99,
     "metadata": {},
     "output_type": "execute_result"
    }
   ],
   "source": [
    "bool(int)"
   ]
  },
  {
   "cell_type": "code",
   "execution_count": 100,
   "metadata": {},
   "outputs": [
    {
     "data": {
      "text/plain": [
       "False"
      ]
     },
     "execution_count": 100,
     "metadata": {},
     "output_type": "execute_result"
    }
   ],
   "source": [
    "bool(0)"
   ]
  },
  {
   "cell_type": "code",
   "execution_count": 101,
   "metadata": {},
   "outputs": [
    {
     "data": {
      "text/plain": [
       "False"
      ]
     },
     "execution_count": 101,
     "metadata": {},
     "output_type": "execute_result"
    }
   ],
   "source": [
    "bool(\"\")"
   ]
  },
  {
   "cell_type": "code",
   "execution_count": 102,
   "metadata": {},
   "outputs": [
    {
     "name": "stdout",
     "output_type": "stream",
     "text": [
      "enter your namedeepak\n"
     ]
    }
   ],
   "source": [
    "str_name = input(\"enter your name\")"
   ]
  },
  {
   "cell_type": "code",
   "execution_count": 103,
   "metadata": {},
   "outputs": [
    {
     "data": {
      "text/plain": [
       "'deepak'"
      ]
     },
     "execution_count": 103,
     "metadata": {},
     "output_type": "execute_result"
    }
   ],
   "source": [
    "str_name"
   ]
  },
  {
   "cell_type": "code",
   "execution_count": 106,
   "metadata": {},
   "outputs": [
    {
     "name": "stdout",
     "output_type": "stream",
     "text": [
      "None\n"
     ]
    }
   ],
   "source": [
    "what = None\n",
    "print(what)"
   ]
  },
  {
   "cell_type": "code",
   "execution_count": 107,
   "metadata": {},
   "outputs": [
    {
     "ename": "SyntaxError",
     "evalue": "can't assign to keyword (<ipython-input-107-d0a089823ecb>, line 1)",
     "output_type": "error",
     "traceback": [
      "\u001b[1;36m  File \u001b[1;32m\"<ipython-input-107-d0a089823ecb>\"\u001b[1;36m, line \u001b[1;32m1\u001b[0m\n\u001b[1;33m    None = what\u001b[0m\n\u001b[1;37m               ^\u001b[0m\n\u001b[1;31mSyntaxError\u001b[0m\u001b[1;31m:\u001b[0m can't assign to keyword\n"
     ]
    }
   ],
   "source": [
    "None = what"
   ]
  },
  {
   "cell_type": "code",
   "execution_count": 111,
   "metadata": {},
   "outputs": [
    {
     "data": {
      "text/plain": [
       "'something'"
      ]
     },
     "execution_count": 111,
     "metadata": {},
     "output_type": "execute_result"
    }
   ],
   "source": [
    "\"nothing\" if 2 > 2 else \"something\""
   ]
  },
  {
   "cell_type": "code",
   "execution_count": 135,
   "metadata": {},
   "outputs": [],
   "source": [
    "list_ex = (1,2,3,4)"
   ]
  },
  {
   "cell_type": "code",
   "execution_count": 120,
   "metadata": {},
   "outputs": [],
   "source": [
    "del list"
   ]
  },
  {
   "cell_type": "code",
   "execution_count": 136,
   "metadata": {},
   "outputs": [
    {
     "data": {
      "text/plain": [
       "(1, 2, 3, 4)"
      ]
     },
     "execution_count": 136,
     "metadata": {},
     "output_type": "execute_result"
    }
   ],
   "source": [
    "list_ex"
   ]
  },
  {
   "cell_type": "code",
   "execution_count": 141,
   "metadata": {},
   "outputs": [
    {
     "ename": "SyntaxError",
     "evalue": "unexpected EOF while parsing (<ipython-input-141-685c3dc4b6b4>, line 1)",
     "output_type": "error",
     "traceback": [
      "\u001b[1;36m  File \u001b[1;32m\"<ipython-input-141-685c3dc4b6b4>\"\u001b[1;36m, line \u001b[1;32m1\u001b[0m\n\u001b[1;33m    print(str(list_ex.count)\u001b[0m\n\u001b[1;37m                            ^\u001b[0m\n\u001b[1;31mSyntaxError\u001b[0m\u001b[1;31m:\u001b[0m unexpected EOF while parsing\n"
     ]
    }
   ],
   "source": [
    "print(str(list_ex.count)"
   ]
  },
  {
   "cell_type": "code",
   "execution_count": 142,
   "metadata": {},
   "outputs": [],
   "source": [
    "list_ex2 = [1,2,3,4,5]"
   ]
  },
  {
   "cell_type": "code",
   "execution_count": 143,
   "metadata": {},
   "outputs": [
    {
     "data": {
      "text/plain": [
       "[1, 2, 3, 4, 5]"
      ]
     },
     "execution_count": 143,
     "metadata": {},
     "output_type": "execute_result"
    }
   ],
   "source": [
    "list_ex2"
   ]
  },
  {
   "cell_type": "code",
   "execution_count": 144,
   "metadata": {},
   "outputs": [],
   "source": [
    "list_ex2.append(5)"
   ]
  },
  {
   "cell_type": "code",
   "execution_count": 145,
   "metadata": {},
   "outputs": [
    {
     "data": {
      "text/plain": [
       "[1, 2, 3, 4, 5, 5]"
      ]
     },
     "execution_count": 145,
     "metadata": {},
     "output_type": "execute_result"
    }
   ],
   "source": [
    "list_ex2"
   ]
  },
  {
   "cell_type": "code",
   "execution_count": 149,
   "metadata": {},
   "outputs": [],
   "source": [
    "list_ex2.reverse()"
   ]
  },
  {
   "cell_type": "code",
   "execution_count": 150,
   "metadata": {},
   "outputs": [
    {
     "data": {
      "text/plain": [
       "[1, 2, 3, 4, 5, 5]"
      ]
     },
     "execution_count": 150,
     "metadata": {},
     "output_type": "execute_result"
    }
   ],
   "source": [
    "list_ex2"
   ]
  },
  {
   "cell_type": "code",
   "execution_count": 151,
   "metadata": {},
   "outputs": [],
   "source": [
    "#removing element using pop() method\n",
    "popped = list_ex2.pop()"
   ]
  },
  {
   "cell_type": "code",
   "execution_count": 152,
   "metadata": {},
   "outputs": [
    {
     "name": "stdout",
     "output_type": "stream",
     "text": [
      "5\n"
     ]
    }
   ],
   "source": [
    "print(popped)"
   ]
  },
  {
   "cell_type": "code",
   "execution_count": 153,
   "metadata": {},
   "outputs": [
    {
     "data": {
      "text/plain": [
       "[1, 2, 3, 4, 5]"
      ]
     },
     "execution_count": 153,
     "metadata": {},
     "output_type": "execute_result"
    }
   ],
   "source": [
    "list_ex2"
   ]
  },
  {
   "cell_type": "code",
   "execution_count": 154,
   "metadata": {},
   "outputs": [
    {
     "data": {
      "text/plain": [
       "[5, 4, 3, 2, 1]"
      ]
     },
     "execution_count": 154,
     "metadata": {},
     "output_type": "execute_result"
    }
   ],
   "source": [
    "#reversing the list using :: syntax\n",
    "list_ex2[::-1]"
   ]
  },
  {
   "cell_type": "code",
   "execution_count": 155,
   "metadata": {},
   "outputs": [
    {
     "data": {
      "text/plain": [
       "[1, 3, 5]"
      ]
     },
     "execution_count": 155,
     "metadata": {},
     "output_type": "execute_result"
    }
   ],
   "source": [
    "list_ex2[::2]"
   ]
  },
  {
   "cell_type": "code",
   "execution_count": 156,
   "metadata": {},
   "outputs": [],
   "source": [
    "#copying to another list\n",
    "list_copy = list_ex2[:]"
   ]
  },
  {
   "cell_type": "code",
   "execution_count": 157,
   "metadata": {},
   "outputs": [
    {
     "data": {
      "text/plain": [
       "[1, 2, 3, 4, 5]"
      ]
     },
     "execution_count": 157,
     "metadata": {},
     "output_type": "execute_result"
    }
   ],
   "source": [
    "list_copy"
   ]
  },
  {
   "cell_type": "code",
   "execution_count": 158,
   "metadata": {},
   "outputs": [],
   "source": [
    "list_copy.append(444)"
   ]
  },
  {
   "cell_type": "code",
   "execution_count": 159,
   "metadata": {},
   "outputs": [
    {
     "data": {
      "text/plain": [
       "[1, 2, 3, 4, 5, 444]"
      ]
     },
     "execution_count": 159,
     "metadata": {},
     "output_type": "execute_result"
    }
   ],
   "source": [
    "list_copy"
   ]
  },
  {
   "cell_type": "code",
   "execution_count": 160,
   "metadata": {},
   "outputs": [
    {
     "data": {
      "text/plain": [
       "[1, 2, 3, 4, 5]"
      ]
     },
     "execution_count": 160,
     "metadata": {},
     "output_type": "execute_result"
    }
   ],
   "source": [
    "list_ex2"
   ]
  },
  {
   "cell_type": "code",
   "execution_count": 161,
   "metadata": {},
   "outputs": [],
   "source": [
    "list_ex2 = list_copy"
   ]
  },
  {
   "cell_type": "code",
   "execution_count": 162,
   "metadata": {},
   "outputs": [
    {
     "data": {
      "text/plain": [
       "[1, 2, 3, 4, 5, 444]"
      ]
     },
     "execution_count": 162,
     "metadata": {},
     "output_type": "execute_result"
    }
   ],
   "source": [
    "list_copy"
   ]
  },
  {
   "cell_type": "code",
   "execution_count": 164,
   "metadata": {},
   "outputs": [],
   "source": [
    "list_copy.remove(444)"
   ]
  },
  {
   "cell_type": "code",
   "execution_count": 167,
   "metadata": {},
   "outputs": [],
   "source": [
    "list_copy.append(0)"
   ]
  },
  {
   "cell_type": "code",
   "execution_count": 169,
   "metadata": {},
   "outputs": [
    {
     "data": {
      "text/plain": [
       "[1, 2, 3, 4, 5, 0]"
      ]
     },
     "execution_count": 169,
     "metadata": {},
     "output_type": "execute_result"
    }
   ],
   "source": [
    "list_copy"
   ]
  },
  {
   "cell_type": "code",
   "execution_count": 170,
   "metadata": {},
   "outputs": [],
   "source": [
    "list_copy.remove(1)"
   ]
  },
  {
   "cell_type": "code",
   "execution_count": 171,
   "metadata": {},
   "outputs": [
    {
     "data": {
      "text/plain": [
       "[2, 3, 4, 5, 0]"
      ]
     },
     "execution_count": 171,
     "metadata": {},
     "output_type": "execute_result"
    }
   ],
   "source": [
    "list_copy"
   ]
  },
  {
   "cell_type": "code",
   "execution_count": 172,
   "metadata": {},
   "outputs": [],
   "source": [
    "list_copy.remove(0)"
   ]
  },
  {
   "cell_type": "code",
   "execution_count": 174,
   "metadata": {},
   "outputs": [
    {
     "ename": "ValueError",
     "evalue": "list.remove(x): x not in list",
     "output_type": "error",
     "traceback": [
      "\u001b[1;31m---------------------------------------------------------------------------\u001b[0m",
      "\u001b[1;31mValueError\u001b[0m                                Traceback (most recent call last)",
      "\u001b[1;32m<ipython-input-174-6d55579fef6c>\u001b[0m in \u001b[0;36m<module>\u001b[1;34m()\u001b[0m\n\u001b[1;32m----> 1\u001b[1;33m \u001b[0mlist_copy\u001b[0m\u001b[1;33m.\u001b[0m\u001b[0mremove\u001b[0m\u001b[1;33m(\u001b[0m\u001b[1;36m99\u001b[0m\u001b[1;33m)\u001b[0m\u001b[1;33m\u001b[0m\u001b[0m\n\u001b[0m",
      "\u001b[1;31mValueError\u001b[0m: list.remove(x): x not in list"
     ]
    }
   ],
   "source": [
    "list_copy.remove(99)"
   ]
  },
  {
   "cell_type": "code",
   "execution_count": 179,
   "metadata": {},
   "outputs": [],
   "source": [
    "list.sort(list_copy)"
   ]
  },
  {
   "cell_type": "code",
   "execution_count": 180,
   "metadata": {},
   "outputs": [
    {
     "data": {
      "text/plain": [
       "[0, 2, 3, 4, 5]"
      ]
     },
     "execution_count": 180,
     "metadata": {},
     "output_type": "execute_result"
    }
   ],
   "source": [
    "list_copy"
   ]
  },
  {
   "cell_type": "code",
   "execution_count": 178,
   "metadata": {},
   "outputs": [],
   "source": [
    "list_copy.append(0)"
   ]
  },
  {
   "cell_type": "code",
   "execution_count": 181,
   "metadata": {},
   "outputs": [],
   "source": [
    "#unpacking"
   ]
  },
  {
   "cell_type": "code",
   "execution_count": 182,
   "metadata": {},
   "outputs": [],
   "source": [
    "x_list = [1,2,3,4,5]"
   ]
  },
  {
   "cell_type": "code",
   "execution_count": 183,
   "metadata": {},
   "outputs": [
    {
     "data": {
      "text/plain": [
       "[1, 2, 3, 4, 5]"
      ]
     },
     "execution_count": 183,
     "metadata": {},
     "output_type": "execute_result"
    }
   ],
   "source": [
    "x_list"
   ]
  },
  {
   "cell_type": "code",
   "execution_count": 184,
   "metadata": {},
   "outputs": [],
   "source": [
    "a,b,c,d,e=x_list"
   ]
  },
  {
   "cell_type": "code",
   "execution_count": 185,
   "metadata": {},
   "outputs": [
    {
     "name": "stdout",
     "output_type": "stream",
     "text": [
      "1\n"
     ]
    }
   ],
   "source": [
    "print(a)"
   ]
  },
  {
   "cell_type": "code",
   "execution_count": 186,
   "metadata": {},
   "outputs": [
    {
     "data": {
      "text/plain": [
       "2"
      ]
     },
     "execution_count": 186,
     "metadata": {},
     "output_type": "execute_result"
    }
   ],
   "source": [
    "b"
   ]
  },
  {
   "cell_type": "code",
   "execution_count": 187,
   "metadata": {},
   "outputs": [
    {
     "data": {
      "text/plain": [
       "3"
      ]
     },
     "execution_count": 187,
     "metadata": {},
     "output_type": "execute_result"
    }
   ],
   "source": [
    "c"
   ]
  },
  {
   "cell_type": "code",
   "execution_count": 188,
   "metadata": {},
   "outputs": [
    {
     "data": {
      "text/plain": [
       "4"
      ]
     },
     "execution_count": 188,
     "metadata": {},
     "output_type": "execute_result"
    }
   ],
   "source": [
    "d"
   ]
  },
  {
   "cell_type": "code",
   "execution_count": 189,
   "metadata": {},
   "outputs": [
    {
     "data": {
      "text/plain": [
       "5"
      ]
     },
     "execution_count": 189,
     "metadata": {},
     "output_type": "execute_result"
    }
   ],
   "source": [
    "e"
   ]
  },
  {
   "cell_type": "code",
   "execution_count": 192,
   "metadata": {},
   "outputs": [
    {
     "ename": "NameError",
     "evalue": "name 'aa' is not defined",
     "output_type": "error",
     "traceback": [
      "\u001b[1;31m---------------------------------------------------------------------------\u001b[0m",
      "\u001b[1;31mNameError\u001b[0m                                 Traceback (most recent call last)",
      "\u001b[1;32m<ipython-input-192-312382290f4f>\u001b[0m in \u001b[0;36m<module>\u001b[1;34m()\u001b[0m\n\u001b[1;32m----> 1\u001b[1;33m \u001b[0maa\u001b[0m\u001b[1;33m\u001b[0m\u001b[0m\n\u001b[0m",
      "\u001b[1;31mNameError\u001b[0m: name 'aa' is not defined"
     ]
    }
   ],
   "source": [
    "aa"
   ]
  },
  {
   "cell_type": "code",
   "execution_count": 191,
   "metadata": {},
   "outputs": [
    {
     "ename": "NameError",
     "evalue": "name 'g' is not defined",
     "output_type": "error",
     "traceback": [
      "\u001b[1;31m---------------------------------------------------------------------------\u001b[0m",
      "\u001b[1;31mNameError\u001b[0m                                 Traceback (most recent call last)",
      "\u001b[1;32m<ipython-input-191-a5938ace3f42>\u001b[0m in \u001b[0;36m<module>\u001b[1;34m()\u001b[0m\n\u001b[1;32m----> 1\u001b[1;33m \u001b[0mg\u001b[0m\u001b[1;33m\u001b[0m\u001b[0m\n\u001b[0m",
      "\u001b[1;31mNameError\u001b[0m: name 'g' is not defined"
     ]
    }
   ],
   "source": [
    "g"
   ]
  },
  {
   "cell_type": "code",
   "execution_count": 193,
   "metadata": {},
   "outputs": [],
   "source": [
    "xx, yy = 11, 22"
   ]
  },
  {
   "cell_type": "code",
   "execution_count": 194,
   "metadata": {},
   "outputs": [
    {
     "data": {
      "text/plain": [
       "11"
      ]
     },
     "execution_count": 194,
     "metadata": {},
     "output_type": "execute_result"
    }
   ],
   "source": [
    "xx"
   ]
  },
  {
   "cell_type": "code",
   "execution_count": 195,
   "metadata": {},
   "outputs": [
    {
     "data": {
      "text/plain": [
       "22"
      ]
     },
     "execution_count": 195,
     "metadata": {},
     "output_type": "execute_result"
    }
   ],
   "source": [
    "yy"
   ]
  },
  {
   "cell_type": "code",
   "execution_count": 196,
   "metadata": {},
   "outputs": [],
   "source": [
    "xx, yy = yy, xx"
   ]
  },
  {
   "cell_type": "code",
   "execution_count": 197,
   "metadata": {},
   "outputs": [
    {
     "data": {
      "text/plain": [
       "22"
      ]
     },
     "execution_count": 197,
     "metadata": {},
     "output_type": "execute_result"
    }
   ],
   "source": [
    "xx"
   ]
  },
  {
   "cell_type": "code",
   "execution_count": 198,
   "metadata": {},
   "outputs": [
    {
     "data": {
      "text/plain": [
       "11"
      ]
     },
     "execution_count": 198,
     "metadata": {},
     "output_type": "execute_result"
    }
   ],
   "source": [
    "yy"
   ]
  },
  {
   "cell_type": "code",
   "execution_count": 201,
   "metadata": {},
   "outputs": [],
   "source": [
    "hike=55"
   ]
  },
  {
   "cell_type": "code",
   "execution_count": 203,
   "metadata": {},
   "outputs": [
    {
     "data": {
      "text/plain": [
       "'Awesome!!!!!!!!!!!!'"
      ]
     },
     "execution_count": 203,
     "metadata": {},
     "output_type": "execute_result"
    }
   ],
   "source": [
    "\"Awesome!!!!!!!!!!!!\" if hike > 15 else \"It sucks!\""
   ]
  },
  {
   "cell_type": "code",
   "execution_count": 229,
   "metadata": {},
   "outputs": [
    {
     "name": "stdout",
     "output_type": "stream",
     "text": [
      "10\n",
      "10\n",
      "11\n",
      "11\n",
      "12\n",
      "12\n",
      "13\n",
      "13\n",
      "14\n",
      "14\n",
      "15\n",
      "15\n",
      "16\n",
      "16\n",
      "17\n",
      "17\n",
      "18\n",
      "18\n",
      "19\n",
      "19\n",
      "20\n",
      "20\n"
     ]
    }
   ],
   "source": [
    "for i in range(10,21):\n",
    "    for j in range (1, 3):\n",
    "        print(i)"
   ]
  },
  {
   "cell_type": "code",
   "execution_count": 230,
   "metadata": {},
   "outputs": [],
   "source": [
    "import threading"
   ]
  },
  {
   "cell_type": "code",
   "execution_count": 231,
   "metadata": {},
   "outputs": [
    {
     "name": "stdout",
     "output_type": "stream",
     "text": [
      "<module 'threading' from 'C:\\\\ProgramData\\\\Anaconda3\\\\lib\\\\threading.py'>\n"
     ]
    }
   ],
   "source": [
    "print(threading)"
   ]
  },
  {
   "cell_type": "code",
   "execution_count": 235,
   "metadata": {},
   "outputs": [],
   "source": [
    "import requests"
   ]
  },
  {
   "cell_type": "code",
   "execution_count": 234,
   "metadata": {},
   "outputs": [
    {
     "name": "stdout",
     "output_type": "stream",
     "text": [
      "<module 'requests' from 'C:\\\\ProgramData\\\\Anaconda3\\\\lib\\\\site-packages\\\\requests\\\\__init__.py'>\n"
     ]
    }
   ],
   "source": [
    "print(requests)"
   ]
  },
  {
   "cell_type": "code",
   "execution_count": 236,
   "metadata": {},
   "outputs": [
    {
     "ename": "SyntaxError",
     "evalue": "Missing parentheses in call to 'print'. Did you mean print(_)? (<ipython-input-236-1123ebc8cf8c>, line 1)",
     "output_type": "error",
     "traceback": [
      "\u001b[1;36m  File \u001b[1;32m\"<ipython-input-236-1123ebc8cf8c>\"\u001b[1;36m, line \u001b[1;32m1\u001b[0m\n\u001b[1;33m    print _\u001b[0m\n\u001b[1;37m          ^\u001b[0m\n\u001b[1;31mSyntaxError\u001b[0m\u001b[1;31m:\u001b[0m Missing parentheses in call to 'print'. Did you mean print(_)?\n"
     ]
    }
   ],
   "source": [
    "print _"
   ]
  },
  {
   "cell_type": "code",
   "execution_count": 237,
   "metadata": {},
   "outputs": [
    {
     "data": {
      "text/plain": [
       "'Awesome!!!!!!!!!!!!'"
      ]
     },
     "execution_count": 237,
     "metadata": {},
     "output_type": "execute_result"
    }
   ],
   "source": [
    "_"
   ]
  },
  {
   "cell_type": "code",
   "execution_count": 238,
   "metadata": {},
   "outputs": [],
   "source": [
    "sample_set = {i for i in range(1,11)}"
   ]
  },
  {
   "cell_type": "code",
   "execution_count": 239,
   "metadata": {},
   "outputs": [
    {
     "data": {
      "text/plain": [
       "{1, 2, 3, 4, 5, 6, 7, 8, 9, 10}"
      ]
     },
     "execution_count": 239,
     "metadata": {},
     "output_type": "execute_result"
    }
   ],
   "source": [
    "sample_set"
   ]
  },
  {
   "cell_type": "code",
   "execution_count": 254,
   "metadata": {},
   "outputs": [],
   "source": [
    "#list of squares (using string comprehension)\n",
    "set_of_squares = { i*i for i in range(1,11)}"
   ]
  },
  {
   "cell_type": "code",
   "execution_count": 255,
   "metadata": {},
   "outputs": [
    {
     "data": {
      "text/plain": [
       "{1, 4, 9, 16, 25, 36, 49, 64, 81, 100}"
      ]
     },
     "execution_count": 255,
     "metadata": {},
     "output_type": "execute_result"
    }
   ],
   "source": [
    "set_of_squares"
   ]
  },
  {
   "cell_type": "code",
   "execution_count": 248,
   "metadata": {},
   "outputs": [],
   "source": [
    "#dictionary comprehension"
   ]
  },
  {
   "cell_type": "code",
   "execution_count": 250,
   "metadata": {},
   "outputs": [],
   "source": [
    "sample_dict = {i: i*i for i in range(0,11)}"
   ]
  },
  {
   "cell_type": "code",
   "execution_count": 251,
   "metadata": {},
   "outputs": [
    {
     "data": {
      "text/plain": [
       "{0: 0, 1: 1, 2: 4, 3: 9, 4: 16, 5: 25, 6: 36, 7: 49, 8: 64, 9: 81, 10: 100}"
      ]
     },
     "execution_count": 251,
     "metadata": {},
     "output_type": "execute_result"
    }
   ],
   "source": [
    "sample_dict"
   ]
  },
  {
   "cell_type": "code",
   "execution_count": 256,
   "metadata": {},
   "outputs": [],
   "source": [
    "import pdb"
   ]
  },
  {
   "cell_type": "code",
   "execution_count": 257,
   "metadata": {},
   "outputs": [
    {
     "name": "stdout",
     "output_type": "stream",
     "text": [
      "<module 'pdb' from 'C:\\\\ProgramData\\\\Anaconda3\\\\lib\\\\pdb.py'>\n"
     ]
    }
   ],
   "source": [
    "print(pdb)"
   ]
  },
  {
   "cell_type": "code",
   "execution_count": 258,
   "metadata": {},
   "outputs": [
    {
     "name": "stdout",
     "output_type": "stream",
     "text": [
      "--Call--\n",
      "> c:\\programdata\\anaconda3\\lib\\site-packages\\ipython\\core\\displayhook.py(247)__call__()\n",
      "-> def __call__(self, result=None):\n",
      "(Pdb) a\n",
      "self = <ipykernel.displayhook.ZMQShellDisplayHook object at 0x0000021ED0B336A0>\n",
      "result = None\n",
      "(Pdb) a\n",
      "self = <ipykernel.displayhook.ZMQShellDisplayHook object at 0x0000021ED0B336A0>\n",
      "result = None\n",
      "(Pdb) f\n",
      "*** NameError: name 'f' is not defined\n",
      "(Pdb) 234\n",
      "234\n",
      "(Pdb) exit\n"
     ]
    },
    {
     "ename": "BdbQuit",
     "evalue": "",
     "output_type": "error",
     "traceback": [
      "\u001b[1;31m---------------------------------------------------------------------------\u001b[0m",
      "\u001b[1;31mBdbQuit\u001b[0m                                   Traceback (most recent call last)",
      "\u001b[1;32m<ipython-input-258-54799d9a0260>\u001b[0m in \u001b[0;36m<module>\u001b[1;34m()\u001b[0m\n\u001b[1;32m----> 1\u001b[1;33m \u001b[0mpdb\u001b[0m\u001b[1;33m.\u001b[0m\u001b[0mset_trace\u001b[0m\u001b[1;33m(\u001b[0m\u001b[1;33m)\u001b[0m\u001b[1;33m\u001b[0m\u001b[0m\n\u001b[0m",
      "\u001b[1;32mC:\\ProgramData\\Anaconda3\\lib\\site-packages\\IPython\\core\\displayhook.py\u001b[0m in \u001b[0;36m__call__\u001b[1;34m(self, result)\u001b[0m\n\u001b[0;32m    245\u001b[0m         \u001b[0msys\u001b[0m\u001b[1;33m.\u001b[0m\u001b[0mstdout\u001b[0m\u001b[1;33m.\u001b[0m\u001b[0mflush\u001b[0m\u001b[1;33m(\u001b[0m\u001b[1;33m)\u001b[0m\u001b[1;33m\u001b[0m\u001b[0m\n\u001b[0;32m    246\u001b[0m \u001b[1;33m\u001b[0m\u001b[0m\n\u001b[1;32m--> 247\u001b[1;33m     \u001b[1;32mdef\u001b[0m \u001b[0m__call__\u001b[0m\u001b[1;33m(\u001b[0m\u001b[0mself\u001b[0m\u001b[1;33m,\u001b[0m \u001b[0mresult\u001b[0m\u001b[1;33m=\u001b[0m\u001b[1;32mNone\u001b[0m\u001b[1;33m)\u001b[0m\u001b[1;33m:\u001b[0m\u001b[1;33m\u001b[0m\u001b[0m\n\u001b[0m\u001b[0;32m    248\u001b[0m         \"\"\"Printing with history cache management.\n\u001b[0;32m    249\u001b[0m \u001b[1;33m\u001b[0m\u001b[0m\n",
      "\u001b[1;32mC:\\ProgramData\\Anaconda3\\lib\\bdb.py\u001b[0m in \u001b[0;36mtrace_dispatch\u001b[1;34m(self, frame, event, arg)\u001b[0m\n\u001b[0;32m     88\u001b[0m             \u001b[1;32mreturn\u001b[0m \u001b[0mself\u001b[0m\u001b[1;33m.\u001b[0m\u001b[0mdispatch_line\u001b[0m\u001b[1;33m(\u001b[0m\u001b[0mframe\u001b[0m\u001b[1;33m)\u001b[0m\u001b[1;33m\u001b[0m\u001b[0m\n\u001b[0;32m     89\u001b[0m         \u001b[1;32mif\u001b[0m \u001b[0mevent\u001b[0m \u001b[1;33m==\u001b[0m \u001b[1;34m'call'\u001b[0m\u001b[1;33m:\u001b[0m\u001b[1;33m\u001b[0m\u001b[0m\n\u001b[1;32m---> 90\u001b[1;33m             \u001b[1;32mreturn\u001b[0m \u001b[0mself\u001b[0m\u001b[1;33m.\u001b[0m\u001b[0mdispatch_call\u001b[0m\u001b[1;33m(\u001b[0m\u001b[0mframe\u001b[0m\u001b[1;33m,\u001b[0m \u001b[0marg\u001b[0m\u001b[1;33m)\u001b[0m\u001b[1;33m\u001b[0m\u001b[0m\n\u001b[0m\u001b[0;32m     91\u001b[0m         \u001b[1;32mif\u001b[0m \u001b[0mevent\u001b[0m \u001b[1;33m==\u001b[0m \u001b[1;34m'return'\u001b[0m\u001b[1;33m:\u001b[0m\u001b[1;33m\u001b[0m\u001b[0m\n\u001b[0;32m     92\u001b[0m             \u001b[1;32mreturn\u001b[0m \u001b[0mself\u001b[0m\u001b[1;33m.\u001b[0m\u001b[0mdispatch_return\u001b[0m\u001b[1;33m(\u001b[0m\u001b[0mframe\u001b[0m\u001b[1;33m,\u001b[0m \u001b[0marg\u001b[0m\u001b[1;33m)\u001b[0m\u001b[1;33m\u001b[0m\u001b[0m\n",
      "\u001b[1;32mC:\\ProgramData\\Anaconda3\\lib\\bdb.py\u001b[0m in \u001b[0;36mdispatch_call\u001b[1;34m(self, frame, arg)\u001b[0m\n\u001b[0;32m    133\u001b[0m             \u001b[1;32mreturn\u001b[0m \u001b[0mself\u001b[0m\u001b[1;33m.\u001b[0m\u001b[0mtrace_dispatch\u001b[0m\u001b[1;33m\u001b[0m\u001b[0m\n\u001b[0;32m    134\u001b[0m         \u001b[0mself\u001b[0m\u001b[1;33m.\u001b[0m\u001b[0muser_call\u001b[0m\u001b[1;33m(\u001b[0m\u001b[0mframe\u001b[0m\u001b[1;33m,\u001b[0m \u001b[0marg\u001b[0m\u001b[1;33m)\u001b[0m\u001b[1;33m\u001b[0m\u001b[0m\n\u001b[1;32m--> 135\u001b[1;33m         \u001b[1;32mif\u001b[0m \u001b[0mself\u001b[0m\u001b[1;33m.\u001b[0m\u001b[0mquitting\u001b[0m\u001b[1;33m:\u001b[0m \u001b[1;32mraise\u001b[0m \u001b[0mBdbQuit\u001b[0m\u001b[1;33m\u001b[0m\u001b[0m\n\u001b[0m\u001b[0;32m    136\u001b[0m         \u001b[1;32mreturn\u001b[0m \u001b[0mself\u001b[0m\u001b[1;33m.\u001b[0m\u001b[0mtrace_dispatch\u001b[0m\u001b[1;33m\u001b[0m\u001b[0m\n\u001b[0;32m    137\u001b[0m \u001b[1;33m\u001b[0m\u001b[0m\n",
      "\u001b[1;31mBdbQuit\u001b[0m: "
     ]
    }
   ],
   "source": [
    "pdb.set_trace()"
   ]
  },
  {
   "cell_type": "code",
   "execution_count": 259,
   "metadata": {},
   "outputs": [],
   "source": [
    "a = \"a string\""
   ]
  },
  {
   "cell_type": "code",
   "execution_count": 260,
   "metadata": {},
   "outputs": [
    {
     "name": "stdout",
     "output_type": "stream",
     "text": [
      "['__add__', '__class__', '__contains__', '__delattr__', '__dir__', '__doc__', '__eq__', '__format__', '__ge__', '__getattribute__', '__getitem__', '__getnewargs__', '__gt__', '__hash__', '__init__', '__init_subclass__', '__iter__', '__le__', '__len__', '__lt__', '__mod__', '__mul__', '__ne__', '__new__', '__reduce__', '__reduce_ex__', '__repr__', '__rmod__', '__rmul__', '__setattr__', '__sizeof__', '__str__', '__subclasshook__', 'capitalize', 'casefold', 'center', 'count', 'encode', 'endswith', 'expandtabs', 'find', 'format', 'format_map', 'index', 'isalnum', 'isalpha', 'isascii', 'isdecimal', 'isdigit', 'isidentifier', 'islower', 'isnumeric', 'isprintable', 'isspace', 'istitle', 'isupper', 'join', 'ljust', 'lower', 'lstrip', 'maketrans', 'partition', 'replace', 'rfind', 'rindex', 'rjust', 'rpartition', 'rsplit', 'rstrip', 'split', 'splitlines', 'startswith', 'strip', 'swapcase', 'title', 'translate', 'upper', 'zfill']\n"
     ]
    }
   ],
   "source": [
    "print(dir(a))"
   ]
  },
  {
   "cell_type": "code",
   "execution_count": 261,
   "metadata": {},
   "outputs": [],
   "source": [
    "#joining string using ''.join"
   ]
  },
  {
   "cell_type": "code",
   "execution_count": 274,
   "metadata": {},
   "outputs": [],
   "source": [
    "string_array = [\"This\", \"is\",\"an\", \"array\", \"of\", \"strings\"]"
   ]
  },
  {
   "cell_type": "code",
   "execution_count": 275,
   "metadata": {},
   "outputs": [
    {
     "data": {
      "text/plain": [
       "['This', 'is', 'an', 'array', 'of', 'strings']"
      ]
     },
     "execution_count": 275,
     "metadata": {},
     "output_type": "execute_result"
    }
   ],
   "source": [
    "string_array"
   ]
  },
  {
   "cell_type": "code",
   "execution_count": 276,
   "metadata": {},
   "outputs": [
    {
     "data": {
      "text/plain": [
       "'This__is__an__array__of__strings'"
      ]
     },
     "execution_count": 276,
     "metadata": {},
     "output_type": "execute_result"
    }
   ],
   "source": [
    "'__'.join(string_array)"
   ]
  },
  {
   "cell_type": "code",
   "execution_count": 277,
   "metadata": {},
   "outputs": [],
   "source": [
    "# reversing a list"
   ]
  },
  {
   "cell_type": "code",
   "execution_count": 278,
   "metadata": {},
   "outputs": [],
   "source": [
    "list_reverse = [1,2,3,4,5]"
   ]
  },
  {
   "cell_type": "code",
   "execution_count": 279,
   "metadata": {},
   "outputs": [],
   "source": [
    "list_reverse.reverse()"
   ]
  },
  {
   "cell_type": "code",
   "execution_count": 280,
   "metadata": {},
   "outputs": [
    {
     "name": "stdout",
     "output_type": "stream",
     "text": [
      "[5, 4, 3, 2, 1]\n"
     ]
    }
   ],
   "source": [
    "print(list_reverse)"
   ]
  },
  {
   "cell_type": "code",
   "execution_count": 281,
   "metadata": {},
   "outputs": [
    {
     "name": "stdout",
     "output_type": "stream",
     "text": [
      "Help on class str in module builtins:\n",
      "\n",
      "class str(object)\n",
      " |  str(object='') -> str\n",
      " |  str(bytes_or_buffer[, encoding[, errors]]) -> str\n",
      " |  \n",
      " |  Create a new string object from the given object. If encoding or\n",
      " |  errors is specified, then the object must expose a data buffer\n",
      " |  that will be decoded using the given encoding and error handler.\n",
      " |  Otherwise, returns the result of object.__str__() (if defined)\n",
      " |  or repr(object).\n",
      " |  encoding defaults to sys.getdefaultencoding().\n",
      " |  errors defaults to 'strict'.\n",
      " |  \n",
      " |  Methods defined here:\n",
      " |  \n",
      " |  __add__(self, value, /)\n",
      " |      Return self+value.\n",
      " |  \n",
      " |  __contains__(self, key, /)\n",
      " |      Return key in self.\n",
      " |  \n",
      " |  __eq__(self, value, /)\n",
      " |      Return self==value.\n",
      " |  \n",
      " |  __format__(self, format_spec, /)\n",
      " |      Return a formatted version of the string as described by format_spec.\n",
      " |  \n",
      " |  __ge__(self, value, /)\n",
      " |      Return self>=value.\n",
      " |  \n",
      " |  __getattribute__(self, name, /)\n",
      " |      Return getattr(self, name).\n",
      " |  \n",
      " |  __getitem__(self, key, /)\n",
      " |      Return self[key].\n",
      " |  \n",
      " |  __getnewargs__(...)\n",
      " |  \n",
      " |  __gt__(self, value, /)\n",
      " |      Return self>value.\n",
      " |  \n",
      " |  __hash__(self, /)\n",
      " |      Return hash(self).\n",
      " |  \n",
      " |  __iter__(self, /)\n",
      " |      Implement iter(self).\n",
      " |  \n",
      " |  __le__(self, value, /)\n",
      " |      Return self<=value.\n",
      " |  \n",
      " |  __len__(self, /)\n",
      " |      Return len(self).\n",
      " |  \n",
      " |  __lt__(self, value, /)\n",
      " |      Return self<value.\n",
      " |  \n",
      " |  __mod__(self, value, /)\n",
      " |      Return self%value.\n",
      " |  \n",
      " |  __mul__(self, value, /)\n",
      " |      Return self*value.\n",
      " |  \n",
      " |  __ne__(self, value, /)\n",
      " |      Return self!=value.\n",
      " |  \n",
      " |  __repr__(self, /)\n",
      " |      Return repr(self).\n",
      " |  \n",
      " |  __rmod__(self, value, /)\n",
      " |      Return value%self.\n",
      " |  \n",
      " |  __rmul__(self, value, /)\n",
      " |      Return value*self.\n",
      " |  \n",
      " |  __sizeof__(self, /)\n",
      " |      Return the size of the string in memory, in bytes.\n",
      " |  \n",
      " |  __str__(self, /)\n",
      " |      Return str(self).\n",
      " |  \n",
      " |  capitalize(self, /)\n",
      " |      Return a capitalized version of the string.\n",
      " |      \n",
      " |      More specifically, make the first character have upper case and the rest lower\n",
      " |      case.\n",
      " |  \n",
      " |  casefold(self, /)\n",
      " |      Return a version of the string suitable for caseless comparisons.\n",
      " |  \n",
      " |  center(self, width, fillchar=' ', /)\n",
      " |      Return a centered string of length width.\n",
      " |      \n",
      " |      Padding is done using the specified fill character (default is a space).\n",
      " |  \n",
      " |  count(...)\n",
      " |      S.count(sub[, start[, end]]) -> int\n",
      " |      \n",
      " |      Return the number of non-overlapping occurrences of substring sub in\n",
      " |      string S[start:end].  Optional arguments start and end are\n",
      " |      interpreted as in slice notation.\n",
      " |  \n",
      " |  encode(self, /, encoding='utf-8', errors='strict')\n",
      " |      Encode the string using the codec registered for encoding.\n",
      " |      \n",
      " |      encoding\n",
      " |        The encoding in which to encode the string.\n",
      " |      errors\n",
      " |        The error handling scheme to use for encoding errors.\n",
      " |        The default is 'strict' meaning that encoding errors raise a\n",
      " |        UnicodeEncodeError.  Other possible values are 'ignore', 'replace' and\n",
      " |        'xmlcharrefreplace' as well as any other name registered with\n",
      " |        codecs.register_error that can handle UnicodeEncodeErrors.\n",
      " |  \n",
      " |  endswith(...)\n",
      " |      S.endswith(suffix[, start[, end]]) -> bool\n",
      " |      \n",
      " |      Return True if S ends with the specified suffix, False otherwise.\n",
      " |      With optional start, test S beginning at that position.\n",
      " |      With optional end, stop comparing S at that position.\n",
      " |      suffix can also be a tuple of strings to try.\n",
      " |  \n",
      " |  expandtabs(self, /, tabsize=8)\n",
      " |      Return a copy where all tab characters are expanded using spaces.\n",
      " |      \n",
      " |      If tabsize is not given, a tab size of 8 characters is assumed.\n",
      " |  \n",
      " |  find(...)\n",
      " |      S.find(sub[, start[, end]]) -> int\n",
      " |      \n",
      " |      Return the lowest index in S where substring sub is found,\n",
      " |      such that sub is contained within S[start:end].  Optional\n",
      " |      arguments start and end are interpreted as in slice notation.\n",
      " |      \n",
      " |      Return -1 on failure.\n",
      " |  \n",
      " |  format(...)\n",
      " |      S.format(*args, **kwargs) -> str\n",
      " |      \n",
      " |      Return a formatted version of S, using substitutions from args and kwargs.\n",
      " |      The substitutions are identified by braces ('{' and '}').\n",
      " |  \n",
      " |  format_map(...)\n",
      " |      S.format_map(mapping) -> str\n",
      " |      \n",
      " |      Return a formatted version of S, using substitutions from mapping.\n",
      " |      The substitutions are identified by braces ('{' and '}').\n",
      " |  \n",
      " |  index(...)\n",
      " |      S.index(sub[, start[, end]]) -> int\n",
      " |      \n",
      " |      Return the lowest index in S where substring sub is found, \n",
      " |      such that sub is contained within S[start:end].  Optional\n",
      " |      arguments start and end are interpreted as in slice notation.\n",
      " |      \n",
      " |      Raises ValueError when the substring is not found.\n",
      " |  \n",
      " |  isalnum(self, /)\n",
      " |      Return True if the string is an alpha-numeric string, False otherwise.\n",
      " |      \n",
      " |      A string is alpha-numeric if all characters in the string are alpha-numeric and\n",
      " |      there is at least one character in the string.\n",
      " |  \n",
      " |  isalpha(self, /)\n",
      " |      Return True if the string is an alphabetic string, False otherwise.\n",
      " |      \n",
      " |      A string is alphabetic if all characters in the string are alphabetic and there\n",
      " |      is at least one character in the string.\n",
      " |  \n",
      " |  isascii(self, /)\n",
      " |      Return True if all characters in the string are ASCII, False otherwise.\n",
      " |      \n",
      " |      ASCII characters have code points in the range U+0000-U+007F.\n",
      " |      Empty string is ASCII too.\n",
      " |  \n",
      " |  isdecimal(self, /)\n",
      " |      Return True if the string is a decimal string, False otherwise.\n",
      " |      \n",
      " |      A string is a decimal string if all characters in the string are decimal and\n",
      " |      there is at least one character in the string.\n",
      " |  \n",
      " |  isdigit(self, /)\n",
      " |      Return True if the string is a digit string, False otherwise.\n",
      " |      \n",
      " |      A string is a digit string if all characters in the string are digits and there\n",
      " |      is at least one character in the string.\n",
      " |  \n",
      " |  isidentifier(self, /)\n",
      " |      Return True if the string is a valid Python identifier, False otherwise.\n",
      " |      \n",
      " |      Use keyword.iskeyword() to test for reserved identifiers such as \"def\" and\n",
      " |      \"class\".\n",
      " |  \n",
      " |  islower(self, /)\n",
      " |      Return True if the string is a lowercase string, False otherwise.\n",
      " |      \n",
      " |      A string is lowercase if all cased characters in the string are lowercase and\n",
      " |      there is at least one cased character in the string.\n",
      " |  \n",
      " |  isnumeric(self, /)\n",
      " |      Return True if the string is a numeric string, False otherwise.\n",
      " |      \n",
      " |      A string is numeric if all characters in the string are numeric and there is at\n",
      " |      least one character in the string.\n",
      " |  \n",
      " |  isprintable(self, /)\n",
      " |      Return True if the string is printable, False otherwise.\n",
      " |      \n",
      " |      A string is printable if all of its characters are considered printable in\n",
      " |      repr() or if it is empty.\n",
      " |  \n",
      " |  isspace(self, /)\n",
      " |      Return True if the string is a whitespace string, False otherwise.\n",
      " |      \n",
      " |      A string is whitespace if all characters in the string are whitespace and there\n",
      " |      is at least one character in the string.\n",
      " |  \n",
      " |  istitle(self, /)\n",
      " |      Return True if the string is a title-cased string, False otherwise.\n",
      " |      \n",
      " |      In a title-cased string, upper- and title-case characters may only\n",
      " |      follow uncased characters and lowercase characters only cased ones.\n",
      " |  \n",
      " |  isupper(self, /)\n",
      " |      Return True if the string is an uppercase string, False otherwise.\n",
      " |      \n",
      " |      A string is uppercase if all cased characters in the string are uppercase and\n",
      " |      there is at least one cased character in the string.\n",
      " |  \n",
      " |  join(self, iterable, /)\n",
      " |      Concatenate any number of strings.\n",
      " |      \n",
      " |      The string whose method is called is inserted in between each given string.\n",
      " |      The result is returned as a new string.\n",
      " |      \n",
      " |      Example: '.'.join(['ab', 'pq', 'rs']) -> 'ab.pq.rs'\n",
      " |  \n",
      " |  ljust(self, width, fillchar=' ', /)\n",
      " |      Return a left-justified string of length width.\n",
      " |      \n",
      " |      Padding is done using the specified fill character (default is a space).\n",
      " |  \n",
      " |  lower(self, /)\n",
      " |      Return a copy of the string converted to lowercase.\n",
      " |  \n",
      " |  lstrip(self, chars=None, /)\n",
      " |      Return a copy of the string with leading whitespace removed.\n",
      " |      \n",
      " |      If chars is given and not None, remove characters in chars instead.\n",
      " |  \n",
      " |  partition(self, sep, /)\n",
      " |      Partition the string into three parts using the given separator.\n",
      " |      \n",
      " |      This will search for the separator in the string.  If the separator is found,\n",
      " |      returns a 3-tuple containing the part before the separator, the separator\n",
      " |      itself, and the part after it.\n",
      " |      \n",
      " |      If the separator is not found, returns a 3-tuple containing the original string\n",
      " |      and two empty strings.\n",
      " |  \n",
      " |  replace(self, old, new, count=-1, /)\n",
      " |      Return a copy with all occurrences of substring old replaced by new.\n",
      " |      \n",
      " |        count\n",
      " |          Maximum number of occurrences to replace.\n",
      " |          -1 (the default value) means replace all occurrences.\n",
      " |      \n",
      " |      If the optional argument count is given, only the first count occurrences are\n",
      " |      replaced.\n",
      " |  \n",
      " |  rfind(...)\n",
      " |      S.rfind(sub[, start[, end]]) -> int\n",
      " |      \n",
      " |      Return the highest index in S where substring sub is found,\n",
      " |      such that sub is contained within S[start:end].  Optional\n",
      " |      arguments start and end are interpreted as in slice notation.\n",
      " |      \n",
      " |      Return -1 on failure.\n",
      " |  \n",
      " |  rindex(...)\n",
      " |      S.rindex(sub[, start[, end]]) -> int\n",
      " |      \n",
      " |      Return the highest index in S where substring sub is found,\n",
      " |      such that sub is contained within S[start:end].  Optional\n",
      " |      arguments start and end are interpreted as in slice notation.\n",
      " |      \n",
      " |      Raises ValueError when the substring is not found.\n",
      " |  \n",
      " |  rjust(self, width, fillchar=' ', /)\n",
      " |      Return a right-justified string of length width.\n",
      " |      \n",
      " |      Padding is done using the specified fill character (default is a space).\n",
      " |  \n",
      " |  rpartition(self, sep, /)\n",
      " |      Partition the string into three parts using the given separator.\n",
      " |      \n",
      " |      This will search for the separator in the string, starting at the end. If\n",
      " |      the separator is found, returns a 3-tuple containing the part before the\n",
      " |      separator, the separator itself, and the part after it.\n",
      " |      \n",
      " |      If the separator is not found, returns a 3-tuple containing two empty strings\n",
      " |      and the original string.\n",
      " |  \n",
      " |  rsplit(self, /, sep=None, maxsplit=-1)\n",
      " |      Return a list of the words in the string, using sep as the delimiter string.\n",
      " |      \n",
      " |        sep\n",
      " |          The delimiter according which to split the string.\n",
      " |          None (the default value) means split according to any whitespace,\n",
      " |          and discard empty strings from the result.\n",
      " |        maxsplit\n",
      " |          Maximum number of splits to do.\n",
      " |          -1 (the default value) means no limit.\n",
      " |      \n",
      " |      Splits are done starting at the end of the string and working to the front.\n",
      " |  \n",
      " |  rstrip(self, chars=None, /)\n",
      " |      Return a copy of the string with trailing whitespace removed.\n",
      " |      \n",
      " |      If chars is given and not None, remove characters in chars instead.\n",
      " |  \n",
      " |  split(self, /, sep=None, maxsplit=-1)\n",
      " |      Return a list of the words in the string, using sep as the delimiter string.\n",
      " |      \n",
      " |      sep\n",
      " |        The delimiter according which to split the string.\n",
      " |        None (the default value) means split according to any whitespace,\n",
      " |        and discard empty strings from the result.\n",
      " |      maxsplit\n",
      " |        Maximum number of splits to do.\n",
      " |        -1 (the default value) means no limit.\n",
      " |  \n",
      " |  splitlines(self, /, keepends=False)\n",
      " |      Return a list of the lines in the string, breaking at line boundaries.\n",
      " |      \n",
      " |      Line breaks are not included in the resulting list unless keepends is given and\n",
      " |      true.\n",
      " |  \n",
      " |  startswith(...)\n",
      " |      S.startswith(prefix[, start[, end]]) -> bool\n",
      " |      \n",
      " |      Return True if S starts with the specified prefix, False otherwise.\n",
      " |      With optional start, test S beginning at that position.\n",
      " |      With optional end, stop comparing S at that position.\n",
      " |      prefix can also be a tuple of strings to try.\n",
      " |  \n",
      " |  strip(self, chars=None, /)\n",
      " |      Return a copy of the string with leading and trailing whitespace remove.\n",
      " |      \n",
      " |      If chars is given and not None, remove characters in chars instead.\n",
      " |  \n",
      " |  swapcase(self, /)\n",
      " |      Convert uppercase characters to lowercase and lowercase characters to uppercase.\n",
      " |  \n",
      " |  title(self, /)\n",
      " |      Return a version of the string where each word is titlecased.\n",
      " |      \n",
      " |      More specifically, words start with uppercased characters and all remaining\n",
      " |      cased characters have lower case.\n",
      " |  \n",
      " |  translate(self, table, /)\n",
      " |      Replace each character in the string using the given translation table.\n",
      " |      \n",
      " |        table\n",
      " |          Translation table, which must be a mapping of Unicode ordinals to\n",
      " |          Unicode ordinals, strings, or None.\n",
      " |      \n",
      " |      The table must implement lookup/indexing via __getitem__, for instance a\n",
      " |      dictionary or list.  If this operation raises LookupError, the character is\n",
      " |      left untouched.  Characters mapped to None are deleted.\n",
      " |  \n",
      " |  upper(self, /)\n",
      " |      Return a copy of the string converted to uppercase.\n",
      " |  \n",
      " |  zfill(self, width, /)\n",
      " |      Pad a numeric string with zeros on the left, to fill a field of the given width.\n",
      " |      \n",
      " |      The string is never truncated.\n",
      " |  \n",
      " |  ----------------------------------------------------------------------\n",
      " |  Static methods defined here:\n",
      " |  \n",
      " |  __new__(*args, **kwargs) from builtins.type\n",
      " |      Create and return a new object.  See help(type) for accurate signature.\n",
      " |  \n",
      " |  maketrans(x, y=None, z=None, /)\n",
      " |      Return a translation table usable for str.translate().\n",
      " |      \n",
      " |      If there is only one argument, it must be a dictionary mapping Unicode\n",
      " |      ordinals (integers) or characters to Unicode ordinals, strings or None.\n",
      " |      Character keys will be then converted to ordinals.\n",
      " |      If there are two arguments, they must be strings of equal length, and\n",
      " |      in the resulting dictionary, each character in x will be mapped to the\n",
      " |      character at the same position in y. If there is a third argument, it\n",
      " |      must be a string, whose characters will be mapped to None in the result.\n",
      "\n"
     ]
    }
   ],
   "source": [
    "help(str)"
   ]
  },
  {
   "cell_type": "code",
   "execution_count": 282,
   "metadata": {},
   "outputs": [],
   "source": [
    "s = \"thisis a sub string\""
   ]
  },
  {
   "cell_type": "code",
   "execution_count": 283,
   "metadata": {},
   "outputs": [
    {
     "data": {
      "text/plain": [
       "<function str.index>"
      ]
     },
     "execution_count": 283,
     "metadata": {},
     "output_type": "execute_result"
    }
   ],
   "source": [
    "s.index"
   ]
  },
  {
   "cell_type": "code",
   "execution_count": 284,
   "metadata": {},
   "outputs": [
    {
     "ename": "TypeError",
     "evalue": "index() takes at least 1 argument (0 given)",
     "output_type": "error",
     "traceback": [
      "\u001b[1;31m---------------------------------------------------------------------------\u001b[0m",
      "\u001b[1;31mTypeError\u001b[0m                                 Traceback (most recent call last)",
      "\u001b[1;32m<ipython-input-284-6a22da99535e>\u001b[0m in \u001b[0;36m<module>\u001b[1;34m()\u001b[0m\n\u001b[1;32m----> 1\u001b[1;33m \u001b[0ms\u001b[0m\u001b[1;33m.\u001b[0m\u001b[0mindex\u001b[0m\u001b[1;33m(\u001b[0m\u001b[1;33m)\u001b[0m\u001b[1;33m\u001b[0m\u001b[0m\n\u001b[0m",
      "\u001b[1;31mTypeError\u001b[0m: index() takes at least 1 argument (0 given)"
     ]
    }
   ],
   "source": [
    "s.index()"
   ]
  },
  {
   "cell_type": "code",
   "execution_count": 285,
   "metadata": {},
   "outputs": [
    {
     "ename": "TypeError",
     "evalue": "must be str, not int",
     "output_type": "error",
     "traceback": [
      "\u001b[1;31m---------------------------------------------------------------------------\u001b[0m",
      "\u001b[1;31mTypeError\u001b[0m                                 Traceback (most recent call last)",
      "\u001b[1;32m<ipython-input-285-188d57ac8036>\u001b[0m in \u001b[0;36m<module>\u001b[1;34m()\u001b[0m\n\u001b[1;32m----> 1\u001b[1;33m \u001b[0ms\u001b[0m\u001b[1;33m.\u001b[0m\u001b[0mindex\u001b[0m\u001b[1;33m(\u001b[0m\u001b[1;36m0\u001b[0m\u001b[1;33m)\u001b[0m\u001b[1;33m\u001b[0m\u001b[0m\n\u001b[0m",
      "\u001b[1;31mTypeError\u001b[0m: must be str, not int"
     ]
    }
   ],
   "source": [
    "s.index(0)"
   ]
  },
  {
   "cell_type": "code",
   "execution_count": 286,
   "metadata": {},
   "outputs": [
    {
     "data": {
      "text/plain": [
       "0"
      ]
     },
     "execution_count": 286,
     "metadata": {},
     "output_type": "execute_result"
    }
   ],
   "source": [
    "s.index(\"this\")"
   ]
  },
  {
   "cell_type": "code",
   "execution_count": 287,
   "metadata": {},
   "outputs": [
    {
     "data": {
      "text/plain": [
       "2"
      ]
     },
     "execution_count": 287,
     "metadata": {},
     "output_type": "execute_result"
    }
   ],
   "source": [
    "s.index(\"is\")"
   ]
  },
  {
   "cell_type": "code",
   "execution_count": 288,
   "metadata": {},
   "outputs": [
    {
     "data": {
      "text/plain": [
       "<function str.join(iterable, /)>"
      ]
     },
     "execution_count": 288,
     "metadata": {},
     "output_type": "execute_result"
    }
   ],
   "source": [
    "s.join"
   ]
  },
  {
   "cell_type": "code",
   "execution_count": 289,
   "metadata": {},
   "outputs": [
    {
     "data": {
      "text/plain": [
       "\"str(object='') -> str\\nstr(bytes_or_buffer[, encoding[, errors]]) -> str\\n\\nCreate a new string object from the given object. If encoding or\\nerrors is specified, then the object must expose a data buffer\\nthat will be decoded using the given encoding and error handler.\\nOtherwise, returns the result of object.__str__() (if defined)\\nor repr(object).\\nencoding defaults to sys.getdefaultencoding().\\nerrors defaults to 'strict'.\""
      ]
     },
     "execution_count": 289,
     "metadata": {},
     "output_type": "execute_result"
    }
   ],
   "source": [
    "str.__doc__"
   ]
  },
  {
   "cell_type": "code",
   "execution_count": 290,
   "metadata": {},
   "outputs": [
    {
     "data": {
      "text/plain": [
       "2331376426344"
      ]
     },
     "execution_count": 290,
     "metadata": {},
     "output_type": "execute_result"
    }
   ],
   "source": [
    "id(s)"
   ]
  },
  {
   "cell_type": "code",
   "execution_count": 291,
   "metadata": {},
   "outputs": [
    {
     "data": {
      "text/plain": [
       "0.75"
      ]
     },
     "execution_count": 291,
     "metadata": {},
     "output_type": "execute_result"
    }
   ],
   "source": [
    "3/4"
   ]
  },
  {
   "cell_type": "code",
   "execution_count": 294,
   "metadata": {},
   "outputs": [
    {
     "data": {
      "text/plain": [
       "0.0"
      ]
     },
     "execution_count": 294,
     "metadata": {},
     "output_type": "execute_result"
    }
   ],
   "source": [
    "3//4."
   ]
  },
  {
   "cell_type": "code",
   "execution_count": 295,
   "metadata": {},
   "outputs": [
    {
     "data": {
      "text/plain": [
       "['__add__',\n",
       " '__class__',\n",
       " '__contains__',\n",
       " '__delattr__',\n",
       " '__dir__',\n",
       " '__doc__',\n",
       " '__eq__',\n",
       " '__format__',\n",
       " '__ge__',\n",
       " '__getattribute__',\n",
       " '__getitem__',\n",
       " '__getnewargs__',\n",
       " '__gt__',\n",
       " '__hash__',\n",
       " '__init__',\n",
       " '__init_subclass__',\n",
       " '__iter__',\n",
       " '__le__',\n",
       " '__len__',\n",
       " '__lt__',\n",
       " '__mod__',\n",
       " '__mul__',\n",
       " '__ne__',\n",
       " '__new__',\n",
       " '__reduce__',\n",
       " '__reduce_ex__',\n",
       " '__repr__',\n",
       " '__rmod__',\n",
       " '__rmul__',\n",
       " '__setattr__',\n",
       " '__sizeof__',\n",
       " '__str__',\n",
       " '__subclasshook__',\n",
       " 'capitalize',\n",
       " 'casefold',\n",
       " 'center',\n",
       " 'count',\n",
       " 'encode',\n",
       " 'endswith',\n",
       " 'expandtabs',\n",
       " 'find',\n",
       " 'format',\n",
       " 'format_map',\n",
       " 'index',\n",
       " 'isalnum',\n",
       " 'isalpha',\n",
       " 'isascii',\n",
       " 'isdecimal',\n",
       " 'isdigit',\n",
       " 'isidentifier',\n",
       " 'islower',\n",
       " 'isnumeric',\n",
       " 'isprintable',\n",
       " 'isspace',\n",
       " 'istitle',\n",
       " 'isupper',\n",
       " 'join',\n",
       " 'ljust',\n",
       " 'lower',\n",
       " 'lstrip',\n",
       " 'maketrans',\n",
       " 'partition',\n",
       " 'replace',\n",
       " 'rfind',\n",
       " 'rindex',\n",
       " 'rjust',\n",
       " 'rpartition',\n",
       " 'rsplit',\n",
       " 'rstrip',\n",
       " 'split',\n",
       " 'splitlines',\n",
       " 'startswith',\n",
       " 'strip',\n",
       " 'swapcase',\n",
       " 'title',\n",
       " 'translate',\n",
       " 'upper',\n",
       " 'zfill']"
      ]
     },
     "execution_count": 295,
     "metadata": {},
     "output_type": "execute_result"
    }
   ],
   "source": [
    "dir(\"this is\")"
   ]
  },
  {
   "cell_type": "code",
   "execution_count": 296,
   "metadata": {},
   "outputs": [
    {
     "data": {
      "text/plain": [
       "['__abs__',\n",
       " '__add__',\n",
       " '__and__',\n",
       " '__bool__',\n",
       " '__ceil__',\n",
       " '__class__',\n",
       " '__delattr__',\n",
       " '__dir__',\n",
       " '__divmod__',\n",
       " '__doc__',\n",
       " '__eq__',\n",
       " '__float__',\n",
       " '__floor__',\n",
       " '__floordiv__',\n",
       " '__format__',\n",
       " '__ge__',\n",
       " '__getattribute__',\n",
       " '__getnewargs__',\n",
       " '__gt__',\n",
       " '__hash__',\n",
       " '__index__',\n",
       " '__init__',\n",
       " '__init_subclass__',\n",
       " '__int__',\n",
       " '__invert__',\n",
       " '__le__',\n",
       " '__lshift__',\n",
       " '__lt__',\n",
       " '__mod__',\n",
       " '__mul__',\n",
       " '__ne__',\n",
       " '__neg__',\n",
       " '__new__',\n",
       " '__or__',\n",
       " '__pos__',\n",
       " '__pow__',\n",
       " '__radd__',\n",
       " '__rand__',\n",
       " '__rdivmod__',\n",
       " '__reduce__',\n",
       " '__reduce_ex__',\n",
       " '__repr__',\n",
       " '__rfloordiv__',\n",
       " '__rlshift__',\n",
       " '__rmod__',\n",
       " '__rmul__',\n",
       " '__ror__',\n",
       " '__round__',\n",
       " '__rpow__',\n",
       " '__rrshift__',\n",
       " '__rshift__',\n",
       " '__rsub__',\n",
       " '__rtruediv__',\n",
       " '__rxor__',\n",
       " '__setattr__',\n",
       " '__sizeof__',\n",
       " '__str__',\n",
       " '__sub__',\n",
       " '__subclasshook__',\n",
       " '__truediv__',\n",
       " '__trunc__',\n",
       " '__xor__',\n",
       " 'bit_length',\n",
       " 'conjugate',\n",
       " 'denominator',\n",
       " 'from_bytes',\n",
       " 'imag',\n",
       " 'numerator',\n",
       " 'real',\n",
       " 'to_bytes']"
      ]
     },
     "execution_count": 296,
     "metadata": {},
     "output_type": "execute_result"
    }
   ],
   "source": [
    "dir(1)"
   ]
  },
  {
   "cell_type": "code",
   "execution_count": 297,
   "metadata": {},
   "outputs": [
    {
     "ename": "NameError",
     "evalue": "name 'map_ex' is not defined",
     "output_type": "error",
     "traceback": [
      "\u001b[1;31m---------------------------------------------------------------------------\u001b[0m",
      "\u001b[1;31mNameError\u001b[0m                                 Traceback (most recent call last)",
      "\u001b[1;32m<ipython-input-297-24a624416879>\u001b[0m in \u001b[0;36m<module>\u001b[1;34m()\u001b[0m\n\u001b[1;32m----> 1\u001b[1;33m \u001b[0mmap_ex\u001b[0m\u001b[1;33m[\u001b[0m\u001b[1;34m'name'\u001b[0m\u001b[1;33m]\u001b[0m\u001b[1;33m=\u001b[0m\u001b[1;34m'Deepak'\u001b[0m\u001b[1;33m\u001b[0m\u001b[0m\n\u001b[0m",
      "\u001b[1;31mNameError\u001b[0m: name 'map_ex' is not defined"
     ]
    }
   ],
   "source": [
    "map_ex['name']='Deepak'"
   ]
  },
  {
   "cell_type": "code",
   "execution_count": 298,
   "metadata": {},
   "outputs": [],
   "source": [
    "map_ex={}"
   ]
  },
  {
   "cell_type": "code",
   "execution_count": 299,
   "metadata": {},
   "outputs": [],
   "source": [
    "map_ex['name']='Deepak'"
   ]
  },
  {
   "cell_type": "code",
   "execution_count": 300,
   "metadata": {},
   "outputs": [
    {
     "name": "stdout",
     "output_type": "stream",
     "text": [
      "{'name': 'Deepak'}\n"
     ]
    }
   ],
   "source": [
    "print(map_ex)"
   ]
  },
  {
   "cell_type": "code",
   "execution_count": 301,
   "metadata": {},
   "outputs": [
    {
     "name": "stdout",
     "output_type": "stream",
     "text": [
      "Help on dict object:\n",
      "\n",
      "class dict(object)\n",
      " |  dict() -> new empty dictionary\n",
      " |  dict(mapping) -> new dictionary initialized from a mapping object's\n",
      " |      (key, value) pairs\n",
      " |  dict(iterable) -> new dictionary initialized as if via:\n",
      " |      d = {}\n",
      " |      for k, v in iterable:\n",
      " |          d[k] = v\n",
      " |  dict(**kwargs) -> new dictionary initialized with the name=value pairs\n",
      " |      in the keyword argument list.  For example:  dict(one=1, two=2)\n",
      " |  \n",
      " |  Methods defined here:\n",
      " |  \n",
      " |  __contains__(self, key, /)\n",
      " |      True if the dictionary has the specified key, else False.\n",
      " |  \n",
      " |  __delitem__(self, key, /)\n",
      " |      Delete self[key].\n",
      " |  \n",
      " |  __eq__(self, value, /)\n",
      " |      Return self==value.\n",
      " |  \n",
      " |  __ge__(self, value, /)\n",
      " |      Return self>=value.\n",
      " |  \n",
      " |  __getattribute__(self, name, /)\n",
      " |      Return getattr(self, name).\n",
      " |  \n",
      " |  __getitem__(...)\n",
      " |      x.__getitem__(y) <==> x[y]\n",
      " |  \n",
      " |  __gt__(self, value, /)\n",
      " |      Return self>value.\n",
      " |  \n",
      " |  __init__(self, /, *args, **kwargs)\n",
      " |      Initialize self.  See help(type(self)) for accurate signature.\n",
      " |  \n",
      " |  __iter__(self, /)\n",
      " |      Implement iter(self).\n",
      " |  \n",
      " |  __le__(self, value, /)\n",
      " |      Return self<=value.\n",
      " |  \n",
      " |  __len__(self, /)\n",
      " |      Return len(self).\n",
      " |  \n",
      " |  __lt__(self, value, /)\n",
      " |      Return self<value.\n",
      " |  \n",
      " |  __ne__(self, value, /)\n",
      " |      Return self!=value.\n",
      " |  \n",
      " |  __repr__(self, /)\n",
      " |      Return repr(self).\n",
      " |  \n",
      " |  __setitem__(self, key, value, /)\n",
      " |      Set self[key] to value.\n",
      " |  \n",
      " |  __sizeof__(...)\n",
      " |      D.__sizeof__() -> size of D in memory, in bytes\n",
      " |  \n",
      " |  clear(...)\n",
      " |      D.clear() -> None.  Remove all items from D.\n",
      " |  \n",
      " |  copy(...)\n",
      " |      D.copy() -> a shallow copy of D\n",
      " |  \n",
      " |  get(self, key, default=None, /)\n",
      " |      Return the value for key if key is in the dictionary, else default.\n",
      " |  \n",
      " |  items(...)\n",
      " |      D.items() -> a set-like object providing a view on D's items\n",
      " |  \n",
      " |  keys(...)\n",
      " |      D.keys() -> a set-like object providing a view on D's keys\n",
      " |  \n",
      " |  pop(...)\n",
      " |      D.pop(k[,d]) -> v, remove specified key and return the corresponding value.\n",
      " |      If key is not found, d is returned if given, otherwise KeyError is raised\n",
      " |  \n",
      " |  popitem(...)\n",
      " |      D.popitem() -> (k, v), remove and return some (key, value) pair as a\n",
      " |      2-tuple; but raise KeyError if D is empty.\n",
      " |  \n",
      " |  setdefault(self, key, default=None, /)\n",
      " |      Insert key with a value of default if key is not in the dictionary.\n",
      " |      \n",
      " |      Return the value for key if key is in the dictionary, else default.\n",
      " |  \n",
      " |  update(...)\n",
      " |      D.update([E, ]**F) -> None.  Update D from dict/iterable E and F.\n",
      " |      If E is present and has a .keys() method, then does:  for k in E: D[k] = E[k]\n",
      " |      If E is present and lacks a .keys() method, then does:  for k, v in E: D[k] = v\n",
      " |      In either case, this is followed by: for k in F:  D[k] = F[k]\n",
      " |  \n",
      " |  values(...)\n",
      " |      D.values() -> an object providing a view on D's values\n",
      " |  \n",
      " |  ----------------------------------------------------------------------\n",
      " |  Class methods defined here:\n",
      " |  \n",
      " |  fromkeys(iterable, value=None, /) from builtins.type\n",
      " |      Create a new dictionary with keys from iterable and values set to value.\n",
      " |  \n",
      " |  ----------------------------------------------------------------------\n",
      " |  Static methods defined here:\n",
      " |  \n",
      " |  __new__(*args, **kwargs) from builtins.type\n",
      " |      Create and return a new object.  See help(type) for accurate signature.\n",
      " |  \n",
      " |  ----------------------------------------------------------------------\n",
      " |  Data and other attributes defined here:\n",
      " |  \n",
      " |  __hash__ = None\n",
      "\n"
     ]
    }
   ],
   "source": [
    "help({})"
   ]
  },
  {
   "cell_type": "code",
   "execution_count": 303,
   "metadata": {},
   "outputs": [
    {
     "name": "stdout",
     "output_type": "stream",
     "text": [
      "Help on built-in function keys:\n",
      "\n",
      "keys(...) method of builtins.dict instance\n",
      "    D.keys() -> a set-like object providing a view on D's keys\n",
      "\n"
     ]
    }
   ],
   "source": [
    "help({}.keys)"
   ]
  },
  {
   "cell_type": "code",
   "execution_count": 304,
   "metadata": {},
   "outputs": [
    {
     "data": {
      "text/plain": [
       "{'name': 'Deepak'}"
      ]
     },
     "execution_count": 304,
     "metadata": {},
     "output_type": "execute_result"
    }
   ],
   "source": [
    "map_ex"
   ]
  },
  {
   "cell_type": "code",
   "execution_count": 305,
   "metadata": {},
   "outputs": [
    {
     "data": {
      "text/plain": [
       "False"
      ]
     },
     "execution_count": 305,
     "metadata": {},
     "output_type": "execute_result"
    }
   ],
   "source": [
    "'Deepak' in map_ex"
   ]
  },
  {
   "cell_type": "code",
   "execution_count": 306,
   "metadata": {},
   "outputs": [
    {
     "data": {
      "text/plain": [
       "True"
      ]
     },
     "execution_count": 306,
     "metadata": {},
     "output_type": "execute_result"
    }
   ],
   "source": [
    "'name' in map_ex"
   ]
  },
  {
   "cell_type": "code",
   "execution_count": 312,
   "metadata": {},
   "outputs": [
    {
     "name": "stdout",
     "output_type": "stream",
     "text": [
      "Key = name, value = Deepak\n"
     ]
    }
   ],
   "source": [
    "for i, j in map_ex.items():\n",
    "    print(\"Key = \"+ i + \", value = \" + j)"
   ]
  },
  {
   "cell_type": "code",
   "execution_count": 313,
   "metadata": {},
   "outputs": [
    {
     "name": "stdout",
     "output_type": "stream",
     "text": [
      "{'name': 'Deepak'}\n"
     ]
    }
   ],
   "source": [
    "print(map_ex)"
   ]
  },
  {
   "cell_type": "code",
   "execution_count": 314,
   "metadata": {},
   "outputs": [
    {
     "name": "stdout",
     "output_type": "stream",
     "text": [
      "Help on dict object:\n",
      "\n",
      "class dict(object)\n",
      " |  dict() -> new empty dictionary\n",
      " |  dict(mapping) -> new dictionary initialized from a mapping object's\n",
      " |      (key, value) pairs\n",
      " |  dict(iterable) -> new dictionary initialized as if via:\n",
      " |      d = {}\n",
      " |      for k, v in iterable:\n",
      " |          d[k] = v\n",
      " |  dict(**kwargs) -> new dictionary initialized with the name=value pairs\n",
      " |      in the keyword argument list.  For example:  dict(one=1, two=2)\n",
      " |  \n",
      " |  Methods defined here:\n",
      " |  \n",
      " |  __contains__(self, key, /)\n",
      " |      True if the dictionary has the specified key, else False.\n",
      " |  \n",
      " |  __delitem__(self, key, /)\n",
      " |      Delete self[key].\n",
      " |  \n",
      " |  __eq__(self, value, /)\n",
      " |      Return self==value.\n",
      " |  \n",
      " |  __ge__(self, value, /)\n",
      " |      Return self>=value.\n",
      " |  \n",
      " |  __getattribute__(self, name, /)\n",
      " |      Return getattr(self, name).\n",
      " |  \n",
      " |  __getitem__(...)\n",
      " |      x.__getitem__(y) <==> x[y]\n",
      " |  \n",
      " |  __gt__(self, value, /)\n",
      " |      Return self>value.\n",
      " |  \n",
      " |  __init__(self, /, *args, **kwargs)\n",
      " |      Initialize self.  See help(type(self)) for accurate signature.\n",
      " |  \n",
      " |  __iter__(self, /)\n",
      " |      Implement iter(self).\n",
      " |  \n",
      " |  __le__(self, value, /)\n",
      " |      Return self<=value.\n",
      " |  \n",
      " |  __len__(self, /)\n",
      " |      Return len(self).\n",
      " |  \n",
      " |  __lt__(self, value, /)\n",
      " |      Return self<value.\n",
      " |  \n",
      " |  __ne__(self, value, /)\n",
      " |      Return self!=value.\n",
      " |  \n",
      " |  __repr__(self, /)\n",
      " |      Return repr(self).\n",
      " |  \n",
      " |  __setitem__(self, key, value, /)\n",
      " |      Set self[key] to value.\n",
      " |  \n",
      " |  __sizeof__(...)\n",
      " |      D.__sizeof__() -> size of D in memory, in bytes\n",
      " |  \n",
      " |  clear(...)\n",
      " |      D.clear() -> None.  Remove all items from D.\n",
      " |  \n",
      " |  copy(...)\n",
      " |      D.copy() -> a shallow copy of D\n",
      " |  \n",
      " |  get(self, key, default=None, /)\n",
      " |      Return the value for key if key is in the dictionary, else default.\n",
      " |  \n",
      " |  items(...)\n",
      " |      D.items() -> a set-like object providing a view on D's items\n",
      " |  \n",
      " |  keys(...)\n",
      " |      D.keys() -> a set-like object providing a view on D's keys\n",
      " |  \n",
      " |  pop(...)\n",
      " |      D.pop(k[,d]) -> v, remove specified key and return the corresponding value.\n",
      " |      If key is not found, d is returned if given, otherwise KeyError is raised\n",
      " |  \n",
      " |  popitem(...)\n",
      " |      D.popitem() -> (k, v), remove and return some (key, value) pair as a\n",
      " |      2-tuple; but raise KeyError if D is empty.\n",
      " |  \n",
      " |  setdefault(self, key, default=None, /)\n",
      " |      Insert key with a value of default if key is not in the dictionary.\n",
      " |      \n",
      " |      Return the value for key if key is in the dictionary, else default.\n",
      " |  \n",
      " |  update(...)\n",
      " |      D.update([E, ]**F) -> None.  Update D from dict/iterable E and F.\n",
      " |      If E is present and has a .keys() method, then does:  for k in E: D[k] = E[k]\n",
      " |      If E is present and lacks a .keys() method, then does:  for k, v in E: D[k] = v\n",
      " |      In either case, this is followed by: for k in F:  D[k] = F[k]\n",
      " |  \n",
      " |  values(...)\n",
      " |      D.values() -> an object providing a view on D's values\n",
      " |  \n",
      " |  ----------------------------------------------------------------------\n",
      " |  Class methods defined here:\n",
      " |  \n",
      " |  fromkeys(iterable, value=None, /) from builtins.type\n",
      " |      Create a new dictionary with keys from iterable and values set to value.\n",
      " |  \n",
      " |  ----------------------------------------------------------------------\n",
      " |  Static methods defined here:\n",
      " |  \n",
      " |  __new__(*args, **kwargs) from builtins.type\n",
      " |      Create and return a new object.  See help(type) for accurate signature.\n",
      " |  \n",
      " |  ----------------------------------------------------------------------\n",
      " |  Data and other attributes defined here:\n",
      " |  \n",
      " |  __hash__ = None\n",
      "\n"
     ]
    }
   ],
   "source": [
    "help({})"
   ]
  },
  {
   "cell_type": "code",
   "execution_count": 315,
   "metadata": {},
   "outputs": [],
   "source": [
    "name = \"deepak\""
   ]
  },
  {
   "cell_type": "code",
   "execution_count": 316,
   "metadata": {},
   "outputs": [
    {
     "data": {
      "text/plain": [
       "'deepak'"
      ]
     },
     "execution_count": 316,
     "metadata": {},
     "output_type": "execute_result"
    }
   ],
   "source": [
    "name"
   ]
  },
  {
   "cell_type": "code",
   "execution_count": 331,
   "metadata": {},
   "outputs": [
    {
     "data": {
      "text/plain": [
       "'dea'"
      ]
     },
     "execution_count": 331,
     "metadata": {},
     "output_type": "execute_result"
    }
   ],
   "source": [
    "name[::2]"
   ]
  },
  {
   "cell_type": "code",
   "execution_count": 332,
   "metadata": {},
   "outputs": [],
   "source": [
    "num_str = \"12345\""
   ]
  },
  {
   "cell_type": "code",
   "execution_count": 333,
   "metadata": {},
   "outputs": [
    {
     "data": {
      "text/plain": [
       "'12345'"
      ]
     },
     "execution_count": 333,
     "metadata": {},
     "output_type": "execute_result"
    }
   ],
   "source": [
    "num_str"
   ]
  },
  {
   "cell_type": "code",
   "execution_count": 339,
   "metadata": {},
   "outputs": [],
   "source": [
    "sum = int(num_str) + int(1111)"
   ]
  },
  {
   "cell_type": "code",
   "execution_count": 340,
   "metadata": {},
   "outputs": [
    {
     "data": {
      "text/plain": [
       "13456"
      ]
     },
     "execution_count": 340,
     "metadata": {},
     "output_type": "execute_result"
    }
   ],
   "source": [
    "sum"
   ]
  },
  {
   "cell_type": "code",
   "execution_count": 364,
   "metadata": {},
   "outputs": [],
   "source": [
    "def extendlist(val, list=None):\n",
    "    if list is None:\n",
    "        list=[]\n",
    "    list.append(val)\n",
    "    return list\n"
   ]
  },
  {
   "cell_type": "code",
   "execution_count": 365,
   "metadata": {},
   "outputs": [],
   "source": [
    "list1 = extendlist(10)"
   ]
  },
  {
   "cell_type": "code",
   "execution_count": 354,
   "metadata": {},
   "outputs": [
    {
     "name": "stdout",
     "output_type": "stream",
     "text": [
      "[10]\n"
     ]
    }
   ],
   "source": [
    "print(list1)"
   ]
  },
  {
   "cell_type": "code",
   "execution_count": 366,
   "metadata": {},
   "outputs": [],
   "source": [
    "list2 = extendlist(123,[])"
   ]
  },
  {
   "cell_type": "code",
   "execution_count": 367,
   "metadata": {},
   "outputs": [
    {
     "name": "stdout",
     "output_type": "stream",
     "text": [
      "[123]\n"
     ]
    }
   ],
   "source": [
    "print(list2)"
   ]
  },
  {
   "cell_type": "code",
   "execution_count": 368,
   "metadata": {},
   "outputs": [],
   "source": [
    "list3 = extendlist('a')"
   ]
  },
  {
   "cell_type": "code",
   "execution_count": 369,
   "metadata": {},
   "outputs": [
    {
     "name": "stdout",
     "output_type": "stream",
     "text": [
      "['a']\n"
     ]
    }
   ],
   "source": [
    "print(list3)"
   ]
  },
  {
   "cell_type": "code",
   "execution_count": 371,
   "metadata": {},
   "outputs": [
    {
     "name": "stdout",
     "output_type": "stream",
     "text": [
      "a\n"
     ]
    }
   ],
   "source": [
    "for i in list3:\n",
    "    print(i)"
   ]
  },
  {
   "cell_type": "code",
   "execution_count": 372,
   "metadata": {},
   "outputs": [],
   "source": [
    "import os"
   ]
  },
  {
   "cell_type": "code",
   "execution_count": 380,
   "metadata": {},
   "outputs": [
    {
     "name": "stdout",
     "output_type": "stream",
     "text": [
      "C:\\Users\\Deepak.m\n"
     ]
    }
   ],
   "source": [
    "print(os.path.expanduser('~'))"
   ]
  },
  {
   "cell_type": "code",
   "execution_count": 393,
   "metadata": {},
   "outputs": [],
   "source": [
    "# return multiple values from a method\n",
    "def get_some():\n",
    "    list = [1,2,3,4]\n",
    "    return list\n"
   ]
  },
  {
   "cell_type": "code",
   "execution_count": 394,
   "metadata": {},
   "outputs": [],
   "source": [
    "list_res = get_some()"
   ]
  },
  {
   "cell_type": "code",
   "execution_count": 395,
   "metadata": {},
   "outputs": [
    {
     "name": "stdout",
     "output_type": "stream",
     "text": [
      "[1, 2, 3, 4]\n"
     ]
    }
   ],
   "source": [
    "print(list_res)"
   ]
  },
  {
   "cell_type": "code",
   "execution_count": 396,
   "metadata": {},
   "outputs": [],
   "source": [
    "a,b,c,d = list_res"
   ]
  },
  {
   "cell_type": "code",
   "execution_count": 397,
   "metadata": {},
   "outputs": [
    {
     "data": {
      "text/plain": [
       "1"
      ]
     },
     "execution_count": 397,
     "metadata": {},
     "output_type": "execute_result"
    }
   ],
   "source": [
    "a"
   ]
  },
  {
   "cell_type": "code",
   "execution_count": 398,
   "metadata": {},
   "outputs": [
    {
     "data": {
      "text/plain": [
       "2"
      ]
     },
     "execution_count": 398,
     "metadata": {},
     "output_type": "execute_result"
    }
   ],
   "source": [
    "b"
   ]
  },
  {
   "cell_type": "code",
   "execution_count": 399,
   "metadata": {},
   "outputs": [
    {
     "data": {
      "text/plain": [
       "3"
      ]
     },
     "execution_count": 399,
     "metadata": {},
     "output_type": "execute_result"
    }
   ],
   "source": [
    "c"
   ]
  },
  {
   "cell_type": "code",
   "execution_count": 400,
   "metadata": {},
   "outputs": [
    {
     "data": {
      "text/plain": [
       "4"
      ]
     },
     "execution_count": 400,
     "metadata": {},
     "output_type": "execute_result"
    }
   ],
   "source": [
    "d"
   ]
  },
  {
   "cell_type": "code",
   "execution_count": 426,
   "metadata": {},
   "outputs": [
    {
     "name": "stdout",
     "output_type": "stream",
     "text": [
      "97=a\n",
      "98=b\n",
      "99=c\n",
      "100=d\n",
      "101=e\n",
      "102=f\n",
      "103=g\n",
      "104=h\n",
      "105=i\n",
      "106=j\n",
      "107=k\n",
      "108=l\n",
      "109=m\n",
      "110=n\n",
      "111=o\n",
      "112=p\n",
      "113=q\n",
      "114=r\n",
      "115=s\n",
      "116=t\n",
      "117=u\n",
      "118=v\n",
      "119=w\n",
      "120=x\n",
      "121=y\n"
     ]
    }
   ],
   "source": [
    "for x in range(ord('a'), ord('z')):\n",
    "    print(str(x) + \"=\"+ chr(x))"
   ]
  },
  {
   "cell_type": "code",
   "execution_count": 420,
   "metadata": {},
   "outputs": [
    {
     "data": {
      "text/plain": [
       "97"
      ]
     },
     "execution_count": 420,
     "metadata": {},
     "output_type": "execute_result"
    }
   ],
   "source": [
    "ord('a')"
   ]
  },
  {
   "cell_type": "code",
   "execution_count": 427,
   "metadata": {},
   "outputs": [
    {
     "ename": "ZeroDivisionError",
     "evalue": "division by zero",
     "output_type": "error",
     "traceback": [
      "\u001b[1;31m---------------------------------------------------------------------------\u001b[0m",
      "\u001b[1;31mZeroDivisionError\u001b[0m                         Traceback (most recent call last)",
      "\u001b[1;32m<ipython-input-427-2493e86022ea>\u001b[0m in \u001b[0;36m<module>\u001b[1;34m()\u001b[0m\n\u001b[1;32m----> 1\u001b[1;33m \u001b[0ma\u001b[0m \u001b[1;33m=\u001b[0m \u001b[1;36m3\u001b[0m\u001b[1;33m/\u001b[0m\u001b[1;36m0\u001b[0m\u001b[1;33m\u001b[0m\u001b[0m\n\u001b[0m",
      "\u001b[1;31mZeroDivisionError\u001b[0m: division by zero"
     ]
    }
   ],
   "source": [
    "a = 3/0"
   ]
  },
  {
   "cell_type": "code",
   "execution_count": 438,
   "metadata": {},
   "outputs": [
    {
     "name": "stdout",
     "output_type": "stream",
     "text": [
      "all good\n",
      "in finally\n"
     ]
    }
   ],
   "source": [
    "try:\n",
    "    a=3/1\n",
    "except:\n",
    "    print(\"divide by zero\")\n",
    "else:\n",
    "    print(\"all good\")\n",
    "finally:\n",
    "    print(\"in finally\")\n"
   ]
  },
  {
   "cell_type": "code",
   "execution_count": 442,
   "metadata": {},
   "outputs": [],
   "source": [
    "def print_name(firstName, lastName=\"Mishra\"):\n",
    "    print(firstName + \" \" + lastName)\n",
    "    "
   ]
  },
  {
   "cell_type": "code",
   "execution_count": 443,
   "metadata": {},
   "outputs": [
    {
     "name": "stdout",
     "output_type": "stream",
     "text": [
      "Mishra Deepak\n"
     ]
    }
   ],
   "source": [
    "print_name(\"Mishra\", \"Deepak\")"
   ]
  },
  {
   "cell_type": "code",
   "execution_count": 444,
   "metadata": {},
   "outputs": [
    {
     "name": "stdout",
     "output_type": "stream",
     "text": [
      "Deepak Mishra\n"
     ]
    }
   ],
   "source": [
    "print_name(\"Deepak\")"
   ]
  },
  {
   "cell_type": "code",
   "execution_count": 445,
   "metadata": {},
   "outputs": [
    {
     "data": {
      "text/plain": [
       "'Deepak Mishra'"
      ]
     },
     "execution_count": 445,
     "metadata": {},
     "output_type": "execute_result"
    }
   ],
   "source": [
    "\"deepak mishra\".title()"
   ]
  },
  {
   "cell_type": "code",
   "execution_count": 446,
   "metadata": {},
   "outputs": [],
   "source": [
    "#write a program to reverse a list\n",
    "list_to_reverse = [1,2,3,4,5,6,7,8,9,10]"
   ]
  },
  {
   "cell_type": "code",
   "execution_count": 462,
   "metadata": {},
   "outputs": [],
   "source": [
    "def reverse(alist):\n",
    "    left = 0\n",
    "    right = len(alist) -1\n",
    "    \n",
    "    while left < right:\n",
    "        temp = alist[left]\n",
    "        alist[left] = alist[right]\n",
    "        alist[right] = temp\n",
    "        left+=1\n",
    "        right-=1\n",
    "        \n",
    "    return alist\n"
   ]
  },
  {
   "cell_type": "code",
   "execution_count": 466,
   "metadata": {},
   "outputs": [
    {
     "name": "stdout",
     "output_type": "stream",
     "text": [
      "[10, 9, 8, 7, 6, 5, 4, 3, 2, 1]\n"
     ]
    }
   ],
   "source": [
    "print(reverse(list_to_reverse))"
   ]
  },
  {
   "cell_type": "code",
   "execution_count": 468,
   "metadata": {},
   "outputs": [],
   "source": [
    "def reverse_string(input_str):\n",
    "    return input_str[::-1]"
   ]
  },
  {
   "cell_type": "code",
   "execution_count": 469,
   "metadata": {},
   "outputs": [],
   "source": [
    "my_name = \"Deepak\""
   ]
  },
  {
   "cell_type": "code",
   "execution_count": 452,
   "metadata": {},
   "outputs": [
    {
     "data": {
      "text/plain": [
       "'D'"
      ]
     },
     "execution_count": 452,
     "metadata": {},
     "output_type": "execute_result"
    }
   ],
   "source": [
    "my_name[0]"
   ]
  },
  {
   "cell_type": "code",
   "execution_count": 471,
   "metadata": {},
   "outputs": [
    {
     "name": "stdout",
     "output_type": "stream",
     "text": [
      "kapeeD\n"
     ]
    }
   ],
   "source": [
    "print(reverse_string(my_name))"
   ]
  },
  {
   "cell_type": "code",
   "execution_count": 478,
   "metadata": {},
   "outputs": [],
   "source": [
    "length = len(my_name) -1"
   ]
  },
  {
   "cell_type": "code",
   "execution_count": 479,
   "metadata": {},
   "outputs": [
    {
     "name": "stdout",
     "output_type": "stream",
     "text": [
      "kapeeD"
     ]
    }
   ],
   "source": [
    "while length >= 0:\n",
    "    print(my_name[length], end='')\n",
    "    length =  length -1\n"
   ]
  },
  {
   "cell_type": "code",
   "execution_count": 483,
   "metadata": {},
   "outputs": [
    {
     "name": "stdout",
     "output_type": "stream",
     "text": [
      "Deepak\n"
     ]
    }
   ],
   "source": [
    "print(my_name.title())"
   ]
  },
  {
   "cell_type": "code",
   "execution_count": 484,
   "metadata": {},
   "outputs": [],
   "source": [
    "jule = 3+5j"
   ]
  },
  {
   "cell_type": "code",
   "execution_count": 485,
   "metadata": {},
   "outputs": [
    {
     "data": {
      "text/plain": [
       "complex"
      ]
     },
     "execution_count": 485,
     "metadata": {},
     "output_type": "execute_result"
    }
   ],
   "source": [
    "type(jule)"
   ]
  },
  {
   "cell_type": "code",
   "execution_count": 486,
   "metadata": {},
   "outputs": [
    {
     "name": "stdout",
     "output_type": "stream",
     "text": [
      "(3+5j)\n"
     ]
    }
   ],
   "source": [
    "print(jule)"
   ]
  },
  {
   "cell_type": "code",
   "execution_count": 487,
   "metadata": {},
   "outputs": [],
   "source": [
    "jule2 = jule + 5+6j"
   ]
  },
  {
   "cell_type": "code",
   "execution_count": 488,
   "metadata": {},
   "outputs": [
    {
     "name": "stdout",
     "output_type": "stream",
     "text": [
      "(8+11j)\n"
     ]
    }
   ],
   "source": [
    "print(jule2)"
   ]
  },
  {
   "cell_type": "code",
   "execution_count": 489,
   "metadata": {},
   "outputs": [],
   "source": [
    "abc = list()"
   ]
  },
  {
   "cell_type": "code",
   "execution_count": 490,
   "metadata": {},
   "outputs": [],
   "source": [
    "abc.append(a)"
   ]
  },
  {
   "cell_type": "code",
   "execution_count": 491,
   "metadata": {},
   "outputs": [],
   "source": [
    "abc.append(b)"
   ]
  },
  {
   "cell_type": "code",
   "execution_count": 492,
   "metadata": {},
   "outputs": [],
   "source": [
    "abc.append(c)"
   ]
  },
  {
   "cell_type": "code",
   "execution_count": 493,
   "metadata": {},
   "outputs": [
    {
     "name": "stdout",
     "output_type": "stream",
     "text": [
      "[3.0, 2, 3]\n"
     ]
    }
   ],
   "source": [
    "print(abc)"
   ]
  },
  {
   "cell_type": "code",
   "execution_count": 494,
   "metadata": {},
   "outputs": [
    {
     "name": "stdout",
     "output_type": "stream",
     "text": [
      "aaaaaaaaaa\n"
     ]
    }
   ],
   "source": [
    "print('a'*10)"
   ]
  },
  {
   "cell_type": "code",
   "execution_count": 495,
   "metadata": {},
   "outputs": [],
   "source": [
    "my_name = \"Deepak Mishra\""
   ]
  },
  {
   "cell_type": "code",
   "execution_count": 511,
   "metadata": {},
   "outputs": [
    {
     "name": "stdout",
     "output_type": "stream",
     "text": [
      "a r h s i M   k a p e e D "
     ]
    }
   ],
   "source": [
    "for i in range(len(my_name)-1,-1,-1):\n",
    "    print(my_name[i], end=' ')"
   ]
  },
  {
   "cell_type": "code",
   "execution_count": 517,
   "metadata": {},
   "outputs": [],
   "source": [
    "my_set = {1234,1,1,2,3,None,4,5,1,None}"
   ]
  },
  {
   "cell_type": "code",
   "execution_count": 518,
   "metadata": {},
   "outputs": [
    {
     "name": "stdout",
     "output_type": "stream",
     "text": [
      "{1, 2, 3, None, 4, 5, 1234}\n"
     ]
    }
   ],
   "source": [
    "print(my_set)"
   ]
  },
  {
   "cell_type": "code",
   "execution_count": 521,
   "metadata": {},
   "outputs": [
    {
     "name": "stdout",
     "output_type": "stream",
     "text": [
      "2016\n",
      "Please try a different key\n"
     ]
    }
   ],
   "source": [
    "def exceptionHandling():\n",
    "    try:\n",
    "        car = {\"make\": \"bmw\", \"model\": \"550i\", \"year\": \"2016\"}\n",
    "        print(car[\"year\"])\n",
    "    except:\n",
    "        print(\"Key not found\")\n",
    "    finally:\n",
    "        print(\"Please try a different key\")\n",
    "\n",
    "exceptionHandling()"
   ]
  },
  {
   "cell_type": "code",
   "execution_count": 522,
   "metadata": {},
   "outputs": [],
   "source": [
    "address = dict()"
   ]
  },
  {
   "cell_type": "code",
   "execution_count": 523,
   "metadata": {},
   "outputs": [
    {
     "data": {
      "text/plain": [
       "dict"
      ]
     },
     "execution_count": 523,
     "metadata": {},
     "output_type": "execute_result"
    }
   ],
   "source": [
    "type(address)"
   ]
  },
  {
   "cell_type": "code",
   "execution_count": 525,
   "metadata": {},
   "outputs": [],
   "source": [
    "address['city']='Pune'"
   ]
  },
  {
   "cell_type": "code",
   "execution_count": 526,
   "metadata": {},
   "outputs": [
    {
     "data": {
      "text/plain": [
       "{'city': 'Pune'}"
      ]
     },
     "execution_count": 526,
     "metadata": {},
     "output_type": "execute_result"
    }
   ],
   "source": [
    "address"
   ]
  },
  {
   "cell_type": "code",
   "execution_count": 527,
   "metadata": {},
   "outputs": [],
   "source": [
    "address = {'phone':123123, 'PIN':411014}"
   ]
  },
  {
   "cell_type": "code",
   "execution_count": 528,
   "metadata": {},
   "outputs": [
    {
     "name": "stdout",
     "output_type": "stream",
     "text": [
      "{'phone': 123123, 'PIN': 411014}\n"
     ]
    }
   ],
   "source": [
    "print(address)"
   ]
  },
  {
   "cell_type": "code",
   "execution_count": 529,
   "metadata": {},
   "outputs": [
    {
     "data": {
      "text/plain": [
       "123123"
      ]
     },
     "execution_count": 529,
     "metadata": {},
     "output_type": "execute_result"
    }
   ],
   "source": [
    "address.get('phone')"
   ]
  },
  {
   "cell_type": "code",
   "execution_count": 533,
   "metadata": {},
   "outputs": [
    {
     "data": {
      "text/plain": [
       "dict_values([123123, 411014])"
      ]
     },
     "execution_count": 533,
     "metadata": {},
     "output_type": "execute_result"
    }
   ],
   "source": [
    "address.values()"
   ]
  },
  {
   "cell_type": "code",
   "execution_count": 534,
   "metadata": {},
   "outputs": [
    {
     "name": "stdout",
     "output_type": "stream",
     "text": [
      "{'phone': 123123, 'PIN': 411014}\n"
     ]
    }
   ],
   "source": [
    "print(address)"
   ]
  },
  {
   "cell_type": "code",
   "execution_count": 536,
   "metadata": {},
   "outputs": [
    {
     "name": "stdout",
     "output_type": "stream",
     "text": [
      "phone 123123\n",
      "PIN 411014\n"
     ]
    }
   ],
   "source": [
    "for key, value in address.items():\n",
    "    print(key, value)"
   ]
  },
  {
   "cell_type": "code",
   "execution_count": 546,
   "metadata": {},
   "outputs": [],
   "source": [
    "squares = {i: i**i for i in range(6)}"
   ]
  },
  {
   "cell_type": "code",
   "execution_count": 547,
   "metadata": {},
   "outputs": [
    {
     "name": "stdout",
     "output_type": "stream",
     "text": [
      "{0: 1, 1: 1, 2: 4, 3: 27, 4: 256, 5: 3125}\n"
     ]
    }
   ],
   "source": [
    "print(squares)"
   ]
  },
  {
   "cell_type": "code",
   "execution_count": 549,
   "metadata": {},
   "outputs": [
    {
     "name": "stdout",
     "output_type": "stream",
     "text": [
      "012345"
     ]
    }
   ],
   "source": [
    "for key in squares.keys():\n",
    "    print(key, end='')"
   ]
  },
  {
   "cell_type": "code",
   "execution_count": 550,
   "metadata": {},
   "outputs": [],
   "source": [
    "squares = {}"
   ]
  },
  {
   "cell_type": "code",
   "execution_count": 572,
   "metadata": {},
   "outputs": [],
   "source": [
    "for i in range(10):\n",
    "    squares[i]=str(i*i)"
   ]
  },
  {
   "cell_type": "code",
   "execution_count": 573,
   "metadata": {},
   "outputs": [
    {
     "name": "stdout",
     "output_type": "stream",
     "text": [
      "{0: '0', 1: '1', 2: '4', 3: '9', 4: '16', 5: '25', 6: '36', 7: '49', 8: '64', 9: '81'}\n"
     ]
    }
   ],
   "source": [
    "print(squares)"
   ]
  },
  {
   "cell_type": "code",
   "execution_count": 574,
   "metadata": {},
   "outputs": [
    {
     "name": "stdout",
     "output_type": "stream",
     "text": [
      "0  :  0\n",
      "1  :  1\n",
      "2  :  4\n",
      "3  :  9\n",
      "4  :  16\n",
      "5  :  25\n",
      "6  :  36\n",
      "7  :  49\n",
      "8  :  64\n",
      "9  :  81\n"
     ]
    }
   ],
   "source": [
    "for x, y in squares.items():\n",
    "    print(x,\" : \",y)"
   ]
  },
  {
   "cell_type": "code",
   "execution_count": 576,
   "metadata": {},
   "outputs": [
    {
     "data": {
      "text/plain": [
       "0"
      ]
     },
     "execution_count": 576,
     "metadata": {},
     "output_type": "execute_result"
    }
   ],
   "source": [
    "min(squares)"
   ]
  },
  {
   "cell_type": "code",
   "execution_count": 577,
   "metadata": {},
   "outputs": [
    {
     "data": {
      "text/plain": [
       "9"
      ]
     },
     "execution_count": 577,
     "metadata": {},
     "output_type": "execute_result"
    }
   ],
   "source": [
    "max(squares)"
   ]
  },
  {
   "cell_type": "code",
   "execution_count": 580,
   "metadata": {},
   "outputs": [
    {
     "ename": "TypeError",
     "evalue": "'int' object is not callable",
     "output_type": "error",
     "traceback": [
      "\u001b[1;31m---------------------------------------------------------------------------\u001b[0m",
      "\u001b[1;31mTypeError\u001b[0m                                 Traceback (most recent call last)",
      "\u001b[1;32m<ipython-input-580-5901bf16bcd7>\u001b[0m in \u001b[0;36m<module>\u001b[1;34m()\u001b[0m\n\u001b[1;32m----> 1\u001b[1;33m \u001b[0msum\u001b[0m\u001b[1;33m(\u001b[0m\u001b[0msquares\u001b[0m\u001b[1;33m.\u001b[0m\u001b[0mkeys\u001b[0m\u001b[1;33m(\u001b[0m\u001b[1;33m)\u001b[0m\u001b[1;33m)\u001b[0m\u001b[1;33m\u001b[0m\u001b[0m\n\u001b[0m",
      "\u001b[1;31mTypeError\u001b[0m: 'int' object is not callable"
     ]
    }
   ],
   "source": [
    "sum(squares.keys())"
   ]
  },
  {
   "cell_type": "code",
   "execution_count": 591,
   "metadata": {},
   "outputs": [],
   "source": [
    "intArray = [1,2,3,4,5]"
   ]
  },
  {
   "cell_type": "code",
   "execution_count": 592,
   "metadata": {},
   "outputs": [
    {
     "name": "stdout",
     "output_type": "stream",
     "text": [
      "[1, 2, 3, 4, 5]\n"
     ]
    }
   ],
   "source": [
    "print(intArray)"
   ]
  },
  {
   "cell_type": "code",
   "execution_count": 588,
   "metadata": {},
   "outputs": [
    {
     "ename": "TypeError",
     "evalue": "'int' object is not callable",
     "output_type": "error",
     "traceback": [
      "\u001b[1;31m---------------------------------------------------------------------------\u001b[0m",
      "\u001b[1;31mTypeError\u001b[0m                                 Traceback (most recent call last)",
      "\u001b[1;32m<ipython-input-588-6820c6c5d7ec>\u001b[0m in \u001b[0;36m<module>\u001b[1;34m()\u001b[0m\n\u001b[1;32m----> 1\u001b[1;33m \u001b[0mprint\u001b[0m\u001b[1;33m(\u001b[0m\u001b[0msum\u001b[0m\u001b[1;33m(\u001b[0m\u001b[0mintArray\u001b[0m\u001b[1;33m)\u001b[0m\u001b[1;33m)\u001b[0m\u001b[1;33m\u001b[0m\u001b[0m\n\u001b[0m",
      "\u001b[1;31mTypeError\u001b[0m: 'int' object is not callable"
     ]
    }
   ],
   "source": []
  },
  {
   "cell_type": "code",
   "execution_count": 594,
   "metadata": {},
   "outputs": [
    {
     "ename": "TypeError",
     "evalue": "'int' object is not callable",
     "output_type": "error",
     "traceback": [
      "\u001b[1;31m---------------------------------------------------------------------------\u001b[0m",
      "\u001b[1;31mTypeError\u001b[0m                                 Traceback (most recent call last)",
      "\u001b[1;32m<ipython-input-594-90be6392030f>\u001b[0m in \u001b[0;36m<module>\u001b[1;34m()\u001b[0m\n\u001b[1;32m----> 1\u001b[1;33m \u001b[0mtotal\u001b[0m \u001b[1;33m=\u001b[0m \u001b[0msum\u001b[0m\u001b[1;33m(\u001b[0m\u001b[0mintArray\u001b[0m\u001b[1;33m)\u001b[0m\u001b[1;33m\u001b[0m\u001b[0m\n\u001b[0m",
      "\u001b[1;31mTypeError\u001b[0m: 'int' object is not callable"
     ]
    }
   ],
   "source": [
    "total = sum(intArray)"
   ]
  },
  {
   "cell_type": "code",
   "execution_count": 595,
   "metadata": {},
   "outputs": [],
   "source": [
    "list_ = list()"
   ]
  },
  {
   "cell_type": "code",
   "execution_count": 596,
   "metadata": {},
   "outputs": [],
   "source": [
    "tuple_ = tuple()"
   ]
  },
  {
   "cell_type": "code",
   "execution_count": 597,
   "metadata": {},
   "outputs": [],
   "source": [
    "dict_ = dict()"
   ]
  },
  {
   "cell_type": "code",
   "execution_count": 598,
   "metadata": {},
   "outputs": [
    {
     "data": {
      "text/plain": [
       "list"
      ]
     },
     "execution_count": 598,
     "metadata": {},
     "output_type": "execute_result"
    }
   ],
   "source": [
    "type(list_)"
   ]
  },
  {
   "cell_type": "code",
   "execution_count": 599,
   "metadata": {},
   "outputs": [
    {
     "data": {
      "text/plain": [
       "tuple"
      ]
     },
     "execution_count": 599,
     "metadata": {},
     "output_type": "execute_result"
    }
   ],
   "source": [
    "type(tuple_)"
   ]
  },
  {
   "cell_type": "code",
   "execution_count": 600,
   "metadata": {},
   "outputs": [],
   "source": [
    "set_ = set()"
   ]
  },
  {
   "cell_type": "code",
   "execution_count": 601,
   "metadata": {},
   "outputs": [
    {
     "data": {
      "text/plain": [
       "set"
      ]
     },
     "execution_count": 601,
     "metadata": {},
     "output_type": "execute_result"
    }
   ],
   "source": [
    "type(set_)"
   ]
  },
  {
   "cell_type": "code",
   "execution_count": 602,
   "metadata": {},
   "outputs": [
    {
     "name": "stdout",
     "output_type": "stream",
     "text": [
      "set()\n"
     ]
    }
   ],
   "source": [
    "print(set_)"
   ]
  },
  {
   "cell_type": "code",
   "execution_count": 605,
   "metadata": {},
   "outputs": [],
   "source": [
    "set_ = {1,11,1,1,1,1,1,11}"
   ]
  },
  {
   "cell_type": "code",
   "execution_count": 606,
   "metadata": {},
   "outputs": [
    {
     "name": "stdout",
     "output_type": "stream",
     "text": [
      "{1, 11}\n"
     ]
    }
   ],
   "source": [
    "print(set_)"
   ]
  },
  {
   "cell_type": "code",
   "execution_count": 607,
   "metadata": {},
   "outputs": [
    {
     "name": "stdout",
     "output_type": "stream",
     "text": [
      "[1, 2, 3, 4, 5]\n"
     ]
    }
   ],
   "source": [
    "print(intArray)"
   ]
  },
  {
   "cell_type": "code",
   "execution_count": 608,
   "metadata": {},
   "outputs": [
    {
     "ename": "NameError",
     "evalue": "name 'fromKeys' is not defined",
     "output_type": "error",
     "traceback": [
      "\u001b[1;31m---------------------------------------------------------------------------\u001b[0m",
      "\u001b[1;31mNameError\u001b[0m                                 Traceback (most recent call last)",
      "\u001b[1;32m<ipython-input-608-ad7272faae4c>\u001b[0m in \u001b[0;36m<module>\u001b[1;34m()\u001b[0m\n\u001b[1;32m----> 1\u001b[1;33m \u001b[0mprint\u001b[0m\u001b[1;33m(\u001b[0m\u001b[0mfromKeys\u001b[0m\u001b[1;33m(\u001b[0m\u001b[0mintArray\u001b[0m\u001b[1;33m)\u001b[0m\u001b[1;33m,\u001b[0m \u001b[1;36m10\u001b[0m\u001b[1;33m)\u001b[0m\u001b[1;33m\u001b[0m\u001b[0m\n\u001b[0m",
      "\u001b[1;31mNameError\u001b[0m: name 'fromKeys' is not defined"
     ]
    }
   ],
   "source": [
    "print(fromKeys(intArray), 10)"
   ]
  },
  {
   "cell_type": "code",
   "execution_count": 609,
   "metadata": {},
   "outputs": [
    {
     "data": {
      "text/plain": [
       "{}"
      ]
     },
     "execution_count": 609,
     "metadata": {},
     "output_type": "execute_result"
    }
   ],
   "source": [
    "dict_"
   ]
  },
  {
   "cell_type": "code",
   "execution_count": 610,
   "metadata": {},
   "outputs": [],
   "source": [
    "for i in range(10):\n",
    "    dict_[i]=i*i"
   ]
  },
  {
   "cell_type": "code",
   "execution_count": 611,
   "metadata": {},
   "outputs": [
    {
     "name": "stdout",
     "output_type": "stream",
     "text": [
      "{0: 0, 1: 1, 2: 4, 3: 9, 4: 16, 5: 25, 6: 36, 7: 49, 8: 64, 9: 81}\n"
     ]
    }
   ],
   "source": [
    "print(dict_)"
   ]
  },
  {
   "cell_type": "code",
   "execution_count": 614,
   "metadata": {},
   "outputs": [
    {
     "name": "stdout",
     "output_type": "stream",
     "text": [
      "{0: 'stupid', 1: 'stupid', 2: 'stupid', 3: 'stupid', 4: 'stupid', 5: 'stupid', 6: 'stupid', 7: 'stupid', 8: 'stupid', 9: 'stupid'}\n"
     ]
    }
   ],
   "source": [
    "print(dict.fromkeys(dict_, \"stupid\"))"
   ]
  },
  {
   "cell_type": "code",
   "execution_count": 615,
   "metadata": {},
   "outputs": [],
   "source": [
    "one_to_ten = range(1,11)"
   ]
  },
  {
   "cell_type": "code",
   "execution_count": 616,
   "metadata": {},
   "outputs": [
    {
     "name": "stdout",
     "output_type": "stream",
     "text": [
      "range(1, 11)\n"
     ]
    }
   ],
   "source": [
    "print(one_to_ten)"
   ]
  },
  {
   "cell_type": "code",
   "execution_count": 618,
   "metadata": {},
   "outputs": [
    {
     "name": "stdout",
     "output_type": "stream",
     "text": [
      "{1: 1, 2: 1, 3: 1, 4: 1, 5: 1, 6: 1, 7: 1, 8: 1, 9: 1, 10: 1}\n"
     ]
    }
   ],
   "source": [
    "print(dict.fromkeys(one_to_ten, 1))"
   ]
  },
  {
   "cell_type": "code",
   "execution_count": 619,
   "metadata": {},
   "outputs": [
    {
     "name": "stdout",
     "output_type": "stream",
     "text": [
      "[1, 2, 3, 4, 5, 6, 7, 8, 9, 10]\n"
     ]
    }
   ],
   "source": [
    "print(list(one_to_ten))"
   ]
  },
  {
   "cell_type": "code",
   "execution_count": 620,
   "metadata": {},
   "outputs": [
    {
     "name": "stdout",
     "output_type": "stream",
     "text": [
      "{1, 2, 3, 4, 5, 6, 7, 8, 9, 10}\n"
     ]
    }
   ],
   "source": [
    "print(set(one_to_ten))"
   ]
  },
  {
   "cell_type": "code",
   "execution_count": 621,
   "metadata": {},
   "outputs": [],
   "source": [
    "ten_to_one = range(10,0,-1)"
   ]
  },
  {
   "cell_type": "code",
   "execution_count": 622,
   "metadata": {},
   "outputs": [
    {
     "name": "stdout",
     "output_type": "stream",
     "text": [
      "range(10, 0, -1)\n"
     ]
    }
   ],
   "source": [
    "print(ten_to_one)"
   ]
  },
  {
   "cell_type": "code",
   "execution_count": 623,
   "metadata": {},
   "outputs": [
    {
     "name": "stdout",
     "output_type": "stream",
     "text": [
      "[10, 9, 8, 7, 6, 5, 4, 3, 2, 1]\n"
     ]
    }
   ],
   "source": [
    "print(list(ten_to_one))"
   ]
  },
  {
   "cell_type": "code",
   "execution_count": 624,
   "metadata": {},
   "outputs": [
    {
     "name": "stdout",
     "output_type": "stream",
     "text": [
      "Deepak"
     ]
    }
   ],
   "source": [
    "for ch in \"Deepak\":\n",
    "    print(ch, end='')"
   ]
  },
  {
   "cell_type": "code",
   "execution_count": 629,
   "metadata": {},
   "outputs": [
    {
     "name": "stdout",
     "output_type": "stream",
     "text": [
      "kapeeD"
     ]
    }
   ],
   "source": [
    "for i in range(len(\"Deepak\")-1,-1,-1):\n",
    "    print(\"Deepak\"[i], end='')"
   ]
  },
  {
   "cell_type": "code",
   "execution_count": 631,
   "metadata": {},
   "outputs": [
    {
     "data": {
      "text/plain": [
       "'kapeeD'"
      ]
     },
     "execution_count": 631,
     "metadata": {},
     "output_type": "execute_result"
    }
   ],
   "source": [
    "\"Deepak\"[::-1]"
   ]
  },
  {
   "cell_type": "code",
   "execution_count": 632,
   "metadata": {},
   "outputs": [],
   "source": [
    "def args_demo(*args):\n",
    "    for key in args:\n",
    "        print(key)\n"
   ]
  },
  {
   "cell_type": "code",
   "execution_count": 633,
   "metadata": {},
   "outputs": [
    {
     "name": "stdout",
     "output_type": "stream",
     "text": [
      "1\n",
      "2\n",
      "3\n",
      "4\n",
      "Deepak\n"
     ]
    }
   ],
   "source": [
    "args_demo(\"1\",2,3,4,\"Deepak\")"
   ]
  },
  {
   "cell_type": "code",
   "execution_count": 638,
   "metadata": {},
   "outputs": [],
   "source": [
    "def kwargs_demo(**kwargs):\n",
    "    for key, value in kwargs.items():\n",
    "        print(key, value)"
   ]
  },
  {
   "cell_type": "code",
   "execution_count": 639,
   "metadata": {},
   "outputs": [
    {
     "name": "stdout",
     "output_type": "stream",
     "text": [
      "name deepak\n",
      "classa first\n"
     ]
    }
   ],
   "source": [
    "kwargs_demo(name=\"deepak\", classa=\"first\")"
   ]
  },
  {
   "cell_type": "code",
   "execution_count": 642,
   "metadata": {},
   "outputs": [],
   "source": [
    "# recursion\n",
    "# program to find factorial using recursion\n",
    "def find_factorial(number):\n",
    "    if number == 1:\n",
    "        return 1\n",
    "    else:\n",
    "        return (number * find_factorial(number - 1))\n"
   ]
  },
  {
   "cell_type": "code",
   "execution_count": 643,
   "metadata": {},
   "outputs": [],
   "source": [
    "x = find_factorial(4)"
   ]
  },
  {
   "cell_type": "code",
   "execution_count": 644,
   "metadata": {},
   "outputs": [
    {
     "name": "stdout",
     "output_type": "stream",
     "text": [
      "24\n"
     ]
    }
   ],
   "source": [
    "print(x)"
   ]
  },
  {
   "cell_type": "code",
   "execution_count": 645,
   "metadata": {},
   "outputs": [],
   "source": [
    "power = lambda x: x**2"
   ]
  },
  {
   "cell_type": "code",
   "execution_count": 646,
   "metadata": {},
   "outputs": [
    {
     "name": "stdout",
     "output_type": "stream",
     "text": [
      "4\n"
     ]
    }
   ],
   "source": [
    "print(power(2))"
   ]
  },
  {
   "cell_type": "code",
   "execution_count": 647,
   "metadata": {},
   "outputs": [],
   "source": [
    "three_times = lambda a: a*3"
   ]
  },
  {
   "cell_type": "code",
   "execution_count": 651,
   "metadata": {},
   "outputs": [
    {
     "name": "stdout",
     "output_type": "stream",
     "text": [
      "aaa\n"
     ]
    }
   ],
   "source": [
    "print(three_times(\"a\"))"
   ]
  },
  {
   "cell_type": "code",
   "execution_count": 652,
   "metadata": {},
   "outputs": [
    {
     "name": "stdout",
     "output_type": "stream",
     "text": [
      "9\n"
     ]
    }
   ],
   "source": [
    "print(three_times(3))"
   ]
  },
  {
   "cell_type": "code",
   "execution_count": 653,
   "metadata": {},
   "outputs": [],
   "source": [
    "#lambda map and filter\n",
    "natural = [1,2,3,4,5,6,7,8,9,10]"
   ]
  },
  {
   "cell_type": "code",
   "execution_count": 655,
   "metadata": {},
   "outputs": [],
   "source": [
    "even_natural = list(filter(lambda x: (x%2==0), natural))"
   ]
  },
  {
   "cell_type": "code",
   "execution_count": 656,
   "metadata": {},
   "outputs": [
    {
     "name": "stdout",
     "output_type": "stream",
     "text": [
      "[2, 4, 6, 8, 10]\n"
     ]
    }
   ],
   "source": [
    "print(even_natural)"
   ]
  },
  {
   "cell_type": "code",
   "execution_count": 658,
   "metadata": {},
   "outputs": [],
   "source": [
    "multiplied_by_100 = list(map(lambda x: x*100, natural))"
   ]
  },
  {
   "cell_type": "code",
   "execution_count": 659,
   "metadata": {},
   "outputs": [
    {
     "name": "stdout",
     "output_type": "stream",
     "text": [
      "[100, 200, 300, 400, 500, 600, 700, 800, 900, 1000]\n"
     ]
    }
   ],
   "source": [
    "print(multiplied_by_100)"
   ]
  },
  {
   "cell_type": "code",
   "execution_count": 1,
   "metadata": {},
   "outputs": [],
   "source": [
    "a,b,c=0,\"123\",[1,2,3]"
   ]
  },
  {
   "cell_type": "code",
   "execution_count": 2,
   "metadata": {},
   "outputs": [
    {
     "data": {
      "text/plain": [
       "int"
      ]
     },
     "execution_count": 2,
     "metadata": {},
     "output_type": "execute_result"
    }
   ],
   "source": [
    "type(a)"
   ]
  },
  {
   "cell_type": "code",
   "execution_count": 3,
   "metadata": {},
   "outputs": [
    {
     "data": {
      "text/plain": [
       "str"
      ]
     },
     "execution_count": 3,
     "metadata": {},
     "output_type": "execute_result"
    }
   ],
   "source": [
    "type(b)"
   ]
  },
  {
   "cell_type": "code",
   "execution_count": 4,
   "metadata": {},
   "outputs": [
    {
     "data": {
      "text/plain": [
       "list"
      ]
     },
     "execution_count": 4,
     "metadata": {},
     "output_type": "execute_result"
    }
   ],
   "source": [
    "type(c)"
   ]
  },
  {
   "cell_type": "code",
   "execution_count": 5,
   "metadata": {},
   "outputs": [
    {
     "data": {
      "text/plain": [
       "type"
      ]
     },
     "execution_count": 5,
     "metadata": {},
     "output_type": "execute_result"
    }
   ],
   "source": [
    "type(type)"
   ]
  },
  {
   "cell_type": "code",
   "execution_count": 6,
   "metadata": {},
   "outputs": [
    {
     "ename": "SyntaxError",
     "evalue": "invalid syntax (<ipython-input-6-41b01f6c00e6>, line 1)",
     "output_type": "error",
     "traceback": [
      "\u001b[1;36m  File \u001b[1;32m\"<ipython-input-6-41b01f6c00e6>\"\u001b[1;36m, line \u001b[1;32m1\u001b[0m\n\u001b[1;33m    type(class)\u001b[0m\n\u001b[1;37m             ^\u001b[0m\n\u001b[1;31mSyntaxError\u001b[0m\u001b[1;31m:\u001b[0m invalid syntax\n"
     ]
    }
   ],
   "source": [
    "type(class)"
   ]
  },
  {
   "cell_type": "code",
   "execution_count": 7,
   "metadata": {},
   "outputs": [],
   "source": [
    "class A:\n",
    "    pass"
   ]
  },
  {
   "cell_type": "code",
   "execution_count": 8,
   "metadata": {},
   "outputs": [
    {
     "data": {
      "text/plain": [
       "type"
      ]
     },
     "execution_count": 8,
     "metadata": {},
     "output_type": "execute_result"
    }
   ],
   "source": [
    "type(A)"
   ]
  },
  {
   "cell_type": "code",
   "execution_count": 9,
   "metadata": {},
   "outputs": [],
   "source": [
    "aclass = A()"
   ]
  },
  {
   "cell_type": "code",
   "execution_count": 10,
   "metadata": {},
   "outputs": [
    {
     "data": {
      "text/plain": [
       "type"
      ]
     },
     "execution_count": 10,
     "metadata": {},
     "output_type": "execute_result"
    }
   ],
   "source": [
    "type(A)"
   ]
  },
  {
   "cell_type": "code",
   "execution_count": 11,
   "metadata": {},
   "outputs": [
    {
     "data": {
      "text/plain": [
       "__main__.A"
      ]
     },
     "execution_count": 11,
     "metadata": {},
     "output_type": "execute_result"
    }
   ],
   "source": [
    "type(aclass)"
   ]
  },
  {
   "cell_type": "code",
   "execution_count": 23,
   "metadata": {},
   "outputs": [],
   "source": [
    "# **kwargs demo\n",
    "kel_vay [\"name\"]= \"Deepak\""
   ]
  },
  {
   "cell_type": "code",
   "execution_count": 24,
   "metadata": {},
   "outputs": [
    {
     "name": "stdout",
     "output_type": "stream",
     "text": [
      "{'name': 'Deepak'}\n"
     ]
    }
   ],
   "source": [
    "print(kel_vay)"
   ]
  },
  {
   "cell_type": "code",
   "execution_count": 35,
   "metadata": {},
   "outputs": [],
   "source": [
    "def dict_reader(kwargs):\n",
    "    for key in kwargs.keys():\n",
    "        print(key,\" \")"
   ]
  },
  {
   "cell_type": "code",
   "execution_count": 36,
   "metadata": {},
   "outputs": [
    {
     "name": "stdout",
     "output_type": "stream",
     "text": [
      "name  \n"
     ]
    }
   ],
   "source": [
    "dict_reader(kel_vay)"
   ]
  },
  {
   "cell_type": "code",
   "execution_count": 37,
   "metadata": {},
   "outputs": [],
   "source": [
    "import os"
   ]
  },
  {
   "cell_type": "code",
   "execution_count": 40,
   "metadata": {},
   "outputs": [
    {
     "data": {
      "text/plain": [
       "'C:\\\\Users\\\\Deepak.m\\\\~'"
      ]
     },
     "execution_count": 40,
     "metadata": {},
     "output_type": "execute_result"
    }
   ],
   "source": [
    "os.path.abspath(\"~\")"
   ]
  },
  {
   "cell_type": "code",
   "execution_count": 43,
   "metadata": {},
   "outputs": [
    {
     "ename": "SyntaxError",
     "evalue": "invalid syntax (<ipython-input-43-f5a7e90596d3>, line 1)",
     "output_type": "error",
     "traceback": [
      "\u001b[1;36m  File \u001b[1;32m\"<ipython-input-43-f5a7e90596d3>\"\u001b[1;36m, line \u001b[1;32m1\u001b[0m\n\u001b[1;33m    long_num = 12345l\u001b[0m\n\u001b[1;37m                    ^\u001b[0m\n\u001b[1;31mSyntaxError\u001b[0m\u001b[1;31m:\u001b[0m invalid syntax\n"
     ]
    }
   ],
   "source": [
    "long_num = 12345l"
   ]
  },
  {
   "cell_type": "code",
   "execution_count": 42,
   "metadata": {},
   "outputs": [
    {
     "ename": "NameError",
     "evalue": "name 'long_num' is not defined",
     "output_type": "error",
     "traceback": [
      "\u001b[1;31m---------------------------------------------------------------------------\u001b[0m",
      "\u001b[1;31mNameError\u001b[0m                                 Traceback (most recent call last)",
      "\u001b[1;32m<ipython-input-42-0298d15e52ad>\u001b[0m in \u001b[0;36m<module>\u001b[1;34m()\u001b[0m\n\u001b[1;32m----> 1\u001b[1;33m \u001b[0mprint\u001b[0m\u001b[1;33m(\u001b[0m\u001b[0mlong_num\u001b[0m\u001b[1;33m)\u001b[0m\u001b[1;33m\u001b[0m\u001b[0m\n\u001b[0m",
      "\u001b[1;31mNameError\u001b[0m: name 'long_num' is not defined"
     ]
    }
   ],
   "source": [
    "print(long_num)"
   ]
  },
  {
   "cell_type": "code",
   "execution_count": 44,
   "metadata": {},
   "outputs": [
    {
     "data": {
      "text/plain": [
       "'My Documents'"
      ]
     },
     "execution_count": 44,
     "metadata": {},
     "output_type": "execute_result"
    }
   ],
   "source": [
    "\"My Documents\""
   ]
  },
  {
   "cell_type": "code",
   "execution_count": 45,
   "metadata": {},
   "outputs": [
    {
     "ename": "SyntaxError",
     "evalue": "can't assign to literal (<ipython-input-45-4c4a8c84dc63>, line 1)",
     "output_type": "error",
     "traceback": [
      "\u001b[1;36m  File \u001b[1;32m\"<ipython-input-45-4c4a8c84dc63>\"\u001b[1;36m, line \u001b[1;32m1\u001b[0m\n\u001b[1;33m    'my_name'= 'Nmae'\u001b[0m\n\u001b[1;37m                     ^\u001b[0m\n\u001b[1;31mSyntaxError\u001b[0m\u001b[1;31m:\u001b[0m can't assign to literal\n"
     ]
    }
   ],
   "source": [
    "'my_name'= 'Nmae'"
   ]
  },
  {
   "cell_type": "code",
   "execution_count": 52,
   "metadata": {},
   "outputs": [],
   "source": [
    "my_name = \"DeepaK Mishra\""
   ]
  },
  {
   "cell_type": "code",
   "execution_count": 65,
   "metadata": {},
   "outputs": [
    {
     "data": {
      "text/plain": [
       "7"
      ]
     },
     "execution_count": 65,
     "metadata": {},
     "output_type": "execute_result"
    }
   ],
   "source": [
    "my_name.find('M')"
   ]
  },
  {
   "cell_type": "code",
   "execution_count": 54,
   "metadata": {},
   "outputs": [
    {
     "ename": "NameError",
     "evalue": "name 'casefold' is not defined",
     "output_type": "error",
     "traceback": [
      "\u001b[1;31m---------------------------------------------------------------------------\u001b[0m",
      "\u001b[1;31mNameError\u001b[0m                                 Traceback (most recent call last)",
      "\u001b[1;32m<ipython-input-54-b96ad868ed21>\u001b[0m in \u001b[0;36m<module>\u001b[1;34m()\u001b[0m\n\u001b[1;32m----> 1\u001b[1;33m \u001b[0mdir\u001b[0m\u001b[1;33m(\u001b[0m\u001b[0mcasefold\u001b[0m\u001b[1;33m)\u001b[0m\u001b[1;33m\u001b[0m\u001b[0m\n\u001b[0m",
      "\u001b[1;31mNameError\u001b[0m: name 'casefold' is not defined"
     ]
    }
   ],
   "source": [
    "dir(casefold)"
   ]
  },
  {
   "cell_type": "code",
   "execution_count": 56,
   "metadata": {},
   "outputs": [
    {
     "name": "stdout",
     "output_type": "stream",
     "text": [
      "Help on method_descriptor:\n",
      "\n",
      "casefold(self, /)\n",
      "    Return a version of the string suitable for caseless comparisons.\n",
      "\n"
     ]
    }
   ],
   "source": [
    "help(str.casefold)"
   ]
  },
  {
   "cell_type": "code",
   "execution_count": 66,
   "metadata": {},
   "outputs": [],
   "source": [
    "names = (\"Deepak\", \"Vijaya\", \"Shobha\", \"Jitendra\", \"Sangeeta\")"
   ]
  },
  {
   "cell_type": "code",
   "execution_count": 67,
   "metadata": {},
   "outputs": [
    {
     "data": {
      "text/plain": [
       "True"
      ]
     },
     "execution_count": 67,
     "metadata": {},
     "output_type": "execute_result"
    }
   ],
   "source": [
    "\"Deepak\" in names"
   ]
  },
  {
   "cell_type": "code",
   "execution_count": 68,
   "metadata": {},
   "outputs": [
    {
     "data": {
      "text/plain": [
       "False"
      ]
     },
     "execution_count": 68,
     "metadata": {},
     "output_type": "execute_result"
    }
   ],
   "source": [
    "\"Vijaya\" not in names"
   ]
  },
  {
   "cell_type": "code",
   "execution_count": 71,
   "metadata": {},
   "outputs": [
    {
     "data": {
      "text/plain": [
       "1"
      ]
     },
     "execution_count": 71,
     "metadata": {},
     "output_type": "execute_result"
    }
   ],
   "source": [
    "names.count(\"Deepak\")"
   ]
  },
  {
   "cell_type": "code",
   "execution_count": 72,
   "metadata": {},
   "outputs": [
    {
     "data": {
      "text/plain": [
       "5"
      ]
     },
     "execution_count": 72,
     "metadata": {},
     "output_type": "execute_result"
    }
   ],
   "source": [
    "len(names)"
   ]
  },
  {
   "cell_type": "code",
   "execution_count": 76,
   "metadata": {},
   "outputs": [],
   "source": [
    "set_names = set(names)"
   ]
  },
  {
   "cell_type": "code",
   "execution_count": 79,
   "metadata": {},
   "outputs": [
    {
     "name": "stdout",
     "output_type": "stream",
     "text": [
      "{'Shobha', 'Sangeeta', 'Vijaya', 'f', 'Jitendra', 'Deepak', 'a', 's', 'd'}\n"
     ]
    }
   ],
   "source": [
    "print(set_names)"
   ]
  },
  {
   "cell_type": "code",
   "execution_count": 78,
   "metadata": {},
   "outputs": [],
   "source": [
    "set_names.update(\"sadfas\")"
   ]
  },
  {
   "cell_type": "code",
   "execution_count": 80,
   "metadata": {},
   "outputs": [
    {
     "name": "stdout",
     "output_type": "stream",
     "text": [
      "Help on method_descriptor:\n",
      "\n",
      "update(...)\n",
      "    Update a set with the union of itself and others.\n",
      "\n"
     ]
    }
   ],
   "source": [
    "help(set.update)"
   ]
  },
  {
   "cell_type": "code",
   "execution_count": 82,
   "metadata": {},
   "outputs": [
    {
     "data": {
      "text/plain": [
       "{'Deepak', 'Jitendra', 'Sangeeta', 'Shobha', 'Vijaya', 'a', 'd', 'f', 's'}"
      ]
     },
     "execution_count": 82,
     "metadata": {},
     "output_type": "execute_result"
    }
   ],
   "source": [
    "set_names.union()"
   ]
  },
  {
   "cell_type": "code",
   "execution_count": 88,
   "metadata": {},
   "outputs": [
    {
     "data": {
      "text/plain": [
       "'Deepak'"
      ]
     },
     "execution_count": 88,
     "metadata": {},
     "output_type": "execute_result"
    }
   ],
   "source": [
    "set_names.pop()"
   ]
  },
  {
   "cell_type": "code",
   "execution_count": 89,
   "metadata": {},
   "outputs": [
    {
     "name": "stdout",
     "output_type": "stream",
     "text": [
      "{'a', 's', 'd'}\n"
     ]
    }
   ],
   "source": [
    "print(set_names)"
   ]
  },
  {
   "cell_type": "code",
   "execution_count": 90,
   "metadata": {},
   "outputs": [],
   "source": [
    "fruits = ['apple', 'mango', 'pineapple']"
   ]
  },
  {
   "cell_type": "code",
   "execution_count": 91,
   "metadata": {},
   "outputs": [
    {
     "data": {
      "text/plain": [
       "'apple'"
      ]
     },
     "execution_count": 91,
     "metadata": {},
     "output_type": "execute_result"
    }
   ],
   "source": [
    "fruits[0]"
   ]
  },
  {
   "cell_type": "code",
   "execution_count": 92,
   "metadata": {},
   "outputs": [
    {
     "data": {
      "text/plain": [
       "'mango'"
      ]
     },
     "execution_count": 92,
     "metadata": {},
     "output_type": "execute_result"
    }
   ],
   "source": [
    "fruits[-2]"
   ]
  },
  {
   "cell_type": "code",
   "execution_count": 93,
   "metadata": {},
   "outputs": [
    {
     "data": {
      "text/plain": [
       "'apple'"
      ]
     },
     "execution_count": 93,
     "metadata": {},
     "output_type": "execute_result"
    }
   ],
   "source": [
    "fruits[-3]"
   ]
  },
  {
   "cell_type": "code",
   "execution_count": 94,
   "metadata": {},
   "outputs": [
    {
     "ename": "IndexError",
     "evalue": "list index out of range",
     "output_type": "error",
     "traceback": [
      "\u001b[1;31m---------------------------------------------------------------------------\u001b[0m",
      "\u001b[1;31mIndexError\u001b[0m                                Traceback (most recent call last)",
      "\u001b[1;32m<ipython-input-94-1cb2d66442ee>\u001b[0m in \u001b[0;36m<module>\u001b[1;34m()\u001b[0m\n\u001b[1;32m----> 1\u001b[1;33m \u001b[0mfruits\u001b[0m\u001b[1;33m[\u001b[0m\u001b[1;33m-\u001b[0m\u001b[1;36m4\u001b[0m\u001b[1;33m]\u001b[0m\u001b[1;33m\u001b[0m\u001b[0m\n\u001b[0m",
      "\u001b[1;31mIndexError\u001b[0m: list index out of range"
     ]
    }
   ],
   "source": [
    "fruits[-4]"
   ]
  },
  {
   "cell_type": "code",
   "execution_count": 95,
   "metadata": {},
   "outputs": [
    {
     "name": "stdout",
     "output_type": "stream",
     "text": [
      "['apple', 'mango', 'pineapple']\n"
     ]
    }
   ],
   "source": [
    "print(fruits)"
   ]
  },
  {
   "cell_type": "code",
   "execution_count": 97,
   "metadata": {},
   "outputs": [],
   "source": [
    "fruits.append('last fruit')"
   ]
  },
  {
   "cell_type": "code",
   "execution_count": 98,
   "metadata": {},
   "outputs": [
    {
     "name": "stdout",
     "output_type": "stream",
     "text": [
      "['apple', 'mango', 'pineapple', 'last fruit', 'last fruit']\n"
     ]
    }
   ],
   "source": [
    "print(fruits)"
   ]
  },
  {
   "cell_type": "code",
   "execution_count": 99,
   "metadata": {},
   "outputs": [
    {
     "data": {
      "text/plain": [
       "0"
      ]
     },
     "execution_count": 99,
     "metadata": {},
     "output_type": "execute_result"
    }
   ],
   "source": [
    "fruits.insert('apple')"
   ]
  },
  {
   "cell_type": "code",
   "execution_count": 107,
   "metadata": {},
   "outputs": [],
   "source": [
    "fruits.insert(-10, 'The END')"
   ]
  },
  {
   "cell_type": "code",
   "execution_count": 108,
   "metadata": {},
   "outputs": [
    {
     "name": "stdout",
     "output_type": "stream",
     "text": [
      "['The END', 'The END', 'apple', 'mango', 'pineapple', 'last fruit', 'the final last fruit', 'The END', 'last fruit']\n"
     ]
    }
   ],
   "source": [
    "print(fruits)"
   ]
  },
  {
   "cell_type": "code",
   "execution_count": 113,
   "metadata": {},
   "outputs": [
    {
     "ename": "ValueError",
     "evalue": "list.remove(x): x not in list",
     "output_type": "error",
     "traceback": [
      "\u001b[1;31m---------------------------------------------------------------------------\u001b[0m",
      "\u001b[1;31mValueError\u001b[0m                                Traceback (most recent call last)",
      "\u001b[1;32m<ipython-input-113-02a0b570199b>\u001b[0m in \u001b[0;36m<module>\u001b[1;34m()\u001b[0m\n\u001b[1;32m----> 1\u001b[1;33m \u001b[0mfruits\u001b[0m\u001b[1;33m.\u001b[0m\u001b[0mremove\u001b[0m\u001b[1;33m(\u001b[0m\u001b[1;34m'The END'\u001b[0m\u001b[1;33m)\u001b[0m\u001b[1;33m\u001b[0m\u001b[0m\n\u001b[0m",
      "\u001b[1;31mValueError\u001b[0m: list.remove(x): x not in list"
     ]
    }
   ],
   "source": [
    "fruits.remove('The END')"
   ]
  },
  {
   "cell_type": "code",
   "execution_count": 114,
   "metadata": {},
   "outputs": [
    {
     "name": "stdout",
     "output_type": "stream",
     "text": [
      "['apple', 'mango', 'pineapple', 'last fruit', 'the final last fruit', 'last fruit']\n"
     ]
    }
   ],
   "source": [
    "print(fruits)"
   ]
  },
  {
   "cell_type": "code",
   "execution_count": 115,
   "metadata": {},
   "outputs": [],
   "source": [
    "fruits.insert(0, 'before apple')"
   ]
  },
  {
   "cell_type": "code",
   "execution_count": 116,
   "metadata": {},
   "outputs": [
    {
     "name": "stdout",
     "output_type": "stream",
     "text": [
      "['before apple', 'apple', 'mango', 'pineapple', 'last fruit', 'the final last fruit', 'last fruit']\n"
     ]
    }
   ],
   "source": [
    "print(fruits)"
   ]
  },
  {
   "cell_type": "code",
   "execution_count": 117,
   "metadata": {},
   "outputs": [],
   "source": [
    "fruits.insert(-1, 'after last fruit')"
   ]
  },
  {
   "cell_type": "code",
   "execution_count": 118,
   "metadata": {},
   "outputs": [
    {
     "name": "stdout",
     "output_type": "stream",
     "text": [
      "['before apple', 'apple', 'mango', 'pineapple', 'last fruit', 'the final last fruit', 'after last fruit', 'last fruit']\n"
     ]
    }
   ],
   "source": [
    "print(fruits)"
   ]
  },
  {
   "cell_type": "code",
   "execution_count": 119,
   "metadata": {},
   "outputs": [],
   "source": [
    "del fruits[0]"
   ]
  },
  {
   "cell_type": "code",
   "execution_count": 120,
   "metadata": {},
   "outputs": [
    {
     "name": "stdout",
     "output_type": "stream",
     "text": [
      "['apple', 'mango', 'pineapple', 'last fruit', 'the final last fruit', 'after last fruit', 'last fruit']\n"
     ]
    }
   ],
   "source": [
    "print(fruits)"
   ]
  },
  {
   "cell_type": "code",
   "execution_count": 123,
   "metadata": {},
   "outputs": [],
   "source": [
    "fruits.remove('apple')"
   ]
  },
  {
   "cell_type": "code",
   "execution_count": 124,
   "metadata": {},
   "outputs": [
    {
     "name": "stdout",
     "output_type": "stream",
     "text": [
      "['mango', 'pineapple', 'last fruit', 'the final last fruit', 'after last fruit', 'last fruit']\n"
     ]
    }
   ],
   "source": [
    "print(fruits)"
   ]
  },
  {
   "cell_type": "code",
   "execution_count": 125,
   "metadata": {},
   "outputs": [
    {
     "ename": "TypeError",
     "evalue": "list indices must be integers or slices, not str",
     "output_type": "error",
     "traceback": [
      "\u001b[1;31m---------------------------------------------------------------------------\u001b[0m",
      "\u001b[1;31mTypeError\u001b[0m                                 Traceback (most recent call last)",
      "\u001b[1;32m<ipython-input-125-87b404955fb8>\u001b[0m in \u001b[0;36m<module>\u001b[1;34m()\u001b[0m\n\u001b[1;32m----> 1\u001b[1;33m \u001b[1;32mdel\u001b[0m \u001b[0mfruits\u001b[0m\u001b[1;33m[\u001b[0m\u001b[1;34m'mango'\u001b[0m\u001b[1;33m]\u001b[0m\u001b[1;33m\u001b[0m\u001b[0m\n\u001b[0m",
      "\u001b[1;31mTypeError\u001b[0m: list indices must be integers or slices, not str"
     ]
    }
   ],
   "source": [
    "del fruits['mango']"
   ]
  },
  {
   "cell_type": "code",
   "execution_count": 129,
   "metadata": {},
   "outputs": [
    {
     "data": {
      "text/plain": [
       "['mango', 'last fruit', 'the final last fruit']"
      ]
     },
     "execution_count": 129,
     "metadata": {},
     "output_type": "execute_result"
    }
   ],
   "source": [
    "fruits"
   ]
  },
  {
   "cell_type": "code",
   "execution_count": 130,
   "metadata": {},
   "outputs": [],
   "source": [
    "fruits.append('another one at the end')"
   ]
  },
  {
   "cell_type": "code",
   "execution_count": 131,
   "metadata": {},
   "outputs": [
    {
     "name": "stdout",
     "output_type": "stream",
     "text": [
      "['mango', 'last fruit', 'the final last fruit', 'another one at the end']\n"
     ]
    }
   ],
   "source": [
    "print(fruits)"
   ]
  },
  {
   "cell_type": "code",
   "execution_count": 132,
   "metadata": {},
   "outputs": [
    {
     "name": "stdout",
     "output_type": "stream",
     "text": [
      "['mango', 'last fruit', 'the final last fruit', 'another one at the end']\n"
     ]
    }
   ],
   "source": [
    "print(fruits)"
   ]
  },
  {
   "cell_type": "code",
   "execution_count": 135,
   "metadata": {},
   "outputs": [
    {
     "name": "stdout",
     "output_type": "stream",
     "text": [
      "mango and last fruit and the final last fruit and another one at the end\n"
     ]
    }
   ],
   "source": [
    "print(' and '.join(fruits))"
   ]
  },
  {
   "cell_type": "code",
   "execution_count": 136,
   "metadata": {},
   "outputs": [],
   "source": [
    "#convert a string into list of characters\n",
    "list_of_char = \"mango\".split()"
   ]
  },
  {
   "cell_type": "code",
   "execution_count": 137,
   "metadata": {},
   "outputs": [
    {
     "name": "stdout",
     "output_type": "stream",
     "text": [
      "['mango']\n"
     ]
    }
   ],
   "source": [
    "print(list_of_char)"
   ]
  },
  {
   "cell_type": "code",
   "execution_count": 140,
   "metadata": {},
   "outputs": [],
   "source": [
    "list_of_char = list(\"umbrella\")"
   ]
  },
  {
   "cell_type": "code",
   "execution_count": 141,
   "metadata": {},
   "outputs": [
    {
     "name": "stdout",
     "output_type": "stream",
     "text": [
      "['u', 'm', 'b', 'r', 'e', 'l', 'l', 'a']\n"
     ]
    }
   ],
   "source": [
    "print(list_of_char)"
   ]
  },
  {
   "cell_type": "code",
   "execution_count": 142,
   "metadata": {},
   "outputs": [],
   "source": [
    "list_to_set = set(list_of_char)"
   ]
  },
  {
   "cell_type": "code",
   "execution_count": 143,
   "metadata": {},
   "outputs": [
    {
     "name": "stdout",
     "output_type": "stream",
     "text": [
      "{'e', 'r', 'b', 'u', 'a', 'm', 'l'}\n"
     ]
    }
   ],
   "source": [
    "print(list_to_set)"
   ]
  },
  {
   "cell_type": "code",
   "execution_count": 153,
   "metadata": {},
   "outputs": [
    {
     "name": "stdout",
     "output_type": "stream",
     "text": [
      "None\n"
     ]
    }
   ],
   "source": [
    "print(sorted(list_to_set).reverse())"
   ]
  },
  {
   "cell_type": "code",
   "execution_count": 157,
   "metadata": {},
   "outputs": [
    {
     "name": "stdout",
     "output_type": "stream",
     "text": [
      "None\n"
     ]
    }
   ],
   "source": [
    "print(sorted(list_to_set).reverse())"
   ]
  },
  {
   "cell_type": "code",
   "execution_count": 158,
   "metadata": {},
   "outputs": [],
   "source": [
    "list_to_set_list = list(list_to_set)"
   ]
  },
  {
   "cell_type": "code",
   "execution_count": 162,
   "metadata": {},
   "outputs": [
    {
     "name": "stdout",
     "output_type": "stream",
     "text": [
      "None\n"
     ]
    }
   ],
   "source": [
    "print(list_to_set_list.reverse())"
   ]
  },
  {
   "cell_type": "code",
   "execution_count": 163,
   "metadata": {},
   "outputs": [
    {
     "name": "stdout",
     "output_type": "stream",
     "text": [
      "['e', 'r', 'b', 'u', 'a', 'm', 'l']\n"
     ]
    }
   ],
   "source": [
    "print(list_to_set_list)"
   ]
  },
  {
   "cell_type": "code",
   "execution_count": 165,
   "metadata": {},
   "outputs": [],
   "source": [
    "def vowel_generator():\n",
    "    yield 'a'\n",
    "    yield 'e'\n",
    "    yield 'i'\n",
    "    yield 'o'\n",
    "    yield 'u'\n"
   ]
  },
  {
   "cell_type": "code",
   "execution_count": 176,
   "metadata": {},
   "outputs": [
    {
     "name": "stdout",
     "output_type": "stream",
     "text": [
      "A E I O U "
     ]
    }
   ],
   "source": [
    "for vowel in vowel_generator():\n",
    "    print(str(vowel).upper(), end=' ')"
   ]
  },
  {
   "cell_type": "code",
   "execution_count": 187,
   "metadata": {},
   "outputs": [],
   "source": [
    "generator_obj = vowel_generator()"
   ]
  },
  {
   "cell_type": "code",
   "execution_count": 188,
   "metadata": {},
   "outputs": [
    {
     "name": "stdout",
     "output_type": "stream",
     "text": [
      "a\n"
     ]
    }
   ],
   "source": [
    "print(generator_obj.__next__())"
   ]
  },
  {
   "cell_type": "code",
   "execution_count": 189,
   "metadata": {},
   "outputs": [
    {
     "name": "stdout",
     "output_type": "stream",
     "text": [
      "ABC\n"
     ]
    }
   ],
   "source": [
    "print(_)"
   ]
  },
  {
   "cell_type": "code",
   "execution_count": 190,
   "metadata": {},
   "outputs": [],
   "source": [
    "count = 10"
   ]
  },
  {
   "cell_type": "code",
   "execution_count": 199,
   "metadata": {},
   "outputs": [
    {
     "name": "stdout",
     "output_type": "stream",
     "text": [
      "counting 0\n",
      "counting 1\n",
      "counting 2\n",
      "counting 3\n",
      "counting 4\n",
      "counting 5\n",
      "counting 6\n",
      "counting 7\n",
      "counting 8\n",
      "counting 9\n"
     ]
    }
   ],
   "source": [
    "for _ in range(count):\n",
    "    print(\"counting\", _)\n",
    "\n",
    "import sys"
   ]
  },
  {
   "cell_type": "code",
   "execution_count": 207,
   "metadata": {},
   "outputs": [
    {
     "name": "stdout",
     "output_type": "stream",
     "text": [
      " 241\n",
      "Function name = %s, line num = %s  <genexpr> 241\n",
      "Function name = %s, line num = %s  <genexpr> 241\n",
      "Function name = %s, line num = %s  <genexpr> 241\n",
      "Function name = %s, line num = %s  _build_naive 1209\n",
      "Function name = %s, line num = %s  _build_tzaware 1169\n",
      "Function name = %s, line num = %s  __call__ 9\n",
      "Function name = %s, line num = %s  _ensure_tzinfo 34\n",
      "Function name = %s, line num = %s  __get__ 545\n",
      "Function name = %s, line num = %s  get 526\n",
      "Function name = %s, line num = %s  <lambda> 105\n",
      "Function name = %s, line num = %s  loads 47\n",
      "Function name = %s, line num = %s  loads 299\n",
      "Function name = %s, line num = %s  decode 332\n",
      "Function name = %s, line num = %s  raw_decode 343\n",
      "Function name = %s, line num = %s  extract_dates 62\n",
      "Function name = %s, line num = %s  iteritems 188\n",
      "Function name = %s, line num = %s  __get__ 545\n",
      "Function name = %s, line num = %s  get 526\n",
      "Function name = %s, line num = %s  <lambda> 105\n",
      "Function name = %s, line num = %s  loads 47\n",
      "Function name = %s, line num = %s  loads 299\n",
      "Function name = %s, line num = %s  decode 332\n",
      "Function name = %s, line num = %s  raw_decode 343\n",
      "Function name = %s, line num = %s  __get__ 545\n",
      "Function name = %s, line num = %s  get 526\n",
      "Function name = %s, line num = %s  <lambda> 105\n",
      "Function name = %s, line num = %s  loads 47\n",
      "Function name = %s, line num = %s  loads 299\n",
      "Function name = %s, line num = %s  decode 332\n",
      "Function name = %s, line num = %s  raw_decode 343\n",
      "Function name = %s, line num = %s  <listcomp> 936\n",
      "Function name = %s, line num = %s  __get__ 545\n",
      "Function name = %s, line num = %s  get 526\n",
      "Function name = %s, line num = %s  adapt 368\n",
      "Function name = %s, line num = %s  parent 416\n",
      "Function name = %s, line num = %s  _handle_fromlist 1009\n",
      "Function name = %s, line num = %s  set_parent 128\n",
      "Function name = %s, line num = %s  set_parent 330\n",
      "Function name = %s, line num = %s  __set__ 576\n",
      "Function name = %s, line num = %s  set 558\n",
      "Function name = %s, line num = %s  _validate 587\n",
      "Function name = %s, line num = %s  _cross_validate 596\n",
      "Function name = %s, line num = %s  __set__ 576\n",
      "Function name = %s, line num = %s  set 558\n",
      "Function name = %s, line num = %s  _validate 587\n",
      "Function name = %s, line num = %s  validate 2528\n",
      "Function name = %s, line num = %s  validate 1673\n",
      "Function name = %s, line num = %s  validate_elements 2535\n",
      "Function name = %s, line num = %s  __init__ 419\n",
      "Function name = %s, line num = %s  _cross_validate 596\n",
      "Function name = %s, line num = %s  _notify_trait 1133\n",
      "Function name = %s, line num = %s  notify_change 1142\n",
      "Function name = %s, line num = %s  __getattr__ 11\n",
      "Function name = %s, line num = %s  __getattr__ 11\n",
      "Function name = %s, line num = %s  __get__ 545\n",
      "Function name = %s, line num = %s  get 526\n",
      "Function name = %s, line num = %s  set_parent 574\n",
      "Function name = %s, line num = %s  __set__ 576\n",
      "Function name = %s, line num = %s  set 558\n",
      "Function name = %s, line num = %s  _validate 587\n",
      "Function name = %s, line num = %s  _cross_validate 596\n",
      "Function name = %s, line num = %s  _notify_trait 1133\n",
      "Function name = %s, line num = %s  notify_change 1142\n",
      "Function name = %s, line num = %s  __getattr__ 11\n",
      "Function name = %s, line num = %s  __getattr__ 11\n",
      "Function name = %s, line num = %s  set_parent 56\n",
      "Function name = %s, line num = %s  extract_header 242\n",
      "Function name = %s, line num = %s  __set__ 576\n",
      "Function name = %s, line num = %s  set 558\n",
      "Function name = %s, line num = %s  _validate 587\n",
      "Function name = %s, line num = %s  validate 2528\n",
      "Function name = %s, line num = %s  validate 1673\n",
      "Function name = %s, line num = %s  validate_elements 2535\n",
      "Function name = %s, line num = %s  __init__ 419\n",
      "Function name = %s, line num = %s  _cross_validate 596\n",
      "Function name = %s, line num = %s  _notify_trait 1133\n",
      "Function name = %s, line num = %s  notify_change 1142\n",
      "Function name = %s, line num = %s  __getattr__ 11\n",
      "Function name = %s, line num = %s  __getattr__ 11\n",
      "Function name = %s, line num = %s  set_parent 73\n",
      "Function name = %s, line num = %s  extract_header 242\n",
      "Function name = %s, line num = %s  __set__ 576\n",
      "Function name = %s, line num = %s  set 558\n",
      "Function name = %s, line num = %s  _validate 587\n",
      "Function name = %s, line num = %s  validate 2528\n",
      "Function name = %s, line num = %s  validate 1673\n",
      "Function name = %s, line num = %s  validate_elements 2535\n",
      "Function name = %s, line num = %s  __init__ 419\n",
      "Function name = %s, line num = %s  _cross_validate 596\n",
      "Function name = %s, line num = %s  _notify_trait 1133\n",
      "Function name = %s, line num = %s  notify_change 1142\n",
      "Function name = %s, line num = %s  __getattr__ 11\n",
      "Function name = %s, line num = %s  __getattr__ 11\n",
      "Function name = %s, line num = %s  set_parent 310\n",
      "Function name = %s, line num = %s  extract_header 242\n",
      "Function name = %s, line num = %s  set_parent 310\n",
      "Function name = %s, line num = %s  extract_header 242\n",
      "Function name = %s, line num = %s  _publish_status 321\n",
      "Function name = %s, line num = %s  __get__ 545\n",
      "Function name = %s, line num = %s  get 526\n",
      "Function name = %s, line num = %s  __get__ 545\n",
      "Function name = %s, line num = %s  get 526\n",
      "Function name = %s, line num = %s  __get__ 545\n",
      "Function name = %s, line num = %s  get 526\n",
      "Function name = %s, line num = %s  _topic 627\n",
      "Function name = %s, line num = %s  __get__ 545\n",
      "Function name = %s, line num = %s  get 526\n",
      "Function name = %s, line num = %s  cast_bytes 29\n",
      "Function name = %s, line num = %s  encode 19\n",
      "Function name = %s, line num = %s  encode 11\n",
      "Function name = %s, line num = %s  send 657\n",
      "Function name = %s, line num = %s  msg 564\n",
      "Function name = %s, line num = %s  msg_header 561\n",
      "Function name = %s, line num = %s  msg_id 509\n",
      "Function name = %s, line num = %s  new_id 121\n",
      "Function name = %s, line num = %s  <genexpr> 132\n",
      "Function name = %s, line num = %s  <genexpr> 132\n",
      "Function name = %s, line num = %s  <genexpr> 132\n",
      "Function name = %s, line num = %s  __get__ 545\n",
      "Function name = %s, line num = %s  get 526\n",
      "Function name = %s, line num = %s  __get__ 545\n",
      "Function name = %s, line num = %s  get 526\n",
      "Function name = %s, line num = %s  msg_header 236\n",
      "Function name = %s, line num = %s  utcnow 169\n",
      "Function name = %s, line num = %s  extract_header 242\n",
      "Function name = %s, line num = %s  __get__ 545\n",
      "Function name = %s, line num = %s  get 526\n",
      "Function name = %s, line num = %s  __get__ 545\n",
      "Function name = %s, line num = %s  get 526\n",
      "Function name = %s, line num = %s  __get__ 545\n",
      "Function name = %s, line num = %s  get 526\n",
      "Function name = %s, line num = %s  __get__ 545\n",
      "Function name = %s, line num = %s  get 526\n",
      "Function name = %s, line num = %s  serialize 598\n",
      "Function name = %s, line num = %s  __get__ 545\n",
      "Function name = %s, line num = %s  get 526\n",
      "Function name = %s, line num = %s  <lambda> 102\n",
      "Function name = %s, line num = %s  dumps 31\n",
      "Function name = %s, line num = %s  dumps 183\n",
      "Function name = %s, line num = %s  __init__ 104\n",
      "Function name = %s, line num = %s  encode 182\n",
      "Function name = %s, line num = %s  iterencode 204\n",
      "Function name = %s, line num = %s  __get__ 545\n",
      "Function name = %s, line num = %s  get 526\n",
      "Function name = %s, line num = %s  <lambda> 102\n",
      "Function name = %s, line num = %s  dumps 31\n",
      "Function name = %s, line num = %s  dumps 183\n",
      "Function name = %s, line num = %s  __init__ 104\n",
      "Function name = %s, line num = %s  encode 182\n",
      "Function name = %s, line num = %s  iterencode 204\n",
      "Function name = %s, line num = %s  date_default 87\n",
      "Function name = %s, line num = %s  _ensure_tzinfo 34\n",
      "Function name = %s, line num = %s  __get__ 545\n",
      "Function name = %s, line num = %s  get 526\n",
      "Function name = %s, line num = %s  <lambda> 102\n",
      "Function name = %s, line num = %s  dumps 31\n",
      "Function name = %s, line num = %s  dumps 183\n",
      "Function name = %s, line num = %s  __init__ 104\n",
      "Function name = %s, line num = %s  encode 182\n",
      "Function name = %s, line num = %s  iterencode 204\n",
      "Function name = %s, line num = %s  date_default 87\n",
      "Function name = %s, line num = %s  _ensure_tzinfo 34\n",
      "Function name = %s, line num = %s  utcoffset 69\n",
      "Function name = %s, line num = %s  __get__ 545\n",
      "Function name = %s, line num = %s  get 526\n",
      "Function name = %s, line num = %s  <lambda> 102\n",
      "Function name = %s, line num = %s  dumps 31\n",
      "Function name = %s, line num = %s  dumps 183\n",
      "Function name = %s, line num = %s  __init__ 104\n",
      "Function name = %s, line num = %s  encode 182\n",
      "Function name = %s, line num = %s  iterencode 204\n",
      "Function name = %s, line num = %s  sign 583\n",
      "Function name = %s, line num = %s  __get__ 545\n",
      "Function name = %s, line num = %s  get 526\n",
      "Function name = %s, line num = %s  __get__ 545\n",
      "Function name = %s, line num = %s  get 526\n",
      "Function name = %s, line num = %s  copy 104\n",
      "Function name = %s, line num = %s  update 99\n",
      "Function name = %s, line num = %s  update 99\n",
      "Function name = %s, line num = %s  update 99\n",
      "Function name = %s, line num = %s  update 99\n",
      "Function name = %s, line num = %s  hexdigest 136\n",
      "Function name = %s, line num = %s  _current 117\n",
      "Function name = %s, line num = %s  encode 19\n",
      "Function name = %s, line num = %s  encode 11\n",
      "Function name = %s, line num = %s  <listcomp> 739\n",
      "Function name = %s, line num = %s  __get__ 545\n",
      "Function name = %s, line num = %s  get 526\n",
      "Function name = %s, line num = %s  send_multipart 260\n",
      "Function name = %s, line num = %s  send_multipart 207\n",
      "Function name = %s, line num = %s  schedule 195\n",
      "Function name = %s, line num = %s  is_alive 1080\n",
      "Function name = %s, line num = %s  is_set 507\n",
      "Function name = %s, line num = %s  _wait_for_tstate_lock 1038\n",
      "Function name = %s, line num = %s  _event_pipe 93\n",
      "Function name = %s, line num = %s  send 334\n",
      "Function name = %s, line num = %s  __get__ 545\n",
      "Function name = %s, line num = %s  get 526\n",
      "Function name = %s, line num = %s  __get__ 545\n",
      "Function name = %s, line num = %s  get 526\n",
      "Function name = %s, line num = %s  debug 1310\n",
      "Function name = %s, line num = %s  isEnabledFor 1568\n",
      "Function name = %s, line num = %s  __get__ 545\n",
      "Function name = %s, line num = %s  get 526\n",
      "Function name = %s, line num = %s  debug 1310\n",
      "Function name = %s, line num = %s  isEnabledFor 1568\n",
      "Function name = %s, line num = %s  should_handle 179\n",
      "Function name = %s, line num = %s  __get__ 545\n",
      "Function name = %s, line num = %s  get 526\n",
      "Function name = %s, line num = %s  __get__ 545\n",
      "Function name = %s, line num = %s  get 526\n",
      "Function name = %s, line num = %s  debug 1310\n",
      "Function name = %s, line num = %s  isEnabledFor 1568\n",
      "Function name = %s, line num = %s  pre_handler_hook 243\n",
      "Function name = %s, line num = %s  signal 45\n",
      "Function name = %s, line num = %s  _enum_to_int 35\n",
      "Function name = %s, line num = %s  _enum_to_int 35\n",
      "Function name = %s, line num = %s  _int_to_enum 25\n",
      "Function name = %s, line num = %s  __call__ 281\n",
      "Function name = %s, line num = %s  __new__ 537\n",
      "Function name = %s, line num = %s  execute_request 373\n",
      "Function name = %s, line num = %s  no_code 12\n",
      "Function name = %s, line num = %s  init_metadata 135\n",
      "Function name = %s, line num = %s  init_metadata 355\n",
      "Function name = %s, line num = %s  utcnow 169\n",
      "Function name = %s, line num = %s  __get__ 545\n",
      "Function name = %s, line num = %s  get 526\n",
      "Function name = %s, line num = %s  execution_count 190\n",
      "Function name = %s, line num = %s  __get__ 545\n",
      "Function name = %s, line num = %s  get 526\n",
      "Function name = %s, line num = %s  __get__ 545\n",
      "Function name = %s, line num = %s  get 526\n",
      "Function name = %s, line num = %s  execution_count 194\n",
      "Function name = %s, line num = %s  execution_count 190\n",
      "Function name = %s, line num = %s  __get__ 545\n",
      "Function name = %s, line num = %s  get 526\n",
      "Function name = %s, line num = %s  __get__ 545\n",
      "Function name = %s, line num = %s  get 526\n",
      "Function name = %s, line num = %s  _publish_execute_input 313\n",
      "Function name = %s, line num = %s  __get__ 545\n",
      "Function name = %s, line num = %s  get 526\n",
      "Function name = %s, line num = %s  __get__ 545\n",
      "Function name = %s, line num = %s  get 526\n",
      "Function name = %s, line num = %s  _topic 627\n",
      "Function name = %s, line num = %s  __get__ 545\n",
      "Function name = %s, line num = %s  get 526\n",
      "Function name = %s, line num = %s  cast_bytes 29\n",
      "Function name = %s, line num = %s  encode 19\n",
      "Function name = %s, line num = %s  encode 11\n",
      "Function name = %s, line num = %s  send 657\n",
      "Function name = %s, line num = %s  msg 564\n",
      "Function name = %s, line num = %s  msg_header 561\n",
      "Function name = %s, line num = %s  msg_id 509\n",
      "Function name = %s, line num = %s  new_id 121\n",
      "Function name = %s, line num = %s  <genexpr> 132\n",
      "Function name = %s, line num = %s  <genexpr> 132\n",
      "Function name = %s, line num = %s  <genexpr> 132\n",
      "Function name = %s, line num = %s  __get__ 545\n",
      "Function name = %s, line num = %s  get 526\n",
      "Function name = %s, line num = %s  __get__ 545\n",
      "Function name = %s, line num = %s  get 526\n",
      "Function name = %s, line num = %s  msg_header 236\n",
      "Function name = %s, line num = %s  utcnow 169\n",
      "Function name = %s, line num = %s  extract_header 242\n",
      "Function name = %s, line num = %s  __get__ 545\n",
      "Function name = %s, line num = %s  get 526\n",
      "Function name = %s, line num = %s  __get__ 545\n",
      "Function name = %s, line num = %s  get 526\n",
      "Function name = %s, line num = %s  __get__ 545\n",
      "Function name = %s, line num = %s  get 526\n",
      "Function name = %s, line num = %s  __get__ 545\n",
      "Function name = %s, line num = %s  get 526\n",
      "Function name = %s, line num = %s  serialize 598\n",
      "Function name = %s, line num = %s  __get__ 545\n",
      "Function name = %s, line num = %s  get 526\n",
      "Function name = %s, line num = %s  <lambda> 102\n",
      "Function name = %s, line num = %s  dumps 31\n",
      "Function name = %s, line num = %s  dumps 183\n",
      "Function name = %s, line num = %s  __init__ 104\n",
      "Function name = %s, line num = %s  encode 182\n",
      "Function name = %s, line num = %s  iterencode 204\n",
      "Function name = %s, line num = %s  __get__ 545\n",
      "Function name = %s, line num = %s  get 526\n",
      "Function name = %s, line num = %s  <lambda> 102\n",
      "Function name = %s, line num = %s  dumps 31\n",
      "Function name = %s, line num = %s  dumps 183\n",
      "Function name = %s, line num = %s  __init__ 104\n",
      "Function name = %s, line num = %s  encode 182\n",
      "Function name = %s, line num = %s  iterencode 204\n",
      "Function name = %s, line num = %s  date_default 87\n",
      "Function name = %s, line num = %s  _ensure_tzinfo 34\n",
      "Function name = %s, line num = %s  __get__ 545\n",
      "Function name = %s, line num = %s  get 526\n",
      "Function name = %s, line num = %s  <lambda> 102\n",
      "Function name = %s, line num = %s  dumps 31\n",
      "Function name = %s, line num = %s  dumps 183\n",
      "Function name = %s, line num = %s  __init__ 104\n",
      "Function name = %s, line num = %s  encode 182\n",
      "Function name = %s, line num = %s  iterencode 204\n",
      "Function name = %s, line num = %s  date_default 87\n",
      "Function name = %s, line num = %s  _ensure_tzinfo 34\n",
      "Function name = %s, line num = %s  utcoffset 69\n",
      "Function name = %s, line num = %s  __get__ 545\n",
      "Function name = %s, line num = %s  get 526\n",
      "Function name = %s, line num = %s  <lambda> 102\n",
      "Function name = %s, line num = %s  dumps 31\n",
      "Function name = %s, line num = %s  dumps 183\n",
      "Function name = %s, line num = %s  __init__ 104\n",
      "Function name = %s, line num = %s  encode 182\n",
      "Function name = %s, line num = %s  iterencode 204\n",
      "Function name = %s, line num = %s  sign 583\n",
      "Function name = %s, line num = %s  __get__ 545\n",
      "Function name = %s, line num = %s  get 526\n",
      "Function name = %s, line num = %s  __get__ 545\n",
      "Function name = %s, line num = %s  get 526\n",
      "Function name = %s, line num = %s  copy 104\n",
      "Function name = %s, line num = %s  update 99\n",
      "Function name = %s, line num = %s  update 99\n",
      "Function name = %s, line num = %s  update 99\n",
      "Function name = %s, line num = %s  update 99\n",
      "Function name = %s, line num = %s  hexdigest 136\n",
      "Function name = %s, line num = %s  _current 117\n",
      "Function name = %s, line num = %s  encode 19\n",
      "Function name = %s, line num = %s  encode 11\n",
      "Function name = %s, line num = %s  <listcomp> 739\n",
      "Function name = %s, line num = %s  __get__ 545\n",
      "Function name = %s, line num = %s  get 526\n",
      "Function name = %s, line num = %s  send_multipart 260\n",
      "Function name = %s, line num = %s  send_multipart 207\n",
      "Function name = %s, line num = %s  schedule 195\n",
      "Function name = %s, line num = %s  is_alive 1080\n",
      "Function name = %s, line num = %s  is_set 507\n"
     ]
    },
    {
     "name": "stdout",
     "output_type": "stream",
     "text": [
      "Function name = %s, line num = %s  _wait_for_tstate_lock 1038\n",
      "Function name = %s, line num = %s  _event_pipe 93\n",
      "Function name = %s, line num = %s  send 334\n",
      "Function name = %s, line num = %s  __get__ 545\n",
      "Function name = %s, line num = %s  get 526\n",
      "Function name = %s, line num = %s  do_execute 200\n",
      "Function name = %s, line num = %s  __get__ 545\n",
      "Function name = %s, line num = %s  get 526\n",
      "Function name = %s, line num = %s  _forward_input 162\n",
      "Function name = %s, line num = %s  __set__ 576\n",
      "Function name = %s, line num = %s  set 558\n",
      "Function name = %s, line num = %s  _validate 587\n",
      "Function name = %s, line num = %s  validate 2110\n",
      "Function name = %s, line num = %s  _cross_validate 596\n",
      "Function name = %s, line num = %s  __set__ 576\n",
      "Function name = %s, line num = %s  set 558\n",
      "Function name = %s, line num = %s  _validate 587\n",
      "Function name = %s, line num = %s  _cross_validate 596\n",
      "Function name = %s, line num = %s  run_cell 535\n",
      "Function name = %s, line num = %s  run_cell 2636\n",
      "Function name = %s, line num = %s  _run_cell 2669\n",
      "Function name = %s, line num = %s  __init__ 186\n",
      "Function name = %s, line num = %s  __init__ 211\n",
      "Function name = %s, line num = %s  __get__ 545\n",
      "Function name = %s, line num = %s  get 526\n",
      "Function name = %s, line num = %s  trigger 80\n",
      "Function name = %s, line num = %s  _clear_warning_registry 904\n",
      "Function name = %s, line num = %s  user_global_ns 1104\n",
      "Function name = %s, line num = %s  trigger 80\n",
      "Function name = %s, line num = %s  __get__ 545\n",
      "Function name = %s, line num = %s  get 526\n",
      "Function name = %s, line num = %s  transform_cell 662\n",
      "Function name = %s, line num = %s  reset 595\n",
      "Function name = %s, line num = %s  reset 331\n",
      "Function name = %s, line num = %s  transforms 579\n",
      "Function name = %s, line num = %s  reset 109\n",
      "Function name = %s, line num = %s  leading_indent 483\n",
      "Function name = %s, line num = %s  reset 109\n",
      "Function name = %s, line num = %s  _strip_prompts 418\n",
      "Function name = %s, line num = %s  reset 109\n",
      "Function name = %s, line num = %s  _strip_prompts 418\n",
      "Function name = %s, line num = %s  reset 109\n",
      "Function name = %s, line num = %s  cellmagic 370\n",
      "Function name = %s, line num = %s  reset 109\n",
      "Function name = %s, line num = %s  assemble_logical_lines 177\n",
      "Function name = %s, line num = %s  reset 88\n",
      "Function name = %s, line num = %s  reset 88\n",
      "Function name = %s, line num = %s  reset 88\n",
      "Function name = %s, line num = %s  reset 88\n",
      "Function name = %s, line num = %s  reset 158\n",
      "Function name = %s, line num = %s  reset_tokenizer 126\n",
      "Function name = %s, line num = %s  generate_tokens 564\n",
      "Function name = %s, line num = %s  _tokenize 413\n",
      "Function name = %s, line num = %s  push 673\n",
      "Function name = %s, line num = %s  cast_unicode 28\n",
      "Function name = %s, line num = %s  _store 507\n",
      "Function name = %s, line num = %s  _set_source 522\n",
      "Function name = %s, line num = %s  _transform_line 723\n",
      "Function name = %s, line num = %s  push 102\n",
      "Function name = %s, line num = %s  leading_indent 483\n",
      "Function name = %s, line num = %s  push 102\n",
      "Function name = %s, line num = %s  _strip_prompts 418\n",
      "Function name = %s, line num = %s  push 102\n",
      "Function name = %s, line num = %s  _strip_prompts 418\n",
      "Function name = %s, line num = %s  push 102\n",
      "Function name = %s, line num = %s  cellmagic 370\n",
      "Function name = %s, line num = %s  push 102\n",
      "Function name = %s, line num = %s  assemble_logical_lines 177\n",
      "Function name = %s, line num = %s  push 83\n",
      "Function name = %s, line num = %s  help_end 340\n",
      "Function name = %s, line num = %s  push 83\n",
      "Function name = %s, line num = %s  escaped_commands 264\n",
      "Function name = %s, line num = %s  __init__ 110\n",
      "Function name = %s, line num = %s  split_user_input 53\n",
      "Function name = %s, line num = %s  get_stream_enc 21\n",
      "Function name = %s, line num = %s  cast_unicode 28\n",
      "Function name = %s, line num = %s  push 83\n",
      "Function name = %s, line num = %s  assign_from_magic 524\n",
      "Function name = %s, line num = %s  push 83\n",
      "Function name = %s, line num = %s  assign_from_system 513\n",
      "Function name = %s, line num = %s  push 130\n",
      "Function name = %s, line num = %s  <genexpr> 132\n",
      "Function name = %s, line num = %s  <genexpr> 132\n",
      "Function name = %s, line num = %s  _tokenize 413\n",
      "Function name = %s, line num = %s  __new__ 1\n",
      "Function name = %s, line num = %s  _tokenize 543\n",
      "Function name = %s, line num = %s  __new__ 1\n",
      "Function name = %s, line num = %s  _tokenize 543\n",
      "Function name = %s, line num = %s  __new__ 1\n",
      "Function name = %s, line num = %s  _tokenize 551\n",
      "Function name = %s, line num = %s  __new__ 1\n",
      "Function name = %s, line num = %s  _tokenize 543\n",
      "Function name = %s, line num = %s  __new__ 1\n",
      "Function name = %s, line num = %s  _tokenize 551\n",
      "Function name = %s, line num = %s  __new__ 1\n",
      "Function name = %s, line num = %s  _tokenize 543\n",
      "Function name = %s, line num = %s  __new__ 1\n",
      "Function name = %s, line num = %s  _tokenize 551\n",
      "Function name = %s, line num = %s  __new__ 1\n",
      "Function name = %s, line num = %s  _tokenize 543\n",
      "Function name = %s, line num = %s  __new__ 1\n",
      "Function name = %s, line num = %s  _tokenize 551\n",
      "Function name = %s, line num = %s  __new__ 1\n",
      "Function name = %s, line num = %s  _tokenize 551\n",
      "Function name = %s, line num = %s  __new__ 1\n",
      "Function name = %s, line num = %s  output 169\n",
      "Function name = %s, line num = %s  reset 158\n",
      "Function name = %s, line num = %s  reset_tokenizer 126\n",
      "Function name = %s, line num = %s  generate_tokens 564\n",
      "Function name = %s, line num = %s  _tokenize 514\n",
      "Function name = %s, line num = %s  _transform_line 723\n",
      "Function name = %s, line num = %s  push 102\n",
      "Function name = %s, line num = %s  leading_indent 498\n",
      "Function name = %s, line num = %s  push 102\n",
      "Function name = %s, line num = %s  _strip_prompts 432\n",
      "Function name = %s, line num = %s  push 102\n",
      "Function name = %s, line num = %s  _strip_prompts 432\n",
      "Function name = %s, line num = %s  push 102\n",
      "Function name = %s, line num = %s  cellmagic 375\n",
      "Function name = %s, line num = %s  push 102\n",
      "Function name = %s, line num = %s  assemble_logical_lines 177\n",
      "Function name = %s, line num = %s  push 83\n",
      "Function name = %s, line num = %s  help_end 340\n",
      "Function name = %s, line num = %s  push 83\n",
      "Function name = %s, line num = %s  escaped_commands 264\n",
      "Function name = %s, line num = %s  __init__ 110\n",
      "Function name = %s, line num = %s  split_user_input 53\n",
      "Function name = %s, line num = %s  get_stream_enc 21\n",
      "Function name = %s, line num = %s  cast_unicode 28\n",
      "Function name = %s, line num = %s  push 83\n",
      "Function name = %s, line num = %s  assign_from_magic 524\n",
      "Function name = %s, line num = %s  push 83\n",
      "Function name = %s, line num = %s  assign_from_system 513\n",
      "Function name = %s, line num = %s  push 130\n",
      "Function name = %s, line num = %s  <genexpr> 132\n",
      "Function name = %s, line num = %s  <genexpr> 132\n",
      "Function name = %s, line num = %s  _tokenize 413\n",
      "Function name = %s, line num = %s  __new__ 1\n",
      "Function name = %s, line num = %s  _tokenize 488\n",
      "Function name = %s, line num = %s  __new__ 1\n",
      "Function name = %s, line num = %s  _tokenize 543\n",
      "Function name = %s, line num = %s  __new__ 1\n",
      "Function name = %s, line num = %s  _tokenize 543\n",
      "Function name = %s, line num = %s  __new__ 1\n",
      "Function name = %s, line num = %s  _tokenize 551\n",
      "Function name = %s, line num = %s  __new__ 1\n",
      "Function name = %s, line num = %s  _tokenize 541\n",
      "Function name = %s, line num = %s  __new__ 1\n",
      "Function name = %s, line num = %s  _tokenize 551\n",
      "Function name = %s, line num = %s  __new__ 1\n",
      "Function name = %s, line num = %s  output 169\n",
      "Function name = %s, line num = %s  reset 158\n",
      "Function name = %s, line num = %s  reset_tokenizer 126\n",
      "Function name = %s, line num = %s  generate_tokens 564\n",
      "Function name = %s, line num = %s  _tokenize 514\n",
      "Function name = %s, line num = %s  _transform_line 723\n",
      "Function name = %s, line num = %s  push 102\n",
      "Function name = %s, line num = %s  leading_indent 498\n",
      "Function name = %s, line num = %s  push 102\n",
      "Function name = %s, line num = %s  _strip_prompts 440\n",
      "Function name = %s, line num = %s  push 102\n",
      "Function name = %s, line num = %s  _strip_prompts 440\n",
      "Function name = %s, line num = %s  push 102\n",
      "Function name = %s, line num = %s  cellmagic 375\n",
      "Function name = %s, line num = %s  push 102\n",
      "Function name = %s, line num = %s  assemble_logical_lines 177\n",
      "Function name = %s, line num = %s  push 83\n",
      "Function name = %s, line num = %s  help_end 340\n",
      "Function name = %s, line num = %s  push 83\n",
      "Function name = %s, line num = %s  escaped_commands 264\n",
      "Function name = %s, line num = %s  __init__ 110\n",
      "Function name = %s, line num = %s  split_user_input 53\n",
      "Function name = %s, line num = %s  get_stream_enc 21\n",
      "Function name = %s, line num = %s  cast_unicode 28\n",
      "Function name = %s, line num = %s  push 83\n",
      "Function name = %s, line num = %s  assign_from_magic 524\n",
      "Function name = %s, line num = %s  push 83\n",
      "Function name = %s, line num = %s  assign_from_system 513\n",
      "Function name = %s, line num = %s  push 130\n",
      "Function name = %s, line num = %s  <genexpr> 132\n",
      "Function name = %s, line num = %s  <genexpr> 132\n",
      "Function name = %s, line num = %s  _tokenize 413\n",
      "Function name = %s, line num = %s  __new__ 1\n",
      "Function name = %s, line num = %s  _tokenize 488\n",
      "Function name = %s, line num = %s  __new__ 1\n",
      "Function name = %s, line num = %s  _tokenize 543\n",
      "Function name = %s, line num = %s  __new__ 1\n",
      "Function name = %s, line num = %s  output 169\n",
      "Function name = %s, line num = %s  reset 158\n",
      "Function name = %s, line num = %s  reset_tokenizer 126\n",
      "Function name = %s, line num = %s  generate_tokens 564\n",
      "Function name = %s, line num = %s  _tokenize 514\n",
      "Function name = %s, line num = %s  _transform_line 723\n",
      "Function name = %s, line num = %s  push 102\n",
      "Function name = %s, line num = %s  leading_indent 498\n",
      "Function name = %s, line num = %s  push 102\n",
      "Function name = %s, line num = %s  _strip_prompts 451\n",
      "Function name = %s, line num = %s  push 102\n",
      "Function name = %s, line num = %s  _strip_prompts 451\n",
      "Function name = %s, line num = %s  push 102\n",
      "Function name = %s, line num = %s  cellmagic 375\n",
      "Function name = %s, line num = %s  push 102\n",
      "Function name = %s, line num = %s  assemble_logical_lines 177\n",
      "Function name = %s, line num = %s  push 83\n",
      "Function name = %s, line num = %s  help_end 340\n",
      "Function name = %s, line num = %s  push 83\n",
      "Function name = %s, line num = %s  escaped_commands 264\n",
      "Function name = %s, line num = %s  push 83\n",
      "Function name = %s, line num = %s  assign_from_magic 524\n",
      "Function name = %s, line num = %s  push 83\n",
      "Function name = %s, line num = %s  assign_from_system 513\n",
      "Function name = %s, line num = %s  push 130\n",
      "Function name = %s, line num = %s  <genexpr> 132\n",
      "Function name = %s, line num = %s  <genexpr> 132\n",
      "Function name = %s, line num = %s  reset 158\n",
      "Function name = %s, line num = %s  reset_tokenizer 126\n",
      "Function name = %s, line num = %s  generate_tokens 564\n",
      "Function name = %s, line num = %s  _tokenize 413\n",
      "Function name = %s, line num = %s  _transform_line 723\n",
      "Function name = %s, line num = %s  push 102\n",
      "Function name = %s, line num = %s  leading_indent 498\n",
      "Function name = %s, line num = %s  push 102\n",
      "Function name = %s, line num = %s  _strip_prompts 451\n",
      "Function name = %s, line num = %s  push 102\n",
      "Function name = %s, line num = %s  _strip_prompts 451\n",
      "Function name = %s, line num = %s  push 102\n",
      "Function name = %s, line num = %s  cellmagic 375\n",
      "Function name = %s, line num = %s  push 102\n",
      "Function name = %s, line num = %s  assemble_logical_lines 177\n",
      "Function name = %s, line num = %s  push 83\n",
      "Function name = %s, line num = %s  help_end 340\n",
      "Function name = %s, line num = %s  push 83\n",
      "Function name = %s, line num = %s  escaped_commands 264\n",
      "Function name = %s, line num = %s  __init__ 110\n",
      "Function name = %s, line num = %s  split_user_input 53\n",
      "Function name = %s, line num = %s  get_stream_enc 21\n",
      "Function name = %s, line num = %s  cast_unicode 28\n",
      "Function name = %s, line num = %s  push 83\n",
      "Function name = %s, line num = %s  assign_from_magic 524\n",
      "Function name = %s, line num = %s  push 83\n",
      "Function name = %s, line num = %s  assign_from_system 513\n",
      "Function name = %s, line num = %s  push 130\n",
      "Function name = %s, line num = %s  <genexpr> 132\n",
      "Function name = %s, line num = %s  <genexpr> 132\n",
      "Function name = %s, line num = %s  _tokenize 413\n",
      "Function name = %s, line num = %s  __new__ 1\n",
      "Function name = %s, line num = %s  _tokenize 488\n",
      "Function name = %s, line num = %s  __new__ 1\n",
      "Function name = %s, line num = %s  _tokenize 543\n",
      "Function name = %s, line num = %s  __new__ 1\n",
      "Function name = %s, line num = %s  _tokenize 551\n",
      "Function name = %s, line num = %s  __new__ 1\n",
      "Function name = %s, line num = %s  _tokenize 541\n",
      "Function name = %s, line num = %s  __new__ 1\n",
      "Function name = %s, line num = %s  _tokenize 551\n",
      "Function name = %s, line num = %s  __new__ 1\n",
      "Function name = %s, line num = %s  _tokenize 543\n",
      "Function name = %s, line num = %s  __new__ 1\n",
      "Function name = %s, line num = %s  _tokenize 551\n",
      "Function name = %s, line num = %s  __new__ 1\n",
      "Function name = %s, line num = %s  _tokenize 543\n",
      "Function name = %s, line num = %s  __new__ 1\n",
      "Function name = %s, line num = %s  _tokenize 551\n",
      "Function name = %s, line num = %s  __new__ 1\n",
      "Function name = %s, line num = %s  _tokenize 543\n",
      "Function name = %s, line num = %s  __new__ 1\n",
      "Function name = %s, line num = %s  _tokenize 551\n",
      "Function name = %s, line num = %s  __new__ 1\n",
      "Function name = %s, line num = %s  _tokenize 543\n",
      "Function name = %s, line num = %s  __new__ 1\n",
      "Function name = %s, line num = %s  _tokenize 551\n",
      "Function name = %s, line num = %s  __new__ 1\n",
      "Function name = %s, line num = %s  _tokenize 543\n",
      "Function name = %s, line num = %s  __new__ 1\n",
      "Function name = %s, line num = %s  _tokenize 551\n",
      "Function name = %s, line num = %s  __new__ 1\n",
      "Function name = %s, line num = %s  output 169\n",
      "Function name = %s, line num = %s  reset 158\n",
      "Function name = %s, line num = %s  reset_tokenizer 126\n",
      "Function name = %s, line num = %s  generate_tokens 564\n",
      "Function name = %s, line num = %s  _tokenize 514\n",
      "Function name = %s, line num = %s  _transform_line 723\n",
      "Function name = %s, line num = %s  push 102\n",
      "Function name = %s, line num = %s  leading_indent 498\n",
      "Function name = %s, line num = %s  push 102\n",
      "Function name = %s, line num = %s  _strip_prompts 451\n",
      "Function name = %s, line num = %s  push 102\n",
      "Function name = %s, line num = %s  _strip_prompts 451\n",
      "Function name = %s, line num = %s  push 102\n",
      "Function name = %s, line num = %s  cellmagic 375\n",
      "Function name = %s, line num = %s  push 102\n",
      "Function name = %s, line num = %s  assemble_logical_lines 177\n",
      "Function name = %s, line num = %s  push 83\n",
      "Function name = %s, line num = %s  help_end 340\n",
      "Function name = %s, line num = %s  push 83\n",
      "Function name = %s, line num = %s  escaped_commands 264\n",
      "Function name = %s, line num = %s  __init__ 110\n",
      "Function name = %s, line num = %s  split_user_input 53\n",
      "Function name = %s, line num = %s  get_stream_enc 21\n",
      "Function name = %s, line num = %s  cast_unicode 28\n",
      "Function name = %s, line num = %s  push 83\n",
      "Function name = %s, line num = %s  assign_from_magic 524\n",
      "Function name = %s, line num = %s  push 83\n",
      "Function name = %s, line num = %s  assign_from_system 513\n",
      "Function name = %s, line num = %s  push 130\n",
      "Function name = %s, line num = %s  <genexpr> 132\n",
      "Function name = %s, line num = %s  <genexpr> 132\n",
      "Function name = %s, line num = %s  _tokenize 413\n",
      "Function name = %s, line num = %s  __new__ 1\n",
      "Function name = %s, line num = %s  _tokenize 488\n",
      "Function name = %s, line num = %s  __new__ 1\n",
      "Function name = %s, line num = %s  _tokenize 543\n",
      "Function name = %s, line num = %s  __new__ 1\n",
      "Function name = %s, line num = %s  output 169\n",
      "Function name = %s, line num = %s  reset 158\n",
      "Function name = %s, line num = %s  reset_tokenizer 126\n",
      "Function name = %s, line num = %s  generate_tokens 564\n",
      "Function name = %s, line num = %s  _tokenize 514\n",
      "Function name = %s, line num = %s  _transform_line 723\n",
      "Function name = %s, line num = %s  push 102\n",
      "Function name = %s, line num = %s  leading_indent 498\n",
      "Function name = %s, line num = %s  push 102\n",
      "Function name = %s, line num = %s  _strip_prompts 451\n",
      "Function name = %s, line num = %s  push 102\n",
      "Function name = %s, line num = %s  _strip_prompts 451\n",
      "Function name = %s, line num = %s  push 102\n",
      "Function name = %s, line num = %s  cellmagic 375\n",
      "Function name = %s, line num = %s  push 102\n",
      "Function name = %s, line num = %s  assemble_logical_lines 177\n",
      "Function name = %s, line num = %s  push 83\n",
      "Function name = %s, line num = %s  help_end 340\n",
      "Function name = %s, line num = %s  push 83\n",
      "Function name = %s, line num = %s  escaped_commands 264\n"
     ]
    },
    {
     "name": "stdout",
     "output_type": "stream",
     "text": [
      "Function name = %s, line num = %s  push 83\n",
      "Function name = %s, line num = %s  assign_from_magic 524\n",
      "Function name = %s, line num = %s  push 83\n",
      "Function name = %s, line num = %s  assign_from_system 513\n",
      "Function name = %s, line num = %s  push 130\n",
      "Function name = %s, line num = %s  <genexpr> 132\n",
      "Function name = %s, line num = %s  <genexpr> 132\n",
      "Function name = %s, line num = %s  reset 158\n",
      "Function name = %s, line num = %s  reset_tokenizer 126\n",
      "Function name = %s, line num = %s  generate_tokens 564\n",
      "Function name = %s, line num = %s  _tokenize 413\n",
      "Function name = %s, line num = %s  _transform_line 723\n",
      "Function name = %s, line num = %s  push 102\n",
      "Function name = %s, line num = %s  leading_indent 498\n",
      "Function name = %s, line num = %s  push 102\n",
      "Function name = %s, line num = %s  _strip_prompts 451\n",
      "Function name = %s, line num = %s  push 102\n",
      "Function name = %s, line num = %s  _strip_prompts 451\n",
      "Function name = %s, line num = %s  push 102\n",
      "Function name = %s, line num = %s  cellmagic 375\n",
      "Function name = %s, line num = %s  push 102\n",
      "Function name = %s, line num = %s  assemble_logical_lines 177\n",
      "Function name = %s, line num = %s  push 83\n",
      "Function name = %s, line num = %s  help_end 340\n",
      "Function name = %s, line num = %s  push 83\n",
      "Function name = %s, line num = %s  escaped_commands 264\n",
      "Function name = %s, line num = %s  __init__ 110\n",
      "Function name = %s, line num = %s  split_user_input 53\n",
      "Function name = %s, line num = %s  get_stream_enc 21\n",
      "Function name = %s, line num = %s  cast_unicode 28\n",
      "Function name = %s, line num = %s  push 83\n",
      "Function name = %s, line num = %s  assign_from_magic 524\n",
      "Function name = %s, line num = %s  push 83\n",
      "Function name = %s, line num = %s  assign_from_system 513\n",
      "Function name = %s, line num = %s  push 130\n",
      "Function name = %s, line num = %s  <genexpr> 132\n",
      "Function name = %s, line num = %s  <genexpr> 132\n",
      "Function name = %s, line num = %s  _tokenize 413\n",
      "Function name = %s, line num = %s  __new__ 1\n",
      "Function name = %s, line num = %s  _tokenize 543\n",
      "Function name = %s, line num = %s  __new__ 1\n",
      "Function name = %s, line num = %s  _tokenize 543\n",
      "Function name = %s, line num = %s  __new__ 1\n",
      "Function name = %s, line num = %s  _tokenize 551\n",
      "Function name = %s, line num = %s  __new__ 1\n",
      "Function name = %s, line num = %s  _tokenize 551\n",
      "Function name = %s, line num = %s  __new__ 1\n",
      "Function name = %s, line num = %s  _tokenize 551\n",
      "Function name = %s, line num = %s  __new__ 1\n",
      "Function name = %s, line num = %s  output 169\n",
      "Function name = %s, line num = %s  reset 158\n",
      "Function name = %s, line num = %s  reset_tokenizer 126\n",
      "Function name = %s, line num = %s  generate_tokens 564\n",
      "Function name = %s, line num = %s  _tokenize 514\n",
      "Function name = %s, line num = %s  _transform_line 723\n",
      "Function name = %s, line num = %s  push 102\n",
      "Function name = %s, line num = %s  leading_indent 498\n",
      "Function name = %s, line num = %s  push 102\n",
      "Function name = %s, line num = %s  _strip_prompts 451\n",
      "Function name = %s, line num = %s  push 102\n",
      "Function name = %s, line num = %s  _strip_prompts 451\n",
      "Function name = %s, line num = %s  push 102\n",
      "Function name = %s, line num = %s  cellmagic 375\n",
      "Function name = %s, line num = %s  push 102\n",
      "Function name = %s, line num = %s  assemble_logical_lines 177\n",
      "Function name = %s, line num = %s  push 83\n",
      "Function name = %s, line num = %s  help_end 340\n",
      "Function name = %s, line num = %s  push 83\n",
      "Function name = %s, line num = %s  escaped_commands 264\n",
      "Function name = %s, line num = %s  __init__ 110\n",
      "Function name = %s, line num = %s  split_user_input 53\n",
      "Function name = %s, line num = %s  get_stream_enc 21\n",
      "Function name = %s, line num = %s  cast_unicode 28\n",
      "Function name = %s, line num = %s  push 83\n",
      "Function name = %s, line num = %s  assign_from_magic 524\n",
      "Function name = %s, line num = %s  push 83\n",
      "Function name = %s, line num = %s  assign_from_system 513\n",
      "Function name = %s, line num = %s  push 130\n",
      "Function name = %s, line num = %s  <genexpr> 132\n",
      "Function name = %s, line num = %s  <genexpr> 132\n",
      "Function name = %s, line num = %s  _tokenize 413\n",
      "Function name = %s, line num = %s  __new__ 1\n",
      "Function name = %s, line num = %s  _tokenize 488\n",
      "Function name = %s, line num = %s  __new__ 1\n",
      "Function name = %s, line num = %s  _tokenize 543\n",
      "Function name = %s, line num = %s  __new__ 1\n",
      "Function name = %s, line num = %s  _tokenize 551\n",
      "Function name = %s, line num = %s  __new__ 1\n",
      "Function name = %s, line num = %s  _tokenize 541\n",
      "Function name = %s, line num = %s  __new__ 1\n",
      "Function name = %s, line num = %s  _tokenize 551\n",
      "Function name = %s, line num = %s  __new__ 1\n",
      "Function name = %s, line num = %s  output 169\n",
      "Function name = %s, line num = %s  reset 158\n",
      "Function name = %s, line num = %s  reset_tokenizer 126\n",
      "Function name = %s, line num = %s  generate_tokens 564\n",
      "Function name = %s, line num = %s  _tokenize 514\n",
      "Function name = %s, line num = %s  _transform_line 723\n",
      "Function name = %s, line num = %s  push 102\n",
      "Function name = %s, line num = %s  leading_indent 498\n",
      "Function name = %s, line num = %s  push 102\n",
      "Function name = %s, line num = %s  _strip_prompts 451\n",
      "Function name = %s, line num = %s  push 102\n",
      "Function name = %s, line num = %s  _strip_prompts 451\n",
      "Function name = %s, line num = %s  push 102\n",
      "Function name = %s, line num = %s  cellmagic 375\n",
      "Function name = %s, line num = %s  push 102\n",
      "Function name = %s, line num = %s  assemble_logical_lines 177\n",
      "Function name = %s, line num = %s  push 83\n",
      "Function name = %s, line num = %s  help_end 340\n",
      "Function name = %s, line num = %s  push 83\n",
      "Function name = %s, line num = %s  escaped_commands 264\n",
      "Function name = %s, line num = %s  push 83\n",
      "Function name = %s, line num = %s  assign_from_magic 524\n",
      "Function name = %s, line num = %s  push 83\n",
      "Function name = %s, line num = %s  assign_from_system 513\n",
      "Function name = %s, line num = %s  push 130\n",
      "Function name = %s, line num = %s  <genexpr> 132\n",
      "Function name = %s, line num = %s  <genexpr> 132\n",
      "Function name = %s, line num = %s  reset 158\n",
      "Function name = %s, line num = %s  reset_tokenizer 126\n",
      "Function name = %s, line num = %s  generate_tokens 564\n",
      "Function name = %s, line num = %s  _tokenize 413\n",
      "Function name = %s, line num = %s  _transform_line 723\n",
      "Function name = %s, line num = %s  push 102\n",
      "Function name = %s, line num = %s  leading_indent 498\n",
      "Function name = %s, line num = %s  push 102\n",
      "Function name = %s, line num = %s  _strip_prompts 451\n",
      "Function name = %s, line num = %s  push 102\n",
      "Function name = %s, line num = %s  _strip_prompts 451\n",
      "Function name = %s, line num = %s  push 102\n",
      "Function name = %s, line num = %s  cellmagic 375\n",
      "Function name = %s, line num = %s  push 102\n",
      "Function name = %s, line num = %s  assemble_logical_lines 177\n",
      "Function name = %s, line num = %s  push 83\n",
      "Function name = %s, line num = %s  help_end 340\n",
      "Function name = %s, line num = %s  push 83\n",
      "Function name = %s, line num = %s  escaped_commands 264\n",
      "Function name = %s, line num = %s  push 83\n",
      "Function name = %s, line num = %s  assign_from_magic 524\n",
      "Function name = %s, line num = %s  push 83\n",
      "Function name = %s, line num = %s  assign_from_system 513\n",
      "Function name = %s, line num = %s  push 130\n",
      "Function name = %s, line num = %s  <genexpr> 132\n",
      "Function name = %s, line num = %s  <genexpr> 132\n",
      "Function name = %s, line num = %s  reset 158\n",
      "Function name = %s, line num = %s  reset_tokenizer 126\n",
      "Function name = %s, line num = %s  generate_tokens 564\n",
      "Function name = %s, line num = %s  _tokenize 413\n",
      "Function name = %s, line num = %s  _transform_line 723\n",
      "Function name = %s, line num = %s  push 102\n",
      "Function name = %s, line num = %s  leading_indent 498\n",
      "Function name = %s, line num = %s  push 102\n",
      "Function name = %s, line num = %s  _strip_prompts 451\n",
      "Function name = %s, line num = %s  push 102\n",
      "Function name = %s, line num = %s  _strip_prompts 451\n",
      "Function name = %s, line num = %s  push 102\n",
      "Function name = %s, line num = %s  cellmagic 375\n",
      "Function name = %s, line num = %s  push 102\n",
      "Function name = %s, line num = %s  assemble_logical_lines 177\n",
      "Function name = %s, line num = %s  push 83\n",
      "Function name = %s, line num = %s  help_end 340\n",
      "Function name = %s, line num = %s  push 83\n",
      "Function name = %s, line num = %s  escaped_commands 264\n",
      "Function name = %s, line num = %s  __init__ 110\n",
      "Function name = %s, line num = %s  split_user_input 53\n"
     ]
    },
    {
     "name": "stdout",
     "output_type": "stream",
     "text": [
      "Function name = %s, line num = %s  get_stream_enc 21\n",
      "Function name = %s, line num = %s  cast_unicode 28\n",
      "Function name = %s, line num = %s  push 83\n",
      "Function name = %s, line num = %s  assign_from_magic 524\n",
      "Function name = %s, line num = %s  push 83\n",
      "Function name = %s, line num = %s  assign_from_system 513\n",
      "Function name = %s, line num = %s  push 130\n",
      "Function name = %s, line num = %s  <genexpr> 132\n",
      "Function name = %s, line num = %s  <genexpr> 132\n",
      "Function name = %s, line num = %s  _tokenize 413\n",
      "Function name = %s, line num = %s  __new__ 1\n",
      "Function name = %s, line num = %s  _tokenize 543\n",
      "Function name = %s, line num = %s  __new__ 1\n",
      "Function name = %s, line num = %s  _tokenize 543\n",
      "Function name = %s, line num = %s  __new__ 1\n",
      "Function name = %s, line num = %s  _tokenize 551\n",
      "Function name = %s, line num = %s  __new__ 1\n",
      "Function name = %s, line num = %s  _tokenize 551\n",
      "Function name = %s, line num = %s  __new__ 1\n",
      "Function name = %s, line num = %s  _tokenize 551\n",
      "Function name = %s, line num = %s  __new__ 1\n",
      "Function name = %s, line num = %s  output 169\n",
      "Function name = %s, line num = %s  reset 158\n",
      "Function name = %s, line num = %s  reset_tokenizer 126\n",
      "Function name = %s, line num = %s  generate_tokens 564\n",
      "Function name = %s, line num = %s  _tokenize 514\n",
      "Function name = %s, line num = %s  _transform_line 723\n",
      "Function name = %s, line num = %s  push 102\n",
      "Function name = %s, line num = %s  leading_indent 498\n",
      "Function name = %s, line num = %s  push 102\n",
      "Function name = %s, line num = %s  _strip_prompts 451\n",
      "Function name = %s, line num = %s  push 102\n",
      "Function name = %s, line num = %s  _strip_prompts 451\n",
      "Function name = %s, line num = %s  push 102\n",
      "Function name = %s, line num = %s  cellmagic 375\n",
      "Function name = %s, line num = %s  push 102\n",
      "Function name = %s, line num = %s  assemble_logical_lines 177\n",
      "Function name = %s, line num = %s  push 83\n",
      "Function name = %s, line num = %s  help_end 340\n",
      "Function name = %s, line num = %s  push 83\n",
      "Function name = %s, line num = %s  escaped_commands 264\n",
      "Function name = %s, line num = %s  __init__ 110\n",
      "Function name = %s, line num = %s  split_user_input 53\n",
      "Function name = %s, line num = %s  get_stream_enc 21\n",
      "Function name = %s, line num = %s  cast_unicode 28\n",
      "Function name = %s, line num = %s  push 83\n",
      "Function name = %s, line num = %s  assign_from_magic 524\n",
      "Function name = %s, line num = %s  push 83\n",
      "Function name = %s, line num = %s  assign_from_system 513\n",
      "Function name = %s, line num = %s  push 130\n",
      "Function name = %s, line num = %s  <genexpr> 132\n",
      "Function name = %s, line num = %s  <genexpr> 132\n",
      "Function name = %s, line num = %s  _tokenize 413\n",
      "Function name = %s, line num = %s  __new__ 1\n",
      "Function name = %s, line num = %s  _tokenize 488\n",
      "Function name = %s, line num = %s  __new__ 1\n",
      "Function name = %s, line num = %s  _tokenize 543\n",
      "Function name = %s, line num = %s  __new__ 1\n",
      "Function name = %s, line num = %s  _tokenize 551\n",
      "Function name = %s, line num = %s  __new__ 1\n",
      "Function name = %s, line num = %s  _tokenize 541\n",
      "Function name = %s, line num = %s  __new__ 1\n",
      "Function name = %s, line num = %s  _tokenize 551\n",
      "Function name = %s, line num = %s  __new__ 1\n",
      "Function name = %s, line num = %s  output 169\n",
      "Function name = %s, line num = %s  reset 158\n",
      "Function name = %s, line num = %s  reset_tokenizer 126\n",
      "Function name = %s, line num = %s  generate_tokens 564\n",
      "Function name = %s, line num = %s  _tokenize 514\n",
      "Function name = %s, line num = %s  _transform_line 723\n",
      "Function name = %s, line num = %s  push 102\n",
      "Function name = %s, line num = %s  leading_indent 498\n",
      "Function name = %s, line num = %s  push 102\n",
      "Function name = %s, line num = %s  _strip_prompts 451\n",
      "Function name = %s, line num = %s  push 102\n",
      "Function name = %s, line num = %s  _strip_prompts 451\n",
      "Function name = %s, line num = %s  push 102\n",
      "Function name = %s, line num = %s  cellmagic 375\n",
      "Function name = %s, line num = %s  push 102\n",
      "Function name = %s, line num = %s  assemble_logical_lines 177\n",
      "Function name = %s, line num = %s  push 83\n",
      "Function name = %s, line num = %s  help_end 340\n",
      "Function name = %s, line num = %s  push 83\n",
      "Function name = %s, line num = %s  escaped_commands 264\n",
      "Function name = %s, line num = %s  __init__ 110\n",
      "Function name = %s, line num = %s  split_user_input 53\n",
      "Function name = %s, line num = %s  get_stream_enc 21\n",
      "Function name = %s, line num = %s  cast_unicode 28\n",
      "Function name = %s, line num = %s  push 83\n",
      "Function name = %s, line num = %s  assign_from_magic 524\n",
      "Function name = %s, line num = %s  push 83\n",
      "Function name = %s, line num = %s  assign_from_system 513\n",
      "Function name = %s, line num = %s  push 130\n",
      "Function name = %s, line num = %s  <genexpr> 132\n",
      "Function name = %s, line num = %s  <genexpr> 132\n",
      "Function name = %s, line num = %s  _tokenize 413\n",
      "Function name = %s, line num = %s  __new__ 1\n",
      "Function name = %s, line num = %s  _tokenize 488\n",
      "Function name = %s, line num = %s  __new__ 1\n",
      "Function name = %s, line num = %s  _tokenize 543\n",
      "Function name = %s, line num = %s  __new__ 1\n",
      "Function name = %s, line num = %s  _tokenize 551\n",
      "Function name = %s, line num = %s  __new__ 1\n",
      "Function name = %s, line num = %s  _tokenize 551\n",
      "Function name = %s, line num = %s  __new__ 1\n",
      "Function name = %s, line num = %s  output 169\n",
      "Function name = %s, line num = %s  reset 158\n",
      "Function name = %s, line num = %s  reset_tokenizer 126\n",
      "Function name = %s, line num = %s  generate_tokens 564\n",
      "Function name = %s, line num = %s  _tokenize 514\n",
      "Function name = %s, line num = %s  _transform_line 723\n",
      "Function name = %s, line num = %s  push 102\n",
      "Function name = %s, line num = %s  leading_indent 498\n",
      "Function name = %s, line num = %s  push 102\n",
      "Function name = %s, line num = %s  _strip_prompts 451\n",
      "Function name = %s, line num = %s  push 102\n",
      "Function name = %s, line num = %s  _strip_prompts 451\n",
      "Function name = %s, line num = %s  push 102\n",
      "Function name = %s, line num = %s  cellmagic 375\n",
      "Function name = %s, line num = %s  push 102\n",
      "Function name = %s, line num = %s  assemble_logical_lines 177\n",
      "Function name = %s, line num = %s  push 83\n",
      "Function name = %s, line num = %s  help_end 340\n",
      "Function name = %s, line num = %s  push 83\n",
      "Function name = %s, line num = %s  escaped_commands 264\n",
      "Function name = %s, line num = %s  push 83\n",
      "Function name = %s, line num = %s  assign_from_magic 524\n",
      "Function name = %s, line num = %s  push 83\n",
      "Function name = %s, line num = %s  assign_from_system 513\n",
      "Function name = %s, line num = %s  push 130\n",
      "Function name = %s, line num = %s  <genexpr> 132\n",
      "Function name = %s, line num = %s  <genexpr> 132\n",
      "Function name = %s, line num = %s  reset 158\n",
      "Function name = %s, line num = %s  reset_tokenizer 126\n",
      "Function name = %s, line num = %s  generate_tokens 564\n",
      "Function name = %s, line num = %s  _tokenize 413\n",
      "Function name = %s, line num = %s  _transform_line 723\n",
      "Function name = %s, line num = %s  push 102\n",
      "Function name = %s, line num = %s  leading_indent 498\n",
      "Function name = %s, line num = %s  push 102\n",
      "Function name = %s, line num = %s  _strip_prompts 451\n",
      "Function name = %s, line num = %s  push 102\n",
      "Function name = %s, line num = %s  _strip_prompts 451\n",
      "Function name = %s, line num = %s  push 102\n",
      "Function name = %s, line num = %s  cellmagic 375\n",
      "Function name = %s, line num = %s  push 102\n",
      "Function name = %s, line num = %s  assemble_logical_lines 177\n",
      "Function name = %s, line num = %s  push 83\n",
      "Function name = %s, line num = %s  help_end 340\n",
      "Function name = %s, line num = %s  push 83\n",
      "Function name = %s, line num = %s  escaped_commands 264\n",
      "Function name = %s, line num = %s  push 83\n",
      "Function name = %s, line num = %s  assign_from_magic 524\n",
      "Function name = %s, line num = %s  push 83\n",
      "Function name = %s, line num = %s  assign_from_system 513\n",
      "Function name = %s, line num = %s  push 130\n",
      "Function name = %s, line num = %s  <genexpr> 132\n",
      "Function name = %s, line num = %s  <genexpr> 132\n",
      "Function name = %s, line num = %s  reset 158\n",
      "Function name = %s, line num = %s  reset_tokenizer 126\n",
      "Function name = %s, line num = %s  generate_tokens 564\n",
      "Function name = %s, line num = %s  _tokenize 413\n",
      "Function name = %s, line num = %s  _transform_line 723\n",
      "Function name = %s, line num = %s  push 102\n",
      "Function name = %s, line num = %s  leading_indent 498\n",
      "Function name = %s, line num = %s  push 102\n",
      "Function name = %s, line num = %s  _strip_prompts 451\n"
     ]
    },
    {
     "name": "stdout",
     "output_type": "stream",
     "text": [
      "Function name = %s, line num = %s  push 102\n",
      "Function name = %s, line num = %s  _strip_prompts 451\n",
      "Function name = %s, line num = %s  push 102\n",
      "Function name = %s, line num = %s  cellmagic 375\n",
      "Function name = %s, line num = %s  push 102\n",
      "Function name = %s, line num = %s  assemble_logical_lines 177\n",
      "Function name = %s, line num = %s  push 83\n",
      "Function name = %s, line num = %s  help_end 340\n",
      "Function name = %s, line num = %s  push 83\n",
      "Function name = %s, line num = %s  escaped_commands 264\n",
      "Function name = %s, line num = %s  __init__ 110\n",
      "Function name = %s, line num = %s  split_user_input 53\n",
      "Function name = %s, line num = %s  get_stream_enc 21\n",
      "Function name = %s, line num = %s  cast_unicode 28\n",
      "Function name = %s, line num = %s  push 83\n",
      "Function name = %s, line num = %s  assign_from_magic 524\n",
      "Function name = %s, line num = %s  push 83\n",
      "Function name = %s, line num = %s  assign_from_system 513\n",
      "Function name = %s, line num = %s  push 130\n",
      "Function name = %s, line num = %s  <genexpr> 132\n",
      "Function name = %s, line num = %s  <genexpr> 132\n",
      "Function name = %s, line num = %s  _tokenize 413\n",
      "Function name = %s, line num = %s  __new__ 1\n",
      "Function name = %s, line num = %s  _tokenize 543\n",
      "Function name = %s, line num = %s  __new__ 1\n",
      "Function name = %s, line num = %s  _tokenize 551\n",
      "Function name = %s, line num = %s  __new__ 1\n",
      "Function name = %s, line num = %s  _tokenize 543\n",
      "Function name = %s, line num = %s  __new__ 1\n",
      "Function name = %s, line num = %s  output 169\n",
      "Function name = %s, line num = %s  reset 158\n",
      "Function name = %s, line num = %s  reset_tokenizer 126\n",
      "Function name = %s, line num = %s  generate_tokens 564\n",
      "Function name = %s, line num = %s  _tokenize 514\n",
      "Function name = %s, line num = %s  push 382\n",
      "Function name = %s, line num = %s  _store 507\n",
      "Function name = %s, line num = %s  _set_source 522\n",
      "Function name = %s, line num = %s  __init__ 442\n",
      "Function name = %s, line num = %s  __enter__ 463\n",
      "Function name = %s, line num = %s  simplefilter 154\n",
      "Function name = %s, line num = %s  _add_filter 170\n",
      "Function name = %s, line num = %s  __call__ 149\n",
      "Function name = %s, line num = %s  _maybe_compile 68\n",
      "Function name = %s, line num = %s  __call__ 132\n",
      "Function name = %s, line num = %s  __call__ 132\n",
      "Function name = %s, line num = %s  __call__ 132\n",
      "Function name = %s, line num = %s  __exit__ 482\n",
      "Function name = %s, line num = %s  flush_transformers 611\n",
      "Function name = %s, line num = %s  transforms_in_use 586\n",
      "Function name = %s, line num = %s  _flush 612\n",
      "Function name = %s, line num = %s  _flush 612\n",
      "Function name = %s, line num = %s  _flush 612\n",
      "Function name = %s, line num = %s  _flush 612\n",
      "Function name = %s, line num = %s  _flush 612\n",
      "Function name = %s, line num = %s  _flush 612\n",
      "Function name = %s, line num = %s  _flush 612\n",
      "Function name = %s, line num = %s  _flush 612\n",
      "Function name = %s, line num = %s  _flush 612\n",
      "Function name = %s, line num = %s  _flush 612\n",
      "Function name = %s, line num = %s  reset 109\n",
      "Function name = %s, line num = %s  leading_indent 498\n",
      "Function name = %s, line num = %s  reset 109\n",
      "Function name = %s, line num = %s  _strip_prompts 451\n",
      "Function name = %s, line num = %s  reset 109\n",
      "Function name = %s, line num = %s  _strip_prompts 451\n",
      "Function name = %s, line num = %s  reset 109\n",
      "Function name = %s, line num = %s  cellmagic 375\n",
      "Function name = %s, line num = %s  reset 109\n",
      "Function name = %s, line num = %s  assemble_logical_lines 177\n",
      "Function name = %s, line num = %s  reset 88\n",
      "Function name = %s, line num = %s  reset 88\n",
      "Function name = %s, line num = %s  reset 88\n",
      "Function name = %s, line num = %s  reset 88\n",
      "Function name = %s, line num = %s  reset 158\n",
      "Function name = %s, line num = %s  reset_tokenizer 126\n",
      "Function name = %s, line num = %s  generate_tokens 564\n",
      "Function name = %s, line num = %s  _tokenize 413\n",
      "Function name = %s, line num = %s  reset 595\n",
      "Function name = %s, line num = %s  reset 331\n",
      "Function name = %s, line num = %s  transforms 579\n",
      "Function name = %s, line num = %s  reset 109\n",
      "Function name = %s, line num = %s  leading_indent 483\n",
      "Function name = %s, line num = %s  reset 109\n",
      "Function name = %s, line num = %s  _strip_prompts 418\n",
      "Function name = %s, line num = %s  reset 109\n",
      "Function name = %s, line num = %s  _strip_prompts 418\n",
      "Function name = %s, line num = %s  reset 109\n",
      "Function name = %s, line num = %s  cellmagic 367\n",
      "Function name = %s, line num = %s  reset 109\n",
      "Function name = %s, line num = %s  assemble_logical_lines 177\n",
      "Function name = %s, line num = %s  reset 88\n",
      "Function name = %s, line num = %s  reset 88\n",
      "Function name = %s, line num = %s  reset 88\n",
      "Function name = %s, line num = %s  reset 88\n",
      "Function name = %s, line num = %s  reset 158\n",
      "Function name = %s, line num = %s  reset_tokenizer 126\n",
      "Function name = %s, line num = %s  generate_tokens 564\n",
      "Function name = %s, line num = %s  _tokenize 413\n",
      "Function name = %s, line num = %s  __get__ 545\n",
      "Function name = %s, line num = %s  get 526\n",
      "Function name = %s, line num = %s  __get__ 545\n",
      "Function name = %s, line num = %s  get 526\n",
      "Function name = %s, line num = %s  store_inputs 691\n",
      "Function name = %s, line num = %s  __get__ 545\n",
      "Function name = %s, line num = %s  get 526\n",
      "Function name = %s, line num = %s  __get__ 545\n",
      "Function name = %s, line num = %s  get 526\n",
      "Function name = %s, line num = %s  __get__ 545\n",
      "Function name = %s, line num = %s  get 526\n",
      "Function name = %s, line num = %s  __get__ 545\n",
      "Function name = %s, line num = %s  get 526\n",
      "Function name = %s, line num = %s  __get__ 545\n",
      "Function name = %s, line num = %s  get 526\n",
      "Function name = %s, line num = %s  __get__ 545\n",
      "Function name = %s, line num = %s  get 526\n",
      "Function name = %s, line num = %s  set 513\n",
      "Function name = %s, line num = %s  __enter__ 240\n",
      "Function name = %s, line num = %s  notify_all 358\n",
      "Function name = %s, line num = %s  notify 335\n",
      "Function name = %s, line num = %s  _is_owned 255\n",
      "Function name = %s, line num = %s  __exit__ 243\n",
      "Function name = %s, line num = %s  __get__ 545\n",
      "Function name = %s, line num = %s  get 526\n",
      "Function name = %s, line num = %s  __set__ 576\n",
      "Function name = %s, line num = %s  set 558\n",
      "Function name = %s, line num = %s  _validate 587\n",
      "Function name = %s, line num = %s  validate 2045\n",
      "Function name = %s, line num = %s  _cross_validate 596\n",
      "Function name = %s, line num = %s  _notify_trait 1133\n",
      "Function name = %s, line num = %s  notify_change 1142\n",
      "Function name = %s, line num = %s  __getattr__ 11\n",
      "Function name = %s, line num = %s  __getattr__ 11\n",
      "Function name = %s, line num = %s  __get__ 545\n",
      "Function name = %s, line num = %s  get 526\n",
      "Function name = %s, line num = %s  __set__ 576\n",
      "Function name = %s, line num = %s  set 558\n",
      "Function name = %s, line num = %s  _validate 587\n",
      "Function name = %s, line num = %s  validate 2045\n",
      "Function name = %s, line num = %s  _cross_validate 596\n",
      "Function name = %s, line num = %s  _notify_trait 1133\n",
      "Function name = %s, line num = %s  notify_change 1142\n",
      "Function name = %s, line num = %s  __getattr__ 11\n",
      "Function name = %s, line num = %s  __getattr__ 11\n",
      "Function name = %s, line num = %s  __get__ 545\n",
      "Function name = %s, line num = %s  get 526\n",
      "Function name = %s, line num = %s  __set__ 576\n",
      "Function name = %s, line num = %s  set 558\n",
      "Function name = %s, line num = %s  _validate 587\n",
      "Function name = %s, line num = %s  validate 2045\n",
      "Function name = %s, line num = %s  _cross_validate 596\n",
      "Function name = %s, line num = %s  _notify_trait 1133\n",
      "Function name = %s, line num = %s  notify_change 1142\n",
      "Function name = %s, line num = %s  __getattr__ 11\n",
      "Function name = %s, line num = %s  __getattr__ 11\n",
      "Function name = %s, line num = %s  __set__ 576\n",
      "Function name = %s, line num = %s  set 558\n",
      "Function name = %s, line num = %s  _validate 587\n",
      "Function name = %s, line num = %s  validate 2045\n",
      "Function name = %s, line num = %s  _cross_validate 596\n",
      "Function name = %s, line num = %s  _notify_trait 1133\n",
      "Function name = %s, line num = %s  notify_change 1142\n",
      "Function name = %s, line num = %s  __getattr__ 11\n",
      "Function name = %s, line num = %s  __getattr__ 11\n",
      "Function name = %s, line num = %s  __get__ 545\n",
      "Function name = %s, line num = %s  get 526\n",
      "Function name = %s, line num = %s  __get__ 545\n",
      "Function name = %s, line num = %s  get 526\n",
      "Function name = %s, line num = %s  __get__ 545\n",
      "Function name = %s, line num = %s  get 526\n",
      "Function name = %s, line num = %s  __get__ 545\n",
      "Function name = %s, line num = %s  get 526\n",
      "Function name = %s, line num = %s  __get__ 545\n",
      "Function name = %s, line num = %s  get 526\n",
      "Function name = %s, line num = %s  __get__ 545\n",
      "Function name = %s, line num = %s  get 526\n",
      "Function name = %s, line num = %s  push 1353\n",
      "Function name = %s, line num = %s  log 167\n",
      "Function name = %s, line num = %s  log_write 187\n",
      "Function name = %s, line num = %s  __get__ 545\n",
      "Function name = %s, line num = %s  get 526\n",
      "Function name = %s, line num = %s  __enter__ 39\n",
      "Function name = %s, line num = %s  activate 72\n",
      "Function name = %s, line num = %s  add_builtin 53\n",
      "Function name = %s, line num = %s  add_builtin 53\n",
      "Function name = %s, line num = %s  add_builtin 53\n",
      "Function name = %s, line num = %s  __get__ 545\n",
      "Function name = %s, line num = %s  get 526\n",
      "Function name = %s, line num = %s  cache 131\n",
      "Function name = %s, line num = %s  code_name 53\n",
      "Function name = %s, line num = %s  <listcomp> 149\n",
      "Function name = %s, line num = %s  __get__ 545\n",
      "Function name = %s, line num = %s  get 526\n",
      "Function name = %s, line num = %s  __enter__ 48\n",
      "Function name = %s, line num = %s  set 61\n",
      "Function name = %s, line num = %s  __get__ 545\n",
      "Function name = %s, line num = %s  get 526\n",
      "Function name = %s, line num = %s  __get__ 545\n",
      "Function name = %s, line num = %s  get 526\n",
      "Function name = %s, line num = %s  ast_parse 112\n",
      "Function name = %s, line num = %s  _fix_module_ds 95\n",
      "Function name = %s, line num = %s  _handle_fromlist 1009\n",
      "Function name = %s, line num = %s  transform_ast 2803\n",
      "Function name = %s, line num = %s  __get__ 545\n",
      "Function name = %s, line num = %s  get 526\n",
      "Function name = %s, line num = %s  __get__ 545\n",
      "Function name = %s, line num = %s  get 526\n",
      "Function name = %s, line num = %s  __set__ 576\n",
      "Function name = %s, line num = %s  set 558\n",
      "Function name = %s, line num = %s  _validate 587\n",
      "Function name = %s, line num = %s  validate 1673\n",
      "Function name = %s, line num = %s  _cross_validate 596\n",
      "Function name = %s, line num = %s  _notify_trait 1133\n",
      "Function name = %s, line num = %s  notify_change 1142\n",
      "Function name = %s, line num = %s  __getattr__ 11\n",
      "Function name = %s, line num = %s  __getattr__ 11\n",
      "Function name = %s, line num = %s  __get__ 545\n",
      "Function name = %s, line num = %s  get 526\n",
      "Function name = %s, line num = %s  run_ast_nodes 2835\n",
      "Function name = %s, line num = %s  __call__ 132\n",
      "Function name = %s, line num = %s  run_code 2931\n",
      "Function name = %s, line num = %s  __getattr__ 125\n",
      "Function name = %s, line num = %s  __call__ 142\n",
      "Function name = %s, line num = %s  pre_run_code_hook 207\n",
      "Function name = %s, line num = %s  user_global_ns 1104\n",
      "Function name = %s, line num = %s  <module> 1\n",
      "Function name = %s, line num = %s  __call__ 132\n",
      "Function name = %s, line num = %s  run_code 2931\n",
      "Function name = %s, line num = %s  __getattr__ 125\n",
      "Function name = %s, line num = %s  __call__ 142\n",
      "Function name = %s, line num = %s  pre_run_code_hook 207\n",
      "Function name = %s, line num = %s  user_global_ns 1104\n",
      "Function name = %s, line num = %s  <module> 8\n",
      "Function name = %s, line num = %s  __call__ 132\n",
      "Function name = %s, line num = %s  run_code 2931\n",
      "Function name = %s, line num = %s  __getattr__ 125\n",
      "Function name = %s, line num = %s  __call__ 142\n",
      "Function name = %s, line num = %s  pre_run_code_hook 207\n",
      "Function name = %s, line num = %s  user_global_ns 1104\n",
      "Function name = %s, line num = %s  <module> 12\n",
      "Function name = %s, line num = %s  __call__ 132\n",
      "Function name = %s, line num = %s  run_code 2931\n",
      "Function name = %s, line num = %s  __getattr__ 125\n",
      "Function name = %s, line num = %s  __call__ 142\n",
      "Function name = %s, line num = %s  pre_run_code_hook 207\n",
      "Function name = %s, line num = %s  user_global_ns 1104\n",
      "Function name = %s, line num = %s  <module> 17\n",
      "Function name = %s, line num = %s  showtraceback 1826\n",
      "Function name = %s, line num = %s  _get_exc_info 1778\n",
      "Function name = %s, line num = %s  structured_traceback 1367\n",
      "Function name = %s, line num = %s  structured_traceback 1275\n",
      "Function name = %s, line num = %s  structured_traceback 1128\n",
      "Function name = %s, line num = %s  format_exception_as_a_whole 1056\n",
      "Function name = %s, line num = %s  prepare_header 1019\n",
      "Function name = %s, line num = %s  __getattr__ 125\n",
      "Function name = %s, line num = %s  __getattr__ 125\n",
      "Function name = %s, line num = %s  get_terminal_size 109\n",
      "Function name = %s, line num = %s  get_terminal_size 1064\n",
      "Function name = %s, line num = %s  __getitem__ 673\n",
      "Function name = %s, line num = %s  encodekey 743\n",
      "Function name = %s, line num = %s  check_str 737\n",
      "Function name = %s, line num = %s  __getitem__ 673\n",
      "Function name = %s, line num = %s  encodekey 743\n",
      "Function name = %s, line num = %s  check_str 737\n",
      "Function name = %s, line num = %s  get_records 1090\n",
      "Function name = %s, line num = %s  wrapped 305\n",
      "Function name = %s, line num = %s  _fixed_getinnerframes 341\n",
      "Function name = %s, line num = %s  getinnerframes 1488\n",
      "Function name = %s, line num = %s  getframeinfo 1437\n",
      "Function name = %s, line num = %s  istraceback 228\n",
      "Function name = %s, line num = %s  isframe 238\n",
      "Function name = %s, line num = %s  getsourcefile 680\n",
      "Function name = %s, line num = %s  getfile 642\n",
      "Function name = %s, line num = %s  ismodule 63\n",
      "Function name = %s, line num = %s  isclass 72\n",
      "Function name = %s, line num = %s  ismethod 80\n",
      "Function name = %s, line num = %s  isfunction 158\n",
      "Function name = %s, line num = %s  istraceback 228\n",
      "Function name = %s, line num = %s  isframe 238\n",
      "Function name = %s, line num = %s  iscode 252\n",
      "Function name = %s, line num = %s  <genexpr> 687\n",
      "Function name = %s, line num = %s  <genexpr> 687\n",
      "Function name = %s, line num = %s  <genexpr> 687\n",
      "Function name = %s, line num = %s  <genexpr> 690\n",
      "Function name = %s, line num = %s  <genexpr> 690\n",
      "Function name = %s, line num = %s  <genexpr> 690\n",
      "Function name = %s, line num = %s  exists 16\n",
      "Function name = %s, line num = %s  findsource 155\n",
      "Function name = %s, line num = %s  getsourcefile 680\n",
      "Function name = %s, line num = %s  getfile 642\n",
      "Function name = %s, line num = %s  ismodule 63\n",
      "Function name = %s, line num = %s  isclass 72\n",
      "Function name = %s, line num = %s  ismethod 80\n",
      "Function name = %s, line num = %s  isfunction 158\n",
      "Function name = %s, line num = %s  istraceback 228\n",
      "Function name = %s, line num = %s  isframe 238\n",
      "Function name = %s, line num = %s  iscode 252\n",
      "Function name = %s, line num = %s  <genexpr> 687\n",
      "Function name = %s, line num = %s  <genexpr> 687\n",
      "Function name = %s, line num = %s  <genexpr> 687\n",
      "Function name = %s, line num = %s  <genexpr> 690\n",
      "Function name = %s, line num = %s  <genexpr> 690\n",
      "Function name = %s, line num = %s  <genexpr> 690\n",
      "Function name = %s, line num = %s  exists 16\n",
      "Function name = %s, line num = %s  isframe 238\n",
      "Function name = %s, line num = %s  getlines 37\n",
      "Function name = %s, line num = %s  ismodule 63\n",
      "Function name = %s, line num = %s  isclass 72\n",
      "Function name = %s, line num = %s  ismethod 80\n",
      "Function name = %s, line num = %s  isfunction 158\n",
      "Function name = %s, line num = %s  istraceback 228\n",
      "Function name = %s, line num = %s  isframe 238\n",
      "Function name = %s, line num = %s  iscode 252\n",
      "Function name = %s, line num = %s  compile 232\n",
      "Function name = %s, line num = %s  _compile 271\n",
      "Function name = %s, line num = %s  __new__ 1\n",
      "Function name = %s, line num = %s  __new__ 1\n",
      "Function name = %s, line num = %s  getframeinfo 1437\n",
      "Function name = %s, line num = %s  istraceback 228\n",
      "Function name = %s, line num = %s  isframe 238\n",
      "Function name = %s, line num = %s  getsourcefile 680\n",
      "Function name = %s, line num = %s  getfile 642\n",
      "Function name = %s, line num = %s  ismodule 63\n",
      "Function name = %s, line num = %s  isclass 72\n",
      "Function name = %s, line num = %s  ismethod 80\n",
      "Function name = %s, line num = %s  isfunction 158\n",
      "Function name = %s, line num = %s  istraceback 228\n",
      "Function name = %s, line num = %s  isframe 238\n",
      "Function name = %s, line num = %s  iscode 252\n",
      "Function name = %s, line num = %s  <genexpr> 687\n",
      "Function name = %s, line num = %s  <genexpr> 687\n",
      "Function name = %s, line num = %s  <genexpr> 687\n",
      "Function name = %s, line num = %s  <genexpr> 690\n",
      "Function name = %s, line num = %s  <genexpr> 690\n"
     ]
    },
    {
     "name": "stdout",
     "output_type": "stream",
     "text": [
      "Function name = %s, line num = %s  <genexpr> 690\n",
      "Function name = %s, line num = %s  exists 16\n",
      "Function name = %s, line num = %s  getmodule 714\n",
      "Function name = %s, line num = %s  ismodule 63\n",
      "Function name = %s, line num = %s  getabsfile 702\n",
      "Function name = %s, line num = %s  abspath 517\n",
      "Function name = %s, line num = %s  normpath 450\n",
      "Function name = %s, line num = %s  splitdrive 122\n",
      "Function name = %s, line num = %s  normcase 44\n",
      "Function name = %s, line num = %s  ismodule 63\n",
      "Function name = %s, line num = %s  ismodule 63\n",
      "Function name = %s, line num = %s  ismodule 63\n",
      "Function name = %s, line num = %s  ismodule 63\n",
      "Function name = %s, line num = %s  ismodule 63\n",
      "Function name = %s, line num = %s  ismodule 63\n",
      "Function name = %s, line num = %s  ismodule 63\n",
      "Function name = %s, line num = %s  ismodule 63\n",
      "Function name = %s, line num = %s  ismodule 63\n",
      "Function name = %s, line num = %s  ismodule 63\n",
      "Function name = %s, line num = %s  ismodule 63\n",
      "Function name = %s, line num = %s  ismodule 63\n",
      "Function name = %s, line num = %s  ismodule 63\n",
      "Function name = %s, line num = %s  ismodule 63\n",
      "Function name = %s, line num = %s  ismodule 63\n",
      "Function name = %s, line num = %s  ismodule 63\n",
      "Function name = %s, line num = %s  ismodule 63\n",
      "Function name = %s, line num = %s  ismodule 63\n",
      "Function name = %s, line num = %s  ismodule 63\n",
      "Function name = %s, line num = %s  ismodule 63\n",
      "Function name = %s, line num = %s  ismodule 63\n",
      "Function name = %s, line num = %s  ismodule 63\n",
      "Function name = %s, line num = %s  ismodule 63\n",
      "Function name = %s, line num = %s  ismodule 63\n",
      "Function name = %s, line num = %s  ismodule 63\n",
      "Function name = %s, line num = %s  ismodule 63\n",
      "Function name = %s, line num = %s  ismodule 63\n",
      "Function name = %s, line num = %s  ismodule 63\n",
      "Function name = %s, line num = %s  ismodule 63\n",
      "Function name = %s, line num = %s  ismodule 63\n",
      "Function name = %s, line num = %s  ismodule 63\n",
      "Function name = %s, line num = %s  ismodule 63\n",
      "Function name = %s, line num = %s  ismodule 63\n",
      "Function name = %s, line num = %s  ismodule 63\n",
      "Function name = %s, line num = %s  ismodule 63\n",
      "Function name = %s, line num = %s  ismodule 63\n",
      "Function name = %s, line num = %s  ismodule 63\n",
      "Function name = %s, line num = %s  ismodule 63\n",
      "Function name = %s, line num = %s  ismodule 63\n",
      "Function name = %s, line num = %s  ismodule 63\n",
      "Function name = %s, line num = %s  ismodule 63\n",
      "Function name = %s, line num = %s  ismodule 63\n",
      "Function name = %s, line num = %s  ismodule 63\n",
      "Function name = %s, line num = %s  ismodule 63\n",
      "Function name = %s, line num = %s  ismodule 63\n",
      "Function name = %s, line num = %s  ismodule 63\n",
      "Function name = %s, line num = %s  ismodule 63\n",
      "Function name = %s, line num = %s  ismodule 63\n",
      "Function name = %s, line num = %s  ismodule 63\n",
      "Function name = %s, line num = %s  ismodule 63\n",
      "Function name = %s, line num = %s  ismodule 63\n",
      "Function name = %s, line num = %s  ismodule 63\n",
      "Function name = %s, line num = %s  ismodule 63\n",
      "Function name = %s, line num = %s  ismodule 63\n",
      "Function name = %s, line num = %s  ismodule 63\n",
      "Function name = %s, line num = %s  ismodule 63\n",
      "Function name = %s, line num = %s  ismodule 63\n",
      "Function name = %s, line num = %s  ismodule 63\n",
      "Function name = %s, line num = %s  ismodule 63\n",
      "Function name = %s, line num = %s  ismodule 63\n",
      "Function name = %s, line num = %s  ismodule 63\n",
      "Function name = %s, line num = %s  ismodule 63\n",
      "Function name = %s, line num = %s  ismodule 63\n",
      "Function name = %s, line num = %s  ismodule 63\n",
      "Function name = %s, line num = %s  ismodule 63\n",
      "Function name = %s, line num = %s  ismodule 63\n",
      "Function name = %s, line num = %s  ismodule 63\n",
      "Function name = %s, line num = %s  ismodule 63\n",
      "Function name = %s, line num = %s  ismodule 63\n",
      "Function name = %s, line num = %s  ismodule 63\n",
      "Function name = %s, line num = %s  ismodule 63\n",
      "Function name = %s, line num = %s  ismodule 63\n",
      "Function name = %s, line num = %s  ismodule 63\n",
      "Function name = %s, line num = %s  ismodule 63\n",
      "Function name = %s, line num = %s  ismodule 63\n",
      "Function name = %s, line num = %s  ismodule 63\n",
      "Function name = %s, line num = %s  ismodule 63\n",
      "Function name = %s, line num = %s  ismodule 63\n",
      "Function name = %s, line num = %s  ismodule 63\n",
      "Function name = %s, line num = %s  ismodule 63\n",
      "Function name = %s, line num = %s  ismodule 63\n",
      "Function name = %s, line num = %s  ismodule 63\n",
      "Function name = %s, line num = %s  ismodule 63\n",
      "Function name = %s, line num = %s  ismodule 63\n",
      "Function name = %s, line num = %s  ismodule 63\n",
      "Function name = %s, line num = %s  ismodule 63\n",
      "Function name = %s, line num = %s  ismodule 63\n",
      "Function name = %s, line num = %s  ismodule 63\n",
      "Function name = %s, line num = %s  ismodule 63\n",
      "Function name = %s, line num = %s  ismodule 63\n",
      "Function name = %s, line num = %s  ismodule 63\n",
      "Function name = %s, line num = %s  ismodule 63\n",
      "Function name = %s, line num = %s  ismodule 63\n",
      "Function name = %s, line num = %s  ismodule 63\n",
      "Function name = %s, line num = %s  ismodule 63\n",
      "Function name = %s, line num = %s  ismodule 63\n",
      "Function name = %s, line num = %s  ismodule 63\n",
      "Function name = %s, line num = %s  ismodule 63\n",
      "Function name = %s, line num = %s  ismodule 63\n",
      "Function name = %s, line num = %s  ismodule 63\n",
      "Function name = %s, line num = %s  ismodule 63\n",
      "Function name = %s, line num = %s  ismodule 63\n",
      "Function name = %s, line num = %s  ismodule 63\n",
      "Function name = %s, line num = %s  ismodule 63\n",
      "Function name = %s, line num = %s  ismodule 63\n",
      "Function name = %s, line num = %s  ismodule 63\n",
      "Function name = %s, line num = %s  ismodule 63\n",
      "Function name = %s, line num = %s  ismodule 63\n",
      "Function name = %s, line num = %s  ismodule 63\n",
      "Function name = %s, line num = %s  ismodule 63\n",
      "Function name = %s, line num = %s  ismodule 63\n",
      "Function name = %s, line num = %s  ismodule 63\n",
      "Function name = %s, line num = %s  ismodule 63\n",
      "Function name = %s, line num = %s  ismodule 63\n",
      "Function name = %s, line num = %s  ismodule 63\n",
      "Function name = %s, line num = %s  ismodule 63\n",
      "Function name = %s, line num = %s  ismodule 63\n",
      "Function name = %s, line num = %s  ismodule 63\n",
      "Function name = %s, line num = %s  ismodule 63\n",
      "Function name = %s, line num = %s  ismodule 63\n",
      "Function name = %s, line num = %s  ismodule 63\n",
      "Function name = %s, line num = %s  ismodule 63\n",
      "Function name = %s, line num = %s  ismodule 63\n",
      "Function name = %s, line num = %s  ismodule 63\n",
      "Function name = %s, line num = %s  ismodule 63\n",
      "Function name = %s, line num = %s  ismodule 63\n",
      "Function name = %s, line num = %s  ismodule 63\n",
      "Function name = %s, line num = %s  ismodule 63\n",
      "Function name = %s, line num = %s  ismodule 63\n",
      "Function name = %s, line num = %s  ismodule 63\n",
      "Function name = %s, line num = %s  ismodule 63\n",
      "Function name = %s, line num = %s  ismodule 63\n",
      "Function name = %s, line num = %s  ismodule 63\n",
      "Function name = %s, line num = %s  ismodule 63\n",
      "Function name = %s, line num = %s  ismodule 63\n",
      "Function name = %s, line num = %s  ismodule 63\n",
      "Function name = %s, line num = %s  ismodule 63\n",
      "Function name = %s, line num = %s  ismodule 63\n",
      "Function name = %s, line num = %s  ismodule 63\n",
      "Function name = %s, line num = %s  ismodule 63\n",
      "Function name = %s, line num = %s  ismodule 63\n",
      "Function name = %s, line num = %s  ismodule 63\n",
      "Function name = %s, line num = %s  ismodule 63\n",
      "Function name = %s, line num = %s  ismodule 63\n",
      "Function name = %s, line num = %s  ismodule 63\n",
      "Function name = %s, line num = %s  ismodule 63\n",
      "Function name = %s, line num = %s  ismodule 63\n",
      "Function name = %s, line num = %s  ismodule 63\n",
      "Function name = %s, line num = %s  ismodule 63\n",
      "Function name = %s, line num = %s  ismodule 63\n",
      "Function name = %s, line num = %s  ismodule 63\n",
      "Function name = %s, line num = %s  ismodule 63\n",
      "Function name = %s, line num = %s  ismodule 63\n",
      "Function name = %s, line num = %s  ismodule 63\n",
      "Function name = %s, line num = %s  ismodule 63\n",
      "Function name = %s, line num = %s  ismodule 63\n",
      "Function name = %s, line num = %s  ismodule 63\n",
      "Function name = %s, line num = %s  ismodule 63\n",
      "Function name = %s, line num = %s  ismodule 63\n",
      "Function name = %s, line num = %s  ismodule 63\n",
      "Function name = %s, line num = %s  ismodule 63\n",
      "Function name = %s, line num = %s  ismodule 63\n",
      "Function name = %s, line num = %s  ismodule 63\n",
      "Function name = %s, line num = %s  ismodule 63\n",
      "Function name = %s, line num = %s  ismodule 63\n",
      "Function name = %s, line num = %s  ismodule 63\n",
      "Function name = %s, line num = %s  ismodule 63\n",
      "Function name = %s, line num = %s  ismodule 63\n",
      "Function name = %s, line num = %s  ismodule 63\n",
      "Function name = %s, line num = %s  ismodule 63\n",
      "Function name = %s, line num = %s  ismodule 63\n",
      "Function name = %s, line num = %s  ismodule 63\n",
      "Function name = %s, line num = %s  ismodule 63\n",
      "Function name = %s, line num = %s  ismodule 63\n",
      "Function name = %s, line num = %s  ismodule 63\n",
      "Function name = %s, line num = %s  ismodule 63\n",
      "Function name = %s, line num = %s  ismodule 63\n",
      "Function name = %s, line num = %s  ismodule 63\n",
      "Function name = %s, line num = %s  ismodule 63\n",
      "Function name = %s, line num = %s  ismodule 63\n",
      "Function name = %s, line num = %s  ismodule 63\n",
      "Function name = %s, line num = %s  ismodule 63\n",
      "Function name = %s, line num = %s  ismodule 63\n",
      "Function name = %s, line num = %s  ismodule 63\n",
      "Function name = %s, line num = %s  ismodule 63\n",
      "Function name = %s, line num = %s  ismodule 63\n",
      "Function name = %s, line num = %s  ismodule 63\n",
      "Function name = %s, line num = %s  ismodule 63\n",
      "Function name = %s, line num = %s  ismodule 63\n",
      "Function name = %s, line num = %s  ismodule 63\n",
      "Function name = %s, line num = %s  ismodule 63\n",
      "Function name = %s, line num = %s  ismodule 63\n",
      "Function name = %s, line num = %s  ismodule 63\n",
      "Function name = %s, line num = %s  ismodule 63\n",
      "Function name = %s, line num = %s  ismodule 63\n",
      "Function name = %s, line num = %s  ismodule 63\n",
      "Function name = %s, line num = %s  ismodule 63\n",
      "Function name = %s, line num = %s  ismodule 63\n",
      "Function name = %s, line num = %s  ismodule 63\n",
      "Function name = %s, line num = %s  ismodule 63\n",
      "Function name = %s, line num = %s  ismodule 63\n",
      "Function name = %s, line num = %s  ismodule 63\n",
      "Function name = %s, line num = %s  ismodule 63\n",
      "Function name = %s, line num = %s  ismodule 63\n",
      "Function name = %s, line num = %s  ismodule 63\n",
      "Function name = %s, line num = %s  ismodule 63\n",
      "Function name = %s, line num = %s  ismodule 63\n",
      "Function name = %s, line num = %s  ismodule 63\n",
      "Function name = %s, line num = %s  ismodule 63\n",
      "Function name = %s, line num = %s  ismodule 63\n",
      "Function name = %s, line num = %s  ismodule 63\n",
      "Function name = %s, line num = %s  ismodule 63\n",
      "Function name = %s, line num = %s  ismodule 63\n",
      "Function name = %s, line num = %s  ismodule 63\n",
      "Function name = %s, line num = %s  ismodule 63\n",
      "Function name = %s, line num = %s  ismodule 63\n",
      "Function name = %s, line num = %s  ismodule 63\n",
      "Function name = %s, line num = %s  ismodule 63\n",
      "Function name = %s, line num = %s  ismodule 63\n",
      "Function name = %s, line num = %s  ismodule 63\n",
      "Function name = %s, line num = %s  ismodule 63\n",
      "Function name = %s, line num = %s  ismodule 63\n",
      "Function name = %s, line num = %s  ismodule 63\n",
      "Function name = %s, line num = %s  ismodule 63\n",
      "Function name = %s, line num = %s  ismodule 63\n",
      "Function name = %s, line num = %s  ismodule 63\n",
      "Function name = %s, line num = %s  ismodule 63\n",
      "Function name = %s, line num = %s  ismodule 63\n",
      "Function name = %s, line num = %s  ismodule 63\n",
      "Function name = %s, line num = %s  ismodule 63\n",
      "Function name = %s, line num = %s  ismodule 63\n",
      "Function name = %s, line num = %s  ismodule 63\n",
      "Function name = %s, line num = %s  ismodule 63\n",
      "Function name = %s, line num = %s  ismodule 63\n",
      "Function name = %s, line num = %s  ismodule 63\n",
      "Function name = %s, line num = %s  ismodule 63\n",
      "Function name = %s, line num = %s  ismodule 63\n",
      "Function name = %s, line num = %s  ismodule 63\n",
      "Function name = %s, line num = %s  ismodule 63\n",
      "Function name = %s, line num = %s  ismodule 63\n",
      "Function name = %s, line num = %s  ismodule 63\n",
      "Function name = %s, line num = %s  ismodule 63\n",
      "Function name = %s, line num = %s  ismodule 63\n",
      "Function name = %s, line num = %s  ismodule 63\n",
      "Function name = %s, line num = %s  ismodule 63\n",
      "Function name = %s, line num = %s  ismodule 63\n",
      "Function name = %s, line num = %s  ismodule 63\n",
      "Function name = %s, line num = %s  ismodule 63\n",
      "Function name = %s, line num = %s  ismodule 63\n",
      "Function name = %s, line num = %s  ismodule 63\n",
      "Function name = %s, line num = %s  ismodule 63\n",
      "Function name = %s, line num = %s  ismodule 63\n",
      "Function name = %s, line num = %s  ismodule 63\n",
      "Function name = %s, line num = %s  ismodule 63\n",
      "Function name = %s, line num = %s  ismodule 63\n",
      "Function name = %s, line num = %s  ismodule 63\n",
      "Function name = %s, line num = %s  ismodule 63\n",
      "Function name = %s, line num = %s  ismodule 63\n",
      "Function name = %s, line num = %s  ismodule 63\n",
      "Function name = %s, line num = %s  ismodule 63\n",
      "Function name = %s, line num = %s  ismodule 63\n",
      "Function name = %s, line num = %s  ismodule 63\n",
      "Function name = %s, line num = %s  ismodule 63\n",
      "Function name = %s, line num = %s  ismodule 63\n",
      "Function name = %s, line num = %s  ismodule 63\n",
      "Function name = %s, line num = %s  ismodule 63\n",
      "Function name = %s, line num = %s  ismodule 63\n",
      "Function name = %s, line num = %s  ismodule 63\n",
      "Function name = %s, line num = %s  ismodule 63\n",
      "Function name = %s, line num = %s  ismodule 63\n",
      "Function name = %s, line num = %s  ismodule 63\n",
      "Function name = %s, line num = %s  ismodule 63\n",
      "Function name = %s, line num = %s  ismodule 63\n",
      "Function name = %s, line num = %s  ismodule 63\n",
      "Function name = %s, line num = %s  ismodule 63\n",
      "Function name = %s, line num = %s  ismodule 63\n",
      "Function name = %s, line num = %s  ismodule 63\n",
      "Function name = %s, line num = %s  ismodule 63\n",
      "Function name = %s, line num = %s  ismodule 63\n",
      "Function name = %s, line num = %s  ismodule 63\n",
      "Function name = %s, line num = %s  ismodule 63\n",
      "Function name = %s, line num = %s  ismodule 63\n",
      "Function name = %s, line num = %s  ismodule 63\n",
      "Function name = %s, line num = %s  ismodule 63\n",
      "Function name = %s, line num = %s  ismodule 63\n",
      "Function name = %s, line num = %s  ismodule 63\n",
      "Function name = %s, line num = %s  ismodule 63\n",
      "Function name = %s, line num = %s  ismodule 63\n",
      "Function name = %s, line num = %s  ismodule 63\n",
      "Function name = %s, line num = %s  ismodule 63\n",
      "Function name = %s, line num = %s  ismodule 63\n",
      "Function name = %s, line num = %s  ismodule 63\n",
      "Function name = %s, line num = %s  ismodule 63\n",
      "Function name = %s, line num = %s  ismodule 63\n",
      "Function name = %s, line num = %s  ismodule 63\n",
      "Function name = %s, line num = %s  ismodule 63\n",
      "Function name = %s, line num = %s  ismodule 63\n",
      "Function name = %s, line num = %s  ismodule 63\n",
      "Function name = %s, line num = %s  ismodule 63\n",
      "Function name = %s, line num = %s  ismodule 63\n",
      "Function name = %s, line num = %s  ismodule 63\n",
      "Function name = %s, line num = %s  ismodule 63\n",
      "Function name = %s, line num = %s  ismodule 63\n",
      "Function name = %s, line num = %s  ismodule 63\n",
      "Function name = %s, line num = %s  ismodule 63\n",
      "Function name = %s, line num = %s  ismodule 63\n",
      "Function name = %s, line num = %s  ismodule 63\n",
      "Function name = %s, line num = %s  ismodule 63\n",
      "Function name = %s, line num = %s  ismodule 63\n",
      "Function name = %s, line num = %s  ismodule 63\n",
      "Function name = %s, line num = %s  ismodule 63\n",
      "Function name = %s, line num = %s  ismodule 63\n",
      "Function name = %s, line num = %s  ismodule 63\n",
      "Function name = %s, line num = %s  ismodule 63\n",
      "Function name = %s, line num = %s  ismodule 63\n",
      "Function name = %s, line num = %s  ismodule 63\n",
      "Function name = %s, line num = %s  ismodule 63\n",
      "Function name = %s, line num = %s  ismodule 63\n",
      "Function name = %s, line num = %s  ismodule 63\n",
      "Function name = %s, line num = %s  ismodule 63\n",
      "Function name = %s, line num = %s  ismodule 63\n",
      "Function name = %s, line num = %s  ismodule 63\n",
      "Function name = %s, line num = %s  ismodule 63\n",
      "Function name = %s, line num = %s  ismodule 63\n"
     ]
    },
    {
     "name": "stdout",
     "output_type": "stream",
     "text": [
      "Function name = %s, line num = %s  ismodule 63\n",
      "Function name = %s, line num = %s  ismodule 63\n",
      "Function name = %s, line num = %s  ismodule 63\n",
      "Function name = %s, line num = %s  ismodule 63\n",
      "Function name = %s, line num = %s  ismodule 63\n",
      "Function name = %s, line num = %s  ismodule 63\n",
      "Function name = %s, line num = %s  ismodule 63\n",
      "Function name = %s, line num = %s  ismodule 63\n",
      "Function name = %s, line num = %s  ismodule 63\n",
      "Function name = %s, line num = %s  ismodule 63\n",
      "Function name = %s, line num = %s  ismodule 63\n",
      "Function name = %s, line num = %s  ismodule 63\n",
      "Function name = %s, line num = %s  ismodule 63\n",
      "Function name = %s, line num = %s  ismodule 63\n",
      "Function name = %s, line num = %s  ismodule 63\n",
      "Function name = %s, line num = %s  ismodule 63\n",
      "Function name = %s, line num = %s  ismodule 63\n",
      "Function name = %s, line num = %s  ismodule 63\n",
      "Function name = %s, line num = %s  ismodule 63\n",
      "Function name = %s, line num = %s  ismodule 63\n",
      "Function name = %s, line num = %s  ismodule 63\n",
      "Function name = %s, line num = %s  ismodule 63\n",
      "Function name = %s, line num = %s  ismodule 63\n",
      "Function name = %s, line num = %s  ismodule 63\n",
      "Function name = %s, line num = %s  ismodule 63\n",
      "Function name = %s, line num = %s  ismodule 63\n",
      "Function name = %s, line num = %s  ismodule 63\n",
      "Function name = %s, line num = %s  ismodule 63\n",
      "Function name = %s, line num = %s  ismodule 63\n",
      "Function name = %s, line num = %s  ismodule 63\n",
      "Function name = %s, line num = %s  ismodule 63\n",
      "Function name = %s, line num = %s  ismodule 63\n",
      "Function name = %s, line num = %s  ismodule 63\n",
      "Function name = %s, line num = %s  ismodule 63\n",
      "Function name = %s, line num = %s  ismodule 63\n",
      "Function name = %s, line num = %s  ismodule 63\n",
      "Function name = %s, line num = %s  ismodule 63\n",
      "Function name = %s, line num = %s  ismodule 63\n",
      "Function name = %s, line num = %s  ismodule 63\n",
      "Function name = %s, line num = %s  ismodule 63\n",
      "Function name = %s, line num = %s  ismodule 63\n",
      "Function name = %s, line num = %s  ismodule 63\n",
      "Function name = %s, line num = %s  ismodule 63\n",
      "Function name = %s, line num = %s  ismodule 63\n",
      "Function name = %s, line num = %s  ismodule 63\n",
      "Function name = %s, line num = %s  ismodule 63\n",
      "Function name = %s, line num = %s  ismodule 63\n",
      "Function name = %s, line num = %s  ismodule 63\n",
      "Function name = %s, line num = %s  ismodule 63\n",
      "Function name = %s, line num = %s  ismodule 63\n",
      "Function name = %s, line num = %s  ismodule 63\n",
      "Function name = %s, line num = %s  ismodule 63\n",
      "Function name = %s, line num = %s  ismodule 63\n",
      "Function name = %s, line num = %s  ismodule 63\n",
      "Function name = %s, line num = %s  ismodule 63\n",
      "Function name = %s, line num = %s  ismodule 63\n",
      "Function name = %s, line num = %s  ismodule 63\n",
      "Function name = %s, line num = %s  ismodule 63\n",
      "Function name = %s, line num = %s  ismodule 63\n",
      "Function name = %s, line num = %s  ismodule 63\n",
      "Function name = %s, line num = %s  ismodule 63\n",
      "Function name = %s, line num = %s  ismodule 63\n",
      "Function name = %s, line num = %s  ismodule 63\n",
      "Function name = %s, line num = %s  ismodule 63\n",
      "Function name = %s, line num = %s  ismodule 63\n",
      "Function name = %s, line num = %s  ismodule 63\n",
      "Function name = %s, line num = %s  ismodule 63\n",
      "Function name = %s, line num = %s  ismodule 63\n",
      "Function name = %s, line num = %s  ismodule 63\n",
      "Function name = %s, line num = %s  ismodule 63\n",
      "Function name = %s, line num = %s  ismodule 63\n",
      "Function name = %s, line num = %s  ismodule 63\n",
      "Function name = %s, line num = %s  ismodule 63\n",
      "Function name = %s, line num = %s  ismodule 63\n",
      "Function name = %s, line num = %s  ismodule 63\n",
      "Function name = %s, line num = %s  ismodule 63\n",
      "Function name = %s, line num = %s  ismodule 63\n",
      "Function name = %s, line num = %s  ismodule 63\n",
      "Function name = %s, line num = %s  ismodule 63\n",
      "Function name = %s, line num = %s  ismodule 63\n",
      "Function name = %s, line num = %s  ismodule 63\n",
      "Function name = %s, line num = %s  ismodule 63\n",
      "Function name = %s, line num = %s  ismodule 63\n",
      "Function name = %s, line num = %s  ismodule 63\n",
      "Function name = %s, line num = %s  ismodule 63\n",
      "Function name = %s, line num = %s  ismodule 63\n",
      "Function name = %s, line num = %s  ismodule 63\n",
      "Function name = %s, line num = %s  ismodule 63\n",
      "Function name = %s, line num = %s  ismodule 63\n",
      "Function name = %s, line num = %s  ismodule 63\n",
      "Function name = %s, line num = %s  ismodule 63\n",
      "Function name = %s, line num = %s  ismodule 63\n",
      "Function name = %s, line num = %s  ismodule 63\n",
      "Function name = %s, line num = %s  ismodule 63\n",
      "Function name = %s, line num = %s  ismodule 63\n",
      "Function name = %s, line num = %s  ismodule 63\n",
      "Function name = %s, line num = %s  ismodule 63\n",
      "Function name = %s, line num = %s  ismodule 63\n",
      "Function name = %s, line num = %s  ismodule 63\n",
      "Function name = %s, line num = %s  ismodule 63\n",
      "Function name = %s, line num = %s  ismodule 63\n",
      "Function name = %s, line num = %s  ismodule 63\n",
      "Function name = %s, line num = %s  ismodule 63\n",
      "Function name = %s, line num = %s  ismodule 63\n",
      "Function name = %s, line num = %s  ismodule 63\n",
      "Function name = %s, line num = %s  ismodule 63\n",
      "Function name = %s, line num = %s  ismodule 63\n",
      "Function name = %s, line num = %s  ismodule 63\n",
      "Function name = %s, line num = %s  ismodule 63\n",
      "Function name = %s, line num = %s  ismodule 63\n",
      "Function name = %s, line num = %s  ismodule 63\n",
      "Function name = %s, line num = %s  ismodule 63\n",
      "Function name = %s, line num = %s  ismodule 63\n",
      "Function name = %s, line num = %s  ismodule 63\n",
      "Function name = %s, line num = %s  ismodule 63\n",
      "Function name = %s, line num = %s  ismodule 63\n",
      "Function name = %s, line num = %s  ismodule 63\n",
      "Function name = %s, line num = %s  ismodule 63\n",
      "Function name = %s, line num = %s  ismodule 63\n",
      "Function name = %s, line num = %s  ismodule 63\n",
      "Function name = %s, line num = %s  ismodule 63\n",
      "Function name = %s, line num = %s  ismodule 63\n",
      "Function name = %s, line num = %s  ismodule 63\n",
      "Function name = %s, line num = %s  ismodule 63\n",
      "Function name = %s, line num = %s  ismodule 63\n",
      "Function name = %s, line num = %s  ismodule 63\n",
      "Function name = %s, line num = %s  ismodule 63\n",
      "Function name = %s, line num = %s  ismodule 63\n",
      "Function name = %s, line num = %s  ismodule 63\n",
      "Function name = %s, line num = %s  ismodule 63\n",
      "Function name = %s, line num = %s  ismodule 63\n",
      "Function name = %s, line num = %s  ismodule 63\n",
      "Function name = %s, line num = %s  ismodule 63\n",
      "Function name = %s, line num = %s  ismodule 63\n",
      "Function name = %s, line num = %s  ismodule 63\n",
      "Function name = %s, line num = %s  ismodule 63\n",
      "Function name = %s, line num = %s  ismodule 63\n",
      "Function name = %s, line num = %s  ismodule 63\n",
      "Function name = %s, line num = %s  ismodule 63\n",
      "Function name = %s, line num = %s  ismodule 63\n",
      "Function name = %s, line num = %s  ismodule 63\n",
      "Function name = %s, line num = %s  ismodule 63\n",
      "Function name = %s, line num = %s  ismodule 63\n",
      "Function name = %s, line num = %s  ismodule 63\n",
      "Function name = %s, line num = %s  ismodule 63\n",
      "Function name = %s, line num = %s  ismodule 63\n",
      "Function name = %s, line num = %s  ismodule 63\n",
      "Function name = %s, line num = %s  ismodule 63\n",
      "Function name = %s, line num = %s  ismodule 63\n",
      "Function name = %s, line num = %s  ismodule 63\n",
      "Function name = %s, line num = %s  ismodule 63\n",
      "Function name = %s, line num = %s  ismodule 63\n",
      "Function name = %s, line num = %s  ismodule 63\n",
      "Function name = %s, line num = %s  ismodule 63\n",
      "Function name = %s, line num = %s  ismodule 63\n",
      "Function name = %s, line num = %s  ismodule 63\n",
      "Function name = %s, line num = %s  ismodule 63\n",
      "Function name = %s, line num = %s  ismodule 63\n",
      "Function name = %s, line num = %s  ismodule 63\n",
      "Function name = %s, line num = %s  ismodule 63\n",
      "Function name = %s, line num = %s  ismodule 63\n",
      "Function name = %s, line num = %s  ismodule 63\n",
      "Function name = %s, line num = %s  ismodule 63\n",
      "Function name = %s, line num = %s  ismodule 63\n",
      "Function name = %s, line num = %s  ismodule 63\n",
      "Function name = %s, line num = %s  ismodule 63\n",
      "Function name = %s, line num = %s  ismodule 63\n",
      "Function name = %s, line num = %s  ismodule 63\n",
      "Function name = %s, line num = %s  ismodule 63\n",
      "Function name = %s, line num = %s  ismodule 63\n",
      "Function name = %s, line num = %s  ismodule 63\n",
      "Function name = %s, line num = %s  ismodule 63\n",
      "Function name = %s, line num = %s  ismodule 63\n",
      "Function name = %s, line num = %s  ismodule 63\n",
      "Function name = %s, line num = %s  ismodule 63\n",
      "Function name = %s, line num = %s  ismodule 63\n",
      "Function name = %s, line num = %s  ismodule 63\n",
      "Function name = %s, line num = %s  ismodule 63\n",
      "Function name = %s, line num = %s  ismodule 63\n",
      "Function name = %s, line num = %s  ismodule 63\n",
      "Function name = %s, line num = %s  ismodule 63\n",
      "Function name = %s, line num = %s  ismodule 63\n",
      "Function name = %s, line num = %s  ismodule 63\n",
      "Function name = %s, line num = %s  ismodule 63\n",
      "Function name = %s, line num = %s  ismodule 63\n",
      "Function name = %s, line num = %s  ismodule 63\n",
      "Function name = %s, line num = %s  ismodule 63\n",
      "Function name = %s, line num = %s  ismodule 63\n",
      "Function name = %s, line num = %s  ismodule 63\n",
      "Function name = %s, line num = %s  ismodule 63\n",
      "Function name = %s, line num = %s  ismodule 63\n",
      "Function name = %s, line num = %s  ismodule 63\n",
      "Function name = %s, line num = %s  ismodule 63\n",
      "Function name = %s, line num = %s  ismodule 63\n",
      "Function name = %s, line num = %s  ismodule 63\n",
      "Function name = %s, line num = %s  ismodule 63\n",
      "Function name = %s, line num = %s  ismodule 63\n",
      "Function name = %s, line num = %s  ismodule 63\n",
      "Function name = %s, line num = %s  ismodule 63\n",
      "Function name = %s, line num = %s  ismodule 63\n",
      "Function name = %s, line num = %s  ismodule 63\n",
      "Function name = %s, line num = %s  ismodule 63\n",
      "Function name = %s, line num = %s  ismodule 63\n",
      "Function name = %s, line num = %s  ismodule 63\n",
      "Function name = %s, line num = %s  ismodule 63\n",
      "Function name = %s, line num = %s  ismodule 63\n",
      "Function name = %s, line num = %s  ismodule 63\n",
      "Function name = %s, line num = %s  ismodule 63\n",
      "Function name = %s, line num = %s  ismodule 63\n",
      "Function name = %s, line num = %s  ismodule 63\n",
      "Function name = %s, line num = %s  ismodule 63\n",
      "Function name = %s, line num = %s  ismodule 63\n",
      "Function name = %s, line num = %s  ismodule 63\n",
      "Function name = %s, line num = %s  ismodule 63\n",
      "Function name = %s, line num = %s  ismodule 63\n",
      "Function name = %s, line num = %s  ismodule 63\n",
      "Function name = %s, line num = %s  ismodule 63\n",
      "Function name = %s, line num = %s  ismodule 63\n",
      "Function name = %s, line num = %s  ismodule 63\n",
      "Function name = %s, line num = %s  ismodule 63\n",
      "Function name = %s, line num = %s  ismodule 63\n",
      "Function name = %s, line num = %s  ismodule 63\n",
      "Function name = %s, line num = %s  ismodule 63\n",
      "Function name = %s, line num = %s  ismodule 63\n",
      "Function name = %s, line num = %s  ismodule 63\n",
      "Function name = %s, line num = %s  ismodule 63\n",
      "Function name = %s, line num = %s  ismodule 63\n",
      "Function name = %s, line num = %s  ismodule 63\n",
      "Function name = %s, line num = %s  ismodule 63\n",
      "Function name = %s, line num = %s  ismodule 63\n",
      "Function name = %s, line num = %s  ismodule 63\n",
      "Function name = %s, line num = %s  ismodule 63\n",
      "Function name = %s, line num = %s  ismodule 63\n",
      "Function name = %s, line num = %s  ismodule 63\n",
      "Function name = %s, line num = %s  ismodule 63\n",
      "Function name = %s, line num = %s  ismodule 63\n",
      "Function name = %s, line num = %s  ismodule 63\n",
      "Function name = %s, line num = %s  ismodule 63\n",
      "Function name = %s, line num = %s  ismodule 63\n",
      "Function name = %s, line num = %s  ismodule 63\n",
      "Function name = %s, line num = %s  ismodule 63\n",
      "Function name = %s, line num = %s  ismodule 63\n",
      "Function name = %s, line num = %s  ismodule 63\n",
      "Function name = %s, line num = %s  ismodule 63\n",
      "Function name = %s, line num = %s  ismodule 63\n",
      "Function name = %s, line num = %s  ismodule 63\n",
      "Function name = %s, line num = %s  ismodule 63\n",
      "Function name = %s, line num = %s  ismodule 63\n",
      "Function name = %s, line num = %s  ismodule 63\n",
      "Function name = %s, line num = %s  ismodule 63\n",
      "Function name = %s, line num = %s  ismodule 63\n",
      "Function name = %s, line num = %s  ismodule 63\n",
      "Function name = %s, line num = %s  ismodule 63\n",
      "Function name = %s, line num = %s  ismodule 63\n",
      "Function name = %s, line num = %s  ismodule 63\n",
      "Function name = %s, line num = %s  ismodule 63\n",
      "Function name = %s, line num = %s  ismodule 63\n",
      "Function name = %s, line num = %s  ismodule 63\n",
      "Function name = %s, line num = %s  ismodule 63\n",
      "Function name = %s, line num = %s  ismodule 63\n",
      "Function name = %s, line num = %s  ismodule 63\n",
      "Function name = %s, line num = %s  ismodule 63\n",
      "Function name = %s, line num = %s  ismodule 63\n",
      "Function name = %s, line num = %s  ismodule 63\n",
      "Function name = %s, line num = %s  ismodule 63\n",
      "Function name = %s, line num = %s  ismodule 63\n",
      "Function name = %s, line num = %s  ismodule 63\n",
      "Function name = %s, line num = %s  ismodule 63\n",
      "Function name = %s, line num = %s  ismodule 63\n",
      "Function name = %s, line num = %s  ismodule 63\n",
      "Function name = %s, line num = %s  ismodule 63\n",
      "Function name = %s, line num = %s  ismodule 63\n",
      "Function name = %s, line num = %s  ismodule 63\n",
      "Function name = %s, line num = %s  ismodule 63\n",
      "Function name = %s, line num = %s  ismodule 63\n",
      "Function name = %s, line num = %s  ismodule 63\n",
      "Function name = %s, line num = %s  ismodule 63\n",
      "Function name = %s, line num = %s  ismodule 63\n",
      "Function name = %s, line num = %s  ismodule 63\n",
      "Function name = %s, line num = %s  ismodule 63\n",
      "Function name = %s, line num = %s  ismodule 63\n",
      "Function name = %s, line num = %s  ismodule 63\n",
      "Function name = %s, line num = %s  ismodule 63\n",
      "Function name = %s, line num = %s  ismodule 63\n",
      "Function name = %s, line num = %s  ismodule 63\n",
      "Function name = %s, line num = %s  ismodule 63\n",
      "Function name = %s, line num = %s  ismodule 63\n",
      "Function name = %s, line num = %s  ismodule 63\n",
      "Function name = %s, line num = %s  ismodule 63\n",
      "Function name = %s, line num = %s  ismodule 63\n",
      "Function name = %s, line num = %s  ismodule 63\n",
      "Function name = %s, line num = %s  ismodule 63\n",
      "Function name = %s, line num = %s  ismodule 63\n",
      "Function name = %s, line num = %s  ismodule 63\n",
      "Function name = %s, line num = %s  ismodule 63\n",
      "Function name = %s, line num = %s  ismodule 63\n",
      "Function name = %s, line num = %s  ismodule 63\n",
      "Function name = %s, line num = %s  ismodule 63\n",
      "Function name = %s, line num = %s  ismodule 63\n",
      "Function name = %s, line num = %s  ismodule 63\n",
      "Function name = %s, line num = %s  ismodule 63\n",
      "Function name = %s, line num = %s  ismodule 63\n",
      "Function name = %s, line num = %s  ismodule 63\n",
      "Function name = %s, line num = %s  ismodule 63\n",
      "Function name = %s, line num = %s  ismodule 63\n",
      "Function name = %s, line num = %s  ismodule 63\n",
      "Function name = %s, line num = %s  ismodule 63\n",
      "Function name = %s, line num = %s  ismodule 63\n",
      "Function name = %s, line num = %s  ismodule 63\n",
      "Function name = %s, line num = %s  ismodule 63\n",
      "Function name = %s, line num = %s  ismodule 63\n",
      "Function name = %s, line num = %s  ismodule 63\n",
      "Function name = %s, line num = %s  ismodule 63\n",
      "Function name = %s, line num = %s  ismodule 63\n",
      "Function name = %s, line num = %s  ismodule 63\n",
      "Function name = %s, line num = %s  ismodule 63\n",
      "Function name = %s, line num = %s  ismodule 63\n",
      "Function name = %s, line num = %s  ismodule 63\n",
      "Function name = %s, line num = %s  ismodule 63\n",
      "Function name = %s, line num = %s  ismodule 63\n",
      "Function name = %s, line num = %s  ismodule 63\n",
      "Function name = %s, line num = %s  ismodule 63\n",
      "Function name = %s, line num = %s  ismodule 63\n",
      "Function name = %s, line num = %s  ismodule 63\n",
      "Function name = %s, line num = %s  ismodule 63\n",
      "Function name = %s, line num = %s  ismodule 63\n",
      "Function name = %s, line num = %s  ismodule 63\n",
      "Function name = %s, line num = %s  ismodule 63\n",
      "Function name = %s, line num = %s  ismodule 63\n",
      "Function name = %s, line num = %s  ismodule 63\n",
      "Function name = %s, line num = %s  ismodule 63\n",
      "Function name = %s, line num = %s  ismodule 63\n",
      "Function name = %s, line num = %s  ismodule 63\n"
     ]
    },
    {
     "name": "stdout",
     "output_type": "stream",
     "text": [
      "Function name = %s, line num = %s  ismodule 63\n",
      "Function name = %s, line num = %s  ismodule 63\n",
      "Function name = %s, line num = %s  ismodule 63\n",
      "Function name = %s, line num = %s  ismodule 63\n",
      "Function name = %s, line num = %s  ismodule 63\n",
      "Function name = %s, line num = %s  ismodule 63\n",
      "Function name = %s, line num = %s  ismodule 63\n",
      "Function name = %s, line num = %s  ismodule 63\n",
      "Function name = %s, line num = %s  ismodule 63\n",
      "Function name = %s, line num = %s  ismodule 63\n",
      "Function name = %s, line num = %s  ismodule 63\n",
      "Function name = %s, line num = %s  ismodule 63\n",
      "Function name = %s, line num = %s  ismodule 63\n",
      "Function name = %s, line num = %s  ismodule 63\n",
      "Function name = %s, line num = %s  ismodule 63\n",
      "Function name = %s, line num = %s  ismodule 63\n",
      "Function name = %s, line num = %s  ismodule 63\n",
      "Function name = %s, line num = %s  ismodule 63\n",
      "Function name = %s, line num = %s  ismodule 63\n",
      "Function name = %s, line num = %s  ismodule 63\n",
      "Function name = %s, line num = %s  ismodule 63\n",
      "Function name = %s, line num = %s  ismodule 63\n",
      "Function name = %s, line num = %s  ismodule 63\n",
      "Function name = %s, line num = %s  ismodule 63\n",
      "Function name = %s, line num = %s  ismodule 63\n",
      "Function name = %s, line num = %s  ismodule 63\n",
      "Function name = %s, line num = %s  ismodule 63\n",
      "Function name = %s, line num = %s  ismodule 63\n",
      "Function name = %s, line num = %s  ismodule 63\n",
      "Function name = %s, line num = %s  ismodule 63\n",
      "Function name = %s, line num = %s  ismodule 63\n",
      "Function name = %s, line num = %s  ismodule 63\n",
      "Function name = %s, line num = %s  ismodule 63\n",
      "Function name = %s, line num = %s  findsource 155\n",
      "Function name = %s, line num = %s  getsourcefile 680\n",
      "Function name = %s, line num = %s  getfile 642\n",
      "Function name = %s, line num = %s  ismodule 63\n",
      "Function name = %s, line num = %s  isclass 72\n",
      "Function name = %s, line num = %s  ismethod 80\n",
      "Function name = %s, line num = %s  isfunction 158\n",
      "Function name = %s, line num = %s  istraceback 228\n",
      "Function name = %s, line num = %s  isframe 238\n",
      "Function name = %s, line num = %s  iscode 252\n",
      "Function name = %s, line num = %s  <genexpr> 687\n",
      "Function name = %s, line num = %s  <genexpr> 687\n",
      "Function name = %s, line num = %s  <genexpr> 687\n",
      "Function name = %s, line num = %s  <genexpr> 690\n",
      "Function name = %s, line num = %s  <genexpr> 690\n",
      "Function name = %s, line num = %s  <genexpr> 690\n",
      "Function name = %s, line num = %s  exists 16\n",
      "Function name = %s, line num = %s  getmodule 714\n",
      "Function name = %s, line num = %s  ismodule 63\n",
      "Function name = %s, line num = %s  getabsfile 702\n",
      "Function name = %s, line num = %s  abspath 517\n",
      "Function name = %s, line num = %s  normpath 450\n",
      "Function name = %s, line num = %s  splitdrive 122\n",
      "Function name = %s, line num = %s  normcase 44\n",
      "Function name = %s, line num = %s  ismodule 63\n",
      "Function name = %s, line num = %s  ismodule 63\n",
      "Function name = %s, line num = %s  ismodule 63\n",
      "Function name = %s, line num = %s  ismodule 63\n",
      "Function name = %s, line num = %s  ismodule 63\n",
      "Function name = %s, line num = %s  ismodule 63\n",
      "Function name = %s, line num = %s  ismodule 63\n",
      "Function name = %s, line num = %s  ismodule 63\n",
      "Function name = %s, line num = %s  ismodule 63\n",
      "Function name = %s, line num = %s  ismodule 63\n",
      "Function name = %s, line num = %s  ismodule 63\n",
      "Function name = %s, line num = %s  ismodule 63\n",
      "Function name = %s, line num = %s  ismodule 63\n",
      "Function name = %s, line num = %s  ismodule 63\n",
      "Function name = %s, line num = %s  ismodule 63\n",
      "Function name = %s, line num = %s  ismodule 63\n",
      "Function name = %s, line num = %s  ismodule 63\n",
      "Function name = %s, line num = %s  ismodule 63\n",
      "Function name = %s, line num = %s  ismodule 63\n",
      "Function name = %s, line num = %s  ismodule 63\n",
      "Function name = %s, line num = %s  ismodule 63\n",
      "Function name = %s, line num = %s  ismodule 63\n",
      "Function name = %s, line num = %s  ismodule 63\n",
      "Function name = %s, line num = %s  ismodule 63\n",
      "Function name = %s, line num = %s  ismodule 63\n",
      "Function name = %s, line num = %s  ismodule 63\n",
      "Function name = %s, line num = %s  ismodule 63\n",
      "Function name = %s, line num = %s  ismodule 63\n",
      "Function name = %s, line num = %s  ismodule 63\n",
      "Function name = %s, line num = %s  ismodule 63\n",
      "Function name = %s, line num = %s  ismodule 63\n",
      "Function name = %s, line num = %s  ismodule 63\n",
      "Function name = %s, line num = %s  ismodule 63\n",
      "Function name = %s, line num = %s  ismodule 63\n",
      "Function name = %s, line num = %s  ismodule 63\n",
      "Function name = %s, line num = %s  ismodule 63\n",
      "Function name = %s, line num = %s  ismodule 63\n",
      "Function name = %s, line num = %s  ismodule 63\n",
      "Function name = %s, line num = %s  ismodule 63\n",
      "Function name = %s, line num = %s  ismodule 63\n",
      "Function name = %s, line num = %s  ismodule 63\n",
      "Function name = %s, line num = %s  ismodule 63\n",
      "Function name = %s, line num = %s  ismodule 63\n",
      "Function name = %s, line num = %s  ismodule 63\n",
      "Function name = %s, line num = %s  ismodule 63\n",
      "Function name = %s, line num = %s  ismodule 63\n",
      "Function name = %s, line num = %s  ismodule 63\n",
      "Function name = %s, line num = %s  ismodule 63\n",
      "Function name = %s, line num = %s  ismodule 63\n",
      "Function name = %s, line num = %s  ismodule 63\n",
      "Function name = %s, line num = %s  ismodule 63\n",
      "Function name = %s, line num = %s  ismodule 63\n",
      "Function name = %s, line num = %s  ismodule 63\n",
      "Function name = %s, line num = %s  ismodule 63\n",
      "Function name = %s, line num = %s  ismodule 63\n",
      "Function name = %s, line num = %s  ismodule 63\n",
      "Function name = %s, line num = %s  ismodule 63\n",
      "Function name = %s, line num = %s  ismodule 63\n",
      "Function name = %s, line num = %s  ismodule 63\n",
      "Function name = %s, line num = %s  ismodule 63\n",
      "Function name = %s, line num = %s  ismodule 63\n",
      "Function name = %s, line num = %s  ismodule 63\n",
      "Function name = %s, line num = %s  ismodule 63\n",
      "Function name = %s, line num = %s  ismodule 63\n",
      "Function name = %s, line num = %s  ismodule 63\n",
      "Function name = %s, line num = %s  ismodule 63\n",
      "Function name = %s, line num = %s  ismodule 63\n",
      "Function name = %s, line num = %s  ismodule 63\n",
      "Function name = %s, line num = %s  ismodule 63\n",
      "Function name = %s, line num = %s  ismodule 63\n",
      "Function name = %s, line num = %s  ismodule 63\n",
      "Function name = %s, line num = %s  ismodule 63\n",
      "Function name = %s, line num = %s  ismodule 63\n",
      "Function name = %s, line num = %s  ismodule 63\n",
      "Function name = %s, line num = %s  ismodule 63\n",
      "Function name = %s, line num = %s  ismodule 63\n",
      "Function name = %s, line num = %s  ismodule 63\n",
      "Function name = %s, line num = %s  ismodule 63\n",
      "Function name = %s, line num = %s  ismodule 63\n",
      "Function name = %s, line num = %s  ismodule 63\n",
      "Function name = %s, line num = %s  ismodule 63\n",
      "Function name = %s, line num = %s  ismodule 63\n",
      "Function name = %s, line num = %s  ismodule 63\n",
      "Function name = %s, line num = %s  ismodule 63\n",
      "Function name = %s, line num = %s  ismodule 63\n",
      "Function name = %s, line num = %s  ismodule 63\n",
      "Function name = %s, line num = %s  ismodule 63\n",
      "Function name = %s, line num = %s  ismodule 63\n",
      "Function name = %s, line num = %s  ismodule 63\n",
      "Function name = %s, line num = %s  ismodule 63\n",
      "Function name = %s, line num = %s  ismodule 63\n",
      "Function name = %s, line num = %s  ismodule 63\n",
      "Function name = %s, line num = %s  ismodule 63\n",
      "Function name = %s, line num = %s  ismodule 63\n",
      "Function name = %s, line num = %s  ismodule 63\n",
      "Function name = %s, line num = %s  ismodule 63\n",
      "Function name = %s, line num = %s  ismodule 63\n",
      "Function name = %s, line num = %s  ismodule 63\n",
      "Function name = %s, line num = %s  ismodule 63\n",
      "Function name = %s, line num = %s  ismodule 63\n",
      "Function name = %s, line num = %s  ismodule 63\n",
      "Function name = %s, line num = %s  ismodule 63\n",
      "Function name = %s, line num = %s  ismodule 63\n",
      "Function name = %s, line num = %s  ismodule 63\n",
      "Function name = %s, line num = %s  ismodule 63\n",
      "Function name = %s, line num = %s  ismodule 63\n",
      "Function name = %s, line num = %s  ismodule 63\n",
      "Function name = %s, line num = %s  ismodule 63\n",
      "Function name = %s, line num = %s  ismodule 63\n",
      "Function name = %s, line num = %s  ismodule 63\n",
      "Function name = %s, line num = %s  ismodule 63\n",
      "Function name = %s, line num = %s  ismodule 63\n",
      "Function name = %s, line num = %s  ismodule 63\n",
      "Function name = %s, line num = %s  ismodule 63\n",
      "Function name = %s, line num = %s  ismodule 63\n",
      "Function name = %s, line num = %s  ismodule 63\n",
      "Function name = %s, line num = %s  ismodule 63\n",
      "Function name = %s, line num = %s  ismodule 63\n",
      "Function name = %s, line num = %s  ismodule 63\n",
      "Function name = %s, line num = %s  ismodule 63\n",
      "Function name = %s, line num = %s  ismodule 63\n",
      "Function name = %s, line num = %s  ismodule 63\n",
      "Function name = %s, line num = %s  ismodule 63\n",
      "Function name = %s, line num = %s  ismodule 63\n",
      "Function name = %s, line num = %s  ismodule 63\n",
      "Function name = %s, line num = %s  ismodule 63\n",
      "Function name = %s, line num = %s  ismodule 63\n",
      "Function name = %s, line num = %s  ismodule 63\n",
      "Function name = %s, line num = %s  ismodule 63\n",
      "Function name = %s, line num = %s  ismodule 63\n",
      "Function name = %s, line num = %s  ismodule 63\n",
      "Function name = %s, line num = %s  ismodule 63\n",
      "Function name = %s, line num = %s  ismodule 63\n",
      "Function name = %s, line num = %s  ismodule 63\n",
      "Function name = %s, line num = %s  ismodule 63\n",
      "Function name = %s, line num = %s  ismodule 63\n",
      "Function name = %s, line num = %s  ismodule 63\n",
      "Function name = %s, line num = %s  ismodule 63\n",
      "Function name = %s, line num = %s  ismodule 63\n",
      "Function name = %s, line num = %s  ismodule 63\n",
      "Function name = %s, line num = %s  ismodule 63\n",
      "Function name = %s, line num = %s  ismodule 63\n",
      "Function name = %s, line num = %s  ismodule 63\n",
      "Function name = %s, line num = %s  ismodule 63\n",
      "Function name = %s, line num = %s  ismodule 63\n",
      "Function name = %s, line num = %s  ismodule 63\n",
      "Function name = %s, line num = %s  ismodule 63\n",
      "Function name = %s, line num = %s  ismodule 63\n",
      "Function name = %s, line num = %s  ismodule 63\n",
      "Function name = %s, line num = %s  ismodule 63\n",
      "Function name = %s, line num = %s  ismodule 63\n",
      "Function name = %s, line num = %s  ismodule 63\n",
      "Function name = %s, line num = %s  ismodule 63\n",
      "Function name = %s, line num = %s  ismodule 63\n",
      "Function name = %s, line num = %s  ismodule 63\n",
      "Function name = %s, line num = %s  ismodule 63\n",
      "Function name = %s, line num = %s  ismodule 63\n",
      "Function name = %s, line num = %s  ismodule 63\n",
      "Function name = %s, line num = %s  ismodule 63\n",
      "Function name = %s, line num = %s  ismodule 63\n",
      "Function name = %s, line num = %s  ismodule 63\n",
      "Function name = %s, line num = %s  ismodule 63\n",
      "Function name = %s, line num = %s  ismodule 63\n",
      "Function name = %s, line num = %s  ismodule 63\n",
      "Function name = %s, line num = %s  ismodule 63\n",
      "Function name = %s, line num = %s  ismodule 63\n",
      "Function name = %s, line num = %s  ismodule 63\n",
      "Function name = %s, line num = %s  ismodule 63\n",
      "Function name = %s, line num = %s  ismodule 63\n",
      "Function name = %s, line num = %s  ismodule 63\n",
      "Function name = %s, line num = %s  ismodule 63\n",
      "Function name = %s, line num = %s  ismodule 63\n",
      "Function name = %s, line num = %s  ismodule 63\n",
      "Function name = %s, line num = %s  ismodule 63\n",
      "Function name = %s, line num = %s  ismodule 63\n",
      "Function name = %s, line num = %s  ismodule 63\n",
      "Function name = %s, line num = %s  ismodule 63\n",
      "Function name = %s, line num = %s  ismodule 63\n",
      "Function name = %s, line num = %s  ismodule 63\n",
      "Function name = %s, line num = %s  ismodule 63\n",
      "Function name = %s, line num = %s  ismodule 63\n",
      "Function name = %s, line num = %s  ismodule 63\n",
      "Function name = %s, line num = %s  ismodule 63\n",
      "Function name = %s, line num = %s  ismodule 63\n",
      "Function name = %s, line num = %s  ismodule 63\n",
      "Function name = %s, line num = %s  ismodule 63\n",
      "Function name = %s, line num = %s  ismodule 63\n",
      "Function name = %s, line num = %s  ismodule 63\n",
      "Function name = %s, line num = %s  ismodule 63\n",
      "Function name = %s, line num = %s  ismodule 63\n",
      "Function name = %s, line num = %s  ismodule 63\n",
      "Function name = %s, line num = %s  ismodule 63\n",
      "Function name = %s, line num = %s  ismodule 63\n",
      "Function name = %s, line num = %s  ismodule 63\n",
      "Function name = %s, line num = %s  ismodule 63\n",
      "Function name = %s, line num = %s  ismodule 63\n",
      "Function name = %s, line num = %s  ismodule 63\n",
      "Function name = %s, line num = %s  ismodule 63\n",
      "Function name = %s, line num = %s  ismodule 63\n",
      "Function name = %s, line num = %s  ismodule 63\n",
      "Function name = %s, line num = %s  ismodule 63\n",
      "Function name = %s, line num = %s  ismodule 63\n",
      "Function name = %s, line num = %s  ismodule 63\n",
      "Function name = %s, line num = %s  ismodule 63\n",
      "Function name = %s, line num = %s  ismodule 63\n",
      "Function name = %s, line num = %s  ismodule 63\n",
      "Function name = %s, line num = %s  ismodule 63\n",
      "Function name = %s, line num = %s  ismodule 63\n",
      "Function name = %s, line num = %s  ismodule 63\n",
      "Function name = %s, line num = %s  ismodule 63\n",
      "Function name = %s, line num = %s  ismodule 63\n",
      "Function name = %s, line num = %s  ismodule 63\n",
      "Function name = %s, line num = %s  ismodule 63\n",
      "Function name = %s, line num = %s  ismodule 63\n",
      "Function name = %s, line num = %s  ismodule 63\n",
      "Function name = %s, line num = %s  ismodule 63\n",
      "Function name = %s, line num = %s  ismodule 63\n",
      "Function name = %s, line num = %s  ismodule 63\n",
      "Function name = %s, line num = %s  ismodule 63\n",
      "Function name = %s, line num = %s  ismodule 63\n",
      "Function name = %s, line num = %s  ismodule 63\n",
      "Function name = %s, line num = %s  ismodule 63\n",
      "Function name = %s, line num = %s  ismodule 63\n",
      "Function name = %s, line num = %s  ismodule 63\n",
      "Function name = %s, line num = %s  ismodule 63\n",
      "Function name = %s, line num = %s  ismodule 63\n",
      "Function name = %s, line num = %s  ismodule 63\n",
      "Function name = %s, line num = %s  ismodule 63\n",
      "Function name = %s, line num = %s  ismodule 63\n",
      "Function name = %s, line num = %s  ismodule 63\n",
      "Function name = %s, line num = %s  ismodule 63\n",
      "Function name = %s, line num = %s  ismodule 63\n",
      "Function name = %s, line num = %s  ismodule 63\n",
      "Function name = %s, line num = %s  ismodule 63\n",
      "Function name = %s, line num = %s  ismodule 63\n",
      "Function name = %s, line num = %s  ismodule 63\n",
      "Function name = %s, line num = %s  ismodule 63\n",
      "Function name = %s, line num = %s  ismodule 63\n",
      "Function name = %s, line num = %s  ismodule 63\n",
      "Function name = %s, line num = %s  ismodule 63\n",
      "Function name = %s, line num = %s  ismodule 63\n",
      "Function name = %s, line num = %s  ismodule 63\n",
      "Function name = %s, line num = %s  ismodule 63\n",
      "Function name = %s, line num = %s  ismodule 63\n",
      "Function name = %s, line num = %s  ismodule 63\n",
      "Function name = %s, line num = %s  ismodule 63\n",
      "Function name = %s, line num = %s  ismodule 63\n",
      "Function name = %s, line num = %s  ismodule 63\n",
      "Function name = %s, line num = %s  ismodule 63\n",
      "Function name = %s, line num = %s  ismodule 63\n",
      "Function name = %s, line num = %s  ismodule 63\n",
      "Function name = %s, line num = %s  ismodule 63\n",
      "Function name = %s, line num = %s  ismodule 63\n",
      "Function name = %s, line num = %s  ismodule 63\n",
      "Function name = %s, line num = %s  ismodule 63\n",
      "Function name = %s, line num = %s  ismodule 63\n",
      "Function name = %s, line num = %s  ismodule 63\n",
      "Function name = %s, line num = %s  ismodule 63\n",
      "Function name = %s, line num = %s  ismodule 63\n",
      "Function name = %s, line num = %s  ismodule 63\n",
      "Function name = %s, line num = %s  ismodule 63\n",
      "Function name = %s, line num = %s  ismodule 63\n",
      "Function name = %s, line num = %s  ismodule 63\n",
      "Function name = %s, line num = %s  ismodule 63\n",
      "Function name = %s, line num = %s  ismodule 63\n",
      "Function name = %s, line num = %s  ismodule 63\n",
      "Function name = %s, line num = %s  ismodule 63\n",
      "Function name = %s, line num = %s  ismodule 63\n",
      "Function name = %s, line num = %s  ismodule 63\n",
      "Function name = %s, line num = %s  ismodule 63\n",
      "Function name = %s, line num = %s  ismodule 63\n",
      "Function name = %s, line num = %s  ismodule 63\n",
      "Function name = %s, line num = %s  ismodule 63\n",
      "Function name = %s, line num = %s  ismodule 63\n",
      "Function name = %s, line num = %s  ismodule 63\n",
      "Function name = %s, line num = %s  ismodule 63\n"
     ]
    },
    {
     "name": "stdout",
     "output_type": "stream",
     "text": [
      "Function name = %s, line num = %s  ismodule 63\n",
      "Function name = %s, line num = %s  ismodule 63\n",
      "Function name = %s, line num = %s  ismodule 63\n",
      "Function name = %s, line num = %s  ismodule 63\n",
      "Function name = %s, line num = %s  ismodule 63\n",
      "Function name = %s, line num = %s  ismodule 63\n",
      "Function name = %s, line num = %s  ismodule 63\n",
      "Function name = %s, line num = %s  ismodule 63\n",
      "Function name = %s, line num = %s  ismodule 63\n",
      "Function name = %s, line num = %s  ismodule 63\n",
      "Function name = %s, line num = %s  ismodule 63\n",
      "Function name = %s, line num = %s  ismodule 63\n",
      "Function name = %s, line num = %s  ismodule 63\n",
      "Function name = %s, line num = %s  ismodule 63\n",
      "Function name = %s, line num = %s  ismodule 63\n",
      "Function name = %s, line num = %s  ismodule 63\n",
      "Function name = %s, line num = %s  ismodule 63\n",
      "Function name = %s, line num = %s  ismodule 63\n",
      "Function name = %s, line num = %s  ismodule 63\n",
      "Function name = %s, line num = %s  ismodule 63\n",
      "Function name = %s, line num = %s  ismodule 63\n",
      "Function name = %s, line num = %s  ismodule 63\n",
      "Function name = %s, line num = %s  ismodule 63\n",
      "Function name = %s, line num = %s  ismodule 63\n",
      "Function name = %s, line num = %s  ismodule 63\n",
      "Function name = %s, line num = %s  ismodule 63\n",
      "Function name = %s, line num = %s  ismodule 63\n",
      "Function name = %s, line num = %s  ismodule 63\n",
      "Function name = %s, line num = %s  ismodule 63\n",
      "Function name = %s, line num = %s  ismodule 63\n",
      "Function name = %s, line num = %s  ismodule 63\n",
      "Function name = %s, line num = %s  ismodule 63\n",
      "Function name = %s, line num = %s  ismodule 63\n",
      "Function name = %s, line num = %s  ismodule 63\n",
      "Function name = %s, line num = %s  ismodule 63\n",
      "Function name = %s, line num = %s  ismodule 63\n",
      "Function name = %s, line num = %s  ismodule 63\n",
      "Function name = %s, line num = %s  ismodule 63\n",
      "Function name = %s, line num = %s  ismodule 63\n",
      "Function name = %s, line num = %s  ismodule 63\n",
      "Function name = %s, line num = %s  ismodule 63\n",
      "Function name = %s, line num = %s  ismodule 63\n",
      "Function name = %s, line num = %s  ismodule 63\n",
      "Function name = %s, line num = %s  ismodule 63\n",
      "Function name = %s, line num = %s  ismodule 63\n",
      "Function name = %s, line num = %s  ismodule 63\n",
      "Function name = %s, line num = %s  ismodule 63\n",
      "Function name = %s, line num = %s  ismodule 63\n",
      "Function name = %s, line num = %s  ismodule 63\n",
      "Function name = %s, line num = %s  ismodule 63\n",
      "Function name = %s, line num = %s  ismodule 63\n",
      "Function name = %s, line num = %s  ismodule 63\n",
      "Function name = %s, line num = %s  ismodule 63\n",
      "Function name = %s, line num = %s  ismodule 63\n",
      "Function name = %s, line num = %s  ismodule 63\n",
      "Function name = %s, line num = %s  ismodule 63\n",
      "Function name = %s, line num = %s  ismodule 63\n",
      "Function name = %s, line num = %s  ismodule 63\n",
      "Function name = %s, line num = %s  ismodule 63\n",
      "Function name = %s, line num = %s  ismodule 63\n",
      "Function name = %s, line num = %s  ismodule 63\n",
      "Function name = %s, line num = %s  ismodule 63\n",
      "Function name = %s, line num = %s  ismodule 63\n",
      "Function name = %s, line num = %s  ismodule 63\n",
      "Function name = %s, line num = %s  ismodule 63\n",
      "Function name = %s, line num = %s  ismodule 63\n",
      "Function name = %s, line num = %s  ismodule 63\n",
      "Function name = %s, line num = %s  ismodule 63\n",
      "Function name = %s, line num = %s  ismodule 63\n",
      "Function name = %s, line num = %s  ismodule 63\n",
      "Function name = %s, line num = %s  ismodule 63\n",
      "Function name = %s, line num = %s  ismodule 63\n",
      "Function name = %s, line num = %s  ismodule 63\n",
      "Function name = %s, line num = %s  ismodule 63\n",
      "Function name = %s, line num = %s  ismodule 63\n",
      "Function name = %s, line num = %s  ismodule 63\n",
      "Function name = %s, line num = %s  ismodule 63\n",
      "Function name = %s, line num = %s  ismodule 63\n",
      "Function name = %s, line num = %s  ismodule 63\n",
      "Function name = %s, line num = %s  ismodule 63\n",
      "Function name = %s, line num = %s  ismodule 63\n",
      "Function name = %s, line num = %s  ismodule 63\n",
      "Function name = %s, line num = %s  ismodule 63\n",
      "Function name = %s, line num = %s  ismodule 63\n",
      "Function name = %s, line num = %s  ismodule 63\n",
      "Function name = %s, line num = %s  ismodule 63\n",
      "Function name = %s, line num = %s  ismodule 63\n",
      "Function name = %s, line num = %s  ismodule 63\n",
      "Function name = %s, line num = %s  ismodule 63\n",
      "Function name = %s, line num = %s  ismodule 63\n",
      "Function name = %s, line num = %s  ismodule 63\n",
      "Function name = %s, line num = %s  ismodule 63\n",
      "Function name = %s, line num = %s  ismodule 63\n",
      "Function name = %s, line num = %s  ismodule 63\n",
      "Function name = %s, line num = %s  ismodule 63\n",
      "Function name = %s, line num = %s  ismodule 63\n",
      "Function name = %s, line num = %s  ismodule 63\n",
      "Function name = %s, line num = %s  ismodule 63\n",
      "Function name = %s, line num = %s  ismodule 63\n",
      "Function name = %s, line num = %s  ismodule 63\n",
      "Function name = %s, line num = %s  ismodule 63\n",
      "Function name = %s, line num = %s  ismodule 63\n",
      "Function name = %s, line num = %s  ismodule 63\n",
      "Function name = %s, line num = %s  ismodule 63\n",
      "Function name = %s, line num = %s  ismodule 63\n",
      "Function name = %s, line num = %s  ismodule 63\n",
      "Function name = %s, line num = %s  ismodule 63\n",
      "Function name = %s, line num = %s  ismodule 63\n",
      "Function name = %s, line num = %s  ismodule 63\n",
      "Function name = %s, line num = %s  ismodule 63\n",
      "Function name = %s, line num = %s  ismodule 63\n",
      "Function name = %s, line num = %s  ismodule 63\n",
      "Function name = %s, line num = %s  ismodule 63\n",
      "Function name = %s, line num = %s  ismodule 63\n",
      "Function name = %s, line num = %s  ismodule 63\n",
      "Function name = %s, line num = %s  ismodule 63\n",
      "Function name = %s, line num = %s  ismodule 63\n",
      "Function name = %s, line num = %s  ismodule 63\n",
      "Function name = %s, line num = %s  ismodule 63\n",
      "Function name = %s, line num = %s  ismodule 63\n",
      "Function name = %s, line num = %s  ismodule 63\n",
      "Function name = %s, line num = %s  ismodule 63\n",
      "Function name = %s, line num = %s  ismodule 63\n",
      "Function name = %s, line num = %s  ismodule 63\n",
      "Function name = %s, line num = %s  ismodule 63\n",
      "Function name = %s, line num = %s  ismodule 63\n",
      "Function name = %s, line num = %s  ismodule 63\n",
      "Function name = %s, line num = %s  ismodule 63\n",
      "Function name = %s, line num = %s  ismodule 63\n",
      "Function name = %s, line num = %s  ismodule 63\n",
      "Function name = %s, line num = %s  ismodule 63\n",
      "Function name = %s, line num = %s  ismodule 63\n",
      "Function name = %s, line num = %s  ismodule 63\n",
      "Function name = %s, line num = %s  ismodule 63\n",
      "Function name = %s, line num = %s  ismodule 63\n",
      "Function name = %s, line num = %s  ismodule 63\n",
      "Function name = %s, line num = %s  ismodule 63\n",
      "Function name = %s, line num = %s  ismodule 63\n",
      "Function name = %s, line num = %s  ismodule 63\n",
      "Function name = %s, line num = %s  ismodule 63\n",
      "Function name = %s, line num = %s  ismodule 63\n",
      "Function name = %s, line num = %s  ismodule 63\n",
      "Function name = %s, line num = %s  ismodule 63\n",
      "Function name = %s, line num = %s  ismodule 63\n",
      "Function name = %s, line num = %s  ismodule 63\n",
      "Function name = %s, line num = %s  ismodule 63\n",
      "Function name = %s, line num = %s  ismodule 63\n",
      "Function name = %s, line num = %s  ismodule 63\n",
      "Function name = %s, line num = %s  ismodule 63\n",
      "Function name = %s, line num = %s  ismodule 63\n",
      "Function name = %s, line num = %s  ismodule 63\n",
      "Function name = %s, line num = %s  ismodule 63\n",
      "Function name = %s, line num = %s  ismodule 63\n",
      "Function name = %s, line num = %s  ismodule 63\n",
      "Function name = %s, line num = %s  ismodule 63\n",
      "Function name = %s, line num = %s  ismodule 63\n",
      "Function name = %s, line num = %s  ismodule 63\n",
      "Function name = %s, line num = %s  ismodule 63\n",
      "Function name = %s, line num = %s  ismodule 63\n",
      "Function name = %s, line num = %s  ismodule 63\n",
      "Function name = %s, line num = %s  ismodule 63\n",
      "Function name = %s, line num = %s  ismodule 63\n",
      "Function name = %s, line num = %s  ismodule 63\n",
      "Function name = %s, line num = %s  ismodule 63\n",
      "Function name = %s, line num = %s  ismodule 63\n",
      "Function name = %s, line num = %s  ismodule 63\n",
      "Function name = %s, line num = %s  ismodule 63\n",
      "Function name = %s, line num = %s  ismodule 63\n",
      "Function name = %s, line num = %s  ismodule 63\n",
      "Function name = %s, line num = %s  ismodule 63\n",
      "Function name = %s, line num = %s  ismodule 63\n",
      "Function name = %s, line num = %s  ismodule 63\n",
      "Function name = %s, line num = %s  ismodule 63\n",
      "Function name = %s, line num = %s  ismodule 63\n",
      "Function name = %s, line num = %s  ismodule 63\n",
      "Function name = %s, line num = %s  ismodule 63\n",
      "Function name = %s, line num = %s  ismodule 63\n",
      "Function name = %s, line num = %s  ismodule 63\n",
      "Function name = %s, line num = %s  ismodule 63\n",
      "Function name = %s, line num = %s  ismodule 63\n",
      "Function name = %s, line num = %s  ismodule 63\n",
      "Function name = %s, line num = %s  ismodule 63\n",
      "Function name = %s, line num = %s  ismodule 63\n",
      "Function name = %s, line num = %s  ismodule 63\n",
      "Function name = %s, line num = %s  ismodule 63\n",
      "Function name = %s, line num = %s  ismodule 63\n",
      "Function name = %s, line num = %s  ismodule 63\n",
      "Function name = %s, line num = %s  ismodule 63\n",
      "Function name = %s, line num = %s  ismodule 63\n",
      "Function name = %s, line num = %s  ismodule 63\n",
      "Function name = %s, line num = %s  ismodule 63\n",
      "Function name = %s, line num = %s  ismodule 63\n",
      "Function name = %s, line num = %s  ismodule 63\n",
      "Function name = %s, line num = %s  ismodule 63\n",
      "Function name = %s, line num = %s  ismodule 63\n",
      "Function name = %s, line num = %s  ismodule 63\n",
      "Function name = %s, line num = %s  ismodule 63\n",
      "Function name = %s, line num = %s  ismodule 63\n",
      "Function name = %s, line num = %s  ismodule 63\n",
      "Function name = %s, line num = %s  ismodule 63\n",
      "Function name = %s, line num = %s  ismodule 63\n",
      "Function name = %s, line num = %s  ismodule 63\n",
      "Function name = %s, line num = %s  ismodule 63\n",
      "Function name = %s, line num = %s  ismodule 63\n",
      "Function name = %s, line num = %s  ismodule 63\n",
      "Function name = %s, line num = %s  ismodule 63\n",
      "Function name = %s, line num = %s  ismodule 63\n",
      "Function name = %s, line num = %s  ismodule 63\n",
      "Function name = %s, line num = %s  ismodule 63\n",
      "Function name = %s, line num = %s  ismodule 63\n",
      "Function name = %s, line num = %s  ismodule 63\n",
      "Function name = %s, line num = %s  ismodule 63\n",
      "Function name = %s, line num = %s  ismodule 63\n",
      "Function name = %s, line num = %s  ismodule 63\n",
      "Function name = %s, line num = %s  ismodule 63\n",
      "Function name = %s, line num = %s  ismodule 63\n",
      "Function name = %s, line num = %s  ismodule 63\n",
      "Function name = %s, line num = %s  ismodule 63\n",
      "Function name = %s, line num = %s  ismodule 63\n",
      "Function name = %s, line num = %s  ismodule 63\n",
      "Function name = %s, line num = %s  ismodule 63\n",
      "Function name = %s, line num = %s  ismodule 63\n",
      "Function name = %s, line num = %s  ismodule 63\n",
      "Function name = %s, line num = %s  ismodule 63\n",
      "Function name = %s, line num = %s  ismodule 63\n",
      "Function name = %s, line num = %s  ismodule 63\n",
      "Function name = %s, line num = %s  ismodule 63\n",
      "Function name = %s, line num = %s  ismodule 63\n",
      "Function name = %s, line num = %s  ismodule 63\n",
      "Function name = %s, line num = %s  ismodule 63\n",
      "Function name = %s, line num = %s  ismodule 63\n",
      "Function name = %s, line num = %s  ismodule 63\n",
      "Function name = %s, line num = %s  ismodule 63\n",
      "Function name = %s, line num = %s  ismodule 63\n",
      "Function name = %s, line num = %s  ismodule 63\n",
      "Function name = %s, line num = %s  ismodule 63\n",
      "Function name = %s, line num = %s  ismodule 63\n",
      "Function name = %s, line num = %s  ismodule 63\n",
      "Function name = %s, line num = %s  ismodule 63\n",
      "Function name = %s, line num = %s  ismodule 63\n",
      "Function name = %s, line num = %s  ismodule 63\n",
      "Function name = %s, line num = %s  ismodule 63\n",
      "Function name = %s, line num = %s  ismodule 63\n",
      "Function name = %s, line num = %s  ismodule 63\n",
      "Function name = %s, line num = %s  ismodule 63\n",
      "Function name = %s, line num = %s  ismodule 63\n",
      "Function name = %s, line num = %s  ismodule 63\n",
      "Function name = %s, line num = %s  ismodule 63\n",
      "Function name = %s, line num = %s  ismodule 63\n",
      "Function name = %s, line num = %s  ismodule 63\n",
      "Function name = %s, line num = %s  ismodule 63\n",
      "Function name = %s, line num = %s  ismodule 63\n",
      "Function name = %s, line num = %s  ismodule 63\n",
      "Function name = %s, line num = %s  ismodule 63\n",
      "Function name = %s, line num = %s  ismodule 63\n",
      "Function name = %s, line num = %s  ismodule 63\n",
      "Function name = %s, line num = %s  ismodule 63\n",
      "Function name = %s, line num = %s  ismodule 63\n",
      "Function name = %s, line num = %s  ismodule 63\n",
      "Function name = %s, line num = %s  ismodule 63\n",
      "Function name = %s, line num = %s  ismodule 63\n",
      "Function name = %s, line num = %s  ismodule 63\n",
      "Function name = %s, line num = %s  ismodule 63\n",
      "Function name = %s, line num = %s  ismodule 63\n",
      "Function name = %s, line num = %s  ismodule 63\n",
      "Function name = %s, line num = %s  ismodule 63\n",
      "Function name = %s, line num = %s  ismodule 63\n",
      "Function name = %s, line num = %s  ismodule 63\n",
      "Function name = %s, line num = %s  ismodule 63\n",
      "Function name = %s, line num = %s  ismodule 63\n",
      "Function name = %s, line num = %s  ismodule 63\n",
      "Function name = %s, line num = %s  ismodule 63\n",
      "Function name = %s, line num = %s  ismodule 63\n",
      "Function name = %s, line num = %s  ismodule 63\n",
      "Function name = %s, line num = %s  ismodule 63\n",
      "Function name = %s, line num = %s  ismodule 63\n",
      "Function name = %s, line num = %s  ismodule 63\n",
      "Function name = %s, line num = %s  ismodule 63\n",
      "Function name = %s, line num = %s  ismodule 63\n",
      "Function name = %s, line num = %s  ismodule 63\n",
      "Function name = %s, line num = %s  ismodule 63\n",
      "Function name = %s, line num = %s  ismodule 63\n",
      "Function name = %s, line num = %s  ismodule 63\n",
      "Function name = %s, line num = %s  ismodule 63\n",
      "Function name = %s, line num = %s  ismodule 63\n",
      "Function name = %s, line num = %s  ismodule 63\n",
      "Function name = %s, line num = %s  ismodule 63\n",
      "Function name = %s, line num = %s  ismodule 63\n",
      "Function name = %s, line num = %s  ismodule 63\n",
      "Function name = %s, line num = %s  ismodule 63\n",
      "Function name = %s, line num = %s  ismodule 63\n",
      "Function name = %s, line num = %s  ismodule 63\n",
      "Function name = %s, line num = %s  ismodule 63\n",
      "Function name = %s, line num = %s  ismodule 63\n",
      "Function name = %s, line num = %s  ismodule 63\n",
      "Function name = %s, line num = %s  ismodule 63\n",
      "Function name = %s, line num = %s  ismodule 63\n",
      "Function name = %s, line num = %s  ismodule 63\n",
      "Function name = %s, line num = %s  ismodule 63\n",
      "Function name = %s, line num = %s  ismodule 63\n",
      "Function name = %s, line num = %s  ismodule 63\n",
      "Function name = %s, line num = %s  ismodule 63\n",
      "Function name = %s, line num = %s  ismodule 63\n",
      "Function name = %s, line num = %s  ismodule 63\n",
      "Function name = %s, line num = %s  ismodule 63\n",
      "Function name = %s, line num = %s  ismodule 63\n",
      "Function name = %s, line num = %s  ismodule 63\n",
      "Function name = %s, line num = %s  ismodule 63\n",
      "Function name = %s, line num = %s  ismodule 63\n",
      "Function name = %s, line num = %s  ismodule 63\n",
      "Function name = %s, line num = %s  ismodule 63\n",
      "Function name = %s, line num = %s  ismodule 63\n",
      "Function name = %s, line num = %s  ismodule 63\n",
      "Function name = %s, line num = %s  ismodule 63\n",
      "Function name = %s, line num = %s  ismodule 63\n",
      "Function name = %s, line num = %s  ismodule 63\n",
      "Function name = %s, line num = %s  ismodule 63\n",
      "Function name = %s, line num = %s  ismodule 63\n",
      "Function name = %s, line num = %s  ismodule 63\n",
      "Function name = %s, line num = %s  ismodule 63\n",
      "Function name = %s, line num = %s  ismodule 63\n",
      "Function name = %s, line num = %s  ismodule 63\n",
      "Function name = %s, line num = %s  ismodule 63\n",
      "Function name = %s, line num = %s  ismodule 63\n",
      "Function name = %s, line num = %s  ismodule 63\n",
      "Function name = %s, line num = %s  ismodule 63\n",
      "Function name = %s, line num = %s  ismodule 63\n",
      "Function name = %s, line num = %s  ismodule 63\n",
      "Function name = %s, line num = %s  ismodule 63\n",
      "Function name = %s, line num = %s  ismodule 63\n",
      "Function name = %s, line num = %s  ismodule 63\n",
      "Function name = %s, line num = %s  ismodule 63\n",
      "Function name = %s, line num = %s  ismodule 63\n"
     ]
    },
    {
     "name": "stdout",
     "output_type": "stream",
     "text": [
      "Function name = %s, line num = %s  ismodule 63\n",
      "Function name = %s, line num = %s  ismodule 63\n",
      "Function name = %s, line num = %s  ismodule 63\n",
      "Function name = %s, line num = %s  ismodule 63\n",
      "Function name = %s, line num = %s  ismodule 63\n",
      "Function name = %s, line num = %s  ismodule 63\n",
      "Function name = %s, line num = %s  ismodule 63\n",
      "Function name = %s, line num = %s  ismodule 63\n",
      "Function name = %s, line num = %s  ismodule 63\n",
      "Function name = %s, line num = %s  ismodule 63\n",
      "Function name = %s, line num = %s  ismodule 63\n",
      "Function name = %s, line num = %s  ismodule 63\n",
      "Function name = %s, line num = %s  ismodule 63\n",
      "Function name = %s, line num = %s  ismodule 63\n",
      "Function name = %s, line num = %s  ismodule 63\n",
      "Function name = %s, line num = %s  ismodule 63\n",
      "Function name = %s, line num = %s  ismodule 63\n",
      "Function name = %s, line num = %s  ismodule 63\n",
      "Function name = %s, line num = %s  ismodule 63\n",
      "Function name = %s, line num = %s  ismodule 63\n",
      "Function name = %s, line num = %s  ismodule 63\n",
      "Function name = %s, line num = %s  ismodule 63\n",
      "Function name = %s, line num = %s  ismodule 63\n",
      "Function name = %s, line num = %s  ismodule 63\n",
      "Function name = %s, line num = %s  ismodule 63\n",
      "Function name = %s, line num = %s  ismodule 63\n",
      "Function name = %s, line num = %s  ismodule 63\n",
      "Function name = %s, line num = %s  ismodule 63\n",
      "Function name = %s, line num = %s  ismodule 63\n",
      "Function name = %s, line num = %s  ismodule 63\n",
      "Function name = %s, line num = %s  ismodule 63\n",
      "Function name = %s, line num = %s  ismodule 63\n",
      "Function name = %s, line num = %s  ismodule 63\n",
      "Function name = %s, line num = %s  ismodule 63\n",
      "Function name = %s, line num = %s  ismodule 63\n",
      "Function name = %s, line num = %s  ismodule 63\n",
      "Function name = %s, line num = %s  ismodule 63\n",
      "Function name = %s, line num = %s  ismodule 63\n",
      "Function name = %s, line num = %s  ismodule 63\n",
      "Function name = %s, line num = %s  ismodule 63\n",
      "Function name = %s, line num = %s  ismodule 63\n",
      "Function name = %s, line num = %s  ismodule 63\n",
      "Function name = %s, line num = %s  ismodule 63\n",
      "Function name = %s, line num = %s  ismodule 63\n",
      "Function name = %s, line num = %s  ismodule 63\n",
      "Function name = %s, line num = %s  ismodule 63\n",
      "Function name = %s, line num = %s  ismodule 63\n",
      "Function name = %s, line num = %s  ismodule 63\n",
      "Function name = %s, line num = %s  ismodule 63\n",
      "Function name = %s, line num = %s  ismodule 63\n",
      "Function name = %s, line num = %s  ismodule 63\n",
      "Function name = %s, line num = %s  ismodule 63\n",
      "Function name = %s, line num = %s  ismodule 63\n",
      "Function name = %s, line num = %s  ismodule 63\n",
      "Function name = %s, line num = %s  ismodule 63\n",
      "Function name = %s, line num = %s  ismodule 63\n",
      "Function name = %s, line num = %s  ismodule 63\n",
      "Function name = %s, line num = %s  ismodule 63\n",
      "Function name = %s, line num = %s  ismodule 63\n",
      "Function name = %s, line num = %s  ismodule 63\n",
      "Function name = %s, line num = %s  ismodule 63\n",
      "Function name = %s, line num = %s  ismodule 63\n",
      "Function name = %s, line num = %s  ismodule 63\n",
      "Function name = %s, line num = %s  ismodule 63\n",
      "Function name = %s, line num = %s  ismodule 63\n",
      "Function name = %s, line num = %s  ismodule 63\n",
      "Function name = %s, line num = %s  ismodule 63\n",
      "Function name = %s, line num = %s  ismodule 63\n",
      "Function name = %s, line num = %s  ismodule 63\n",
      "Function name = %s, line num = %s  ismodule 63\n",
      "Function name = %s, line num = %s  ismodule 63\n",
      "Function name = %s, line num = %s  ismodule 63\n",
      "Function name = %s, line num = %s  ismodule 63\n",
      "Function name = %s, line num = %s  ismodule 63\n",
      "Function name = %s, line num = %s  ismodule 63\n",
      "Function name = %s, line num = %s  ismodule 63\n",
      "Function name = %s, line num = %s  ismodule 63\n",
      "Function name = %s, line num = %s  ismodule 63\n",
      "Function name = %s, line num = %s  ismodule 63\n",
      "Function name = %s, line num = %s  ismodule 63\n",
      "Function name = %s, line num = %s  ismodule 63\n",
      "Function name = %s, line num = %s  isframe 238\n",
      "Function name = %s, line num = %s  getlines 37\n",
      "Function name = %s, line num = %s  ismodule 63\n",
      "Function name = %s, line num = %s  isclass 72\n",
      "Function name = %s, line num = %s  ismethod 80\n",
      "Function name = %s, line num = %s  isfunction 158\n",
      "Function name = %s, line num = %s  istraceback 228\n",
      "Function name = %s, line num = %s  isframe 238\n",
      "Function name = %s, line num = %s  iscode 252\n",
      "Function name = %s, line num = %s  compile 232\n",
      "Function name = %s, line num = %s  _compile 271\n",
      "Function name = %s, line num = %s  __new__ 1\n",
      "Function name = %s, line num = %s  __new__ 1\n",
      "Function name = %s, line num = %s  fix_frame_records_filenames 319\n",
      "Function name = %s, line num = %s  extract_tb 57\n",
      "Function name = %s, line num = %s  extract 312\n",
      "Function name = %s, line num = %s  walk_tb 298\n",
      "Function name = %s, line num = %s  lazycache 147\n",
      "Function name = %s, line num = %s  __init__ 239\n",
      "Function name = %s, line num = %s  walk_tb 305\n",
      "Function name = %s, line num = %s  lazycache 147\n",
      "Function name = %s, line num = %s  __init__ 239\n",
      "Function name = %s, line num = %s  walk_tb 305\n",
      "Function name = %s, line num = %s  check_linecache_ipython 154\n",
      "Function name = %s, line num = %s  checkcache 53\n",
      "Function name = %s, line num = %s  check_linecache_ipython 154\n",
      "Function name = %s, line num = %s  checkcache 53\n",
      "Function name = %s, line num = %s  line 278\n",
      "Function name = %s, line num = %s  getline 15\n",
      "Function name = %s, line num = %s  getlines 37\n",
      "Function name = %s, line num = %s  line 278\n",
      "Function name = %s, line num = %s  getline 15\n",
      "Function name = %s, line num = %s  getlines 37\n",
      "Function name = %s, line num = %s  __iter__ 271\n",
      "Function name = %s, line num = %s  line 278\n",
      "Function name = %s, line num = %s  getlines 37\n",
      "Function name = %s, line num = %s  __iter__ 271\n",
      "Function name = %s, line num = %s  line 278\n",
      "Function name = %s, line num = %s  getlines 37\n",
      "Function name = %s, line num = %s  find_recursion 419\n",
      "Function name = %s, line num = %s  is_recursion_error 405\n",
      "Function name = %s, line num = %s  format_records 813\n",
      "Function name = %s, line num = %s  format_record 826\n",
      "Function name = %s, line num = %s  __getattr__ 125\n",
      "Function name = %s, line num = %s  __getattr__ 125\n",
      "Function name = %s, line num = %s  __getattr__ 125\n",
      "Function name = %s, line num = %s  __getattr__ 125\n",
      "Function name = %s, line num = %s  __getattr__ 125\n",
      "Function name = %s, line num = %s  __getattr__ 125\n",
      "Function name = %s, line num = %s  __getattr__ 125\n",
      "Function name = %s, line num = %s  __getattr__ 125\n",
      "Function name = %s, line num = %s  __getattr__ 125\n",
      "Function name = %s, line num = %s  __getattr__ 125\n",
      "Function name = %s, line num = %s  __getattr__ 125\n",
      "Function name = %s, line num = %s  __getattr__ 125\n",
      "Function name = %s, line num = %s  __getattr__ 125\n",
      "Function name = %s, line num = %s  __getattr__ 125\n",
      "Function name = %s, line num = %s  __getattr__ 125\n",
      "Function name = %s, line num = %s  cast_unicode 28\n",
      "Function name = %s, line num = %s  compress_user 86\n",
      "Function name = %s, line num = %s  expanduser 287\n",
      "Function name = %s, line num = %s  __contains__ 664\n",
      "Function name = %s, line num = %s  __getitem__ 673\n",
      "Function name = %s, line num = %s  encodekey 743\n",
      "Function name = %s, line num = %s  check_str 737\n",
      "Function name = %s, line num = %s  __contains__ 664\n",
      "Function name = %s, line num = %s  __getitem__ 673\n",
      "Function name = %s, line num = %s  encodekey 743\n",
      "Function name = %s, line num = %s  check_str 737\n",
      "Function name = %s, line num = %s  __getitem__ 673\n",
      "Function name = %s, line num = %s  encodekey 743\n",
      "Function name = %s, line num = %s  check_str 737\n",
      "Function name = %s, line num = %s  getargvalues 1175\n",
      "Function name = %s, line num = %s  getargs 1011\n",
      "Function name = %s, line num = %s  _getfullargs 1021\n",
      "Function name = %s, line num = %s  iscode 252\n",
      "Function name = %s, line num = %s  __new__ 1\n",
      "Function name = %s, line num = %s  __new__ 1\n",
      "Function name = %s, line num = %s  formatargvalues 1258\n",
      "Function name = %s, line num = %s  generate_tokens 662\n",
      "Function name = %s, line num = %s  _tokenize 487\n",
      "Function name = %s, line num = %s  linereader 915\n",
      "Function name = %s, line num = %s  getline 15\n",
      "Function name = %s, line num = %s  getlines 37\n",
      "Function name = %s, line num = %s  _compile 147\n",
      "Function name = %s, line num = %s  compile 232\n",
      "Function name = %s, line num = %s  _compile 271\n",
      "Function name = %s, line num = %s  __get__ 164\n",
      "Function name = %s, line num = %s  value 619\n",
      "Function name = %s, line num = %s  __new__ 1\n",
      "Function name = %s, line num = %s  _tokenize 641\n",
      "Function name = %s, line num = %s  _compile 147\n",
      "Function name = %s, line num = %s  compile 232\n",
      "Function name = %s, line num = %s  _compile 271\n",
      "Function name = %s, line num = %s  __get__ 164\n",
      "Function name = %s, line num = %s  value 619\n",
      "Function name = %s, line num = %s  __new__ 1\n",
      "Function name = %s, line num = %s  _tokenize 649\n",
      "Function name = %s, line num = %s  _compile 147\n",
      "Function name = %s, line num = %s  compile 232\n",
      "Function name = %s, line num = %s  _compile 271\n",
      "Function name = %s, line num = %s  __get__ 164\n",
      "Function name = %s, line num = %s  value 619\n",
      "Function name = %s, line num = %s  __new__ 1\n",
      "Function name = %s, line num = %s  _tokenize 641\n",
      "Function name = %s, line num = %s  _compile 147\n",
      "Function name = %s, line num = %s  compile 232\n",
      "Function name = %s, line num = %s  _compile 271\n",
      "Function name = %s, line num = %s  __get__ 164\n",
      "Function name = %s, line num = %s  value 619\n",
      "Function name = %s, line num = %s  __new__ 1\n",
      "Function name = %s, line num = %s  _tokenize 591\n",
      "Function name = %s, line num = %s  <listcomp> 966\n",
      "Function name = %s, line num = %s  uniq_stable 13\n",
      "Function name = %s, line num = %s  <listcomp> 23\n",
      "Function name = %s, line num = %s  __new__ 950\n",
      "Function name = %s, line num = %s  setup_instance 982\n",
      "Function name = %s, line num = %s  setup_instance 961\n",
      "Function name = %s, line num = %s  __get__ 911\n",
      "Function name = %s, line num = %s  instance_init 923\n",
      "Function name = %s, line num = %s  observe 1237\n",
      "Function name = %s, line num = %s  parse_notifier_name 188\n",
      "Function name = %s, line num = %s  _add_notifiers 1178\n",
      "Function name = %s, line num = %s  __get__ 545\n",
      "Function name = %s, line num = %s  instance_init 1690\n",
      "Function name = %s, line num = %s  _resolve_classes 1694\n",
      "Function name = %s, line num = %s  instance_init 516\n",
      "Function name = %s, line num = %s  helper 237\n",
      "Function name = %s, line num = %s  __init__ 81\n",
      "Function name = %s, line num = %s  __enter__ 107\n",
      "Function name = %s, line num = %s  cross_validation_lock 1047\n",
      "Function name = %s, line num = %s  _dynamic_default_callable 486\n",
      "Function name = %s, line num = %s  __exit__ 116\n",
      "Function name = %s, line num = %s  cross_validation_lock 1063\n",
      "Function name = %s, line num = %s  __get__ 545\n",
      "Function name = %s, line num = %s  instance_init 516\n",
      "Function name = %s, line num = %s  helper 237\n",
      "Function name = %s, line num = %s  __init__ 81\n",
      "Function name = %s, line num = %s  __enter__ 107\n",
      "Function name = %s, line num = %s  cross_validation_lock 1047\n",
      "Function name = %s, line num = %s  _dynamic_default_callable 486\n",
      "Function name = %s, line num = %s  _validate 587\n",
      "Function name = %s, line num = %s  validate 2045\n",
      "Function name = %s, line num = %s  __exit__ 116\n",
      "Function name = %s, line num = %s  cross_validation_lock 1063\n",
      "Function name = %s, line num = %s  __get__ 545\n",
      "Function name = %s, line num = %s  instance_init 1690\n",
      "Function name = %s, line num = %s  _resolve_classes 1694\n",
      "Function name = %s, line num = %s  instance_init 516\n",
      "Function name = %s, line num = %s  helper 237\n",
      "Function name = %s, line num = %s  __init__ 81\n",
      "Function name = %s, line num = %s  __enter__ 107\n",
      "Function name = %s, line num = %s  cross_validation_lock 1047\n",
      "Function name = %s, line num = %s  _dynamic_default_callable 486\n",
      "Function name = %s, line num = %s  __exit__ 116\n",
      "Function name = %s, line num = %s  cross_validation_lock 1063\n",
      "Function name = %s, line num = %s  __init__ 180\n",
      "Function name = %s, line num = %s  __init__ 38\n",
      "Function name = %s, line num = %s  __get__ 545\n",
      "Function name = %s, line num = %s  get 526\n",
      "Function name = %s, line num = %s  __set__ 576\n",
      "Function name = %s, line num = %s  set 558\n",
      "Function name = %s, line num = %s  _validate 587\n",
      "Function name = %s, line num = %s  validate 1673\n",
      "Function name = %s, line num = %s  _cross_validate 596\n",
      "Function name = %s, line num = %s  _notify_trait 1133\n",
      "Function name = %s, line num = %s  notify_change 1142\n",
      "Function name = %s, line num = %s  __getattr__ 11\n",
      "Function name = %s, line num = %s  __getattr__ 11\n",
      "Function name = %s, line num = %s  __init__ 988\n",
      "Function name = %s, line num = %s  helper 237\n",
      "Function name = %s, line num = %s  __init__ 81\n",
      "Function name = %s, line num = %s  __enter__ 107\n",
      "Function name = %s, line num = %s  hold_trait_notifications 1067\n",
      "Function name = %s, line num = %s  __exit__ 116\n",
      "Function name = %s, line num = %s  hold_trait_notifications 1104\n",
      "Function name = %s, line num = %s  __set__ 576\n",
      "Function name = %s, line num = %s  set 558\n",
      "Function name = %s, line num = %s  _validate 587\n",
      "Function name = %s, line num = %s  validate 1673\n",
      "Function name = %s, line num = %s  _cross_validate 596\n",
      "Function name = %s, line num = %s  _notify_trait 1133\n",
      "Function name = %s, line num = %s  notify_change 1142\n",
      "Function name = %s, line num = %s  __getattr__ 11\n",
      "Function name = %s, line num = %s  __getattr__ 11\n",
      "Function name = %s, line num = %s  __get__ 911\n",
      "Function name = %s, line num = %s  __get__ 911\n",
      "Function name = %s, line num = %s  __get__ 911\n",
      "Function name = %s, line num = %s  compatible_observer 805\n",
      "Function name = %s, line num = %s  _config_changed 170\n",
      "Function name = %s, line num = %s  traits 1407\n",
      "Function name = %s, line num = %s  getmembers 224\n",
      "Function name = %s, line num = %s  __get__ 911\n",
      "Function name = %s, line num = %s  __get__ 545\n",
      "Function name = %s, line num = %s  __get__ 545\n",
      "Function name = %s, line num = %s  __get__ 545\n",
      "Function name = %s, line num = %s  <listcomp> 1421\n",
      "Function name = %s, line num = %s  __init__ 215\n",
      "Function name = %s, line num = %s  __call__ 216\n",
      "Function name = %s, line num = %s  __init__ 215\n",
      "Function name = %s, line num = %s  __call__ 216\n",
      "Function name = %s, line num = %s  __init__ 215\n",
      "Function name = %s, line num = %s  __call__ 216\n",
      "Function name = %s, line num = %s  section_names 99\n",
      "Function name = %s, line num = %s  <listcomp> 102\n",
      "Function name = %s, line num = %s  __getattr__ 11\n",
      "Function name = %s, line num = %s  _load_config 131\n",
      "Function name = %s, line num = %s  _find_my_config 106\n",
      "Function name = %s, line num = %s  __get__ 545\n",
      "Function name = %s, line num = %s  get 526\n",
      "Function name = %s, line num = %s  __get__ 545\n",
      "Function name = %s, line num = %s  get 526\n",
      "Function name = %s, line num = %s  _find_my_config 106\n",
      "Function name = %s, line num = %s  __get__ 545\n",
      "Function name = %s, line num = %s  get 526\n",
      "Function name = %s, line num = %s  __get__ 545\n",
      "Function name = %s, line num = %s  get 526\n",
      "Function name = %s, line num = %s  _find_my_config 106\n",
      "Function name = %s, line num = %s  __get__ 545\n",
      "Function name = %s, line num = %s  get 526\n",
      "Function name = %s, line num = %s  __get__ 545\n",
      "Function name = %s, line num = %s  get 526\n",
      "Function name = %s, line num = %s  _find_my_config 106\n",
      "Function name = %s, line num = %s  __get__ 545\n",
      "Function name = %s, line num = %s  get 526\n",
      "Function name = %s, line num = %s  __get__ 545\n",
      "Function name = %s, line num = %s  get 526\n",
      "Function name = %s, line num = %s  _find_my_config 106\n",
      "Function name = %s, line num = %s  __get__ 545\n",
      "Function name = %s, line num = %s  get 526\n",
      "Function name = %s, line num = %s  __init__ 161\n",
      "Function name = %s, line num = %s  _ensure_subconfig 165\n",
      "Function name = %s, line num = %s  section_names 99\n",
      "Function name = %s, line num = %s  <listcomp> 102\n",
      "Function name = %s, line num = %s  _has_section 231\n",
      "Function name = %s, line num = %s  _is_section_key 150\n",
      "Function name = %s, line num = %s  __contains__ 218\n",
      "Function name = %s, line num = %s  _has_section 231\n",
      "Function name = %s, line num = %s  _is_section_key 150\n",
      "Function name = %s, line num = %s  __contains__ 218\n",
      "Function name = %s, line num = %s  _has_section 231\n",
      "Function name = %s, line num = %s  _is_section_key 150\n",
      "Function name = %s, line num = %s  __contains__ 218\n",
      "Function name = %s, line num = %s  _has_section 231\n",
      "Function name = %s, line num = %s  _is_section_key 150\n",
      "Function name = %s, line num = %s  __contains__ 218\n",
      "Function name = %s, line num = %s  _has_section 231\n",
      "Function name = %s, line num = %s  _is_section_key 150\n",
      "Function name = %s, line num = %s  __contains__ 218\n",
      "Function name = %s, line num = %s  _has_section 231\n",
      "Function name = %s, line num = %s  _is_section_key 150\n",
      "Function name = %s, line num = %s  __contains__ 218\n"
     ]
    },
    {
     "name": "stdout",
     "output_type": "stream",
     "text": [
      "Function name = %s, line num = %s  _has_section 231\n",
      "Function name = %s, line num = %s  _is_section_key 150\n",
      "Function name = %s, line num = %s  __contains__ 218\n",
      "Function name = %s, line num = %s  _has_section 231\n",
      "Function name = %s, line num = %s  _is_section_key 150\n",
      "Function name = %s, line num = %s  __contains__ 218\n",
      "Function name = %s, line num = %s  __getitem__ 252\n",
      "Function name = %s, line num = %s  merge 182\n",
      "Function name = %s, line num = %s  __contains__ 218\n",
      "Function name = %s, line num = %s  __init__ 161\n",
      "Function name = %s, line num = %s  _ensure_subconfig 165\n",
      "Function name = %s, line num = %s  section_names 99\n",
      "Function name = %s, line num = %s  <listcomp> 102\n",
      "Function name = %s, line num = %s  _has_section 231\n",
      "Function name = %s, line num = %s  _is_section_key 150\n",
      "Function name = %s, line num = %s  __contains__ 218\n",
      "Function name = %s, line num = %s  _has_section 231\n",
      "Function name = %s, line num = %s  _is_section_key 150\n",
      "Function name = %s, line num = %s  __contains__ 218\n",
      "Function name = %s, line num = %s  _has_section 231\n",
      "Function name = %s, line num = %s  _is_section_key 150\n",
      "Function name = %s, line num = %s  __contains__ 218\n",
      "Function name = %s, line num = %s  _has_section 231\n",
      "Function name = %s, line num = %s  _is_section_key 150\n",
      "Function name = %s, line num = %s  __contains__ 218\n",
      "Function name = %s, line num = %s  _has_section 231\n",
      "Function name = %s, line num = %s  _is_section_key 150\n",
      "Function name = %s, line num = %s  __contains__ 218\n",
      "Function name = %s, line num = %s  section_names 99\n",
      "Function name = %s, line num = %s  <listcomp> 102\n",
      "Function name = %s, line num = %s  _has_section 231\n",
      "Function name = %s, line num = %s  _is_section_key 150\n",
      "Function name = %s, line num = %s  __contains__ 218\n",
      "Function name = %s, line num = %s  _has_section 231\n",
      "Function name = %s, line num = %s  _is_section_key 150\n",
      "Function name = %s, line num = %s  __contains__ 218\n",
      "Function name = %s, line num = %s  _has_section 231\n",
      "Function name = %s, line num = %s  _is_section_key 150\n",
      "Function name = %s, line num = %s  __contains__ 218\n",
      "Function name = %s, line num = %s  _has_section 231\n",
      "Function name = %s, line num = %s  _is_section_key 150\n",
      "Function name = %s, line num = %s  __contains__ 218\n",
      "Function name = %s, line num = %s  _has_section 231\n",
      "Function name = %s, line num = %s  _is_section_key 150\n",
      "Function name = %s, line num = %s  __contains__ 218\n",
      "Function name = %s, line num = %s  __init__ 161\n",
      "Function name = %s, line num = %s  _ensure_subconfig 165\n",
      "Function name = %s, line num = %s  section_names 99\n",
      "Function name = %s, line num = %s  <listcomp> 102\n",
      "Function name = %s, line num = %s  _has_section 231\n",
      "Function name = %s, line num = %s  _is_section_key 150\n",
      "Function name = %s, line num = %s  __contains__ 218\n",
      "Function name = %s, line num = %s  _has_section 231\n",
      "Function name = %s, line num = %s  _is_section_key 150\n",
      "Function name = %s, line num = %s  __contains__ 218\n",
      "Function name = %s, line num = %s  _has_section 231\n",
      "Function name = %s, line num = %s  _is_section_key 150\n",
      "Function name = %s, line num = %s  __contains__ 218\n",
      "Function name = %s, line num = %s  _has_section 231\n",
      "Function name = %s, line num = %s  _is_section_key 150\n",
      "Function name = %s, line num = %s  __contains__ 218\n",
      "Function name = %s, line num = %s  _has_section 231\n",
      "Function name = %s, line num = %s  _is_section_key 150\n",
      "Function name = %s, line num = %s  __contains__ 218\n",
      "Function name = %s, line num = %s  section_names 99\n",
      "Function name = %s, line num = %s  <listcomp> 102\n",
      "Function name = %s, line num = %s  _has_section 231\n",
      "Function name = %s, line num = %s  _is_section_key 150\n",
      "Function name = %s, line num = %s  __contains__ 218\n",
      "Function name = %s, line num = %s  _has_section 231\n",
      "Function name = %s, line num = %s  _is_section_key 150\n",
      "Function name = %s, line num = %s  __contains__ 218\n",
      "Function name = %s, line num = %s  _has_section 231\n",
      "Function name = %s, line num = %s  _is_section_key 150\n",
      "Function name = %s, line num = %s  __contains__ 218\n",
      "Function name = %s, line num = %s  _has_section 231\n",
      "Function name = %s, line num = %s  _is_section_key 150\n",
      "Function name = %s, line num = %s  __contains__ 218\n",
      "Function name = %s, line num = %s  _has_section 231\n",
      "Function name = %s, line num = %s  _is_section_key 150\n",
      "Function name = %s, line num = %s  __contains__ 218\n",
      "Function name = %s, line num = %s  __init__ 161\n",
      "Function name = %s, line num = %s  _ensure_subconfig 165\n",
      "Function name = %s, line num = %s  section_names 99\n",
      "Function name = %s, line num = %s  <listcomp> 102\n",
      "Function name = %s, line num = %s  _has_section 231\n",
      "Function name = %s, line num = %s  _is_section_key 150\n",
      "Function name = %s, line num = %s  __contains__ 218\n",
      "Function name = %s, line num = %s  _has_section 231\n",
      "Function name = %s, line num = %s  _is_section_key 150\n",
      "Function name = %s, line num = %s  __contains__ 218\n",
      "Function name = %s, line num = %s  _has_section 231\n",
      "Function name = %s, line num = %s  _is_section_key 150\n",
      "Function name = %s, line num = %s  __contains__ 218\n",
      "Function name = %s, line num = %s  _has_section 231\n",
      "Function name = %s, line num = %s  _is_section_key 150\n",
      "Function name = %s, line num = %s  __contains__ 218\n",
      "Function name = %s, line num = %s  _has_section 231\n",
      "Function name = %s, line num = %s  _is_section_key 150\n",
      "Function name = %s, line num = %s  __contains__ 218\n",
      "Function name = %s, line num = %s  _has_section 231\n",
      "Function name = %s, line num = %s  _is_section_key 150\n",
      "Function name = %s, line num = %s  __contains__ 218\n",
      "Function name = %s, line num = %s  _has_section 231\n",
      "Function name = %s, line num = %s  _is_section_key 150\n",
      "Function name = %s, line num = %s  __contains__ 218\n",
      "Function name = %s, line num = %s  section_names 99\n",
      "Function name = %s, line num = %s  <listcomp> 102\n",
      "Function name = %s, line num = %s  _has_section 231\n",
      "Function name = %s, line num = %s  _is_section_key 150\n",
      "Function name = %s, line num = %s  __contains__ 218\n",
      "Function name = %s, line num = %s  _has_section 231\n",
      "Function name = %s, line num = %s  _is_section_key 150\n",
      "Function name = %s, line num = %s  __contains__ 218\n",
      "Function name = %s, line num = %s  _has_section 231\n",
      "Function name = %s, line num = %s  _is_section_key 150\n",
      "Function name = %s, line num = %s  __contains__ 218\n",
      "Function name = %s, line num = %s  _has_section 231\n",
      "Function name = %s, line num = %s  _is_section_key 150\n",
      "Function name = %s, line num = %s  __contains__ 218\n",
      "Function name = %s, line num = %s  _has_section 231\n",
      "Function name = %s, line num = %s  _is_section_key 150\n",
      "Function name = %s, line num = %s  __contains__ 218\n",
      "Function name = %s, line num = %s  _has_section 231\n",
      "Function name = %s, line num = %s  _is_section_key 150\n",
      "Function name = %s, line num = %s  __contains__ 218\n",
      "Function name = %s, line num = %s  _has_section 231\n",
      "Function name = %s, line num = %s  _is_section_key 150\n",
      "Function name = %s, line num = %s  __contains__ 218\n",
      "Function name = %s, line num = %s  __init__ 161\n",
      "Function name = %s, line num = %s  _ensure_subconfig 165\n",
      "Function name = %s, line num = %s  section_names 99\n",
      "Function name = %s, line num = %s  <listcomp> 102\n",
      "Function name = %s, line num = %s  _has_section 231\n",
      "Function name = %s, line num = %s  _is_section_key 150\n",
      "Function name = %s, line num = %s  __contains__ 218\n",
      "Function name = %s, line num = %s  _has_section 231\n",
      "Function name = %s, line num = %s  _is_section_key 150\n",
      "Function name = %s, line num = %s  __contains__ 218\n",
      "Function name = %s, line num = %s  _has_section 231\n",
      "Function name = %s, line num = %s  _is_section_key 150\n",
      "Function name = %s, line num = %s  __contains__ 218\n",
      "Function name = %s, line num = %s  section_names 99\n",
      "Function name = %s, line num = %s  <listcomp> 102\n",
      "Function name = %s, line num = %s  _has_section 231\n",
      "Function name = %s, line num = %s  _is_section_key 150\n",
      "Function name = %s, line num = %s  __contains__ 218\n",
      "Function name = %s, line num = %s  _has_section 231\n",
      "Function name = %s, line num = %s  _is_section_key 150\n",
      "Function name = %s, line num = %s  __contains__ 218\n",
      "Function name = %s, line num = %s  _has_section 231\n",
      "Function name = %s, line num = %s  _is_section_key 150\n",
      "Function name = %s, line num = %s  __contains__ 218\n",
      "Function name = %s, line num = %s  helper 237\n",
      "Function name = %s, line num = %s  __init__ 81\n",
      "Function name = %s, line num = %s  __enter__ 107\n",
      "Function name = %s, line num = %s  hold_trait_notifications 1067\n",
      "Function name = %s, line num = %s  __exit__ 116\n",
      "Function name = %s, line num = %s  hold_trait_notifications 1104\n",
      "Function name = %s, line num = %s  _format_traceback_lines 377\n",
      "Function name = %s, line num = %s  cast_unicode 28\n",
      "Function name = %s, line num = %s  format2 204\n",
      "Function name = %s, line num = %s  generate_tokens 662\n",
      "Function name = %s, line num = %s  _tokenize 487\n",
      "Function name = %s, line num = %s  __new__ 1\n",
      "Function name = %s, line num = %s  __call__ 278\n",
      "Function name = %s, line num = %s  __getattr__ 125\n",
      "Function name = %s, line num = %s  _tokenize 657\n",
      "Function name = %s, line num = %s  __getattr__ 125\n",
      "Function name = %s, line num = %s  __getattr__ 125\n",
      "Function name = %s, line num = %s  __getattr__ 125\n",
      "Function name = %s, line num = %s  cast_unicode 28\n",
      "Function name = %s, line num = %s  format2 204\n",
      "Function name = %s, line num = %s  generate_tokens 662\n",
      "Function name = %s, line num = %s  _tokenize 487\n",
      "Function name = %s, line num = %s  __new__ 1\n",
      "Function name = %s, line num = %s  __call__ 278\n",
      "Function name = %s, line num = %s  __getattr__ 125\n",
      "Function name = %s, line num = %s  _tokenize 657\n",
      "Function name = %s, line num = %s  __getattr__ 125\n",
      "Function name = %s, line num = %s  __getattr__ 125\n",
      "Function name = %s, line num = %s  __getattr__ 125\n",
      "Function name = %s, line num = %s  cast_unicode 28\n",
      "Function name = %s, line num = %s  format2 204\n",
      "Function name = %s, line num = %s  generate_tokens 662\n",
      "Function name = %s, line num = %s  _tokenize 487\n",
      "Function name = %s, line num = %s  _compile 147\n",
      "Function name = %s, line num = %s  compile 232\n",
      "Function name = %s, line num = %s  _compile 271\n",
      "Function name = %s, line num = %s  __get__ 164\n",
      "Function name = %s, line num = %s  value 619\n",
      "Function name = %s, line num = %s  __new__ 1\n",
      "Function name = %s, line num = %s  __call__ 278\n",
      "Function name = %s, line num = %s  __getattr__ 125\n",
      "Function name = %s, line num = %s  _tokenize 641\n",
      "Function name = %s, line num = %s  _compile 147\n",
      "Function name = %s, line num = %s  compile 232\n",
      "Function name = %s, line num = %s  _compile 271\n",
      "Function name = %s, line num = %s  __get__ 164\n",
      "Function name = %s, line num = %s  value 619\n",
      "Function name = %s, line num = %s  __new__ 1\n",
      "Function name = %s, line num = %s  __call__ 278\n",
      "Function name = %s, line num = %s  __getattr__ 125\n",
      "Function name = %s, line num = %s  _tokenize 649\n",
      "Function name = %s, line num = %s  _compile 147\n",
      "Function name = %s, line num = %s  compile 232\n",
      "Function name = %s, line num = %s  _compile 271\n",
      "Function name = %s, line num = %s  __get__ 164\n",
      "Function name = %s, line num = %s  value 619\n",
      "Function name = %s, line num = %s  __new__ 1\n",
      "Function name = %s, line num = %s  __call__ 278\n",
      "Function name = %s, line num = %s  __getattr__ 125\n",
      "Function name = %s, line num = %s  _tokenize 641\n",
      "Function name = %s, line num = %s  __new__ 1\n",
      "Function name = %s, line num = %s  __call__ 278\n",
      "Function name = %s, line num = %s  __getattr__ 125\n",
      "Function name = %s, line num = %s  _tokenize 657\n",
      "Function name = %s, line num = %s  __getattr__ 125\n",
      "Function name = %s, line num = %s  make_arrow 53\n",
      "Function name = %s, line num = %s  __getattr__ 125\n",
      "Function name = %s, line num = %s  __getattr__ 125\n",
      "Function name = %s, line num = %s  __getattr__ 125\n",
      "Function name = %s, line num = %s  format_exception 1041\n",
      "Function name = %s, line num = %s  __getattr__ 125\n",
      "Function name = %s, line num = %s  __getattr__ 125\n",
      "Function name = %s, line num = %s  cast_unicode 28\n",
      "Function name = %s, line num = %s  abspath 517\n",
      "Function name = %s, line num = %s  normpath 450\n",
      "Function name = %s, line num = %s  splitdrive 122\n",
      "Function name = %s, line num = %s  get_ipython 17\n",
      "Function name = %s, line num = %s  _handle_fromlist 1009\n",
      "Function name = %s, line num = %s  initialized 426\n",
      "Function name = %s, line num = %s  instance 381\n",
      "Function name = %s, line num = %s  __getattr__ 125\n",
      "Function name = %s, line num = %s  __call__ 142\n",
      "Function name = %s, line num = %s  synchronize_with_editor 124\n",
      "Function name = %s, line num = %s  __getattr__ 125\n",
      "Function name = %s, line num = %s  __getattr__ 125\n",
      "Function name = %s, line num = %s  get_terminal_size 109\n",
      "Function name = %s, line num = %s  get_terminal_size 1064\n",
      "Function name = %s, line num = %s  __getitem__ 673\n",
      "Function name = %s, line num = %s  encodekey 743\n",
      "Function name = %s, line num = %s  check_str 737\n",
      "Function name = %s, line num = %s  __getitem__ 673\n",
      "Function name = %s, line num = %s  encodekey 743\n",
      "Function name = %s, line num = %s  check_str 737\n",
      "Function name = %s, line num = %s  get_parts_of_chained_exception 1114\n",
      "Function name = %s, line num = %s  get_chained_exception 1115\n",
      "Function name = %s, line num = %s  _showtraceback 539\n",
      "Function name = %s, line num = %s  flush 334\n",
      "Function name = %s, line num = %s  is_alive 1080\n",
      "Function name = %s, line num = %s  is_set 507\n",
      "Function name = %s, line num = %s  _wait_for_tstate_lock 1038\n",
      "Function name = %s, line num = %s  schedule 195\n",
      "Function name = %s, line num = %s  is_alive 1080\n",
      "Function name = %s, line num = %s  is_set 507\n",
      "Function name = %s, line num = %s  _wait_for_tstate_lock 1038\n"
     ]
    },
    {
     "name": "stdout",
     "output_type": "stream",
     "text": [
      "Function name = %s, line num = %s  _event_pipe 93\n",
      "Function name = %s, line num = %s  send 334\n",
      "Function name = %s, line num = %s  __init__ 499\n",
      "Function name = %s, line num = %s  __init__ 216\n",
      "Function name = %s, line num = %s  schedule 195\n",
      "Function name = %s, line num = %s  is_alive 1080\n",
      "Function name = %s, line num = %s  is_set 507\n",
      "Function name = %s, line num = %s  _wait_for_tstate_lock 1038\n",
      "Function name = %s, line num = %s  _event_pipe 93\n",
      "Function name = %s, line num = %s  send 334\n",
      "Function name = %s, line num = %s  wait 534\n",
      "Function name = %s, line num = %s  __enter__ 240\n",
      "Function name = %s, line num = %s  __exit__ 243\n",
      "Function name = %s, line num = %s  flush 334\n",
      "Function name = %s, line num = %s  is_alive 1080\n",
      "Function name = %s, line num = %s  is_set 507\n",
      "Function name = %s, line num = %s  _wait_for_tstate_lock 1038\n",
      "Function name = %s, line num = %s  schedule 195\n",
      "Function name = %s, line num = %s  is_alive 1080\n",
      "Function name = %s, line num = %s  is_set 507\n",
      "Function name = %s, line num = %s  _wait_for_tstate_lock 1038\n",
      "Function name = %s, line num = %s  _event_pipe 93\n",
      "Function name = %s, line num = %s  send 334\n",
      "Function name = %s, line num = %s  __init__ 499\n",
      "Function name = %s, line num = %s  __init__ 216\n",
      "Function name = %s, line num = %s  schedule 195\n",
      "Function name = %s, line num = %s  is_alive 1080\n",
      "Function name = %s, line num = %s  is_set 507\n",
      "Function name = %s, line num = %s  _wait_for_tstate_lock 1038\n",
      "Function name = %s, line num = %s  _event_pipe 93\n",
      "Function name = %s, line num = %s  send 334\n",
      "Function name = %s, line num = %s  wait 534\n",
      "Function name = %s, line num = %s  __enter__ 240\n",
      "Function name = %s, line num = %s  __exit__ 243\n",
      "Function name = %s, line num = %s  safe_unicode 60\n",
      "Function name = %s, line num = %s  __get__ 545\n",
      "Function name = %s, line num = %s  get 526\n",
      "Function name = %s, line num = %s  __get__ 545\n",
      "Function name = %s, line num = %s  get 526\n",
      "Function name = %s, line num = %s  json_clean 109\n",
      "Function name = %s, line num = %s  __instancecheck__ 137\n",
      "Function name = %s, line num = %s  __instancecheck__ 137\n",
      "Function name = %s, line num = %s  iteritems 188\n",
      "Function name = %s, line num = %s  json_clean 109\n",
      "Function name = %s, line num = %s  __instancecheck__ 137\n",
      "Function name = %s, line num = %s  __instancecheck__ 137\n",
      "Function name = %s, line num = %s  <listcomp> 177\n",
      "Function name = %s, line num = %s  json_clean 109\n",
      "Function name = %s, line num = %s  __instancecheck__ 137\n",
      "Function name = %s, line num = %s  __instancecheck__ 137\n",
      "Function name = %s, line num = %s  json_clean 109\n",
      "Function name = %s, line num = %s  __instancecheck__ 137\n",
      "Function name = %s, line num = %s  __instancecheck__ 137\n",
      "Function name = %s, line num = %s  json_clean 109\n",
      "Function name = %s, line num = %s  __instancecheck__ 137\n",
      "Function name = %s, line num = %s  __instancecheck__ 137\n",
      "Function name = %s, line num = %s  json_clean 109\n",
      "Function name = %s, line num = %s  __instancecheck__ 137\n",
      "Function name = %s, line num = %s  __instancecheck__ 137\n",
      "Function name = %s, line num = %s  json_clean 109\n",
      "Function name = %s, line num = %s  __instancecheck__ 137\n",
      "Function name = %s, line num = %s  __instancecheck__ 137\n",
      "Function name = %s, line num = %s  json_clean 109\n",
      "Function name = %s, line num = %s  __instancecheck__ 137\n",
      "Function name = %s, line num = %s  __instancecheck__ 137\n",
      "Function name = %s, line num = %s  __get__ 545\n",
      "Function name = %s, line num = %s  get 526\n",
      "Function name = %s, line num = %s  send 657\n",
      "Function name = %s, line num = %s  msg 564\n",
      "Function name = %s, line num = %s  msg_header 561\n",
      "Function name = %s, line num = %s  msg_id 509\n",
      "Function name = %s, line num = %s  new_id 121\n",
      "Function name = %s, line num = %s  <genexpr> 132\n",
      "Function name = %s, line num = %s  <genexpr> 132\n",
      "Function name = %s, line num = %s  <genexpr> 132\n",
      "Function name = %s, line num = %s  __get__ 545\n",
      "Function name = %s, line num = %s "
     ]
    },
    {
     "ename": "AttributeError",
     "evalue": "module 'sys' has no attribute 'set'",
     "output_type": "error",
     "traceback": [
      "\u001b[1;31m---------------------------------------------------------------------------\u001b[0m",
      "\u001b[1;31mAttributeError\u001b[0m                            Traceback (most recent call last)",
      "\u001b[1;32m<ipython-input-207-dc1ff1d678a4>\u001b[0m in \u001b[0;36m<module>\u001b[1;34m()\u001b[0m\n\u001b[0;32m     15\u001b[0m \u001b[1;33m\u001b[0m\u001b[0m\n\u001b[0;32m     16\u001b[0m \u001b[1;33m\u001b[0m\u001b[0m\n\u001b[1;32m---> 17\u001b[1;33m \u001b[0msys\u001b[0m\u001b[1;33m.\u001b[0m\u001b[0mset\u001b[0m\u001b[1;33m\u001b[0m\u001b[0m\n\u001b[0m",
      "\u001b[1;31mAttributeError\u001b[0m: module 'sys' has no attribute 'set'"
     ]
    },
    {
     "name": "stdout",
     "output_type": "stream",
     "text": [
      " get 526\n",
      "Function name = %s, line num = %s  __get__ 545\n",
      "Function name = %s, line num = %s  get 526\n",
      "Function name = %s, line num = %s  msg_header 236\n",
      "Function name = %s, line num = %s  utcnow 169\n",
      "Function name = %s, line num = %s  extract_header 242\n",
      "Function name = %s, line num = %s  __get__ 545\n",
      "Function name = %s, line num = %s  get 526\n",
      "Function name = %s, line num = %s  __get__ 545\n",
      "Function name = %s, line num = %s  get 526\n",
      "Function name = %s, line num = %s  __get__ 545\n",
      "Function name = %s, line num = %s  get 526\n",
      "Function name = %s, line num = %s  __get__ 545\n",
      "Function name = %s, line num = %s  get 526\n",
      "Function name = %s, line num = %s  serialize 598\n",
      "Function name = %s, line num = %s  __get__ 545\n",
      "Function name = %s, line num = %s  get 526\n",
      "Function name = %s, line num = %s  <lambda> 102\n",
      "Function name = %s, line num = %s  dumps 31\n",
      "Function name = %s, line num = %s  dumps 183\n",
      "Function name = %s, line num = %s  __init__ 104\n",
      "Function name = %s, line num = %s  encode 182\n",
      "Function name = %s, line num = %s  iterencode 204\n",
      "Function name = %s, line num = %s  __get__ 545\n",
      "Function name = %s, line num = %s  get 526\n",
      "Function name = %s, line num = %s  <lambda> 102\n",
      "Function name = %s, line num = %s  dumps 31\n",
      "Function name = %s, line num = %s  dumps 183\n",
      "Function name = %s, line num = %s  __init__ 104\n",
      "Function name = %s, line num = %s  encode 182\n",
      "Function name = %s, line num = %s  iterencode 204\n",
      "Function name = %s, line num = %s  date_default 87\n",
      "Function name = %s, line num = %s  _ensure_tzinfo 34\n",
      "Function name = %s, line num = %s  __get__ 545\n",
      "Function name = %s, line num = %s  get 526\n",
      "Function name = %s, line num = %s  <lambda> 102\n",
      "Function name = %s, line num = %s  dumps 31\n",
      "Function name = %s, line num = %s  dumps 183\n",
      "Function name = %s, line num = %s  __init__ 104\n",
      "Function name = %s, line num = %s  encode 182\n",
      "Function name = %s, line num = %s  iterencode 204\n",
      "Function name = %s, line num = %s  date_default 87\n",
      "Function name = %s, line num = %s  _ensure_tzinfo 34\n",
      "Function name = %s, line num = %s  utcoffset 69\n",
      "Function name = %s, line num = %s  __get__ 545\n",
      "Function name = %s, line num = %s  get 526\n",
      "Function name = %s, line num = %s  <lambda> 102\n",
      "Function name = %s, line num = %s  dumps 31\n",
      "Function name = %s, line num = %s  dumps 183\n",
      "Function name = %s, line num = %s  __init__ 104\n",
      "Function name = %s, line num = %s  encode 182\n",
      "Function name = %s, line num = %s  iterencode 204\n",
      "Function name = %s, line num = %s  sign 583\n",
      "Function name = %s, line num = %s  __get__ 545\n",
      "Function name = %s, line num = %s  get 526\n",
      "Function name = %s, line num = %s  __get__ 545\n",
      "Function name = %s, line num = %s  get 526\n",
      "Function name = %s, line num = %s  copy 104\n",
      "Function name = %s, line num = %s  update 99\n",
      "Function name = %s, line num = %s  update 99\n",
      "Function name = %s, line num = %s  update 99\n",
      "Function name = %s, line num = %s  update 99\n",
      "Function name = %s, line num = %s  hexdigest 136\n",
      "Function name = %s, line num = %s  _current 117\n",
      "Function name = %s, line num = %s  encode 19\n",
      "Function name = %s, line num = %s  encode 11\n",
      "Function name = %s, line num = %s  <listcomp> 739\n",
      "Function name = %s, line num = %s  __get__ 545\n",
      "Function name = %s, line num = %s  get 526\n",
      "Function name = %s, line num = %s  send_multipart 260\n",
      "Function name = %s, line num = %s  send_multipart 207\n",
      "Function name = %s, line num = %s  schedule 195\n",
      "Function name = %s, line num = %s  is_alive 1080\n",
      "Function name = %s, line num = %s  is_set 507\n",
      "Function name = %s, line num = %s  _wait_for_tstate_lock 1038\n",
      "Function name = %s, line num = %s  _event_pipe 93\n",
      "Function name = %s, line num = %s  send 334\n",
      "Function name = %s, line num = %s  __get__ 545\n",
      "Function name = %s, line num = %s  get 526\n",
      "Function name = %s, line num = %s  _get_call_pdb 984\n",
      "Function name = %s, line num = %s  __set__ 576\n",
      "Function name = %s, line num = %s  set 558\n",
      "Function name = %s, line num = %s  _validate 587\n",
      "Function name = %s, line num = %s  validate 2110\n",
      "Function name = %s, line num = %s  _cross_validate 596\n",
      "Function name = %s, line num = %s  _notify_trait 1133\n",
      "Function name = %s, line num = %s  notify_change 1142\n",
      "Function name = %s, line num = %s  __getattr__ 11\n",
      "Function name = %s, line num = %s  __getattr__ 11\n",
      "Function name = %s, line num = %s  __set__ 576\n",
      "Function name = %s, line num = %s  set 558\n",
      "Function name = %s, line num = %s  _validate 587\n",
      "Function name = %s, line num = %s  validate 1673\n",
      "Function name = %s, line num = %s  _cross_validate 596\n",
      "Function name = %s, line num = %s  _notify_trait 1133\n",
      "Function name = %s, line num = %s  notify_change 1142\n",
      "Function name = %s, line num = %s  __getattr__ 11\n",
      "Function name = %s, line num = %s  __getattr__ 11\n",
      "Function name = %s, line num = %s  __set__ 576\n",
      "Function name = %s, line num = %s  set 558\n",
      "Function name = %s, line num = %s  _validate 587\n",
      "Function name = %s, line num = %s  _notify_trait 1133\n",
      "Function name = %s, line num = %s  notify_change 1142\n",
      "Function name = %s, line num = %s  __getattr__ 11\n",
      "Function name = %s, line num = %s  __getattr__ 11\n",
      "Function name = %s, line num = %s  __exit__ 54\n",
      "Function name = %s, line num = %s  unset 67\n",
      "Function name = %s, line num = %s  __exit__ 46\n",
      "Function name = %s, line num = %s  deactivate 79\n",
      "Function name = %s, line num = %s  remove_builtin 65\n",
      "Function name = %s, line num = %s  remove_builtin 65\n",
      "Function name = %s, line num = %s  remove_builtin 65\n",
      "Function name = %s, line num = %s  __get__ 545\n",
      "Function name = %s, line num = %s  get 526\n",
      "Function name = %s, line num = %s  __get__ 545\n",
      "Function name = %s, line num = %s  get 526\n",
      "Function name = %s, line num = %s  store_output 741\n",
      "Function name = %s, line num = %s  __get__ 545\n",
      "Function name = %s, line num = %s  get 526\n",
      "Function name = %s, line num = %s  __get__ 545\n",
      "Function name = %s, line num = %s  get 526\n",
      "Function name = %s, line num = %s  __set__ 576\n",
      "Function name = %s, line num = %s  set 558\n",
      "Function name = %s, line num = %s  _validate 587\n",
      "Function name = %s, line num = %s  validate 1868\n",
      "Function name = %s, line num = %s  _validate_bounds 1832\n",
      "Function name = %s, line num = %s  _cross_validate 596\n",
      "Function name = %s, line num = %s  _notify_trait 1133\n",
      "Function name = %s, line num = %s  notify_change 1142\n",
      "Function name = %s, line num = %s  __getattr__ 11\n",
      "Function name = %s, line num = %s  __getattr__ 11\n",
      "Function name = %s, line num = %s  trigger 80\n",
      "Function name = %s, line num = %s  trigger 80\n",
      "Function name = %s, line num = %s  _restore_input 180\n",
      "Function name = %s, line num = %s  __get__ 545\n",
      "Function name = %s, line num = %s  get 526\n",
      "Function name = %s, line num = %s  success 214\n",
      "Function name = %s, line num = %s  safe_unicode 60\n",
      "Function name = %s, line num = %s  __get__ 545\n",
      "Function name = %s, line num = %s  get 526\n",
      "Function name = %s, line num = %s  __get__ 545\n",
      "Function name = %s, line num = %s  get 526\n",
      "Function name = %s, line num = %s  __get__ 545\n",
      "Function name = %s, line num = %s  get 526\n",
      "Function name = %s, line num = %s  __get__ 545\n",
      "Function name = %s, line num = %s  get 526\n",
      "Function name = %s, line num = %s  info 1322\n",
      "Function name = %s, line num = %s  isEnabledFor 1568\n",
      "Function name = %s, line num = %s  __get__ 545\n",
      "Function name = %s, line num = %s  get 526\n",
      "Function name = %s, line num = %s  read_payload 51\n",
      "Function name = %s, line num = %s  __get__ 545\n",
      "Function name = %s, line num = %s  get 526\n",
      "Function name = %s, line num = %s  __get__ 545\n",
      "Function name = %s, line num = %s  get 526\n",
      "Function name = %s, line num = %s  clear_payload 54\n",
      "Function name = %s, line num = %s  __set__ 576\n",
      "Function name = %s, line num = %s  set 558\n",
      "Function name = %s, line num = %s  _validate 587\n",
      "Function name = %s, line num = %s  validate 2323\n",
      "Function name = %s, line num = %s  validate 2235\n",
      "Function name = %s, line num = %s  validate 1673\n",
      "Function name = %s, line num = %s  validate_elements 2316\n",
      "Function name = %s, line num = %s  validate_elements 2246\n",
      "Function name = %s, line num = %s  validate_elements 2316\n",
      "Function name = %s, line num = %s  validate_elements 2246\n",
      "Function name = %s, line num = %s  _cross_validate 596\n",
      "Function name = %s, line num = %s  flush 334\n",
      "Function name = %s, line num = %s  is_alive 1080\n",
      "Function name = %s, line num = %s  is_set 507\n",
      "Function name = %s, line num = %s  _wait_for_tstate_lock 1038\n",
      "Function name = %s, line num = %s  schedule 195\n",
      "Function name = %s, line num = %s  is_alive 1080\n",
      "Function name = %s, line num = %s  is_set 507\n",
      "Function name = %s, line num = %s  _wait_for_tstate_lock 1038\n"
     ]
    },
    {
     "name": "stdout",
     "output_type": "stream",
     "text": [
      "Function name = %s, line num = %s  _event_pipe 93\n",
      "Function name = %s, line num = %s  send 334\n",
      "Function name = %s, line num = %s  __init__ 499\n",
      "Function name = %s, line num = %s  __init__ 216\n",
      "Function name = %s, line num = %s  schedule 195\n",
      "Function name = %s, line num = %s  is_alive 1080\n",
      "Function name = %s, line num = %s  is_set 507\n",
      "Function name = %s, line num = %s  _wait_for_tstate_lock 1038\n",
      "Function name = %s, line num = %s  _event_pipe 93\n",
      "Function name = %s, line num = %s  send 334\n",
      "Function name = %s, line num = %s  wait 534\n",
      "Function name = %s, line num = %s  __enter__ 240\n",
      "Function name = %s, line num = %s  wait 264\n",
      "Function name = %s, line num = %s  _is_owned 255\n",
      "Function name = %s, line num = %s  _release_save 249\n",
      "Function name = %s, line num = %s  _acquire_restore 252\n",
      "Function name = %s, line num = %s  __exit__ 243\n",
      "Function name = %s, line num = %s  flush 334\n",
      "Function name = %s, line num = %s  is_alive 1080\n",
      "Function name = %s, line num = %s  is_set 507\n",
      "Function name = %s, line num = %s  _wait_for_tstate_lock 1038\n",
      "Function name = %s, line num = %s  schedule 195\n",
      "Function name = %s, line num = %s  is_alive 1080\n",
      "Function name = %s, line num = %s  is_set 507\n",
      "Function name = %s, line num = %s  _wait_for_tstate_lock 1038\n",
      "Function name = %s, line num = %s  _event_pipe 93\n",
      "Function name = %s, line num = %s  send 334\n",
      "Function name = %s, line num = %s  __init__ 499\n",
      "Function name = %s, line num = %s  __init__ 216\n",
      "Function name = %s, line num = %s  schedule 195\n",
      "Function name = %s, line num = %s  is_alive 1080\n",
      "Function name = %s, line num = %s  is_set 507\n",
      "Function name = %s, line num = %s  _wait_for_tstate_lock 1038\n",
      "Function name = %s, line num = %s  _event_pipe 93\n",
      "Function name = %s, line num = %s  send 334\n",
      "Function name = %s, line num = %s  wait 534\n",
      "Function name = %s, line num = %s  __enter__ 240\n",
      "Function name = %s, line num = %s  __exit__ 243\n",
      "Function name = %s, line num = %s  __get__ 545\n",
      "Function name = %s, line num = %s  get 526\n",
      "Function name = %s, line num = %s  __get__ 545\n",
      "Function name = %s, line num = %s  get 526\n",
      "Function name = %s, line num = %s  json_clean 109\n",
      "Function name = %s, line num = %s  __instancecheck__ 137\n",
      "Function name = %s, line num = %s  __instancecheck__ 137\n",
      "Function name = %s, line num = %s  iteritems 188\n",
      "Function name = %s, line num = %s  json_clean 109\n",
      "Function name = %s, line num = %s  __instancecheck__ 137\n",
      "Function name = %s, line num = %s  __instancecheck__ 137\n",
      "Function name = %s, line num = %s  json_clean 109\n",
      "Function name = %s, line num = %s  __instancecheck__ 137\n",
      "Function name = %s, line num = %s  __instancecheck__ 137\n",
      "Function name = %s, line num = %s  <listcomp> 177\n",
      "Function name = %s, line num = %s  json_clean 109\n",
      "Function name = %s, line num = %s  __instancecheck__ 137\n",
      "Function name = %s, line num = %s  __instancecheck__ 137\n",
      "Function name = %s, line num = %s  json_clean 109\n",
      "Function name = %s, line num = %s  __instancecheck__ 137\n",
      "Function name = %s, line num = %s  __instancecheck__ 137\n",
      "Function name = %s, line num = %s  json_clean 109\n",
      "Function name = %s, line num = %s  __instancecheck__ 137\n",
      "Function name = %s, line num = %s  __instancecheck__ 137\n",
      "Function name = %s, line num = %s  json_clean 109\n",
      "Function name = %s, line num = %s  __instancecheck__ 137\n",
      "Function name = %s, line num = %s  __instancecheck__ 137\n",
      "Function name = %s, line num = %s  json_clean 109\n",
      "Function name = %s, line num = %s  __instancecheck__ 137\n",
      "Function name = %s, line num = %s  __instancecheck__ 137\n",
      "Function name = %s, line num = %s  json_clean 109\n",
      "Function name = %s, line num = %s  __instancecheck__ 137\n",
      "Function name = %s, line num = %s  __instancecheck__ 137\n",
      "Function name = %s, line num = %s  json_clean 109\n",
      "Function name = %s, line num = %s  __instancecheck__ 137\n",
      "Function name = %s, line num = %s  __instancecheck__ 137\n",
      "Function name = %s, line num = %s  iteritems 188\n",
      "Function name = %s, line num = %s  json_clean 109\n",
      "Function name = %s, line num = %s  __instancecheck__ 137\n",
      "Function name = %s, line num = %s  __instancecheck__ 137\n",
      "Function name = %s, line num = %s  json_clean 109\n",
      "Function name = %s, line num = %s  __instancecheck__ 137\n",
      "Function name = %s, line num = %s  __subclasscheck__ 141\n",
      "Function name = %s, line num = %s  json_clean 109\n",
      "Function name = %s, line num = %s  __instancecheck__ 137\n",
      "Function name = %s, line num = %s  __instancecheck__ 137\n",
      "Function name = %s, line num = %s  json_clean 109\n",
      "Function name = %s, line num = %s  __instancecheck__ 137\n",
      "Function name = %s, line num = %s  __subclasscheck__ 141\n",
      "Function name = %s, line num = %s  json_clean 109\n",
      "Function name = %s, line num = %s  __instancecheck__ 137\n",
      "Function name = %s, line num = %s  __instancecheck__ 137\n",
      "Function name = %s, line num = %s  iteritems 188\n",
      "Function name = %s, line num = %s  json_clean 109\n",
      "Function name = %s, line num = %s  __instancecheck__ 137\n",
      "Function name = %s, line num = %s  __instancecheck__ 137\n",
      "Function name = %s, line num = %s  <listcomp> 177\n",
      "Function name = %s, line num = %s  finish_metadata 149\n",
      "Function name = %s, line num = %s  __get__ 545\n",
      "Function name = %s, line num = %s  get 526\n",
      "Function name = %s, line num = %s  send 657\n",
      "Function name = %s, line num = %s  msg 564\n",
      "Function name = %s, line num = %s  msg_header 561\n",
      "Function name = %s, line num = %s  msg_id 509\n",
      "Function name = %s, line num = %s  new_id 121\n",
      "Function name = %s, line num = %s  <genexpr> 132\n",
      "Function name = %s, line num = %s  <genexpr> 132\n",
      "Function name = %s, line num = %s  <genexpr> 132\n",
      "Function name = %s, line num = %s  __get__ 545\n",
      "Function name = %s, line num = %s  get 526\n",
      "Function name = %s, line num = %s  __get__ 545\n",
      "Function name = %s, line num = %s  get 526\n",
      "Function name = %s, line num = %s  msg_header 236\n",
      "Function name = %s, line num = %s  utcnow 169\n",
      "Function name = %s, line num = %s  extract_header 242\n",
      "Function name = %s, line num = %s  __get__ 545\n",
      "Function name = %s, line num = %s  get 526\n",
      "Function name = %s, line num = %s  __get__ 545\n",
      "Function name = %s, line num = %s  get 526\n",
      "Function name = %s, line num = %s  __get__ 545\n",
      "Function name = %s, line num = %s  get 526\n",
      "Function name = %s, line num = %s  __get__ 545\n",
      "Function name = %s, line num = %s  get 526\n",
      "Function name = %s, line num = %s  serialize 598\n",
      "Function name = %s, line num = %s  __get__ 545\n",
      "Function name = %s, line num = %s  get 526\n",
      "Function name = %s, line num = %s  <lambda> 102\n",
      "Function name = %s, line num = %s  dumps 31\n",
      "Function name = %s, line num = %s  dumps 183\n",
      "Function name = %s, line num = %s  __init__ 104\n",
      "Function name = %s, line num = %s  encode 182\n",
      "Function name = %s, line num = %s  iterencode 204\n",
      "Function name = %s, line num = %s  __get__ 545\n",
      "Function name = %s, line num = %s  get 526\n",
      "Function name = %s, line num = %s  <lambda> 102\n",
      "Function name = %s, line num = %s  dumps 31\n",
      "Function name = %s, line num = %s  dumps 183\n",
      "Function name = %s, line num = %s  __init__ 104\n",
      "Function name = %s, line num = %s  encode 182\n",
      "Function name = %s, line num = %s  iterencode 204\n",
      "Function name = %s, line num = %s  date_default 87\n",
      "Function name = %s, line num = %s  _ensure_tzinfo 34\n",
      "Function name = %s, line num = %s  __get__ 545\n",
      "Function name = %s, line num = %s  get 526\n",
      "Function name = %s, line num = %s  <lambda> 102\n",
      "Function name = %s, line num = %s  dumps 31\n",
      "Function name = %s, line num = %s  dumps 183\n",
      "Function name = %s, line num = %s  __init__ 104\n",
      "Function name = %s, line num = %s  encode 182\n",
      "Function name = %s, line num = %s  iterencode 204\n",
      "Function name = %s, line num = %s  date_default 87\n",
      "Function name = %s, line num = %s  _ensure_tzinfo 34\n",
      "Function name = %s, line num = %s  utcoffset 69\n",
      "Function name = %s, line num = %s  __get__ 545\n",
      "Function name = %s, line num = %s  get 526\n",
      "Function name = %s, line num = %s  <lambda> 102\n",
      "Function name = %s, line num = %s  dumps 31\n",
      "Function name = %s, line num = %s  dumps 183\n",
      "Function name = %s, line num = %s  __init__ 104\n",
      "Function name = %s, line num = %s  encode 182\n",
      "Function name = %s, line num = %s  iterencode 204\n",
      "Function name = %s, line num = %s  date_default 87\n",
      "Function name = %s, line num = %s  _ensure_tzinfo 34\n",
      "Function name = %s, line num = %s  sign 583\n",
      "Function name = %s, line num = %s  __get__ 545\n",
      "Function name = %s, line num = %s  get 526\n",
      "Function name = %s, line num = %s  __get__ 545\n",
      "Function name = %s, line num = %s  get 526\n",
      "Function name = %s, line num = %s  copy 104\n",
      "Function name = %s, line num = %s  update 99\n",
      "Function name = %s, line num = %s  update 99\n",
      "Function name = %s, line num = %s  update 99\n",
      "Function name = %s, line num = %s  update 99\n",
      "Function name = %s, line num = %s  hexdigest 136\n",
      "Function name = %s, line num = %s  _current 117\n",
      "Function name = %s, line num = %s  encode 19\n",
      "Function name = %s, line num = %s  encode 11\n",
      "Function name = %s, line num = %s  <listcomp> 739\n",
      "Function name = %s, line num = %s  __get__ 545\n",
      "Function name = %s, line num = %s  get 526\n",
      "Function name = %s, line num = %s  send_multipart 260\n",
      "Function name = %s, line num = %s  put 121\n",
      "Function name = %s, line num = %s  __enter__ 240\n",
      "Function name = %s, line num = %s  _put 212\n",
      "Function name = %s, line num = %s  notify 335\n",
      "Function name = %s, line num = %s  _is_owned 255\n",
      "Function name = %s, line num = %s  __exit__ 243\n",
      "Function name = %s, line num = %s  on_send 198\n",
      "Function name = %s, line num = %s  _check_closed 501\n",
      "Function name = %s, line num = %s  wrap 278\n",
      "Function name = %s, line num = %s  _add_io_state 518\n",
      "Function name = %s, line num = %s  _update_handler 528\n",
      "Function name = %s, line num = %s  __getattr__ 35\n",
      "Function name = %s, line num = %s  _get_attr_opt 47\n",
      "Function name = %s, line num = %s  add_callback 150\n",
      "Function name = %s, line num = %s  wrap 278\n",
      "Function name = %s, line num = %s  call_soon_threadsafe 715\n",
      "Function name = %s, line num = %s  _check_closed 459\n",
      "Function name = %s, line num = %s  _call_soon 691\n",
      "Function name = %s, line num = %s  __init__ 39\n",
      "Function name = %s, line num = %s  get_debug 1776\n",
      "Function name = %s, line num = %s  _write_to_self 134\n",
      "Function name = %s, line num = %s  __get__ 545\n",
      "Function name = %s, line num = %s  get 526\n",
      "Function name = %s, line num = %s  __get__ 545\n",
      "Function name = %s, line num = %s  get 526\n",
      "Function name = %s, line num = %s  debug 1310\n",
      "Function name = %s, line num = %s  isEnabledFor 1568\n",
      "Function name = %s, line num = %s  _abort_queues 633\n",
      "Function name = %s, line num = %s  __get__ 545\n",
      "Function name = %s, line num = %s  get 526\n",
      "Function name = %s, line num = %s  _abort_queue 638\n",
      "Function name = %s, line num = %s  __init__ 21\n",
      "Function name = %s, line num = %s  register 28\n",
      "Function name = %s, line num = %s  __get__ 545\n",
      "Function name = %s, line num = %s  get 526\n",
      "Function name = %s, line num = %s  recv 786\n",
      "Function name = %s, line num = %s  recv_multipart 441\n",
      "Function name = %s, line num = %s  parent 416\n",
      "Function name = %s, line num = %s  _find_and_load 978\n",
      "Function name = %s, line num = %s  __init__ 143\n",
      "Function name = %s, line num = %s  __enter__ 147\n",
      "Function name = %s, line num = %s  _get_module_lock 157\n",
      "Function name = %s, line num = %s  __init__ 58\n",
      "Function name = %s, line num = %s  acquire 78\n",
      "Function name = %s, line num = %s  _find_and_load_unlocked 948\n",
      "Function name = %s, line num = %s  _call_with_frames_removed 211\n",
      "Function name = %s, line num = %s  _find_and_load 978\n",
      "Function name = %s, line num = %s  __init__ 143\n",
      "Function name = %s, line num = %s  __enter__ 147\n",
      "Function name = %s, line num = %s  _get_module_lock 157\n",
      "Function name = %s, line num = %s  __init__ 58\n",
      "Function name = %s, line num = %s  acquire 78\n",
      "Function name = %s, line num = %s  _find_and_load_unlocked 948\n",
      "Function name = %s, line num = %s  _find_spec 882\n",
      "Function name = %s, line num = %s  __enter__ 855\n",
      "Function name = %s, line num = %s  find_spec 719\n",
      "Function name = %s, line num = %s  __exit__ 859\n",
      "Function name = %s, line num = %s  __enter__ 855\n",
      "Function name = %s, line num = %s  find_spec 792\n",
      "Function name = %s, line num = %s  __exit__ 859\n",
      "Function name = %s, line num = %s  __enter__ 855\n",
      "Function name = %s, line num = %s  find_spec 1272\n",
      "Function name = %s, line num = %s  _get_spec 1240\n",
      "Function name = %s, line num = %s  _path_importer_cache 1203\n",
      "Function name = %s, line num = %s  find_spec 1356\n",
      "Function name = %s, line num = %s  _path_stat 74\n",
      "Function name = %s, line num = %s  _relax_case 36\n",
      "Function name = %s, line num = %s  _path_join 56\n",
      "Function name = %s, line num = %s  <listcomp> 58\n",
      "Function name = %s, line num = %s  _verbose_message 222\n",
      "Function name = %s, line num = %s  _path_join 56\n",
      "Function name = %s, line num = %s  <listcomp> 58\n",
      "Function name = %s, line num = %s  _verbose_message 222\n",
      "Function name = %s, line num = %s  _path_join 56\n",
      "Function name = %s, line num = %s  <listcomp> 58\n",
      "Function name = %s, line num = %s  _verbose_message 222\n",
      "Function name = %s, line num = %s  _path_join 56\n",
      "Function name = %s, line num = %s  <listcomp> 58\n",
      "Function name = %s, line num = %s  _verbose_message 222\n",
      "Function name = %s, line num = %s  _path_join 56\n",
      "Function name = %s, line num = %s  <listcomp> 58\n",
      "Function name = %s, line num = %s  _verbose_message 222\n",
      "Function name = %s, line num = %s  __init__ 369\n",
      "Function name = %s, line num = %s  __exit__ 859\n",
      "Function name = %s, line num = %s  __enter__ 855\n",
      "Function name = %s, line num = %s  _find_spec_legacy 873\n",
      "Function name = %s, line num = %s  find_module 184\n",
      "Function name = %s, line num = %s  __exit__ 859\n",
      "Function name = %s, line num = %s  __exit__ 151\n",
      "Function name = %s, line num = %s  release 103\n",
      "Function name = %s, line num = %s  cb 176\n",
      "Function name = %s, line num = %s  __exit__ 151\n",
      "Function name = %s, line num = %s  release 103\n",
      "Function name = %s, line num = %s  cb 176\n",
      "Function name = %s, line num = %s  _handle_fromlist 1009\n",
      "Function name = %s, line num = %s  __init__ 100\n",
      "Function name = %s, line num = %s  _handle_fromlist 1009\n",
      "Function name = %s, line num = %s  __init__ 26\n",
      "Function name = %s, line num = %s  _handle_fromlist 1009\n",
      "Function name = %s, line num = %s  _abort_queue 638\n",
      "Function name = %s, line num = %s  __init__ 21\n",
      "Function name = %s, line num = %s  register 28\n",
      "Function name = %s, line num = %s  __get__ 545\n",
      "Function name = %s, line num = %s  get 526\n",
      "Function name = %s, line num = %s  recv 786\n",
      "Function name = %s, line num = %s  recv_multipart 441\n",
      "Function name = %s, line num = %s  parent 416\n",
      "Function name = %s, line num = %s  _find_and_load 978\n",
      "Function name = %s, line num = %s  __init__ 143\n",
      "Function name = %s, line num = %s  __enter__ 147\n",
      "Function name = %s, line num = %s  _get_module_lock 157\n",
      "Function name = %s, line num = %s  __init__ 58\n",
      "Function name = %s, line num = %s  acquire 78\n",
      "Function name = %s, line num = %s  _find_and_load_unlocked 948\n",
      "Function name = %s, line num = %s  _call_with_frames_removed 211\n",
      "Function name = %s, line num = %s  _find_and_load 978\n",
      "Function name = %s, line num = %s  __init__ 143\n",
      "Function name = %s, line num = %s  __enter__ 147\n",
      "Function name = %s, line num = %s  _get_module_lock 157\n",
      "Function name = %s, line num = %s  __init__ 58\n",
      "Function name = %s, line num = %s  acquire 78\n",
      "Function name = %s, line num = %s  _find_and_load_unlocked 948\n",
      "Function name = %s, line num = %s  _find_spec 882\n",
      "Function name = %s, line num = %s  __enter__ 855\n",
      "Function name = %s, line num = %s  find_spec 719\n",
      "Function name = %s, line num = %s  __exit__ 859\n",
      "Function name = %s, line num = %s  __enter__ 855\n",
      "Function name = %s, line num = %s  find_spec 792\n",
      "Function name = %s, line num = %s  __exit__ 859\n",
      "Function name = %s, line num = %s  __enter__ 855\n",
      "Function name = %s, line num = %s  find_spec 1272\n",
      "Function name = %s, line num = %s  _get_spec 1240\n",
      "Function name = %s, line num = %s  _path_importer_cache 1203\n",
      "Function name = %s, line num = %s  find_spec 1356\n",
      "Function name = %s, line num = %s  _path_stat 74\n",
      "Function name = %s, line num = %s  _relax_case 36\n",
      "Function name = %s, line num = %s  _path_join 56\n",
      "Function name = %s, line num = %s  <listcomp> 58\n",
      "Function name = %s, line num = %s  _verbose_message 222\n",
      "Function name = %s, line num = %s  _path_join 56\n",
      "Function name = %s, line num = %s  <listcomp> 58\n",
      "Function name = %s, line num = %s  _verbose_message 222\n",
      "Function name = %s, line num = %s  _path_join 56\n",
      "Function name = %s, line num = %s  <listcomp> 58\n"
     ]
    },
    {
     "name": "stdout",
     "output_type": "stream",
     "text": [
      "Function name = %s, line num = %s  _verbose_message 222\n",
      "Function name = %s, line num = %s  _path_join 56\n",
      "Function name = %s, line num = %s  <listcomp> 58\n",
      "Function name = %s, line num = %s  _verbose_message 222\n",
      "Function name = %s, line num = %s  _path_join 56\n",
      "Function name = %s, line num = %s  <listcomp> 58\n",
      "Function name = %s, line num = %s  _verbose_message 222\n",
      "Function name = %s, line num = %s  __init__ 369\n",
      "Function name = %s, line num = %s  __exit__ 859\n",
      "Function name = %s, line num = %s  __enter__ 855\n",
      "Function name = %s, line num = %s  _find_spec_legacy 873\n",
      "Function name = %s, line num = %s  find_module 184\n",
      "Function name = %s, line num = %s  __exit__ 859\n",
      "Function name = %s, line num = %s  __exit__ 151\n",
      "Function name = %s, line num = %s  release 103\n",
      "Function name = %s, line num = %s  cb 176\n",
      "Function name = %s, line num = %s  __exit__ 151\n",
      "Function name = %s, line num = %s  release 103\n",
      "Function name = %s, line num = %s  cb 176\n",
      "Function name = %s, line num = %s  _handle_fromlist 1009\n",
      "Function name = %s, line num = %s  __init__ 100\n",
      "Function name = %s, line num = %s  _handle_fromlist 1009\n",
      "Function name = %s, line num = %s  __init__ 26\n",
      "Function name = %s, line num = %s  _handle_fromlist 1009\n",
      "Function name = %s, line num = %s  post_handler_hook 248\n",
      "Function name = %s, line num = %s  signal 45\n",
      "Function name = %s, line num = %s  _enum_to_int 35\n",
      "Function name = %s, line num = %s  _enum_to_int 35\n",
      "Function name = %s, line num = %s  _int_to_enum 25\n",
      "Function name = %s, line num = %s  __call__ 281\n",
      "Function name = %s, line num = %s  __new__ 537\n",
      "Function name = %s, line num = %s  _missing_ 566\n",
      "Function name = %s, line num = %s  flush 334\n",
      "Function name = %s, line num = %s  is_alive 1080\n",
      "Function name = %s, line num = %s  is_set 507\n",
      "Function name = %s, line num = %s  _wait_for_tstate_lock 1038\n",
      "Function name = %s, line num = %s  schedule 195\n",
      "Function name = %s, line num = %s  is_alive 1080\n",
      "Function name = %s, line num = %s  is_set 507\n",
      "Function name = %s, line num = %s  _wait_for_tstate_lock 1038\n",
      "Function name = %s, line num = %s  _event_pipe 93\n",
      "Function name = %s, line num = %s  send 334\n",
      "Function name = %s, line num = %s  __init__ 499\n",
      "Function name = %s, line num = %s  __init__ 216\n",
      "Function name = %s, line num = %s  schedule 195\n",
      "Function name = %s, line num = %s  is_alive 1080\n",
      "Function name = %s, line num = %s  is_set 507\n",
      "Function name = %s, line num = %s  _wait_for_tstate_lock 1038\n",
      "Function name = %s, line num = %s  _event_pipe 93\n",
      "Function name = %s, line num = %s  send 334\n",
      "Function name = %s, line num = %s  wait 534\n",
      "Function name = %s, line num = %s  __enter__ 240\n",
      "Function name = %s, line num = %s  wait 264\n",
      "Function name = %s, line num = %s  _is_owned 255\n",
      "Function name = %s, line num = %s  _release_save 249\n",
      "Function name = %s, line num = %s  _acquire_restore 252\n",
      "Function name = %s, line num = %s  __exit__ 243\n",
      "Function name = %s, line num = %s  flush 334\n",
      "Function name = %s, line num = %s  is_alive 1080\n",
      "Function name = %s, line num = %s  is_set 507\n",
      "Function name = %s, line num = %s  _wait_for_tstate_lock 1038\n",
      "Function name = %s, line num = %s  schedule 195\n",
      "Function name = %s, line num = %s  is_alive 1080\n",
      "Function name = %s, line num = %s  is_set 507\n",
      "Function name = %s, line num = %s  _wait_for_tstate_lock 1038\n",
      "Function name = %s, line num = %s  _event_pipe 93\n",
      "Function name = %s, line num = %s  send 334\n",
      "Function name = %s, line num = %s  __init__ 499\n",
      "Function name = %s, line num = %s  __init__ 216\n",
      "Function name = %s, line num = %s  schedule 195\n",
      "Function name = %s, line num = %s  is_alive 1080\n",
      "Function name = %s, line num = %s  is_set 507\n",
      "Function name = %s, line num = %s  _wait_for_tstate_lock 1038\n",
      "Function name = %s, line num = %s  _event_pipe 93\n",
      "Function name = %s, line num = %s  send 334\n",
      "Function name = %s, line num = %s  wait 534\n",
      "Function name = %s, line num = %s  __enter__ 240\n",
      "Function name = %s, line num = %s  __exit__ 243\n",
      "Function name = %s, line num = %s  _publish_status 321\n",
      "Function name = %s, line num = %s  __get__ 545\n",
      "Function name = %s, line num = %s  get 526\n",
      "Function name = %s, line num = %s  __get__ 545\n",
      "Function name = %s, line num = %s  get 526\n",
      "Function name = %s, line num = %s  __get__ 545\n",
      "Function name = %s, line num = %s  get 526\n",
      "Function name = %s, line num = %s  _topic 627\n",
      "Function name = %s, line num = %s  __get__ 545\n",
      "Function name = %s, line num = %s  get 526\n",
      "Function name = %s, line num = %s  cast_bytes 29\n",
      "Function name = %s, line num = %s  encode 19\n",
      "Function name = %s, line num = %s  encode 11\n",
      "Function name = %s, line num = %s  send 657\n",
      "Function name = %s, line num = %s  msg 564\n",
      "Function name = %s, line num = %s  msg_header 561\n",
      "Function name = %s, line num = %s  msg_id 509\n",
      "Function name = %s, line num = %s  new_id 121\n",
      "Function name = %s, line num = %s  <genexpr> 132\n",
      "Function name = %s, line num = %s  <genexpr> 132\n",
      "Function name = %s, line num = %s  <genexpr> 132\n",
      "Function name = %s, line num = %s  __get__ 545\n",
      "Function name = %s, line num = %s  get 526\n",
      "Function name = %s, line num = %s  __get__ 545\n",
      "Function name = %s, line num = %s  get 526\n",
      "Function name = %s, line num = %s  msg_header 236\n",
      "Function name = %s, line num = %s  utcnow 169\n",
      "Function name = %s, line num = %s  extract_header 242\n",
      "Function name = %s, line num = %s  __get__ 545\n",
      "Function name = %s, line num = %s  get 526\n",
      "Function name = %s, line num = %s  __get__ 545\n",
      "Function name = %s, line num = %s  get 526\n",
      "Function name = %s, line num = %s  __get__ 545\n",
      "Function name = %s, line num = %s  get 526\n",
      "Function name = %s, line num = %s  __get__ 545\n",
      "Function name = %s, line num = %s  get 526\n",
      "Function name = %s, line num = %s  serialize 598\n",
      "Function name = %s, line num = %s  __get__ 545\n",
      "Function name = %s, line num = %s  get 526\n",
      "Function name = %s, line num = %s  <lambda> 102\n",
      "Function name = %s, line num = %s  dumps 31\n",
      "Function name = %s, line num = %s  dumps 183\n",
      "Function name = %s, line num = %s  __init__ 104\n",
      "Function name = %s, line num = %s  encode 182\n",
      "Function name = %s, line num = %s  iterencode 204\n",
      "Function name = %s, line num = %s  __get__ 545\n",
      "Function name = %s, line num = %s  get 526\n",
      "Function name = %s, line num = %s  <lambda> 102\n",
      "Function name = %s, line num = %s  dumps 31\n",
      "Function name = %s, line num = %s  dumps 183\n",
      "Function name = %s, line num = %s  __init__ 104\n",
      "Function name = %s, line num = %s  encode 182\n",
      "Function name = %s, line num = %s  iterencode 204\n",
      "Function name = %s, line num = %s  date_default 87\n",
      "Function name = %s, line num = %s  _ensure_tzinfo 34\n",
      "Function name = %s, line num = %s  __get__ 545\n",
      "Function name = %s, line num = %s  get 526\n",
      "Function name = %s, line num = %s  <lambda> 102\n",
      "Function name = %s, line num = %s  dumps 31\n",
      "Function name = %s, line num = %s  dumps 183\n",
      "Function name = %s, line num = %s  __init__ 104\n",
      "Function name = %s, line num = %s  encode 182\n",
      "Function name = %s, line num = %s  iterencode 204\n",
      "Function name = %s, line num = %s  date_default 87\n",
      "Function name = %s, line num = %s  _ensure_tzinfo 34\n",
      "Function name = %s, line num = %s  utcoffset 69\n",
      "Function name = %s, line num = %s  __get__ 545\n",
      "Function name = %s, line num = %s  get 526\n",
      "Function name = %s, line num = %s  <lambda> 102\n",
      "Function name = %s, line num = %s  dumps 31\n",
      "Function name = %s, line num = %s  dumps 183\n",
      "Function name = %s, line num = %s  __init__ 104\n",
      "Function name = %s, line num = %s  encode 182\n",
      "Function name = %s, line num = %s  iterencode 204\n",
      "Function name = %s, line num = %s  sign 583\n",
      "Function name = %s, line num = %s  __get__ 545\n",
      "Function name = %s, line num = %s  get 526\n",
      "Function name = %s, line num = %s  __get__ 545\n",
      "Function name = %s, line num = %s  get 526\n",
      "Function name = %s, line num = %s  copy 104\n",
      "Function name = %s, line num = %s  update 99\n",
      "Function name = %s, line num = %s  update 99\n",
      "Function name = %s, line num = %s  update 99\n",
      "Function name = %s, line num = %s  update 99\n",
      "Function name = %s, line num = %s  hexdigest 136\n",
      "Function name = %s, line num = %s  _current 117\n",
      "Function name = %s, line num = %s  encode 19\n",
      "Function name = %s, line num = %s  encode 11\n",
      "Function name = %s, line num = %s  <listcomp> 739\n",
      "Function name = %s, line num = %s  __get__ 545\n",
      "Function name = %s, line num = %s  get 526\n",
      "Function name = %s, line num = %s  send_multipart 260\n",
      "Function name = %s, line num = %s  send_multipart 207\n",
      "Function name = %s, line num = %s  schedule 195\n",
      "Function name = %s, line num = %s  is_alive 1080\n",
      "Function name = %s, line num = %s  is_set 507\n",
      "Function name = %s, line num = %s  _wait_for_tstate_lock 1038\n",
      "Function name = %s, line num = %s  _event_pipe 93\n",
      "Function name = %s, line num = %s  send 334\n",
      "Function name = %s, line num = %s  __get__ 545\n",
      "Function name = %s, line num = %s  get 526\n",
      "Function name = %s, line num = %s  __exit__ 248\n",
      "Function name = %s, line num = %s  sending 418\n",
      "Function name = %s, line num = %s  empty 96\n",
      "Function name = %s, line num = %s  _qsize 208\n",
      "Function name = %s, line num = %s  _handle_send 483\n",
      "Function name = %s, line num = %s  sending 418\n",
      "Function name = %s, line num = %s  empty 96\n",
      "Function name = %s, line num = %s  _qsize 208\n",
      "Function name = %s, line num = %s  get 153\n",
      "Function name = %s, line num = %s  __enter__ 240\n",
      "Function name = %s, line num = %s  _qsize 208\n",
      "Function name = %s, line num = %s  _get 216\n",
      "Function name = %s, line num = %s  notify 335\n",
      "Function name = %s, line num = %s  _is_owned 255\n",
      "Function name = %s, line num = %s  __exit__ 243\n",
      "Function name = %s, line num = %s  send_multipart 394\n",
      "Function name = %s, line num = %s  send 334\n",
      "Function name = %s, line num = %s  send 334\n",
      "Function name = %s, line num = %s  send 334\n",
      "Function name = %s, line num = %s  send 334\n",
      "Function name = %s, line num = %s  send 334\n",
      "Function name = %s, line num = %s  send 334\n",
      "Function name = %s, line num = %s  send 334\n",
      "Function name = %s, line num = %s  _run_callback 425\n",
      "Function name = %s, line num = %s  __enter__ 244\n",
      "Function name = %s, line num = %s  null_wrapper 296\n",
      "Function name = %s, line num = %s  <lambda> 271\n",
      "Function name = %s, line num = %s  __exit__ 248\n",
      "Function name = %s, line num = %s  _rebuild_io_state 505\n",
      "Function name = %s, line num = %s  receiving 414\n",
      "Function name = %s, line num = %s  sending 418\n",
      "Function name = %s, line num = %s  empty 96\n",
      "Function name = %s, line num = %s  _qsize 208\n",
      "Function name = %s, line num = %s  _update_handler 528\n",
      "Function name = %s, line num = %s  __getattr__ 35\n",
      "Function name = %s, line num = %s  _get_attr_opt 47\n",
      "Function name = %s, line num = %s  _run 86\n",
      "Function name = %s, line num = %s  _read_from_self 122\n",
      "Function name = %s, line num = %s  _process_self_data 119\n",
      "Function name = %s, line num = %s  _run_once 1662\n",
      "Function name = %s, line num = %s  select 319\n",
      "Function name = %s, line num = %s  _select 313\n",
      "Function name = %s, line num = %s  _process_events 558\n",
      "Function name = %s, line num = %s  time 615\n",
      "Function name = %s, line num = %s  _run 86\n",
      "Function name = %s, line num = %s  _run_callback 752\n",
      "Function name = %s, line num = %s  null_wrapper 296\n",
      "Function name = %s, line num = %s  <lambda> 536\n",
      "Function name = %s, line num = %s  _handle_events 440\n",
      "Function name = %s, line num = %s  __getattr__ 35\n",
      "Function name = %s, line num = %s  _get_attr_opt 47\n",
      "Function name = %s, line num = %s  sending 418\n",
      "Function name = %s, line num = %s  empty 96\n",
      "Function name = %s, line num = %s  _qsize 208\n",
      "Function name = %s, line num = %s  _rebuild_io_state 505\n",
      "Function name = %s, line num = %s  receiving 414\n",
      "Function name = %s, line num = %s  sending 418\n",
      "Function name = %s, line num = %s  empty 96\n",
      "Function name = %s, line num = %s  _qsize 208\n",
      "Function name = %s, line num = %s  _update_handler 528\n",
      "Function name = %s, line num = %s  __getattr__ 35\n",
      "Function name = %s, line num = %s  _get_attr_opt 47\n",
      "Function name = %s, line num = %s  _run 86\n",
      "Function name = %s, line num = %s  _run_callback 752\n",
      "Function name = %s, line num = %s  null_wrapper 296\n",
      "Function name = %s, line num = %s  <lambda> 536\n",
      "Function name = %s, line num = %s  _handle_events 440\n",
      "Function name = %s, line num = %s  __getattr__ 35\n",
      "Function name = %s, line num = %s  _get_attr_opt 47\n",
      "Function name = %s, line num = %s  sending 418\n",
      "Function name = %s, line num = %s  empty 96\n",
      "Function name = %s, line num = %s  _qsize 208\n",
      "Function name = %s, line num = %s  _rebuild_io_state 505\n",
      "Function name = %s, line num = %s  receiving 414\n",
      "Function name = %s, line num = %s  sending 418\n",
      "Function name = %s, line num = %s  empty 96\n",
      "Function name = %s, line num = %s  _qsize 208\n",
      "Function name = %s, line num = %s  _update_handler 528\n",
      "Function name = %s, line num = %s  __getattr__ 35\n",
      "Function name = %s, line num = %s  _get_attr_opt 47\n",
      "Function name = %s, line num = %s  _run 86\n",
      "Function name = %s, line num = %s  _run_callback 752\n",
      "Function name = %s, line num = %s  null_wrapper 296\n",
      "Function name = %s, line num = %s  <lambda> 536\n",
      "Function name = %s, line num = %s  _handle_events 440\n",
      "Function name = %s, line num = %s  __getattr__ 35\n",
      "Function name = %s, line num = %s  _get_attr_opt 47\n",
      "Function name = %s, line num = %s  sending 418\n",
      "Function name = %s, line num = %s  empty 96\n",
      "Function name = %s, line num = %s  _qsize 208\n",
      "Function name = %s, line num = %s  _rebuild_io_state 505\n",
      "Function name = %s, line num = %s  receiving 414\n",
      "Function name = %s, line num = %s  sending 418\n",
      "Function name = %s, line num = %s  empty 96\n",
      "Function name = %s, line num = %s  _qsize 208\n",
      "Function name = %s, line num = %s  _update_handler 528\n",
      "Function name = %s, line num = %s  __getattr__ 35\n",
      "Function name = %s, line num = %s  _get_attr_opt 47\n",
      "Function name = %s, line num = %s  _run_once 1662\n",
      "Function name = %s, line num = %s  select 319\n",
      "Function name = %s, line num = %s  _select 313\n"
     ]
    }
   ],
   "source": [
    "def trace_calls(frame, event, arg):\n",
    "    if event != 'call':\n",
    "        return\n",
    "    \n",
    "    print(\"Function name = %s, line num = %s \", frame.f_code.co_name, frame.f_lineno)\n",
    "    return\n",
    "\n",
    "def demo2():\n",
    "    print(\"in demo2\")\n",
    "\n",
    "\n",
    "def demo1():\n",
    "    print(\"in demo1\")\n",
    "    demo2()\n",
    "\n",
    "\n",
    "sys.settrace"
   ]
  },
  {
   "cell_type": "raw",
   "metadata": {},
   "source": [
    "oct(123)"
   ]
  },
  {
   "cell_type": "code",
   "execution_count": 1,
   "metadata": {},
   "outputs": [
    {
     "data": {
      "text/plain": [
       "'0o173'"
      ]
     },
     "execution_count": 1,
     "metadata": {},
     "output_type": "execute_result"
    }
   ],
   "source": [
    "oct(123)"
   ]
  },
  {
   "cell_type": "code",
   "execution_count": 2,
   "metadata": {},
   "outputs": [
    {
     "data": {
      "text/plain": [
       "'0b1'"
      ]
     },
     "execution_count": 2,
     "metadata": {},
     "output_type": "execute_result"
    }
   ],
   "source": [
    "bin(1)"
   ]
  },
  {
   "cell_type": "code",
   "execution_count": 3,
   "metadata": {},
   "outputs": [
    {
     "data": {
      "text/plain": [
       "'0b10000000'"
      ]
     },
     "execution_count": 3,
     "metadata": {},
     "output_type": "execute_result"
    }
   ],
   "source": [
    "bin(128)"
   ]
  },
  {
   "cell_type": "code",
   "execution_count": 4,
   "metadata": {},
   "outputs": [
    {
     "data": {
      "text/plain": [
       "'0o200'"
      ]
     },
     "execution_count": 4,
     "metadata": {},
     "output_type": "execute_result"
    }
   ],
   "source": [
    "oct(128)"
   ]
  },
  {
   "cell_type": "code",
   "execution_count": 5,
   "metadata": {},
   "outputs": [
    {
     "data": {
      "text/plain": [
       "'0x80'"
      ]
     },
     "execution_count": 5,
     "metadata": {},
     "output_type": "execute_result"
    }
   ],
   "source": [
    "hex(128)"
   ]
  },
  {
   "cell_type": "code",
   "execution_count": 105,
   "metadata": {},
   "outputs": [],
   "source": [
    "class TestClass():\n",
    "    static_variable = 1111\n",
    "    \n",
    "    def __init__(self, instance):\n",
    "        self.instance = \"instance\" + str(id(instance))"
   ]
  },
  {
   "cell_type": "code",
   "execution_count": 106,
   "metadata": {},
   "outputs": [],
   "source": [
    "tst = TestClass(\"One\")\n",
    "tst1 = TestClass(\"Two\")"
   ]
  },
  {
   "cell_type": "code",
   "execution_count": 110,
   "metadata": {},
   "outputs": [
    {
     "data": {
      "text/plain": [
       "1111"
      ]
     },
     "execution_count": 110,
     "metadata": {},
     "output_type": "execute_result"
    }
   ],
   "source": [
    "tst.static_variable"
   ]
  },
  {
   "cell_type": "code",
   "execution_count": 108,
   "metadata": {},
   "outputs": [
    {
     "data": {
      "text/plain": [
       "1111"
      ]
     },
     "execution_count": 108,
     "metadata": {},
     "output_type": "execute_result"
    }
   ],
   "source": [
    "tst1.static_variable"
   ]
  },
  {
   "cell_type": "code",
   "execution_count": 109,
   "metadata": {},
   "outputs": [
    {
     "data": {
      "text/plain": [
       "1111"
      ]
     },
     "execution_count": 109,
     "metadata": {},
     "output_type": "execute_result"
    }
   ],
   "source": [
    "TestClass.static_variable"
   ]
  },
  {
   "cell_type": "code",
   "execution_count": 70,
   "metadata": {},
   "outputs": [],
   "source": [
    "tst1.static_variable=22"
   ]
  },
  {
   "cell_type": "code",
   "execution_count": 72,
   "metadata": {},
   "outputs": [
    {
     "data": {
      "text/plain": [
       "0"
      ]
     },
     "execution_count": 72,
     "metadata": {},
     "output_type": "execute_result"
    }
   ],
   "source": [
    "tst.static_variable"
   ]
  },
  {
   "cell_type": "code",
   "execution_count": 46,
   "metadata": {},
   "outputs": [],
   "source": [
    "tst1.static_variable = 10"
   ]
  },
  {
   "cell_type": "code",
   "execution_count": 44,
   "metadata": {},
   "outputs": [
    {
     "data": {
      "text/plain": [
       "10"
      ]
     },
     "execution_count": 44,
     "metadata": {},
     "output_type": "execute_result"
    }
   ],
   "source": [
    "tst1.static_variable"
   ]
  },
  {
   "cell_type": "code",
   "execution_count": 47,
   "metadata": {},
   "outputs": [],
   "source": [
    "tst.static_variable=20"
   ]
  },
  {
   "cell_type": "code",
   "execution_count": 48,
   "metadata": {},
   "outputs": [
    {
     "data": {
      "text/plain": [
       "20"
      ]
     },
     "execution_count": 48,
     "metadata": {},
     "output_type": "execute_result"
    }
   ],
   "source": [
    "tst.static_variable"
   ]
  },
  {
   "cell_type": "code",
   "execution_count": 63,
   "metadata": {},
   "outputs": [],
   "source": [
    "class Calculator:\n",
    "\n",
    "    @staticmethod\n",
    "    def multiplyNums(x, y):\n",
    "        return x + y\n",
    "\n",
    "# create addNumbers static method\n",
    "\n",
    "# Calculator.multiplyNums = staticmethod(Calculator.multiplyNums)\n",
    "\n"
   ]
  },
  {
   "cell_type": "code",
   "execution_count": 64,
   "metadata": {},
   "outputs": [
    {
     "name": "stdout",
     "output_type": "stream",
     "text": [
      "Product: 125\n"
     ]
    }
   ],
   "source": [
    "print('Product:', Calculator.multiplyNums(15, 110))"
   ]
  },
  {
   "cell_type": "code",
   "execution_count": 112,
   "metadata": {},
   "outputs": [],
   "source": [
    "fruits = ['zamun', 'tamatar', 'lemon', 'pineapple','apple']"
   ]
  },
  {
   "cell_type": "code",
   "execution_count": 113,
   "metadata": {},
   "outputs": [
    {
     "name": "stdout",
     "output_type": "stream",
     "text": [
      "['zamun', 'tamatar', 'lemon', 'pineapple', 'apple']\n"
     ]
    }
   ],
   "source": [
    "print(fruits)"
   ]
  },
  {
   "cell_type": "code",
   "execution_count": 114,
   "metadata": {},
   "outputs": [
    {
     "name": "stdout",
     "output_type": "stream",
     "text": [
      "None\n"
     ]
    }
   ],
   "source": [
    "print(fruits.sort())"
   ]
  },
  {
   "cell_type": "code",
   "execution_count": 115,
   "metadata": {},
   "outputs": [
    {
     "name": "stdout",
     "output_type": "stream",
     "text": [
      "['apple', 'lemon', 'pineapple', 'tamatar', 'zamun']\n"
     ]
    }
   ],
   "source": [
    "print(fruits)"
   ]
  },
  {
   "cell_type": "code",
   "execution_count": 117,
   "metadata": {},
   "outputs": [
    {
     "name": "stdout",
     "output_type": "stream",
     "text": [
      "None\n"
     ]
    }
   ],
   "source": [
    "print(fruits.sort(reverse=True))"
   ]
  },
  {
   "cell_type": "code",
   "execution_count": 118,
   "metadata": {},
   "outputs": [
    {
     "name": "stdout",
     "output_type": "stream",
     "text": [
      "['zamun', 'tamatar', 'pineapple', 'lemon', 'apple']\n"
     ]
    }
   ],
   "source": [
    "print(fruits)"
   ]
  },
  {
   "cell_type": "code",
   "execution_count": 121,
   "metadata": {},
   "outputs": [
    {
     "name": "stdout",
     "output_type": "stream",
     "text": [
      "['zamun', 'tamatar', 'pineapple', 'lemon', 'apple']\n"
     ]
    }
   ],
   "source": [
    "print(sorted(fruits, reverse=True))"
   ]
  },
  {
   "cell_type": "code",
   "execution_count": 155,
   "metadata": {},
   "outputs": [
    {
     "name": "stdout",
     "output_type": "stream",
     "text": [
      "Printing the value of variable in constructor  SomeValue\n"
     ]
    }
   ],
   "source": [
    "class ScopeTesting():\n",
    "    __attribute1 = 'asdf'\n",
    "    attribute2 = '1234'\n",
    "    def __init__(self, param):\n",
    "        print(\"Printing the value of variable in constructor \", param)\n",
    "        \n",
    "    def __str__(self):\n",
    "        return \"\"\"This is the str method, printing all class details\\n. attribute1 = \n",
    "       {0}, attribute2 = {1}\"\"\".format(self.__attribute1, self.attribute2)\n",
    "    \n",
    "instance = ScopeTesting('SomeValue')"
   ]
  },
  {
   "cell_type": "code",
   "execution_count": 156,
   "metadata": {},
   "outputs": [
    {
     "data": {
      "text/plain": [
       "'asdf'"
      ]
     },
     "execution_count": 156,
     "metadata": {},
     "output_type": "execute_result"
    }
   ],
   "source": [
    "instance._ScopeTesting__attribute1"
   ]
  },
  {
   "cell_type": "code",
   "execution_count": 157,
   "metadata": {},
   "outputs": [
    {
     "data": {
      "text/plain": [
       "'1234'"
      ]
     },
     "execution_count": 157,
     "metadata": {},
     "output_type": "execute_result"
    }
   ],
   "source": [
    "ScopeTesting.attribute2"
   ]
  },
  {
   "cell_type": "code",
   "execution_count": 158,
   "metadata": {},
   "outputs": [
    {
     "ename": "AttributeError",
     "evalue": "type object 'ScopeTesting' has no attribute '__attribute1'",
     "output_type": "error",
     "traceback": [
      "\u001b[1;31m---------------------------------------------------------------------------\u001b[0m",
      "\u001b[1;31mAttributeError\u001b[0m                            Traceback (most recent call last)",
      "\u001b[1;32m<ipython-input-158-d7a6894db3a6>\u001b[0m in \u001b[0;36m<module>\u001b[1;34m()\u001b[0m\n\u001b[1;32m----> 1\u001b[1;33m \u001b[0mScopeTesting\u001b[0m\u001b[1;33m.\u001b[0m\u001b[0m__attribute1\u001b[0m\u001b[1;33m\u001b[0m\u001b[0m\n\u001b[0m",
      "\u001b[1;31mAttributeError\u001b[0m: type object 'ScopeTesting' has no attribute '__attribute1'"
     ]
    }
   ],
   "source": [
    "ScopeTesting.__attribute1"
   ]
  },
  {
   "cell_type": "code",
   "execution_count": 132,
   "metadata": {},
   "outputs": [],
   "source": [
    "instance.attribute3 = 'new attribute added from outside'"
   ]
  },
  {
   "cell_type": "code",
   "execution_count": 159,
   "metadata": {},
   "outputs": [
    {
     "name": "stdout",
     "output_type": "stream",
     "text": [
      "This is the str method, printing all class details\n",
      ". attribute1 = \n",
      "       asdf, attribute2 = 1234\n"
     ]
    }
   ],
   "source": [
    "print(str(instance))"
   ]
  },
  {
   "cell_type": "code",
   "execution_count": 4,
   "metadata": {},
   "outputs": [],
   "source": [
    "#using range\n",
    "list_of_num = list(range(1,101))"
   ]
  },
  {
   "cell_type": "code",
   "execution_count": 5,
   "metadata": {},
   "outputs": [
    {
     "name": "stdout",
     "output_type": "stream",
     "text": [
      "[1, 2, 3, 4, 5, 6, 7, 8, 9, 10, 11, 12, 13, 14, 15, 16, 17, 18, 19, 20, 21, 22, 23, 24, 25, 26, 27, 28, 29, 30, 31, 32, 33, 34, 35, 36, 37, 38, 39, 40, 41, 42, 43, 44, 45, 46, 47, 48, 49, 50, 51, 52, 53, 54, 55, 56, 57, 58, 59, 60, 61, 62, 63, 64, 65, 66, 67, 68, 69, 70, 71, 72, 73, 74, 75, 76, 77, 78, 79, 80, 81, 82, 83, 84, 85, 86, 87, 88, 89, 90, 91, 92, 93, 94, 95, 96, 97, 98, 99, 100]\n"
     ]
    }
   ],
   "source": [
    "print(list_of_num)"
   ]
  },
  {
   "cell_type": "code",
   "execution_count": 6,
   "metadata": {},
   "outputs": [],
   "source": [
    "tuple_of_num = tuple(range(1,51))"
   ]
  },
  {
   "cell_type": "code",
   "execution_count": 7,
   "metadata": {},
   "outputs": [
    {
     "name": "stdout",
     "output_type": "stream",
     "text": [
      "(1, 2, 3, 4, 5, 6, 7, 8, 9, 10, 11, 12, 13, 14, 15, 16, 17, 18, 19, 20, 21, 22, 23, 24, 25, 26, 27, 28, 29, 30, 31, 32, 33, 34, 35, 36, 37, 38, 39, 40, 41, 42, 43, 44, 45, 46, 47, 48, 49, 50)\n"
     ]
    }
   ],
   "source": [
    "print(tuple_of_num)"
   ]
  },
  {
   "cell_type": "code",
   "execution_count": 22,
   "metadata": {},
   "outputs": [],
   "source": [
    "dict_of_num = list(x*x for x in range(1,10))"
   ]
  },
  {
   "cell_type": "code",
   "execution_count": 23,
   "metadata": {},
   "outputs": [
    {
     "name": "stdout",
     "output_type": "stream",
     "text": [
      "[1, 4, 9, 16, 25, 36, 49, 64, 81]\n"
     ]
    }
   ],
   "source": [
    "print(dict_of_num)"
   ]
  },
  {
   "cell_type": "code",
   "execution_count": 25,
   "metadata": {},
   "outputs": [],
   "source": [
    "# packing/unpacking/zip\n",
    "answer = zip(dict_of_num)"
   ]
  },
  {
   "cell_type": "code",
   "execution_count": 26,
   "metadata": {},
   "outputs": [
    {
     "name": "stdout",
     "output_type": "stream",
     "text": [
      "<zip object at 0x000002A27BDA6288>\n"
     ]
    }
   ],
   "source": [
    "print(answer)"
   ]
  },
  {
   "cell_type": "code",
   "execution_count": 27,
   "metadata": {},
   "outputs": [
    {
     "data": {
      "text/plain": [
       "zip"
      ]
     },
     "execution_count": 27,
     "metadata": {},
     "output_type": "execute_result"
    }
   ],
   "source": [
    "type(answer)"
   ]
  },
  {
   "cell_type": "code",
   "execution_count": 29,
   "metadata": {},
   "outputs": [],
   "source": [
    "keys = ['name', 'address', 'rollno']"
   ]
  },
  {
   "cell_type": "code",
   "execution_count": 30,
   "metadata": {},
   "outputs": [],
   "source": [
    "values = ['Deepak', 'h.no20', '7']"
   ]
  },
  {
   "cell_type": "code",
   "execution_count": 33,
   "metadata": {},
   "outputs": [],
   "source": [
    "zipped = dict(zip(keys, values))"
   ]
  },
  {
   "cell_type": "code",
   "execution_count": 34,
   "metadata": {},
   "outputs": [
    {
     "name": "stdout",
     "output_type": "stream",
     "text": [
      "{'name': 'Deepak', 'address': 'h.no20', 'rollno': '7'}\n"
     ]
    }
   ],
   "source": [
    "print(zipped)"
   ]
  },
  {
   "cell_type": "code",
   "execution_count": 41,
   "metadata": {},
   "outputs": [],
   "source": [
    "zipped = zip(keys, values)"
   ]
  },
  {
   "cell_type": "code",
   "execution_count": 36,
   "metadata": {},
   "outputs": [],
   "source": [
    "zipped_list = list(zipped)"
   ]
  },
  {
   "cell_type": "code",
   "execution_count": 37,
   "metadata": {},
   "outputs": [
    {
     "name": "stdout",
     "output_type": "stream",
     "text": [
      "[('name', 'Deepak'), ('address', 'h.no20'), ('rollno', '7')]\n"
     ]
    }
   ],
   "source": [
    "print(zipped_list)"
   ]
  },
  {
   "cell_type": "code",
   "execution_count": 42,
   "metadata": {},
   "outputs": [],
   "source": [
    "zipped_dict = dict(zipped)"
   ]
  },
  {
   "cell_type": "code",
   "execution_count": 43,
   "metadata": {},
   "outputs": [
    {
     "name": "stdout",
     "output_type": "stream",
     "text": [
      "{'name': 'Deepak', 'address': 'h.no20', 'rollno': '7'}\n"
     ]
    }
   ],
   "source": [
    "print(zipped_dict)"
   ]
  },
  {
   "cell_type": "code",
   "execution_count": 46,
   "metadata": {},
   "outputs": [],
   "source": [
    "list_of_squares = list(x**2 for x in range(1, 11))"
   ]
  },
  {
   "cell_type": "code",
   "execution_count": 47,
   "metadata": {},
   "outputs": [
    {
     "name": "stdout",
     "output_type": "stream",
     "text": [
      "[1, 4, 9, 16, 25, 36, 49, 64, 81, 100]\n"
     ]
    }
   ],
   "source": [
    "print(list_of_squares)"
   ]
  },
  {
   "cell_type": "code",
   "execution_count": 48,
   "metadata": {},
   "outputs": [
    {
     "data": {
      "text/plain": [
       "1"
      ]
     },
     "execution_count": 48,
     "metadata": {},
     "output_type": "execute_result"
    }
   ],
   "source": [
    "min(list_of_squares)"
   ]
  },
  {
   "cell_type": "code",
   "execution_count": 49,
   "metadata": {},
   "outputs": [
    {
     "data": {
      "text/plain": [
       "100"
      ]
     },
     "execution_count": 49,
     "metadata": {},
     "output_type": "execute_result"
    }
   ],
   "source": [
    "max(list_of_squares)"
   ]
  },
  {
   "cell_type": "code",
   "execution_count": 50,
   "metadata": {},
   "outputs": [
    {
     "data": {
      "text/plain": [
       "385"
      ]
     },
     "execution_count": 50,
     "metadata": {},
     "output_type": "execute_result"
    }
   ],
   "source": [
    "sum(list_of_squares)"
   ]
  },
  {
   "cell_type": "code",
   "execution_count": 51,
   "metadata": {},
   "outputs": [
    {
     "data": {
      "text/plain": [
       "10"
      ]
     },
     "execution_count": 51,
     "metadata": {},
     "output_type": "execute_result"
    }
   ],
   "source": [
    "len(list_of_squares)"
   ]
  },
  {
   "cell_type": "code",
   "execution_count": 52,
   "metadata": {},
   "outputs": [],
   "source": [
    "one_million = list(i for i in range(1, 1000000))"
   ]
  },
  {
   "cell_type": "code",
   "execution_count": 57,
   "metadata": {},
   "outputs": [
    {
     "name": "stdout",
     "output_type": "stream",
     "text": [
      "999999\n"
     ]
    }
   ],
   "source": [
    "print(max(one_million))"
   ]
  },
  {
   "cell_type": "code",
   "execution_count": 55,
   "metadata": {},
   "outputs": [
    {
     "ename": "TypeError",
     "evalue": "unsupported operand type(s) for ** or pow(): 'list' and 'list'",
     "output_type": "error",
     "traceback": [
      "\u001b[1;31m---------------------------------------------------------------------------\u001b[0m",
      "\u001b[1;31mTypeError\u001b[0m                                 Traceback (most recent call last)",
      "\u001b[1;32m<ipython-input-55-ca129db3fbf3>\u001b[0m in \u001b[0;36m<module>\u001b[1;34m()\u001b[0m\n\u001b[1;32m----> 1\u001b[1;33m \u001b[0msum\u001b[0m\u001b[1;33m(\u001b[0m\u001b[0mone_million\u001b[0m\u001b[1;33m**\u001b[0m\u001b[0mone_million\u001b[0m\u001b[1;33m)\u001b[0m\u001b[1;33m\u001b[0m\u001b[0m\n\u001b[0m",
      "\u001b[1;31mTypeError\u001b[0m: unsupported operand type(s) for ** or pow(): 'list' and 'list'"
     ]
    }
   ],
   "source": []
  },
  {
   "cell_type": "code",
   "execution_count": 58,
   "metadata": {},
   "outputs": [],
   "source": [
    "find_squares = [1,2,3,4,5,6,7,8,9,10]"
   ]
  },
  {
   "cell_type": "code",
   "execution_count": 59,
   "metadata": {},
   "outputs": [
    {
     "name": "stdout",
     "output_type": "stream",
     "text": [
      "[1, 2, 3, 4, 5, 6, 7, 8, 9, 10]\n"
     ]
    }
   ],
   "source": [
    "print(find_squares)"
   ]
  },
  {
   "cell_type": "code",
   "execution_count": 66,
   "metadata": {},
   "outputs": [],
   "source": [
    "cubed = list((i**3 for i in find_squares))"
   ]
  },
  {
   "cell_type": "code",
   "execution_count": 67,
   "metadata": {},
   "outputs": [
    {
     "name": "stdout",
     "output_type": "stream",
     "text": [
      "[1, 8, 27, 64, 125, 216, 343, 512, 729, 1000]\n"
     ]
    }
   ],
   "source": [
    "print(cubed)"
   ]
  },
  {
   "cell_type": "code",
   "execution_count": 68,
   "metadata": {},
   "outputs": [],
   "source": [
    "alien = {'color': 'green', 'name': 'Jaadu'}"
   ]
  },
  {
   "cell_type": "code",
   "execution_count": 69,
   "metadata": {},
   "outputs": [
    {
     "data": {
      "text/plain": [
       "'green'"
      ]
     },
     "execution_count": 69,
     "metadata": {},
     "output_type": "execute_result"
    }
   ],
   "source": [
    "alien.get('color')"
   ]
  },
  {
   "cell_type": "code",
   "execution_count": 74,
   "metadata": {},
   "outputs": [],
   "source": [
    "alien.get(None)"
   ]
  },
  {
   "cell_type": "code",
   "execution_count": 75,
   "metadata": {},
   "outputs": [
    {
     "data": {
      "text/plain": [
       "'green'"
      ]
     },
     "execution_count": 75,
     "metadata": {},
     "output_type": "execute_result"
    }
   ],
   "source": [
    "alien.get('color')"
   ]
  },
  {
   "cell_type": "code",
   "execution_count": 76,
   "metadata": {},
   "outputs": [],
   "source": [
    "alien['color']=''"
   ]
  },
  {
   "cell_type": "code",
   "execution_count": 77,
   "metadata": {},
   "outputs": [
    {
     "data": {
      "text/plain": [
       "''"
      ]
     },
     "execution_count": 77,
     "metadata": {},
     "output_type": "execute_result"
    }
   ],
   "source": [
    "alien.get('color')"
   ]
  },
  {
   "cell_type": "code",
   "execution_count": 78,
   "metadata": {},
   "outputs": [
    {
     "name": "stdout",
     "output_type": "stream",
     "text": [
      "{'color': '', 'name': 'Jaadu'}\n"
     ]
    }
   ],
   "source": [
    "print(alien)"
   ]
  },
  {
   "cell_type": "code",
   "execution_count": 79,
   "metadata": {},
   "outputs": [],
   "source": [
    "del alien['color']"
   ]
  },
  {
   "cell_type": "code",
   "execution_count": 80,
   "metadata": {},
   "outputs": [
    {
     "name": "stdout",
     "output_type": "stream",
     "text": [
      "{'name': 'Jaadu'}\n"
     ]
    }
   ],
   "source": [
    "print(alien)"
   ]
  },
  {
   "cell_type": "code",
   "execution_count": 81,
   "metadata": {},
   "outputs": [],
   "source": [
    "# working with ordered dictionaries\n",
    "languages = ['Python', 'C', 'Java', 'JavaScript']"
   ]
  },
  {
   "cell_type": "code",
   "execution_count": 82,
   "metadata": {},
   "outputs": [],
   "source": [
    "from collections import OrderedDict"
   ]
  },
  {
   "cell_type": "code",
   "execution_count": 84,
   "metadata": {},
   "outputs": [],
   "source": [
    "languageColl = OrderedDict()"
   ]
  },
  {
   "cell_type": "code",
   "execution_count": 85,
   "metadata": {},
   "outputs": [],
   "source": [
    "languageColl['Deepak']=['Python', 'Java']"
   ]
  },
  {
   "cell_type": "code",
   "execution_count": 86,
   "metadata": {},
   "outputs": [],
   "source": [
    "languageColl['Jack']= ['JavaScript']"
   ]
  },
  {
   "cell_type": "code",
   "execution_count": 87,
   "metadata": {},
   "outputs": [
    {
     "name": "stdout",
     "output_type": "stream",
     "text": [
      "OrderedDict([('Deepak', ['Python', 'Java']), ('Jack', ['JavaScript'])])\n"
     ]
    }
   ],
   "source": [
    "print(languageColl)"
   ]
  },
  {
   "cell_type": "code",
   "execution_count": 101,
   "metadata": {},
   "outputs": [
    {
     "name": "stdout",
     "output_type": "stream",
     "text": [
      "Deepak  = ### Python\n",
      "### Java\n",
      ".\n",
      "Jack  = ### JavaScript\n",
      ".\n"
     ]
    }
   ],
   "source": [
    "for key, value in languageColl.items():\n",
    "    print(key,' = ', end='')\n",
    "    for val in value:\n",
    "        print('###',val)\n",
    "    print('.')\n",
    "\n",
    "    "
   ]
  },
  {
   "cell_type": "code",
   "execution_count": 116,
   "metadata": {},
   "outputs": [],
   "source": [
    "def optional_print(type_anim, name_anim=None):\n",
    "    print('Animal is ', type_anim, end='')\n",
    "    \n",
    "    if name_anim:\n",
    "        print(' and name is ', name_anim)\n",
    "    print()\n"
   ]
  },
  {
   "cell_type": "code",
   "execution_count": 117,
   "metadata": {},
   "outputs": [
    {
     "name": "stdout",
     "output_type": "stream",
     "text": [
      "Animal is  snakeee\n",
      "Animal is  dog and name is  snowyy\n",
      "\n"
     ]
    }
   ],
   "source": [
    "optional_print('snakeee')\n",
    "optional_print('dog', 'snowyy')"
   ]
  },
  {
   "cell_type": "code",
   "execution_count": 139,
   "metadata": {},
   "outputs": [],
   "source": [
    "# variable arguments demo, *args\n",
    "def make_pizza(base, *toppings):\n",
    "    print('Making pizza *** ', base, end='')\n",
    "    \n",
    "    if len(toppings) > 0:\n",
    "        print(' with these toppings:')\n",
    "    \n",
    "    for topping in toppings:\n",
    "        print('Added ', topping,'!')\n",
    "    print('\\nPizza is ready!')\n",
    "\n"
   ]
  },
  {
   "cell_type": "code",
   "execution_count": 140,
   "metadata": {},
   "outputs": [
    {
     "name": "stdout",
     "output_type": "stream",
     "text": [
      "Making pizza ***  chipostle with these toppings:\n",
      "Added  olive !\n",
      "Added  cucumber !\n",
      "\n",
      "Pizza is ready!\n"
     ]
    }
   ],
   "source": [
    "make_pizza('chipostle', 'olive', 'cucumber')"
   ]
  },
  {
   "cell_type": "code",
   "execution_count": 141,
   "metadata": {},
   "outputs": [
    {
     "name": "stdout",
     "output_type": "stream",
     "text": [
      "Making pizza ***  plain pizza\n",
      "Pizza is ready!\n"
     ]
    }
   ],
   "source": [
    "make_pizza('plain pizza')"
   ]
  },
  {
   "cell_type": "code",
   "execution_count": 147,
   "metadata": {},
   "outputs": [],
   "source": [
    "# keyword arguments demo, **kwargs\n",
    "\n",
    "def get_details(first, last, **otherdetails):\n",
    "    details = dict()\n",
    "    details['first'] = first\n",
    "    details['last'] = last\n",
    "    \n",
    "    for ot_key, ot_value in otherdetails.items():\n",
    "        details[ot_key]=ot_value\n",
    "    \n",
    "    print(\"here are the details: \", details)"
   ]
  },
  {
   "cell_type": "code",
   "execution_count": 150,
   "metadata": {},
   "outputs": [
    {
     "name": "stdout",
     "output_type": "stream",
     "text": [
      "here are the details:  {'first': 'deepak', 'last': 'mishra'}\n"
     ]
    }
   ],
   "source": [
    "# with required parameters\n",
    "get_details('deepak', 'mishra')"
   ]
  },
  {
   "cell_type": "code",
   "execution_count": 151,
   "metadata": {},
   "outputs": [
    {
     "name": "stdout",
     "output_type": "stream",
     "text": [
      "here are the details:  {'first': 'deepak', 'last': 'mishra', 'city': 'pune'}\n"
     ]
    }
   ],
   "source": [
    "# with optional parameters\n",
    "get_details('deepak', 'mishra', city= 'pune')"
   ]
  },
  {
   "cell_type": "code",
   "execution_count": 161,
   "metadata": {},
   "outputs": [],
   "source": [
    "from get_details import *"
   ]
  },
  {
   "cell_type": "code",
   "execution_count": 162,
   "metadata": {},
   "outputs": [
    {
     "name": "stdout",
     "output_type": "stream",
     "text": [
      "here are the details:  {'first': 'deepak', 'last': 'm'}\n"
     ]
    }
   ],
   "source": [
    "get_details('deepak', 'm')"
   ]
  },
  {
   "cell_type": "code",
   "execution_count": null,
   "metadata": {},
   "outputs": [],
   "source": []
  }
 ],
 "metadata": {
  "kernelspec": {
   "display_name": "Python 3",
   "language": "python",
   "name": "python3"
  },
  "language_info": {
   "codemirror_mode": {
    "name": "ipython",
    "version": 3
   },
   "file_extension": ".py",
   "mimetype": "text/x-python",
   "name": "python",
   "nbconvert_exporter": "python",
   "pygments_lexer": "ipython3",
   "version": "3.7.0"
  }
 },
 "nbformat": 4,
 "nbformat_minor": 2
}
